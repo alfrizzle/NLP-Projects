{
  "nbformat": 4,
  "nbformat_minor": 0,
  "metadata": {
    "colab": {
      "name": "CM-TUTORIAL_Adding Custom Vocabulary and Continuing Training BERT.ipynb",
      "provenance": [],
      "collapsed_sections": [],
      "include_colab_link": true
    },
    "kernelspec": {
      "name": "python3",
      "display_name": "Python 3"
    },
    "widgets": {
      "application/vnd.jupyter.widget-state+json": {
        "57e6aa7772964b7dbe52985fb915103e": {
          "model_module": "@jupyter-widgets/controls",
          "model_name": "HBoxModel",
          "state": {
            "_view_name": "HBoxView",
            "_dom_classes": [],
            "_model_name": "HBoxModel",
            "_view_module": "@jupyter-widgets/controls",
            "_model_module_version": "1.5.0",
            "_view_count": null,
            "_view_module_version": "1.5.0",
            "box_style": "",
            "layout": "IPY_MODEL_1d7c4c7630034102bf60b50101fa2ba6",
            "_model_module": "@jupyter-widgets/controls",
            "children": [
              "IPY_MODEL_e662e64602f24fc7a0c564addd58fd12",
              "IPY_MODEL_c2541acf27f846189a6c45b3e4ac08e2"
            ]
          }
        },
        "1d7c4c7630034102bf60b50101fa2ba6": {
          "model_module": "@jupyter-widgets/base",
          "model_name": "LayoutModel",
          "state": {
            "_view_name": "LayoutView",
            "grid_template_rows": null,
            "right": null,
            "justify_content": null,
            "_view_module": "@jupyter-widgets/base",
            "overflow": null,
            "_model_module_version": "1.2.0",
            "_view_count": null,
            "flex_flow": null,
            "width": null,
            "min_width": null,
            "border": null,
            "align_items": null,
            "bottom": null,
            "_model_module": "@jupyter-widgets/base",
            "top": null,
            "grid_column": null,
            "overflow_y": null,
            "overflow_x": null,
            "grid_auto_flow": null,
            "grid_area": null,
            "grid_template_columns": null,
            "flex": null,
            "_model_name": "LayoutModel",
            "justify_items": null,
            "grid_row": null,
            "max_height": null,
            "align_content": null,
            "visibility": null,
            "align_self": null,
            "height": null,
            "min_height": null,
            "padding": null,
            "grid_auto_rows": null,
            "grid_gap": null,
            "max_width": null,
            "order": null,
            "_view_module_version": "1.2.0",
            "grid_template_areas": null,
            "object_position": null,
            "object_fit": null,
            "grid_auto_columns": null,
            "margin": null,
            "display": null,
            "left": null
          }
        },
        "e662e64602f24fc7a0c564addd58fd12": {
          "model_module": "@jupyter-widgets/controls",
          "model_name": "FloatProgressModel",
          "state": {
            "_view_name": "ProgressView",
            "style": "IPY_MODEL_1666572d240447a9b18d8c032db8a315",
            "_dom_classes": [],
            "description": "Downloading: 100%",
            "_model_name": "FloatProgressModel",
            "bar_style": "success",
            "max": 227845,
            "_view_module": "@jupyter-widgets/controls",
            "_model_module_version": "1.5.0",
            "value": 227845,
            "_view_count": null,
            "_view_module_version": "1.5.0",
            "orientation": "horizontal",
            "min": 0,
            "description_tooltip": null,
            "_model_module": "@jupyter-widgets/controls",
            "layout": "IPY_MODEL_e29dccefbedd4e74b7452831848010db"
          }
        },
        "c2541acf27f846189a6c45b3e4ac08e2": {
          "model_module": "@jupyter-widgets/controls",
          "model_name": "HTMLModel",
          "state": {
            "_view_name": "HTMLView",
            "style": "IPY_MODEL_1be997094ea84ff0bd63b68297557f49",
            "_dom_classes": [],
            "description": "",
            "_model_name": "HTMLModel",
            "placeholder": "​",
            "_view_module": "@jupyter-widgets/controls",
            "_model_module_version": "1.5.0",
            "value": " 228k/228k [00:01&lt;00:00, 176kB/s]",
            "_view_count": null,
            "_view_module_version": "1.5.0",
            "description_tooltip": null,
            "_model_module": "@jupyter-widgets/controls",
            "layout": "IPY_MODEL_1b1d83d70e4e4226b508f6c3016b8312"
          }
        },
        "1666572d240447a9b18d8c032db8a315": {
          "model_module": "@jupyter-widgets/controls",
          "model_name": "ProgressStyleModel",
          "state": {
            "_view_name": "StyleView",
            "_model_name": "ProgressStyleModel",
            "description_width": "initial",
            "_view_module": "@jupyter-widgets/base",
            "_model_module_version": "1.5.0",
            "_view_count": null,
            "_view_module_version": "1.2.0",
            "bar_color": null,
            "_model_module": "@jupyter-widgets/controls"
          }
        },
        "e29dccefbedd4e74b7452831848010db": {
          "model_module": "@jupyter-widgets/base",
          "model_name": "LayoutModel",
          "state": {
            "_view_name": "LayoutView",
            "grid_template_rows": null,
            "right": null,
            "justify_content": null,
            "_view_module": "@jupyter-widgets/base",
            "overflow": null,
            "_model_module_version": "1.2.0",
            "_view_count": null,
            "flex_flow": null,
            "width": null,
            "min_width": null,
            "border": null,
            "align_items": null,
            "bottom": null,
            "_model_module": "@jupyter-widgets/base",
            "top": null,
            "grid_column": null,
            "overflow_y": null,
            "overflow_x": null,
            "grid_auto_flow": null,
            "grid_area": null,
            "grid_template_columns": null,
            "flex": null,
            "_model_name": "LayoutModel",
            "justify_items": null,
            "grid_row": null,
            "max_height": null,
            "align_content": null,
            "visibility": null,
            "align_self": null,
            "height": null,
            "min_height": null,
            "padding": null,
            "grid_auto_rows": null,
            "grid_gap": null,
            "max_width": null,
            "order": null,
            "_view_module_version": "1.2.0",
            "grid_template_areas": null,
            "object_position": null,
            "object_fit": null,
            "grid_auto_columns": null,
            "margin": null,
            "display": null,
            "left": null
          }
        },
        "1be997094ea84ff0bd63b68297557f49": {
          "model_module": "@jupyter-widgets/controls",
          "model_name": "DescriptionStyleModel",
          "state": {
            "_view_name": "StyleView",
            "_model_name": "DescriptionStyleModel",
            "description_width": "",
            "_view_module": "@jupyter-widgets/base",
            "_model_module_version": "1.5.0",
            "_view_count": null,
            "_view_module_version": "1.2.0",
            "_model_module": "@jupyter-widgets/controls"
          }
        },
        "1b1d83d70e4e4226b508f6c3016b8312": {
          "model_module": "@jupyter-widgets/base",
          "model_name": "LayoutModel",
          "state": {
            "_view_name": "LayoutView",
            "grid_template_rows": null,
            "right": null,
            "justify_content": null,
            "_view_module": "@jupyter-widgets/base",
            "overflow": null,
            "_model_module_version": "1.2.0",
            "_view_count": null,
            "flex_flow": null,
            "width": null,
            "min_width": null,
            "border": null,
            "align_items": null,
            "bottom": null,
            "_model_module": "@jupyter-widgets/base",
            "top": null,
            "grid_column": null,
            "overflow_y": null,
            "overflow_x": null,
            "grid_auto_flow": null,
            "grid_area": null,
            "grid_template_columns": null,
            "flex": null,
            "_model_name": "LayoutModel",
            "justify_items": null,
            "grid_row": null,
            "max_height": null,
            "align_content": null,
            "visibility": null,
            "align_self": null,
            "height": null,
            "min_height": null,
            "padding": null,
            "grid_auto_rows": null,
            "grid_gap": null,
            "max_width": null,
            "order": null,
            "_view_module_version": "1.2.0",
            "grid_template_areas": null,
            "object_position": null,
            "object_fit": null,
            "grid_auto_columns": null,
            "margin": null,
            "display": null,
            "left": null
          }
        },
        "697f93782af54513815bf5648e24255c": {
          "model_module": "@jupyter-widgets/controls",
          "model_name": "HBoxModel",
          "state": {
            "_view_name": "HBoxView",
            "_dom_classes": [],
            "_model_name": "HBoxModel",
            "_view_module": "@jupyter-widgets/controls",
            "_model_module_version": "1.5.0",
            "_view_count": null,
            "_view_module_version": "1.5.0",
            "box_style": "",
            "layout": "IPY_MODEL_a89ed1f92bd247fa824a19acd513679e",
            "_model_module": "@jupyter-widgets/controls",
            "children": [
              "IPY_MODEL_b7b79940d29b4e729b5ea229ecc98e37",
              "IPY_MODEL_e52c298be6e84c51ba2c0dd76c7c57eb"
            ]
          }
        },
        "a89ed1f92bd247fa824a19acd513679e": {
          "model_module": "@jupyter-widgets/base",
          "model_name": "LayoutModel",
          "state": {
            "_view_name": "LayoutView",
            "grid_template_rows": null,
            "right": null,
            "justify_content": null,
            "_view_module": "@jupyter-widgets/base",
            "overflow": null,
            "_model_module_version": "1.2.0",
            "_view_count": null,
            "flex_flow": null,
            "width": null,
            "min_width": null,
            "border": null,
            "align_items": null,
            "bottom": null,
            "_model_module": "@jupyter-widgets/base",
            "top": null,
            "grid_column": null,
            "overflow_y": null,
            "overflow_x": null,
            "grid_auto_flow": null,
            "grid_area": null,
            "grid_template_columns": null,
            "flex": null,
            "_model_name": "LayoutModel",
            "justify_items": null,
            "grid_row": null,
            "max_height": null,
            "align_content": null,
            "visibility": null,
            "align_self": null,
            "height": null,
            "min_height": null,
            "padding": null,
            "grid_auto_rows": null,
            "grid_gap": null,
            "max_width": null,
            "order": null,
            "_view_module_version": "1.2.0",
            "grid_template_areas": null,
            "object_position": null,
            "object_fit": null,
            "grid_auto_columns": null,
            "margin": null,
            "display": null,
            "left": null
          }
        },
        "b7b79940d29b4e729b5ea229ecc98e37": {
          "model_module": "@jupyter-widgets/controls",
          "model_name": "FloatProgressModel",
          "state": {
            "_view_name": "ProgressView",
            "style": "IPY_MODEL_bf09dd17711745dc856ac09ed7e2a764",
            "_dom_classes": [],
            "description": "Downloading: 100%",
            "_model_name": "FloatProgressModel",
            "bar_style": "success",
            "max": 385,
            "_view_module": "@jupyter-widgets/controls",
            "_model_module_version": "1.5.0",
            "value": 385,
            "_view_count": null,
            "_view_module_version": "1.5.0",
            "orientation": "horizontal",
            "min": 0,
            "description_tooltip": null,
            "_model_module": "@jupyter-widgets/controls",
            "layout": "IPY_MODEL_31a79047f10243cebe924b3ff1e807c9"
          }
        },
        "e52c298be6e84c51ba2c0dd76c7c57eb": {
          "model_module": "@jupyter-widgets/controls",
          "model_name": "HTMLModel",
          "state": {
            "_view_name": "HTMLView",
            "style": "IPY_MODEL_49b8a4659def4c6492bace07b2b134d4",
            "_dom_classes": [],
            "description": "",
            "_model_name": "HTMLModel",
            "placeholder": "​",
            "_view_module": "@jupyter-widgets/controls",
            "_model_module_version": "1.5.0",
            "value": " 385/385 [00:00&lt;00:00, 1.16kB/s]",
            "_view_count": null,
            "_view_module_version": "1.5.0",
            "description_tooltip": null,
            "_model_module": "@jupyter-widgets/controls",
            "layout": "IPY_MODEL_9e4b5ffec78347498f6878e4bf116ebd"
          }
        },
        "bf09dd17711745dc856ac09ed7e2a764": {
          "model_module": "@jupyter-widgets/controls",
          "model_name": "ProgressStyleModel",
          "state": {
            "_view_name": "StyleView",
            "_model_name": "ProgressStyleModel",
            "description_width": "initial",
            "_view_module": "@jupyter-widgets/base",
            "_model_module_version": "1.5.0",
            "_view_count": null,
            "_view_module_version": "1.2.0",
            "bar_color": null,
            "_model_module": "@jupyter-widgets/controls"
          }
        },
        "31a79047f10243cebe924b3ff1e807c9": {
          "model_module": "@jupyter-widgets/base",
          "model_name": "LayoutModel",
          "state": {
            "_view_name": "LayoutView",
            "grid_template_rows": null,
            "right": null,
            "justify_content": null,
            "_view_module": "@jupyter-widgets/base",
            "overflow": null,
            "_model_module_version": "1.2.0",
            "_view_count": null,
            "flex_flow": null,
            "width": null,
            "min_width": null,
            "border": null,
            "align_items": null,
            "bottom": null,
            "_model_module": "@jupyter-widgets/base",
            "top": null,
            "grid_column": null,
            "overflow_y": null,
            "overflow_x": null,
            "grid_auto_flow": null,
            "grid_area": null,
            "grid_template_columns": null,
            "flex": null,
            "_model_name": "LayoutModel",
            "justify_items": null,
            "grid_row": null,
            "max_height": null,
            "align_content": null,
            "visibility": null,
            "align_self": null,
            "height": null,
            "min_height": null,
            "padding": null,
            "grid_auto_rows": null,
            "grid_gap": null,
            "max_width": null,
            "order": null,
            "_view_module_version": "1.2.0",
            "grid_template_areas": null,
            "object_position": null,
            "object_fit": null,
            "grid_auto_columns": null,
            "margin": null,
            "display": null,
            "left": null
          }
        },
        "49b8a4659def4c6492bace07b2b134d4": {
          "model_module": "@jupyter-widgets/controls",
          "model_name": "DescriptionStyleModel",
          "state": {
            "_view_name": "StyleView",
            "_model_name": "DescriptionStyleModel",
            "description_width": "",
            "_view_module": "@jupyter-widgets/base",
            "_model_module_version": "1.5.0",
            "_view_count": null,
            "_view_module_version": "1.2.0",
            "_model_module": "@jupyter-widgets/controls"
          }
        },
        "9e4b5ffec78347498f6878e4bf116ebd": {
          "model_module": "@jupyter-widgets/base",
          "model_name": "LayoutModel",
          "state": {
            "_view_name": "LayoutView",
            "grid_template_rows": null,
            "right": null,
            "justify_content": null,
            "_view_module": "@jupyter-widgets/base",
            "overflow": null,
            "_model_module_version": "1.2.0",
            "_view_count": null,
            "flex_flow": null,
            "width": null,
            "min_width": null,
            "border": null,
            "align_items": null,
            "bottom": null,
            "_model_module": "@jupyter-widgets/base",
            "top": null,
            "grid_column": null,
            "overflow_y": null,
            "overflow_x": null,
            "grid_auto_flow": null,
            "grid_area": null,
            "grid_template_columns": null,
            "flex": null,
            "_model_name": "LayoutModel",
            "justify_items": null,
            "grid_row": null,
            "max_height": null,
            "align_content": null,
            "visibility": null,
            "align_self": null,
            "height": null,
            "min_height": null,
            "padding": null,
            "grid_auto_rows": null,
            "grid_gap": null,
            "max_width": null,
            "order": null,
            "_view_module_version": "1.2.0",
            "grid_template_areas": null,
            "object_position": null,
            "object_fit": null,
            "grid_auto_columns": null,
            "margin": null,
            "display": null,
            "left": null
          }
        },
        "694cc836fb0444b4a41b99112c45ad30": {
          "model_module": "@jupyter-widgets/controls",
          "model_name": "HBoxModel",
          "state": {
            "_view_name": "HBoxView",
            "_dom_classes": [],
            "_model_name": "HBoxModel",
            "_view_module": "@jupyter-widgets/controls",
            "_model_module_version": "1.5.0",
            "_view_count": null,
            "_view_module_version": "1.5.0",
            "box_style": "",
            "layout": "IPY_MODEL_03392ad029a54417a87c642ed4a70b0d",
            "_model_module": "@jupyter-widgets/controls",
            "children": [
              "IPY_MODEL_39104c0a76d74cfbb4c5fe3e64ff6ec8",
              "IPY_MODEL_7094f5e2b5464ad09a955e2a9e609c87"
            ]
          }
        },
        "03392ad029a54417a87c642ed4a70b0d": {
          "model_module": "@jupyter-widgets/base",
          "model_name": "LayoutModel",
          "state": {
            "_view_name": "LayoutView",
            "grid_template_rows": null,
            "right": null,
            "justify_content": null,
            "_view_module": "@jupyter-widgets/base",
            "overflow": null,
            "_model_module_version": "1.2.0",
            "_view_count": null,
            "flex_flow": null,
            "width": null,
            "min_width": null,
            "border": null,
            "align_items": null,
            "bottom": null,
            "_model_module": "@jupyter-widgets/base",
            "top": null,
            "grid_column": null,
            "overflow_y": null,
            "overflow_x": null,
            "grid_auto_flow": null,
            "grid_area": null,
            "grid_template_columns": null,
            "flex": null,
            "_model_name": "LayoutModel",
            "justify_items": null,
            "grid_row": null,
            "max_height": null,
            "align_content": null,
            "visibility": null,
            "align_self": null,
            "height": null,
            "min_height": null,
            "padding": null,
            "grid_auto_rows": null,
            "grid_gap": null,
            "max_width": null,
            "order": null,
            "_view_module_version": "1.2.0",
            "grid_template_areas": null,
            "object_position": null,
            "object_fit": null,
            "grid_auto_columns": null,
            "margin": null,
            "display": null,
            "left": null
          }
        },
        "39104c0a76d74cfbb4c5fe3e64ff6ec8": {
          "model_module": "@jupyter-widgets/controls",
          "model_name": "FloatProgressModel",
          "state": {
            "_view_name": "ProgressView",
            "style": "IPY_MODEL_3c0bef30ce244f23925d7f63d21ba9b3",
            "_dom_classes": [],
            "description": "Downloading: 100%",
            "_model_name": "FloatProgressModel",
            "bar_style": "success",
            "max": 442221694,
            "_view_module": "@jupyter-widgets/controls",
            "_model_module_version": "1.5.0",
            "value": 442221694,
            "_view_count": null,
            "_view_module_version": "1.5.0",
            "orientation": "horizontal",
            "min": 0,
            "description_tooltip": null,
            "_model_module": "@jupyter-widgets/controls",
            "layout": "IPY_MODEL_f72a52ecd17843e1a213ce0fa4288e39"
          }
        },
        "7094f5e2b5464ad09a955e2a9e609c87": {
          "model_module": "@jupyter-widgets/controls",
          "model_name": "HTMLModel",
          "state": {
            "_view_name": "HTMLView",
            "style": "IPY_MODEL_b7e08c7a13ed446aa3e8f693895ccfe9",
            "_dom_classes": [],
            "description": "",
            "_model_name": "HTMLModel",
            "placeholder": "​",
            "_view_module": "@jupyter-widgets/controls",
            "_model_module_version": "1.5.0",
            "value": " 442M/442M [00:09&lt;00:00, 48.2MB/s]",
            "_view_count": null,
            "_view_module_version": "1.5.0",
            "description_tooltip": null,
            "_model_module": "@jupyter-widgets/controls",
            "layout": "IPY_MODEL_3f8d3a33ae544df392e1a1ca04625eba"
          }
        },
        "3c0bef30ce244f23925d7f63d21ba9b3": {
          "model_module": "@jupyter-widgets/controls",
          "model_name": "ProgressStyleModel",
          "state": {
            "_view_name": "StyleView",
            "_model_name": "ProgressStyleModel",
            "description_width": "initial",
            "_view_module": "@jupyter-widgets/base",
            "_model_module_version": "1.5.0",
            "_view_count": null,
            "_view_module_version": "1.2.0",
            "bar_color": null,
            "_model_module": "@jupyter-widgets/controls"
          }
        },
        "f72a52ecd17843e1a213ce0fa4288e39": {
          "model_module": "@jupyter-widgets/base",
          "model_name": "LayoutModel",
          "state": {
            "_view_name": "LayoutView",
            "grid_template_rows": null,
            "right": null,
            "justify_content": null,
            "_view_module": "@jupyter-widgets/base",
            "overflow": null,
            "_model_module_version": "1.2.0",
            "_view_count": null,
            "flex_flow": null,
            "width": null,
            "min_width": null,
            "border": null,
            "align_items": null,
            "bottom": null,
            "_model_module": "@jupyter-widgets/base",
            "top": null,
            "grid_column": null,
            "overflow_y": null,
            "overflow_x": null,
            "grid_auto_flow": null,
            "grid_area": null,
            "grid_template_columns": null,
            "flex": null,
            "_model_name": "LayoutModel",
            "justify_items": null,
            "grid_row": null,
            "max_height": null,
            "align_content": null,
            "visibility": null,
            "align_self": null,
            "height": null,
            "min_height": null,
            "padding": null,
            "grid_auto_rows": null,
            "grid_gap": null,
            "max_width": null,
            "order": null,
            "_view_module_version": "1.2.0",
            "grid_template_areas": null,
            "object_position": null,
            "object_fit": null,
            "grid_auto_columns": null,
            "margin": null,
            "display": null,
            "left": null
          }
        },
        "b7e08c7a13ed446aa3e8f693895ccfe9": {
          "model_module": "@jupyter-widgets/controls",
          "model_name": "DescriptionStyleModel",
          "state": {
            "_view_name": "StyleView",
            "_model_name": "DescriptionStyleModel",
            "description_width": "",
            "_view_module": "@jupyter-widgets/base",
            "_model_module_version": "1.5.0",
            "_view_count": null,
            "_view_module_version": "1.2.0",
            "_model_module": "@jupyter-widgets/controls"
          }
        },
        "3f8d3a33ae544df392e1a1ca04625eba": {
          "model_module": "@jupyter-widgets/base",
          "model_name": "LayoutModel",
          "state": {
            "_view_name": "LayoutView",
            "grid_template_rows": null,
            "right": null,
            "justify_content": null,
            "_view_module": "@jupyter-widgets/base",
            "overflow": null,
            "_model_module_version": "1.2.0",
            "_view_count": null,
            "flex_flow": null,
            "width": null,
            "min_width": null,
            "border": null,
            "align_items": null,
            "bottom": null,
            "_model_module": "@jupyter-widgets/base",
            "top": null,
            "grid_column": null,
            "overflow_y": null,
            "overflow_x": null,
            "grid_auto_flow": null,
            "grid_area": null,
            "grid_template_columns": null,
            "flex": null,
            "_model_name": "LayoutModel",
            "justify_items": null,
            "grid_row": null,
            "max_height": null,
            "align_content": null,
            "visibility": null,
            "align_self": null,
            "height": null,
            "min_height": null,
            "padding": null,
            "grid_auto_rows": null,
            "grid_gap": null,
            "max_width": null,
            "order": null,
            "_view_module_version": "1.2.0",
            "grid_template_areas": null,
            "object_position": null,
            "object_fit": null,
            "grid_auto_columns": null,
            "margin": null,
            "display": null,
            "left": null
          }
        }
      }
    },
    "accelerator": "GPU"
  },
  "cells": [
    {
      "cell_type": "markdown",
      "metadata": {
        "id": "view-in-github",
        "colab_type": "text"
      },
      "source": [
        "<a href=\"https://colab.research.google.com/github/alfrizzle/NLP-Projects/blob/master/BERT/CM_TUTORIAL_Adding_Custom_Vocabulary_and_Continuing_Training_BERT.ipynb\" target=\"_parent\"><img src=\"https://colab.research.google.com/assets/colab-badge.svg\" alt=\"Open In Colab\"/></a>"
      ]
    },
    {
      "cell_type": "markdown",
      "metadata": {
        "id": "szQR4KwiOEOj"
      },
      "source": [
        "# Adding Custom Vocabulary and Continuing Training\n",
        "\n",
        "*by Nick Ryan*"
      ]
    },
    {
      "cell_type": "markdown",
      "metadata": {
        "id": "uXKyKe3NZONV"
      },
      "source": [
        "# S1. Introduction"
      ]
    },
    {
      "cell_type": "markdown",
      "metadata": {
        "id": "zgITqyZXZRA7"
      },
      "source": [
        "Many NLP applications are about classifying text in very specific and unique domains. Whether you're building a sentiment classifier for an auto parts company or a chatbot for your financial services customers,  sometimes a model like BERT doesn't quite cut it because certain unique and unusual names, phrases, and terms are such a key part of your data. \n",
        "\n",
        "In this tutorial we will discuss how to customize a language model like BERT for your own text domain and show you how to:\n",
        "\n",
        "- Add new words to the model vocabulary\n",
        "- Create custom embeddings for those new words\n",
        "- Continue training the model with your own dataset\n",
        "- Run a quick test to see the progress of your continued training\n"
      ]
    },
    {
      "cell_type": "markdown",
      "metadata": {
        "id": "CC3O1ViohOCK"
      },
      "source": [
        "## 1.1 Background and Problem Statement\n",
        "\n",
        "\n",
        "**Why Not Just Fine-Tune?**\n",
        "\n",
        "The most common method for building a text model on top of BERT has been to use the pretrained BERT model as a basis for fine-tuning a classifier on your specific application. However, sometimes your application uses text and terminology from a specific domain that is not reflected in the training corpus used by BERT, SciBERt, BioBERT or other variants, resulting in vocabulary and weights poorly suited to your application. \n",
        "\n",
        "For example, say you work in the automotive industry and want to build an NLP application revolving around automotive brands and the mention of your new company named \"carz4friendz.\" You could fine-tune your model on top of a pretrained BERT model, but because BERT was trained on a limited amount of technical automotive data it will have a poor \"understanding\" of automative brands, parts, technical terminiology, and will not have an understanding or efficient tokenization of your new company name, which is a critical part of the application. \n",
        "\n",
        "**Customizing Vocabulary and \"Intermediate\" Training**\n",
        "\n",
        "In this case there are two things you can do to help give your NLP application a boost:\n",
        "\n",
        "1.  Add new terms to the model vocabulary that are particularly important for your application. In our example, we would add the name of our automative company \"carz4friendz\" to BERT's vocabulary.\n",
        "2.  Continue pretraining the model or fine-tuning the model on an \"intermediate\" task focused on text data that is relevant to your final application. In our example, we would continue pretraining BERT on news articles, industry reports, and text from the automotive industry to help improve the model's performance when it comes to automotive text.\n",
        "\n",
        "![Intermediate Pre-Training](https://drive.google.com/uc?export=view&id=1TLvg8OXUDugyZo2_cVsWElzbuKuUzi9O)\n",
        "\n",
        "**Applying this Approach to COVID-19**\n",
        "\n",
        "In this tutorial, we'll apply these two solutions to an application everyone is familiar with: COVID-19. SciBERT was trained largely on a biomedical corpus so is a good candidate base for coronavirus-related NLP applications if we want to search, index, cluster, etc. coronavirus research publications. However, SciBERT was trained in early 2019, so the model was never trained on coronavirus research, nor does it even have a vocabulary entry for some of the key terms we would need for our application like \"coronavirus,\" \"COVID-19\", \"COVID\", etc.\n",
        "\n",
        "We will first update the SciBERT vocabulary and show you how to add relevant vocabulary to your tokenizer and model. Then we will show you how to continue training your model with a custom dataset. Specifically, we will show you how to continue the masked language modeling task used for pretraining, a task that we have not previously explored in our tutorials and one that is very simple to execute (all you need is unlabeled data!).\n",
        "\n"
      ]
    },
    {
      "cell_type": "markdown",
      "metadata": {
        "id": "clB4Bklb-B13"
      },
      "source": [
        "# S2. Import SciBERT Community Model"
      ]
    },
    {
      "cell_type": "markdown",
      "metadata": {
        "id": "q3dpoWs_Dn-t"
      },
      "source": [
        "\n",
        "First we'll use SciBERT, a popular BERT variant (it has over 28,000 downloads in the past month on huggingface!). This is well suited to our task because our target domain is biomedical text.\n",
        "\n",
        "* SciBERT was trained on scientific literature--1.14M papers.\n",
        "  * Roughly 1/5th of the papers are from \"the computer science domain\", and the remaining 4/5ths from \"the broad biomedical domain\".\n",
        "* SciBERT was created by the Allen Institute of AI (a highly respected group in NLP, if you're unfamiliar).\n",
        "* Their paper was first submitted to arXiv in March, 2019 [here](https://arxiv.org/abs/1903.10676). They uploaded their implementation to GitHub [here](https://github.com/allenai/scibert) around the same time.\n",
        "\n"
      ]
    },
    {
      "cell_type": "markdown",
      "metadata": {
        "id": "aJF_caESC0yS"
      },
      "source": [
        "SciBERT is available from the [huggingface community models](https://huggingface.co/models). If you're interested in a BERT variant from the community models in the transformers library, importing can be incredibly simple. Most community models include instructions on the download page for importing and usage. \n",
        "\n",
        "To import SciBERT all we need to do is provide the appropriate path to the SciBERT model we're interested in. After that, the model and tokenizer interface and methods follow the regular huggingface interface and methods.\n",
        "\n"
      ]
    },
    {
      "cell_type": "code",
      "metadata": {
        "id": "pN2Ms9W3IKrp",
        "colab": {
          "base_uri": "https://localhost:8080/"
        },
        "outputId": "e60b3182-32da-492f-f3dd-9af78f28d7fc"
      },
      "source": [
        "!pip install transformers"
      ],
      "execution_count": null,
      "outputs": [
        {
          "output_type": "stream",
          "text": [
            "Collecting transformers\n",
            "\u001b[?25l  Downloading https://files.pythonhosted.org/packages/fd/1a/41c644c963249fd7f3836d926afa1e3f1cc234a1c40d80c5f03ad8f6f1b2/transformers-4.8.2-py3-none-any.whl (2.5MB)\n",
            "\u001b[K     |████████████████████████████████| 2.5MB 7.4MB/s \n",
            "\u001b[?25hRequirement already satisfied: numpy>=1.17 in /usr/local/lib/python3.7/dist-packages (from transformers) (1.19.5)\n",
            "Requirement already satisfied: filelock in /usr/local/lib/python3.7/dist-packages (from transformers) (3.0.12)\n",
            "Requirement already satisfied: tqdm>=4.27 in /usr/local/lib/python3.7/dist-packages (from transformers) (4.41.1)\n",
            "Collecting tokenizers<0.11,>=0.10.1\n",
            "\u001b[?25l  Downloading https://files.pythonhosted.org/packages/d4/e2/df3543e8ffdab68f5acc73f613de9c2b155ac47f162e725dcac87c521c11/tokenizers-0.10.3-cp37-cp37m-manylinux_2_5_x86_64.manylinux1_x86_64.manylinux_2_12_x86_64.manylinux2010_x86_64.whl (3.3MB)\n",
            "\u001b[K     |████████████████████████████████| 3.3MB 46.6MB/s \n",
            "\u001b[?25hRequirement already satisfied: requests in /usr/local/lib/python3.7/dist-packages (from transformers) (2.23.0)\n",
            "Requirement already satisfied: regex!=2019.12.17 in /usr/local/lib/python3.7/dist-packages (from transformers) (2019.12.20)\n",
            "Collecting huggingface-hub==0.0.12\n",
            "  Downloading https://files.pythonhosted.org/packages/2f/ee/97e253668fda9b17e968b3f97b2f8e53aa0127e8807d24a547687423fe0b/huggingface_hub-0.0.12-py3-none-any.whl\n",
            "Requirement already satisfied: importlib-metadata; python_version < \"3.8\" in /usr/local/lib/python3.7/dist-packages (from transformers) (4.6.1)\n",
            "Requirement already satisfied: pyyaml in /usr/local/lib/python3.7/dist-packages (from transformers) (3.13)\n",
            "Requirement already satisfied: packaging in /usr/local/lib/python3.7/dist-packages (from transformers) (21.0)\n",
            "Collecting sacremoses\n",
            "\u001b[?25l  Downloading https://files.pythonhosted.org/packages/75/ee/67241dc87f266093c533a2d4d3d69438e57d7a90abb216fa076e7d475d4a/sacremoses-0.0.45-py3-none-any.whl (895kB)\n",
            "\u001b[K     |████████████████████████████████| 901kB 48.6MB/s \n",
            "\u001b[?25hRequirement already satisfied: idna<3,>=2.5 in /usr/local/lib/python3.7/dist-packages (from requests->transformers) (2.10)\n",
            "Requirement already satisfied: urllib3!=1.25.0,!=1.25.1,<1.26,>=1.21.1 in /usr/local/lib/python3.7/dist-packages (from requests->transformers) (1.24.3)\n",
            "Requirement already satisfied: chardet<4,>=3.0.2 in /usr/local/lib/python3.7/dist-packages (from requests->transformers) (3.0.4)\n",
            "Requirement already satisfied: certifi>=2017.4.17 in /usr/local/lib/python3.7/dist-packages (from requests->transformers) (2021.5.30)\n",
            "Requirement already satisfied: typing-extensions in /usr/local/lib/python3.7/dist-packages (from huggingface-hub==0.0.12->transformers) (3.7.4.3)\n",
            "Requirement already satisfied: zipp>=0.5 in /usr/local/lib/python3.7/dist-packages (from importlib-metadata; python_version < \"3.8\"->transformers) (3.5.0)\n",
            "Requirement already satisfied: pyparsing>=2.0.2 in /usr/local/lib/python3.7/dist-packages (from packaging->transformers) (2.4.7)\n",
            "Requirement already satisfied: six in /usr/local/lib/python3.7/dist-packages (from sacremoses->transformers) (1.15.0)\n",
            "Requirement already satisfied: click in /usr/local/lib/python3.7/dist-packages (from sacremoses->transformers) (7.1.2)\n",
            "Requirement already satisfied: joblib in /usr/local/lib/python3.7/dist-packages (from sacremoses->transformers) (1.0.1)\n",
            "Installing collected packages: tokenizers, huggingface-hub, sacremoses, transformers\n",
            "Successfully installed huggingface-hub-0.0.12 sacremoses-0.0.45 tokenizers-0.10.3 transformers-4.8.2\n"
          ],
          "name": "stdout"
        }
      ]
    },
    {
      "cell_type": "markdown",
      "metadata": {
        "id": "0ZjLyp8Vwm8j"
      },
      "source": [
        "We'll import BertForMaskedLM, the masked language modeling (MLM) variant for BERT. Simply, this is the BERT model with a masked language modeling head on top allowing us to continue the training procedure used to generate BERT and SciBERT. \n",
        "\n",
        "This does not include the next sentence prediction (NSP) task, which can be found under the BertForPreTraining class that includes both a NSP head and a MLM head. You are welcome to use this class or any of the other pretraining tasks used by BERT-like models, but based on the findings of papers like ROBERTA and T5, it doesn't appear that the NSP task in particular contributes much to the final model performance, so we forego it here for simplicity's sake."
      ]
    },
    {
      "cell_type": "code",
      "metadata": {
        "id": "ar2WGznUIKpq",
        "colab": {
          "base_uri": "https://localhost:8080/",
          "height": 235,
          "referenced_widgets": [
            "57e6aa7772964b7dbe52985fb915103e",
            "1d7c4c7630034102bf60b50101fa2ba6",
            "e662e64602f24fc7a0c564addd58fd12",
            "c2541acf27f846189a6c45b3e4ac08e2",
            "1666572d240447a9b18d8c032db8a315",
            "e29dccefbedd4e74b7452831848010db",
            "1be997094ea84ff0bd63b68297557f49",
            "1b1d83d70e4e4226b508f6c3016b8312",
            "697f93782af54513815bf5648e24255c",
            "a89ed1f92bd247fa824a19acd513679e",
            "b7b79940d29b4e729b5ea229ecc98e37",
            "e52c298be6e84c51ba2c0dd76c7c57eb",
            "bf09dd17711745dc856ac09ed7e2a764",
            "31a79047f10243cebe924b3ff1e807c9",
            "49b8a4659def4c6492bace07b2b134d4",
            "9e4b5ffec78347498f6878e4bf116ebd",
            "694cc836fb0444b4a41b99112c45ad30",
            "03392ad029a54417a87c642ed4a70b0d",
            "39104c0a76d74cfbb4c5fe3e64ff6ec8",
            "7094f5e2b5464ad09a955e2a9e609c87",
            "3c0bef30ce244f23925d7f63d21ba9b3",
            "f72a52ecd17843e1a213ce0fa4288e39",
            "b7e08c7a13ed446aa3e8f693895ccfe9",
            "3f8d3a33ae544df392e1a1ca04625eba"
          ]
        },
        "outputId": "cd606f19-e538-4fb3-9fe2-f271c2641cae"
      },
      "source": [
        "from transformers import BertTokenizer, BertForMaskedLM, BertForPreTraining, BertConfig\n",
        "import torch\n",
        "import matplotlib.pyplot as plt\n",
        "\n",
        "scibert_tokenizer = BertTokenizer.from_pretrained(\"allenai/scibert_scivocab_uncased\", do_lower_case=True)\n",
        "scibert_maskedlm_model = BertForMaskedLM.from_pretrained(\"allenai/scibert_scivocab_uncased\")\n"
      ],
      "execution_count": null,
      "outputs": [
        {
          "output_type": "display_data",
          "data": {
            "application/vnd.jupyter.widget-view+json": {
              "model_id": "57e6aa7772964b7dbe52985fb915103e",
              "version_minor": 0,
              "version_major": 2
            },
            "text/plain": [
              "HBox(children=(FloatProgress(value=0.0, description='Downloading', max=227845.0, style=ProgressStyle(descripti…"
            ]
          },
          "metadata": {
            "tags": []
          }
        },
        {
          "output_type": "stream",
          "text": [
            "\n"
          ],
          "name": "stdout"
        },
        {
          "output_type": "display_data",
          "data": {
            "application/vnd.jupyter.widget-view+json": {
              "model_id": "697f93782af54513815bf5648e24255c",
              "version_minor": 0,
              "version_major": 2
            },
            "text/plain": [
              "HBox(children=(FloatProgress(value=0.0, description='Downloading', max=385.0, style=ProgressStyle(description_…"
            ]
          },
          "metadata": {
            "tags": []
          }
        },
        {
          "output_type": "stream",
          "text": [
            "\n"
          ],
          "name": "stdout"
        },
        {
          "output_type": "display_data",
          "data": {
            "application/vnd.jupyter.widget-view+json": {
              "model_id": "694cc836fb0444b4a41b99112c45ad30",
              "version_minor": 0,
              "version_major": 2
            },
            "text/plain": [
              "HBox(children=(FloatProgress(value=0.0, description='Downloading', max=442221694.0, style=ProgressStyle(descri…"
            ]
          },
          "metadata": {
            "tags": []
          }
        },
        {
          "output_type": "stream",
          "text": [
            "\n"
          ],
          "name": "stdout"
        },
        {
          "output_type": "stream",
          "text": [
            "Some weights of the model checkpoint at allenai/scibert_scivocab_uncased were not used when initializing BertForMaskedLM: ['cls.seq_relationship.weight', 'cls.seq_relationship.bias']\n",
            "- This IS expected if you are initializing BertForMaskedLM from the checkpoint of a model trained on another task or with another architecture (e.g. initializing a BertForSequenceClassification model from a BertForPreTraining model).\n",
            "- This IS NOT expected if you are initializing BertForMaskedLM from the checkpoint of a model that you expect to be exactly identical (initializing a BertForSequenceClassification model from a BertForSequenceClassification model).\n"
          ],
          "name": "stderr"
        }
      ]
    },
    {
      "cell_type": "markdown",
      "metadata": {
        "id": "SWbwS46uOWf4"
      },
      "source": [
        "# S3. Adding to the Vocabulary"
      ]
    },
    {
      "cell_type": "markdown",
      "metadata": {
        "id": "HSGCLOfJSrYR"
      },
      "source": [
        "## 3.1 Add a Token"
      ]
    },
    {
      "cell_type": "markdown",
      "metadata": {
        "id": "nQs1xM7tSPj5"
      },
      "source": [
        "Let's say that, for BERT or any of its variants, we'd like to add new vocabulary into the model. In this example, we're interested in organizing, searching, or indexing some scientific literature related to COVID-19. We want to continue training SciBERT on new batches of COVID-19 literature so that we can organize new and old research related to COVID-19.\n",
        "\n",
        "Since SciBERT was trained before the outbreak of COVID-19, this word likely isn't in the vocabulary. In fact, we can confirm it is not:"
      ]
    },
    {
      "cell_type": "code",
      "metadata": {
        "id": "b-2W1nEgsGo7",
        "colab": {
          "base_uri": "https://localhost:8080/"
        },
        "outputId": "ab823e86-f3a2-4792-f2ac-53487f0eb021"
      },
      "source": [
        "'covid' in scibert_tokenizer.vocab"
      ],
      "execution_count": null,
      "outputs": [
        {
          "output_type": "execute_result",
          "data": {
            "text/plain": [
              "False"
            ]
          },
          "metadata": {
            "tags": []
          },
          "execution_count": 3
        }
      ]
    },
    {
      "cell_type": "code",
      "metadata": {
        "id": "C5knK645Tpep",
        "colab": {
          "base_uri": "https://localhost:8080/"
        },
        "outputId": "7d46a199-8b80-461e-dc48-e8e0217a0559"
      },
      "source": [
        "'covid' in scibert_tokenizer.vocab"
      ],
      "execution_count": null,
      "outputs": [
        {
          "output_type": "execute_result",
          "data": {
            "text/plain": [
              "False"
            ]
          },
          "metadata": {
            "tags": []
          },
          "execution_count": 4
        }
      ]
    },
    {
      "cell_type": "markdown",
      "metadata": {
        "id": "WDeXRriPTuP7"
      },
      "source": [
        "While any word can be constructed out of constituent subwords, for example..."
      ]
    },
    {
      "cell_type": "code",
      "metadata": {
        "id": "GYxOYgM-S41n",
        "colab": {
          "base_uri": "https://localhost:8080/"
        },
        "outputId": "869a9ce5-c1c0-43e2-b8a3-58e2c4c2f066"
      },
      "source": [
        "scibert_tokenizer.tokenize(\"covid\")"
      ],
      "execution_count": null,
      "outputs": [
        {
          "output_type": "execute_result",
          "data": {
            "text/plain": [
              "['cov', '##id']"
            ]
          },
          "metadata": {
            "tags": []
          },
          "execution_count": 5
        }
      ]
    },
    {
      "cell_type": "markdown",
      "metadata": {
        "id": "TVaqRbdnS_Ac"
      },
      "source": [
        "...words like \"covid\" and \"coronavirus\" will be quite important for our research, so it is perhaps worth going out of our way to teach the model new vocabulary in hopes that it improves our results downstream.\n"
      ]
    },
    {
      "cell_type": "code",
      "metadata": {
        "id": "oUJttRZlsa9l",
        "colab": {
          "base_uri": "https://localhost:8080/"
        },
        "outputId": "994f7b45-0b44-4b38-a757-35935316e6ca"
      },
      "source": [
        "test_sentence = \"COVID-19, COVID, coronavirus.\"\n",
        "scibert_tokenizer.tokenize(test_sentence)"
      ],
      "execution_count": null,
      "outputs": [
        {
          "output_type": "execute_result",
          "data": {
            "text/plain": [
              "['cov', '##id', '-', '19', ',', 'cov', '##id', ',', 'corona', '##virus', '.']"
            ]
          },
          "metadata": {
            "tags": []
          },
          "execution_count": 6
        }
      ]
    },
    {
      "cell_type": "markdown",
      "metadata": {
        "id": "JLTGw7Y0sQ86"
      },
      "source": [
        "None of these key terms are in the SciBERT vocabulary. Fortunately huggingface provides an interface to add to the tokenizer's vocabulary. We will just add a single token, \"covid\", to demonstrate the addition of new terms to the model, but you are able to add as many terms as you like."
      ]
    },
    {
      "cell_type": "code",
      "metadata": {
        "id": "96pXIsJHU0zq",
        "colab": {
          "base_uri": "https://localhost:8080/"
        },
        "outputId": "80969e44-5554-4ac4-c017-f16f23ee215e"
      },
      "source": [
        "print (len(scibert_tokenizer)) "
      ],
      "execution_count": null,
      "outputs": [
        {
          "output_type": "stream",
          "text": [
            "31090\n"
          ],
          "name": "stdout"
        }
      ]
    },
    {
      "cell_type": "code",
      "metadata": {
        "id": "7OJv-j7_U0rF",
        "colab": {
          "base_uri": "https://localhost:8080/"
        },
        "outputId": "f2cee233-1200-4b6b-80d3-2eda0f2fbe6c"
      },
      "source": [
        "scibert_tokenizer.add_tokens([\"covid\"])"
      ],
      "execution_count": null,
      "outputs": [
        {
          "output_type": "execute_result",
          "data": {
            "text/plain": [
              "1"
            ]
          },
          "metadata": {
            "tags": []
          },
          "execution_count": 8
        }
      ]
    },
    {
      "cell_type": "code",
      "metadata": {
        "id": "gWB5KopHU0kt",
        "colab": {
          "base_uri": "https://localhost:8080/"
        },
        "outputId": "afbed3a9-8fcd-4513-ab21-edc2f336abe7"
      },
      "source": [
        "print (len(scibert_tokenizer)) "
      ],
      "execution_count": null,
      "outputs": [
        {
          "output_type": "stream",
          "text": [
            "31091\n"
          ],
          "name": "stdout"
        }
      ]
    },
    {
      "cell_type": "code",
      "metadata": {
        "id": "VLJjJjfnsk6w",
        "colab": {
          "base_uri": "https://localhost:8080/"
        },
        "outputId": "e56d0894-0865-4149-c997-df0e1c138443"
      },
      "source": [
        "test_sentence = \"COVID-19, COVID, coronavirus.\"\n",
        "scibert_tokenizer.tokenize(test_sentence)"
      ],
      "execution_count": null,
      "outputs": [
        {
          "output_type": "execute_result",
          "data": {
            "text/plain": [
              "['covid', '-', '19', ',', 'covid', ',', 'corona', '##virus', '.']"
            ]
          },
          "metadata": {
            "tags": []
          },
          "execution_count": 10
        }
      ]
    },
    {
      "cell_type": "markdown",
      "metadata": {
        "id": "zDygWV2p0YWr"
      },
      "source": [
        "Cool! \"covid\" is now part of the tokenizer vocabulary.\n",
        "\n",
        "Now that the tokenizer is updated, we need to update the input embeddings of our model. We added one term to the tokenizer vocabulary so we need to add one new vector to the input embeddings:"
      ]
    },
    {
      "cell_type": "code",
      "metadata": {
        "id": "uNHgxSlbVhNF",
        "colab": {
          "base_uri": "https://localhost:8080/"
        },
        "outputId": "c4cdbd5a-4773-48a0-918b-962476bc5e1c"
      },
      "source": [
        "# Add a new randomly initialized vector to the end of the embeddings matrix\n",
        "scibert_maskedlm_model.resize_token_embeddings(len(scibert_tokenizer)) "
      ],
      "execution_count": null,
      "outputs": [
        {
          "output_type": "execute_result",
          "data": {
            "text/plain": [
              "Embedding(31091, 768)"
            ]
          },
          "metadata": {
            "tags": []
          },
          "execution_count": 11
        }
      ]
    },
    {
      "cell_type": "code",
      "metadata": {
        "id": "_QC1f52tNAsv",
        "colab": {
          "base_uri": "https://localhost:8080/"
        },
        "outputId": "6a3e5a98-d671-4e80-aaa0-46624d51d0c8"
      },
      "source": [
        "# New radom embedding vector\n",
        "print (scibert_maskedlm_model.get_input_embeddings().weight[-1].shape)"
      ],
      "execution_count": null,
      "outputs": [
        {
          "output_type": "stream",
          "text": [
            "torch.Size([768])\n"
          ],
          "name": "stdout"
        }
      ]
    },
    {
      "cell_type": "code",
      "metadata": {
        "id": "de3lRFVuPbiq",
        "colab": {
          "base_uri": "https://localhost:8080/",
          "height": 281
        },
        "outputId": "12a1fe9b-217d-447d-b44d-6c3fc42cd67b"
      },
      "source": [
        "random_vector = scibert_maskedlm_model.get_input_embeddings().weight[-1].detach().numpy()\n",
        "\n",
        "plt.title(\"Randomly Initialized Vector\")\n",
        "plt.hist(random_vector, bins=50)\n",
        "plt.show()"
      ],
      "execution_count": null,
      "outputs": [
        {
          "output_type": "display_data",
          "data": {
            "image/png": "[encoded data removed]",
            "text/plain": [
              "<Figure size 432x288 with 1 Axes>"
            ]
          },
          "metadata": {
            "tags": [],
            "needs_background": "light"
          }
        }
      ]
    },
    {
      "cell_type": "markdown",
      "metadata": {
        "id": "C3NLAtfNUYSb"
      },
      "source": [
        "## 3.2 Create A Custom Embedding"
      ]
    },
    {
      "cell_type": "markdown",
      "metadata": {
        "id": "8K5_isAz1bCF"
      },
      "source": [
        "Great! We have a new embedding vector.\n",
        "\n",
        "There's a slight problem: this new \"covid\" vector is completely random while the rest of our input embeddings have been thoroughly trained. Our goal is to continue pretraining the model to update all weights in general, but also to achieve a good embedding for our new vocabulary term.\n",
        "\n",
        "One possible workaround is to change the random embedding to something else. Instead of initializing as a random vector, we can perhaps speed up the process by initializing \"covid\" with an embedding slightly closer to its meaning. In this example, the embedding for \"virus\" is probably a good place to start, but it's possible to combine the embeddings of multiple words into an embedding we think might best approximate the meaning of our new term. We'll combine the embedding for \"virus\" with the embedding for \"respiratory\" by taking the mean, but of course you can combine any number of terms in any way you think might best approximate your new vocabulary term's meaning.\n",
        "\n",
        "Note that this idea is experimental and application-dependent, but it's probably more efficient than training on a random initialization."
      ]
    },
    {
      "cell_type": "code",
      "metadata": {
        "colab": {
          "base_uri": "https://localhost:8080/"
        },
        "id": "6cEzFMG-cPv9",
        "outputId": "b9dce54f-9f1b-4ec3-92a6-ca211a3ff611"
      },
      "source": [
        "scibert_tokenizer.convert_tokens_to_ids(\"virus\")"
      ],
      "execution_count": null,
      "outputs": [
        {
          "output_type": "execute_result",
          "data": {
            "text/plain": [
              "2930"
            ]
          },
          "metadata": {
            "tags": []
          },
          "execution_count": 14
        }
      ]
    },
    {
      "cell_type": "code",
      "metadata": {
        "colab": {
          "base_uri": "https://localhost:8080/"
        },
        "id": "ULT6Wzy8drGT",
        "outputId": "6ad06382-8a4c-4db5-9815-69a39861516d"
      },
      "source": [
        "scibert_tokenizer.vocab_files_names"
      ],
      "execution_count": null,
      "outputs": [
        {
          "output_type": "execute_result",
          "data": {
            "text/plain": [
              "{'vocab_file': 'vocab.txt'}"
            ]
          },
          "metadata": {
            "tags": []
          },
          "execution_count": 33
        }
      ]
    },
    {
      "cell_type": "code",
      "metadata": {
        "id": "419-miHjAFlL"
      },
      "source": [
        "# Get the index of these terms in our vocabulary\n",
        "virus_id = scibert_tokenizer.convert_tokens_to_ids(\"virus\")\n",
        "respiratory_id = scibert_tokenizer.convert_tokens_to_ids(\"respiratory\")\n",
        "\n",
        "# Get the embeddings for these terms\n",
        "virus_embedding = scibert_maskedlm_model.get_input_embeddings().weight[virus_id]\n",
        "respiratory_embedding = scibert_maskedlm_model.get_input_embeddings().weight[respiratory_id]\n",
        "\n",
        "# Take the mean of these embeddings\n",
        "mean_embedding = torch.mean(torch.stack([virus_embedding, respiratory_embedding]), dim=0)"
      ],
      "execution_count": null,
      "outputs": []
    },
    {
      "cell_type": "code",
      "metadata": {
        "id": "NKfLYlLaCsIp"
      },
      "source": [
        "# Replace our randomly initialized embedding vector with our mean embedding vector\n",
        "# Make sure to replace the .data of the weights and not the weights themselves to preserve the compute graph \n",
        "scibert_maskedlm_model.get_input_embeddings().weight[-1].data[:] = mean_embedding"
      ],
      "execution_count": null,
      "outputs": []
    },
    {
      "cell_type": "markdown",
      "metadata": {
        "id": "P37ais0n3ycW"
      },
      "source": [
        "Let's take a look at the new mean embedding vector of \"covid\":"
      ]
    },
    {
      "cell_type": "code",
      "metadata": {
        "id": "rPaurTi8NNQ-",
        "colab": {
          "base_uri": "https://localhost:8080/",
          "height": 281
        },
        "outputId": "1e1aa56b-26f9-46ce-9f0d-5d90865e53d1"
      },
      "source": [
        "mean_vector = scibert_maskedlm_model.get_input_embeddings().weight[-1].detach().numpy()\n",
        "\n",
        "plt.title(\"Custom Initialized Vector\")\n",
        "plt.hist(mean_vector, bins=50)\n",
        "plt.show()"
      ],
      "execution_count": null,
      "outputs": [
        {
          "output_type": "display_data",
          "data": {
            "image/png": "[encoded data removed]",
            "text/plain": [
              "<Figure size 432x288 with 1 Axes>"
            ]
          },
          "metadata": {
            "tags": [],
            "needs_background": "light"
          }
        }
      ]
    },
    {
      "cell_type": "markdown",
      "metadata": {
        "id": "e4FAkuIf4DUE"
      },
      "source": [
        "As we can see, this is different from the randomly initialized vector we had before, so the update was successful."
      ]
    },
    {
      "cell_type": "markdown",
      "metadata": {
        "id": "KuQrWxu_Gpzn"
      },
      "source": [
        "Let's make a copy of our untrained SciBERT model to use for comparison later."
      ]
    },
    {
      "cell_type": "code",
      "metadata": {
        "id": "Q7xzyQuCF1xI"
      },
      "source": [
        "import copy\n",
        "\n",
        "untrained_scibert_model_with_custom_embedding = copy.deepcopy(scibert_maskedlm_model)\n",
        "untrained_scibert_tokenizer_with_custom_embedding = copy.deepcopy(scibert_tokenizer)"
      ],
      "execution_count": null,
      "outputs": []
    },
    {
      "cell_type": "markdown",
      "metadata": {
        "id": "Bh3ouF7NXATL"
      },
      "source": [
        "# S4. Continue Pretraining the Model\n",
        "\n",
        "Now, with our updated vocabulary let's continue to train SciBERT on COVID-19 literature to improve downstream model performance on COVID-19 related NLP tasks."
      ]
    },
    {
      "cell_type": "markdown",
      "metadata": {
        "id": "0tF-FQ1JUiAu"
      },
      "source": [
        "## 4.1 Getting our Dataset Ready"
      ]
    },
    {
      "cell_type": "markdown",
      "metadata": {
        "id": "SeA1g4LT4aG0"
      },
      "source": [
        "The [CORD-19](https://allenai.org/data/cord-19) dataset from Allen AI is large collection of COVID-19 related text and numerical data. This data has been used by the data science community to produce insights and analysis to further progress COVID-19 research and care. If this interests you, check out Kaggle for a ton of great user-submitted analyses and focused research questions that the medical community is trying to answer.\n",
        "\n",
        "The CORD-19 dataset is, however, very large and requires preprocessing, so for our purposes of demonstrating pretraining we will use a smaller subset of coronavirus research. [This dataset](https://www.kaggle.com/phiitm/covid19-research-preprint-data) made by Pranav Hari contains several thousand rows of data on COVID-19 research papers, including the abstract for each paper. This is the text that we will use for continuing pretraining. "
      ]
    },
    {
      "cell_type": "markdown",
      "metadata": {
        "id": "gr8Dk-F87LQ7"
      },
      "source": [
        "We've added the dataset to Google Drive beforehand and can now download the dataset using the unique Drive ID:"
      ]
    },
    {
      "cell_type": "code",
      "metadata": {
        "id": "VMl5gBz_9bfQ",
        "colab": {
          "base_uri": "https://localhost:8080/"
        },
        "outputId": "45836260-6f3b-411f-9a7a-172f910adbf1"
      },
      "source": [
        "import gdown\n",
        "\n",
        "print('Downloading data...')\n",
        "\n",
        "# Specify the name to give the file locally. \n",
        "output = 'abstracts.csv'\n",
        "    \n",
        "# Specify the Google Drive ID of the file.\n",
        "file_id = '1bv_iRnYyfbOA5OfGqR_shYHFuARkPZRT'\n",
        "    \n",
        "# Download the file.\n",
        "gdown.download('https://drive.google.com/uc?id=' + file_id, output, \n",
        "                quiet=False)\n",
        "\n",
        "print('DONE.')"
      ],
      "execution_count": null,
      "outputs": [
        {
          "output_type": "stream",
          "text": [
            "Downloading data...\n"
          ],
          "name": "stdout"
        },
        {
          "output_type": "stream",
          "text": [
            "Downloading...\n",
            "From: https://drive.google.com/uc?id=1bv_iRnYyfbOA5OfGqR_shYHFuARkPZRT\n",
            "To: /content/abstracts.csv\n",
            "11.8MB [00:00, 110MB/s]"
          ],
          "name": "stderr"
        },
        {
          "output_type": "stream",
          "text": [
            "DONE.\n"
          ],
          "name": "stdout"
        },
        {
          "output_type": "stream",
          "text": [
            "\n"
          ],
          "name": "stderr"
        }
      ]
    },
    {
      "cell_type": "code",
      "metadata": {
        "id": "AmZMLBk-z5FC"
      },
      "source": [
        "import pandas as pd\n",
        "\n",
        "df = pd.read_csv('abstracts.csv')"
      ],
      "execution_count": null,
      "outputs": []
    },
    {
      "cell_type": "markdown",
      "metadata": {
        "id": "KdEnm0j_7ddQ"
      },
      "source": [
        "Let's take a quick look at the dataset:"
      ]
    },
    {
      "cell_type": "code",
      "metadata": {
        "id": "vX1WyRUfjWV5",
        "colab": {
          "base_uri": "https://localhost:8080/",
          "height": 615
        },
        "outputId": "f4d6185e-3dc9-4d22-db3c-560daf97a476"
      },
      "source": [
        "df.head()"
      ],
      "execution_count": null,
      "outputs": [
        {
          "output_type": "execute_result",
          "data": {
            "text/html": [
              "<div>\n",
              "<style scoped>\n",
              "    .dataframe tbody tr th:only-of-type {\n",
              "        vertical-align: middle;\n",
              "    }\n",
              "\n",
              "    .dataframe tbody tr th {\n",
              "        vertical-align: top;\n",
              "    }\n",
              "\n",
              "    .dataframe thead th {\n",
              "        text-align: right;\n",
              "    }\n",
              "</style>\n",
              "<table border=\"1\" class=\"dataframe\">\n",
              "  <thead>\n",
              "    <tr style=\"text-align: right;\">\n",
              "      <th></th>\n",
              "      <th>DOI</th>\n",
              "      <th>Date of Upload</th>\n",
              "      <th>Title of preprint</th>\n",
              "      <th>Preprint Link</th>\n",
              "      <th>Abstract</th>\n",
              "      <th>Number of Authors</th>\n",
              "      <th>Authors</th>\n",
              "      <th>Author(s) Institutions</th>\n",
              "      <th>Uploaded Site</th>\n",
              "    </tr>\n",
              "  </thead>\n",
              "  <tbody>\n",
              "    <tr>\n",
              "      <th>0</th>\n",
              "      <td>10.1101/2020.06.19.20135996</td>\n",
              "      <td>2020-06-20</td>\n",
              "      <td>The support needs of Australian primary health...</td>\n",
              "      <td>http://medrxiv.org/cgi/content/short/2020.06.1...</td>\n",
              "      <td>Aim: To identify Australian primary healthcare...</td>\n",
              "      <td>7</td>\n",
              "      <td>['Elizabeth Halcomb', 'Anna Williams', 'Christ...</td>\n",
              "      <td>{\"University of Wollongong\": 6, \"University of...</td>\n",
              "      <td>medrxiv</td>\n",
              "    </tr>\n",
              "    <tr>\n",
              "      <th>1</th>\n",
              "      <td>10.1101/2020.06.18.20135103</td>\n",
              "      <td>2020-06-20</td>\n",
              "      <td>Modeling quantitative traits for COVID-19 case...</td>\n",
              "      <td>http://medrxiv.org/cgi/content/short/2020.06.1...</td>\n",
              "      <td>Medical practitioners record the condition sta...</td>\n",
              "      <td>6</td>\n",
              "      <td>['Nuria Queralt-Rosinach', 'Susan Bello', 'Rob...</td>\n",
              "      <td>{\"Leids Universitair Medisch Centrum\": 1, \"The...</td>\n",
              "      <td>medrxiv</td>\n",
              "    </tr>\n",
              "    <tr>\n",
              "      <th>2</th>\n",
              "      <td>10.1101/2020.06.19.20135905</td>\n",
              "      <td>2020-06-20</td>\n",
              "      <td>SARS-CoV-2 RT-PCR profile in 298 Indian COVID-...</td>\n",
              "      <td>http://medrxiv.org/cgi/content/short/2020.06.1...</td>\n",
              "      <td>Background: Despite being in the 5th month of ...</td>\n",
              "      <td>9</td>\n",
              "      <td>['bisakh bhattacharya', 'Rohit Kumar', 'Dr. Ve...</td>\n",
              "      <td>{\"AIIMS, New Delhi\": 8, \"All India Institute o...</td>\n",
              "      <td>medrxiv</td>\n",
              "    </tr>\n",
              "    <tr>\n",
              "      <th>3</th>\n",
              "      <td>10.1101/2020.06.19.20135491</td>\n",
              "      <td>2020-06-20</td>\n",
              "      <td>Inhaled corticosteroid use and risk COVID-19 r...</td>\n",
              "      <td>http://medrxiv.org/cgi/content/short/2020.06.1...</td>\n",
              "      <td>Background: Early descriptions of the coronavi...</td>\n",
              "      <td>33</td>\n",
              "      <td>['- The OpenSAFELY Collaborative', 'Anna Schul...</td>\n",
              "      <td>{\"\": 1, \"London School of Hygiene and Tropical...</td>\n",
              "      <td>medrxiv</td>\n",
              "    </tr>\n",
              "    <tr>\n",
              "      <th>4</th>\n",
              "      <td>10.1101/2020.06.19.20135533</td>\n",
              "      <td>2020-06-20</td>\n",
              "      <td>The immediate psychological response of the ge...</td>\n",
              "      <td>http://medrxiv.org/cgi/content/short/2020.06.1...</td>\n",
              "      <td>Background: The health and economic burden pan...</td>\n",
              "      <td>4</td>\n",
              "      <td>['Royes Joseph', 'Dhfer Alshayban', 'Jisha M L...</td>\n",
              "      <td>{\"College of Clinical Pharmacy, Imam Abdulrahm...</td>\n",
              "      <td>medrxiv</td>\n",
              "    </tr>\n",
              "  </tbody>\n",
              "</table>\n",
              "</div>"
            ],
            "text/plain": [
              "                           DOI  ... Uploaded Site\n",
              "0  10.1101/2020.06.19.20135996  ...       medrxiv\n",
              "1  10.1101/2020.06.18.20135103  ...       medrxiv\n",
              "2  10.1101/2020.06.19.20135905  ...       medrxiv\n",
              "3  10.1101/2020.06.19.20135491  ...       medrxiv\n",
              "4  10.1101/2020.06.19.20135533  ...       medrxiv\n",
              "\n",
              "[5 rows x 9 columns]"
            ]
          },
          "metadata": {
            "tags": []
          },
          "execution_count": 54
        }
      ]
    },
    {
      "cell_type": "markdown",
      "metadata": {
        "id": "bAKBGaxY7gqS"
      },
      "source": [
        "What we're really interested in is text data for pretraining, so we'll use the abstracts from these research papers."
      ]
    },
    {
      "cell_type": "code",
      "metadata": {
        "id": "fKbMh_iwj2nh",
        "colab": {
          "base_uri": "https://localhost:8080/"
        },
        "outputId": "b5a45694-6c6e-46fc-f9fc-a97a925e1a06"
      },
      "source": [
        "# Examples of our abstracts\n",
        "df.Abstract.values[:3]"
      ],
      "execution_count": null,
      "outputs": [
        {
          "output_type": "execute_result",
          "data": {
            "text/plain": [
              "array([\"Aim: To identify Australian primary healthcare nurses immediate support needs during the COVID-19 pandemic. Background: COVID-19 has had widespread implications for primary healthcare nurses. Supporting these nurses' capacity to deliver quality care ensures that ongoing health needs can be met. Methods: Primary healthcare nurses were recruited to an online survey via social media and professional organisations in April 2020. Results: Six-hundred and thirty-seven responses were included in analysis. Participants provided 1213 statements about perceived supports required to provide quality clinical care. From these, seven key categories emerged, namely; personal protective equipment, communication, funding, industrial issues, self-care, workplace factors and valuing nurses. Conclusion: A number of key issues relating to personal health and safety, care quality, and job security need to be addressed to support primary healthcare nurses during the COVID-19 pandemic. Addressing these support issues can assist in retaining nurses and optimising the role of primary healthcare nurses during a pandemic. Implications for nursing management: Responding to the needs of primary healthcare nurses has the potential to facilitate their role in providing community-based healthcare. This knowledge can guide the provision of support for primary healthcare nurses during the current pandemic, as well as informing planning for future health crises.\",\n",
              "       'Medical practitioners record the condition status of a patient through qualitative and quantitative observations. The measurement of vital signs and molecular parameters in the clinics gives a complementary description of abnormal phenotypes associated with the progression of a disease. The Clinical Measurement Ontology (CMO) is used to standardize annotations of these measurable traits. However, researchers have no way to describe how these quantitative traits relate to phenotype concepts in a machine-readable manner. Using the WHO clinical case report form standard for the COVID-19 pandemic, we modeled quantitative traits and developed OWL axioms to formally relate clinical measurement terms with anatomical, biomolecular entities and phenotypes annotated with the Uber-anatomy ontology (Uberon), Chemical Entities of Biological Interest (ChEBI) and the Phenotype and Trait Ontology (PATO) biomedical ontologies. The formal description of these relations allows interoperability between clinical and biological descriptions, and facilitates automated reasoning for analysis of patterns over quantitative and qualitative biomedical observations.',\n",
              "       'Background: Despite being in the 5th month of pandemic, knowledge with respect to viral dynamics, infectivity and RT-PCR positivity continues to evolve. Aim: To analyse the SARS CoV-2 nucleic acid RT-PCR profiles in COVID-19 patients. Design: It was a retrospective, observational study conducted at COVID facilities under AIIMS, New Delhi. Methods : Patients admitted with laboratory confirmed COVID-19 were eligible for enrolment. Patients with incomplete details, or only single PCR tests were excluded. Data regarding demographic details, comorbidities, treatment received and results of SARS-CoV-2 RT-PCR performed on nasopharyngeal and oropharyngeal swabs, collected at different time points, was retrieved from the hospital records. Results : 298 patients were included, majority were males (75.8%) with mean age of 39.07 years (0.6-88 years). The mean duration from symptom onset to first positive RT-PCR was 4.7 days (SD 3.67), while that of symptom onset to last positive test was 17.83 days (SD 6.22). Proportions of positive RT-PCR tests were 100%, 49%, 24%, 8.7% and 20.6% in the 1st, 2nd, 3rd, 4th & >4 weeks of illness. 12 symptomatic patients had prolonged positive test results even after 3 weeks of symptom onset. Age >= 60 years was associated with prolonged RT-PCR positivity (statistically significant). Conclusion : This study showed that the average period of PCR positivity is more than 2 weeks in COVID-19 patients; elderly patients have prolonged duration of RT-PCR positivity and requires further follow up.'],\n",
              "      dtype=object)"
            ]
          },
          "metadata": {
            "tags": []
          },
          "execution_count": 55
        }
      ]
    },
    {
      "cell_type": "code",
      "metadata": {
        "id": "DvslNHmT-xi2"
      },
      "source": [
        "abstracts = df.Abstract.values"
      ],
      "execution_count": null,
      "outputs": []
    },
    {
      "cell_type": "markdown",
      "metadata": {
        "id": "x7fEkhvv7tO2"
      },
      "source": [
        "Next, we'll write all of the abstracts line by line to a text file. This provides an easy and memory efficient format for the training loop below, but you can customize the input and data format to match your dataset so long as you update the huggingface Trainer interface below."
      ]
    },
    {
      "cell_type": "code",
      "metadata": {
        "id": "vn6diz3Cnn3R"
      },
      "source": [
        "outfile = open(\"abstracts.txt\", \"w\")\n",
        "for line in abstracts:\n",
        "  outfile.write(line.lower())\n",
        "  outfile.write(\"\\n\")\n",
        "outfile.close()"
      ],
      "execution_count": null,
      "outputs": []
    },
    {
      "cell_type": "markdown",
      "metadata": {
        "id": "o6NuiBXMVHaf"
      },
      "source": [
        "## 4.2 Training the Model"
      ]
    },
    {
      "cell_type": "code",
      "metadata": {
        "id": "3hkk6baMG_ZV",
        "colab": {
          "base_uri": "https://localhost:8080/"
        },
        "outputId": "9970c93d-21fa-4e09-f109-b8be91f6a1d4"
      },
      "source": [
        "# Check that we have a GPU for training\n",
        "!nvidia-smi"
      ],
      "execution_count": null,
      "outputs": [
        {
          "output_type": "stream",
          "text": [
            "Fri Jul 16 04:15:09 2021       \n",
            "+-----------------------------------------------------------------------------+\n",
            "| NVIDIA-SMI 470.42.01    Driver Version: 460.32.03    CUDA Version: 11.2     |\n",
            "|-------------------------------+----------------------+----------------------+\n",
            "| GPU  Name        Persistence-M| Bus-Id        Disp.A | Volatile Uncorr. ECC |\n",
            "| Fan  Temp  Perf  Pwr:Usage/Cap|         Memory-Usage | GPU-Util  Compute M. |\n",
            "|                               |                      |               MIG M. |\n",
            "|===============================+======================+======================|\n",
            "|   0  Tesla P100-PCIE...  Off  | 00000000:00:04.0 Off |                    0 |\n",
            "| N/A   47C    P0    35W / 250W |   8173MiB / 16280MiB |      0%      Default |\n",
            "|                               |                      |                  N/A |\n",
            "+-------------------------------+----------------------+----------------------+\n",
            "                                                                               \n",
            "+-----------------------------------------------------------------------------+\n",
            "| Processes:                                                                  |\n",
            "|  GPU   GI   CI        PID   Type   Process name                  GPU Memory |\n",
            "|        ID   ID                                                   Usage      |\n",
            "|=============================================================================|\n",
            "|  No running processes found                                                 |\n",
            "+-----------------------------------------------------------------------------+\n"
          ],
          "name": "stdout"
        }
      ]
    },
    {
      "cell_type": "code",
      "metadata": {
        "id": "bkSDG9aV6HoT",
        "colab": {
          "base_uri": "https://localhost:8080/"
        },
        "outputId": "ea5401a0-f8bf-445f-dc05-d6cd9820e8b7"
      },
      "source": [
        "# Check that PyTorch sees it\n",
        "torch.cuda.is_available()"
      ],
      "execution_count": null,
      "outputs": [
        {
          "output_type": "execute_result",
          "data": {
            "text/plain": [
              "True"
            ]
          },
          "metadata": {
            "tags": []
          },
          "execution_count": 62
        }
      ]
    },
    {
      "cell_type": "markdown",
      "metadata": {
        "id": "gFLfb_HY9085"
      },
      "source": [
        "The code below for training and evaluation is based heavily on the [\"how to train\" tutorial](https://colab.research.google.com/github/huggingface/blog/blob/master/notebooks/01_how_to_train.ipynb) provided by huggingface, and demonstrates the use of their Trainer class and Pipeline class. The Trainer class is an alternative to writing your own training loop, and provides the same level of specification with much less code! The pipeline class is also a handy way to evaluate and test your model without having to manually code inputs, outputs, similarity comparisons, etc.\n",
        "\n",
        "(By the way, if you'd like to train a tokenizer and model from scratch the huggingface tutorial is a great resource!)"
      ]
    },
    {
      "cell_type": "code",
      "metadata": {
        "id": "Ei1QzSi0Qbyw",
        "colab": {
          "base_uri": "https://localhost:8080/"
        },
        "outputId": "5eacc37b-b099-492e-d4f1-8e23c58f9a76"
      },
      "source": [
        "from transformers import LineByLineTextDataset\n",
        "\n",
        "# Create a LineByLineTextDataset interface for reading and tokenizing our text dataset\n",
        "dataset = LineByLineTextDataset(\n",
        "    tokenizer=scibert_tokenizer,\n",
        "    file_path=\"abstracts.txt\",\n",
        "    block_size=128,\n",
        ")"
      ],
      "execution_count": null,
      "outputs": [
        {
          "output_type": "stream",
          "text": [
            "/usr/local/lib/python3.7/dist-packages/transformers/data/datasets/language_modeling.py:124: FutureWarning: This dataset will be removed from the library soon, preprocessing should be handled with the 🤗 Datasets library. You can have a look at this example script for pointers: https://github.com/huggingface/transformers/blob/master/examples/pytorch/language-modeling/run_mlm.py\n",
            "  FutureWarning,\n"
          ],
          "name": "stderr"
        }
      ]
    },
    {
      "cell_type": "markdown",
      "metadata": {
        "id": "2K2xR-R0_AQN"
      },
      "source": [
        "The DataCollatorForLanguageModeling creates batches out of our dataset and allows us to specify the MLM probability for training."
      ]
    },
    {
      "cell_type": "code",
      "metadata": {
        "id": "g-RLbzsYQcC9"
      },
      "source": [
        "from transformers import DataCollatorForLanguageModeling\n",
        "\n",
        "data_collator = DataCollatorForLanguageModeling(\n",
        "    tokenizer=scibert_tokenizer, mlm=True, mlm_probability=0.15\n",
        ")"
      ],
      "execution_count": null,
      "outputs": []
    },
    {
      "cell_type": "markdown",
      "metadata": {
        "id": "Xl38D7VH_e53"
      },
      "source": [
        "With the TrainingArguments class you can customize nearly every optimizer parameter, logging parameter, training loop parameter, etc. in one place. \n",
        "\n",
        "We'll train for just two epochs so we can quickly examine the results and check that the model has updated with continued training."
      ]
    },
    {
      "cell_type": "code",
      "metadata": {
        "id": "63duaJUgeQyq",
        "colab": {
          "base_uri": "https://localhost:8080/"
        },
        "outputId": "d292e9e4-38ed-4aed-c968-bf95d5114f00"
      },
      "source": [
        "from transformers import Trainer, TrainingArguments\n",
        "\n",
        "training_args = TrainingArguments(   \n",
        "    output_dir=\"./\",\n",
        "    overwrite_output_dir=True,\n",
        "    learning_rate=5e-05, \n",
        "    num_train_epochs=1,\n",
        "    per_gpu_train_batch_size=32,\n",
        "    save_steps=500,\n",
        "    save_total_limit=2,\n",
        ")\n",
        "\n",
        "trainer = Trainer(\n",
        "    model=scibert_maskedlm_model,\n",
        "    args=training_args,\n",
        "    data_collator=data_collator,\n",
        "    train_dataset= dataset\n",
        ")"
      ],
      "execution_count": null,
      "outputs": [
        {
          "output_type": "stream",
          "text": [
            "PyTorch: setting up devices\n",
            "The default value for the training argument `--report_to` will change in v5 (from all installed integrations to none). In v5, you will need to use `--report_to all` to get the same behavior as now. You should start updating your code and make this info disappear :-).\n"
          ],
          "name": "stderr"
        }
      ]
    },
    {
      "cell_type": "code",
      "metadata": {
        "id": "XGs_ipsJ5sBw",
        "colab": {
          "base_uri": "https://localhost:8080/",
          "height": 401
        },
        "outputId": "558c0aff-4ca0-4015-969b-66a51439a228"
      },
      "source": [
        "%%time\n",
        "trainer.train()"
      ],
      "execution_count": null,
      "outputs": [
        {
          "output_type": "stream",
          "text": [
            "Using deprecated `--per_gpu_train_batch_size` argument which will be removed in a future version. Using `--per_device_train_batch_size` is preferred.\n",
            "Using deprecated `--per_gpu_train_batch_size` argument which will be removed in a future version. Using `--per_device_train_batch_size` is preferred.\n",
            "***** Running training *****\n",
            "  Num examples = 6079\n",
            "  Num Epochs = 1\n",
            "  Instantaneous batch size per device = 8\n",
            "  Total train batch size (w. parallel, distributed & accumulation) = 32\n",
            "  Gradient Accumulation steps = 1\n",
            "  Total optimization steps = 190\n",
            "Using deprecated `--per_gpu_train_batch_size` argument which will be removed in a future version. Using `--per_device_train_batch_size` is preferred.\n"
          ],
          "name": "stderr"
        },
        {
          "output_type": "display_data",
          "data": {
            "text/html": [
              "\n",
              "    <div>\n",
              "      \n",
              "      <progress value='190' max='190' style='width:300px; height:20px; vertical-align: middle;'></progress>\n",
              "      [190/190 01:30, Epoch 1/1]\n",
              "    </div>\n",
              "    <table border=\"1\" class=\"dataframe\">\n",
              "  <thead>\n",
              "    <tr style=\"text-align: left;\">\n",
              "      <th>Step</th>\n",
              "      <th>Training Loss</th>\n",
              "    </tr>\n",
              "  </thead>\n",
              "  <tbody>\n",
              "  </tbody>\n",
              "</table><p>"
            ],
            "text/plain": [
              "<IPython.core.display.HTML object>"
            ]
          },
          "metadata": {
            "tags": []
          }
        },
        {
          "output_type": "stream",
          "text": [
            "\n",
            "\n",
            "Training completed. Do not forget to share your model on huggingface.co/models =)\n",
            "\n",
            "\n"
          ],
          "name": "stderr"
        },
        {
          "output_type": "stream",
          "text": [
            "CPU times: user 1min 27s, sys: 2.63 s, total: 1min 30s\n",
            "Wall time: 1min 30s\n"
          ],
          "name": "stdout"
        },
        {
          "output_type": "execute_result",
          "data": {
            "text/plain": [
              "TrainOutput(global_step=190, training_loss=1.4385862651624177, metrics={'train_runtime': 90.8111, 'train_samples_per_second': 66.941, 'train_steps_per_second': 2.092, 'total_flos': 513329165461248.0, 'train_loss': 1.4385862651624177, 'epoch': 1.0})"
            ]
          },
          "metadata": {
            "tags": []
          },
          "execution_count": 67
        }
      ]
    },
    {
      "cell_type": "code",
      "metadata": {
        "id": "G41NPEUXhpnB",
        "colab": {
          "base_uri": "https://localhost:8080/"
        },
        "outputId": "b7a8a517-aae7-4848-cc88-6aacb36f7a14"
      },
      "source": [
        "# Save the model\n",
        "trainer.save_model(\"./covid_trained\")"
      ],
      "execution_count": null,
      "outputs": [
        {
          "output_type": "stream",
          "text": [
            "Saving model checkpoint to ./covid_trained\n",
            "Configuration saved in ./covid_trained/config.json\n",
            "Model weights saved in ./covid_trained/pytorch_model.bin\n"
          ],
          "name": "stderr"
        }
      ]
    },
    {
      "cell_type": "markdown",
      "metadata": {
        "id": "Szt5K-WzVNc7"
      },
      "source": [
        "# S5. Examining our Results"
      ]
    },
    {
      "cell_type": "markdown",
      "metadata": {
        "id": "pcSjXYAbsQh7"
      },
      "source": [
        "OK, let's take a look at the results of our trained model."
      ]
    },
    {
      "cell_type": "code",
      "metadata": {
        "id": "Wk0OasK6jpYg",
        "colab": {
          "base_uri": "https://localhost:8080/"
        },
        "outputId": "92fbf5ea-67ce-4ae6-c4ea-f474ce4caa62"
      },
      "source": [
        "# Load our saved model and check out our embeddings!\n",
        "from transformers import BertForMaskedLM\n",
        "trained_model = BertForMaskedLM.from_pretrained(\"./covid_trained\")\n"
      ],
      "execution_count": null,
      "outputs": [
        {
          "output_type": "stream",
          "text": [
            "loading configuration file ./covid_trained/config.json\n",
            "Model config BertConfig {\n",
            "  \"_name_or_path\": \"allenai/scibert_scivocab_uncased\",\n",
            "  \"architectures\": [\n",
            "    \"BertForMaskedLM\"\n",
            "  ],\n",
            "  \"attention_probs_dropout_prob\": 0.1,\n",
            "  \"gradient_checkpointing\": false,\n",
            "  \"hidden_act\": \"gelu\",\n",
            "  \"hidden_dropout_prob\": 0.1,\n",
            "  \"hidden_size\": 768,\n",
            "  \"initializer_range\": 0.02,\n",
            "  \"intermediate_size\": 3072,\n",
            "  \"layer_norm_eps\": 1e-12,\n",
            "  \"max_position_embeddings\": 512,\n",
            "  \"model_type\": \"bert\",\n",
            "  \"num_attention_heads\": 12,\n",
            "  \"num_hidden_layers\": 12,\n",
            "  \"pad_token_id\": 0,\n",
            "  \"position_embedding_type\": \"absolute\",\n",
            "  \"transformers_version\": \"4.8.2\",\n",
            "  \"type_vocab_size\": 2,\n",
            "  \"use_cache\": true,\n",
            "  \"vocab_size\": 31091\n",
            "}\n",
            "\n",
            "loading weights file ./covid_trained/pytorch_model.bin\n",
            "All model checkpoint weights were used when initializing BertForMaskedLM.\n",
            "\n",
            "All the weights of BertForMaskedLM were initialized from the model checkpoint at ./covid_trained.\n",
            "If your task is similar to the task the model of the checkpoint was trained on, you can already use BertForMaskedLM for predictions without further training.\n"
          ],
          "name": "stderr"
        }
      ]
    },
    {
      "cell_type": "markdown",
      "metadata": {
        "id": "LeY6piflsZGT"
      },
      "source": [
        "## 5.1 Check Embeddings"
      ]
    },
    {
      "cell_type": "markdown",
      "metadata": {
        "id": "NjlqxWXzVSXf"
      },
      "source": [
        "Here's the original custom embedding we used for \"covid\":"
      ]
    },
    {
      "cell_type": "code",
      "metadata": {
        "id": "5alIWoYipEmS",
        "colab": {
          "base_uri": "https://localhost:8080/",
          "height": 281
        },
        "outputId": "224af232-075e-4ee9-bdfc-7e2c3fbfd759"
      },
      "source": [
        "mean_vector = mean_embedding.detach().numpy()\n",
        "\n",
        "plt.title(\"Custom Initialized Vector Before Training\")\n",
        "plt.hist(mean_vector, bins=50)\n",
        "plt.show()"
      ],
      "execution_count": null,
      "outputs": [
        {
          "output_type": "display_data",
          "data": {
            "image/png": "[encoded data removed]",
            "text/plain": [
              "<Figure size 432x288 with 1 Axes>"
            ]
          },
          "metadata": {
            "tags": [],
            "needs_background": "light"
          }
        }
      ]
    },
    {
      "cell_type": "markdown",
      "metadata": {
        "id": "KKe_bL3fVWjh"
      },
      "source": [
        "And here's the same vector after our training:"
      ]
    },
    {
      "cell_type": "code",
      "metadata": {
        "id": "fst_21HppEhK",
        "colab": {
          "base_uri": "https://localhost:8080/",
          "height": 281
        },
        "outputId": "daf0c0ec-009f-4be2-9cc8-74ebe6aada3e"
      },
      "source": [
        "trained_vector = trained_model.get_input_embeddings().weight[-1].detach().numpy()\n",
        "\n",
        "plt.title(\"Custom Initialized Vector After Training\")\n",
        "plt.hist(trained_vector, bins=50)\n",
        "plt.show()"
      ],
      "execution_count": null,
      "outputs": [
        {
          "output_type": "display_data",
          "data": {
            "image/png": "[encoded data removed]",
            "text/plain": [
              "<Figure size 432x288 with 1 Axes>"
            ]
          },
          "metadata": {
            "tags": [],
            "needs_background": "light"
          }
        }
      ]
    },
    {
      "cell_type": "markdown",
      "metadata": {
        "id": "tiWxxJ-jB86j"
      },
      "source": [
        "Great! Training has updated our new input embedding for \"covid\" and has updated the weights in the rest of our model."
      ]
    },
    {
      "cell_type": "markdown",
      "metadata": {
        "id": "DMcm6AMsseqk"
      },
      "source": [
        "## 5.2 Check Token Predictions"
      ]
    },
    {
      "cell_type": "markdown",
      "metadata": {
        "id": "h2d1xCCbJkPM"
      },
      "source": [
        "Now let's compare the term \"covid\" on three versions of our model:\n",
        "\n",
        "\n",
        "\n",
        "1.   Original SciBERT with original SciBERT tokenizer\n",
        "2.   SciBERT with a custom embedding for \"covid\" with updated SciBERT tokenizer\n",
        "3.   SciBERT with a custom embedding for \"covid\" that has been trained on COVID-19 text with updated SciBERT tokenizer\n",
        "\n",
        "Let's load the original SciBERT and SciBERT tokenizer:\n",
        "\n"
      ]
    },
    {
      "cell_type": "code",
      "metadata": {
        "id": "Nh0grugQpEbJ",
        "colab": {
          "base_uri": "https://localhost:8080/"
        },
        "outputId": "4b55cfa3-bb72-405f-e574-92505a67c018"
      },
      "source": [
        "# Load the original SciBERT\n",
        "original_scibert_model = BertForMaskedLM.from_pretrained(\"allenai/scibert_scivocab_uncased\")\n",
        "original_scibert_tokenizer = BertTokenizer.from_pretrained(\"allenai/scibert_scivocab_uncased\", do_lower_case=True)"
      ],
      "execution_count": null,
      "outputs": [
        {
          "output_type": "stream",
          "text": [
            "loading configuration file https://huggingface.co/allenai/scibert_scivocab_uncased/resolve/main/config.json from cache at /root/.cache/huggingface/transformers/858852fd2471ce39075378592ddc87f5a6551e64c6825d1b92c8dab9318e0fc3.03ff9e9f998b9a9d40647a2148a202e3fb3d568dc0f170dda9dda194bab4d5dd\n",
            "Model config BertConfig {\n",
            "  \"attention_probs_dropout_prob\": 0.1,\n",
            "  \"gradient_checkpointing\": false,\n",
            "  \"hidden_act\": \"gelu\",\n",
            "  \"hidden_dropout_prob\": 0.1,\n",
            "  \"hidden_size\": 768,\n",
            "  \"initializer_range\": 0.02,\n",
            "  \"intermediate_size\": 3072,\n",
            "  \"layer_norm_eps\": 1e-12,\n",
            "  \"max_position_embeddings\": 512,\n",
            "  \"model_type\": \"bert\",\n",
            "  \"num_attention_heads\": 12,\n",
            "  \"num_hidden_layers\": 12,\n",
            "  \"pad_token_id\": 0,\n",
            "  \"position_embedding_type\": \"absolute\",\n",
            "  \"transformers_version\": \"4.8.2\",\n",
            "  \"type_vocab_size\": 2,\n",
            "  \"use_cache\": true,\n",
            "  \"vocab_size\": 31090\n",
            "}\n",
            "\n",
            "loading weights file https://huggingface.co/allenai/scibert_scivocab_uncased/resolve/main/pytorch_model.bin from cache at /root/.cache/huggingface/transformers/de14937a851e8180a2bc5660c0041d385f8a0c62b1b2ccafa46df31043a2390c.74830bb01a0ffcdeaed8be9916312726d0c4cd364ac6fc15b375f789eaff4cbb\n",
            "Some weights of the model checkpoint at allenai/scibert_scivocab_uncased were not used when initializing BertForMaskedLM: ['cls.seq_relationship.weight', 'cls.seq_relationship.bias']\n",
            "- This IS expected if you are initializing BertForMaskedLM from the checkpoint of a model trained on another task or with another architecture (e.g. initializing a BertForSequenceClassification model from a BertForPreTraining model).\n",
            "- This IS NOT expected if you are initializing BertForMaskedLM from the checkpoint of a model that you expect to be exactly identical (initializing a BertForSequenceClassification model from a BertForSequenceClassification model).\n",
            "All the weights of BertForMaskedLM were initialized from the model checkpoint at allenai/scibert_scivocab_uncased.\n",
            "If your task is similar to the task the model of the checkpoint was trained on, you can already use BertForMaskedLM for predictions without further training.\n",
            "loading file https://huggingface.co/allenai/scibert_scivocab_uncased/resolve/main/vocab.txt from cache at /root/.cache/huggingface/transformers/33593020f507d72099bd84ea6cd2296feb424fecd62d4a8edcc2a02899af6e29.38339d84e6e392addd730fd85fae32652c4cc7c5423633d6fa73e5f7937bbc38\n",
            "loading file https://huggingface.co/allenai/scibert_scivocab_uncased/resolve/main/added_tokens.json from cache at None\n",
            "loading file https://huggingface.co/allenai/scibert_scivocab_uncased/resolve/main/special_tokens_map.json from cache at None\n",
            "loading file https://huggingface.co/allenai/scibert_scivocab_uncased/resolve/main/tokenizer_config.json from cache at None\n",
            "loading file https://huggingface.co/allenai/scibert_scivocab_uncased/resolve/main/tokenizer.json from cache at None\n"
          ],
          "name": "stderr"
        }
      ]
    },
    {
      "cell_type": "markdown",
      "metadata": {
        "id": "H1wDGlE_V1LE"
      },
      "source": [
        "OK, now we have all three models loaded. \n",
        "\n",
        "We'll use the huggingface pipeline class to do a quick comparison of our embeddings. The \"fill-mask\" option lets us feed in a sentence with one token substituted with a mask token. The sentence gets tokenized, run through the model, and returns the top N most probable tokens to fill that embedding."
      ]
    },
    {
      "cell_type": "code",
      "metadata": {
        "id": "0Kz0hg_jPOqJ"
      },
      "source": [
        "from transformers import pipeline\n",
        "\n",
        "# Pipeline for Original SciBERT\n",
        "fill_mask_original_scibert = pipeline( \n",
        "    \"fill-mask\",\n",
        "    model=original_scibert_model,\n",
        "    tokenizer=original_scibert_tokenizer\n",
        ")\n",
        "\n",
        "# Pipeline for our custom \"covid\" embedding\n",
        "fill_mask_untrained_scibert_with_embedding = pipeline( \n",
        "    \"fill-mask\",\n",
        "    model=untrained_scibert_model_with_custom_embedding,\n",
        "    tokenizer=untrained_scibert_tokenizer_with_custom_embedding\n",
        ")\n",
        "\n",
        "# Pipeline for our trained model\n",
        "fill_mask_trained_scibert = pipeline( \n",
        "    \"fill-mask\",\n",
        "    model=trained_model,\n",
        "    tokenizer=untrained_scibert_tokenizer_with_custom_embedding\n",
        ")"
      ],
      "execution_count": null,
      "outputs": []
    },
    {
      "cell_type": "code",
      "metadata": {
        "id": "8z33DmLLWNrY",
        "colab": {
          "base_uri": "https://localhost:8080/",
          "height": 34
        },
        "outputId": "642eb4ef-afad-42e7-8012-f4476c49b0b3"
      },
      "source": [
        "# Check to see what the tokenizer's mask token is\n",
        "original_scibert_tokenizer.mask_token"
      ],
      "execution_count": null,
      "outputs": [
        {
          "output_type": "execute_result",
          "data": {
            "text/plain": [
              "'[MASK]'"
            ]
          },
          "metadata": {
            "tags": []
          },
          "execution_count": 181
        }
      ]
    },
    {
      "cell_type": "markdown",
      "metadata": {
        "id": "u_L6n2PRWVcj"
      },
      "source": [
        "OK! Now we can run the same sentence:\n",
        "\n",
        "**\"covid is a [MASK]\"**\n",
        "\n",
        "through our three models and see what it predicts as most likely on the other end!"
      ]
    },
    {
      "cell_type": "markdown",
      "metadata": {
        "id": "LUkboBYl8d-c"
      },
      "source": [
        "As we expected, the **Original SciBERT** doesn't have a good idea of what \"covid\" is at all, it's simply trying to make sense out of subtokens \"cov\" + \"##id\""
      ]
    },
    {
      "cell_type": "code",
      "metadata": {
        "id": "OHOSRAhKPOjc",
        "colab": {
          "base_uri": "https://localhost:8080/"
        },
        "outputId": "2f189322-a4b6-44b1-b750-6a80ffe36967"
      },
      "source": [
        "fill_mask_original_scibert(\"covid is a [MASK].\")"
      ],
      "execution_count": null,
      "outputs": [
        {
          "output_type": "execute_result",
          "data": {
            "text/plain": [
              "[{'score': 0.02992262691259384,\n",
              "  'sequence': 'covid is a constant.',\n",
              "  'token': 2080,\n",
              "  'token_str': 'c o n s t a n t'},\n",
              " {'score': 0.015606067143380642,\n",
              "  'sequence': 'covid is a singleton.',\n",
              "  'token': 23128,\n",
              "  'token_str': 's i n g l e t o n'},\n",
              " {'score': 0.015587043017148972,\n",
              "  'sequence': 'covid is a set.',\n",
              "  'token': 610,\n",
              "  'token_str': 's e t'},\n",
              " {'score': 0.015000374056398869,\n",
              "  'sequence': 'covid is a proof.',\n",
              "  'token': 2254,\n",
              "  'token_str': 'p r o o f'},\n",
              " {'score': 0.014042426832020283,\n",
              "  'sequence': 'covid is a vector.',\n",
              "  'token': 2069,\n",
              "  'token_str': 'v e c t o r'}]"
            ]
          },
          "metadata": {
            "tags": []
          },
          "execution_count": 74
        }
      ]
    },
    {
      "cell_type": "markdown",
      "metadata": {
        "id": "awGG4lcu8zjv"
      },
      "source": [
        "**SciBERT with a custom embedding for \"covid\"** does substantially better. As it turns out, our custom embedding of \"virus\" + \"respiratory\" does a pretty good first pass job."
      ]
    },
    {
      "cell_type": "code",
      "metadata": {
        "id": "i1cAuTnXSp2v",
        "colab": {
          "base_uri": "https://localhost:8080/"
        },
        "outputId": "f17a321d-fec6-4069-a9c5-f258bba064ec"
      },
      "source": [
        "fill_mask_untrained_scibert_with_embedding(\"covid is a [MASK].\")"
      ],
      "execution_count": null,
      "outputs": [
        {
          "output_type": "execute_result",
          "data": {
            "text/plain": [
              "[{'score': 0.24134303629398346,\n",
              "  'sequence': 'covid is a virus.',\n",
              "  'token': 2930,\n",
              "  'token_str': 'v i r u s'},\n",
              " {'score': 0.01565396413207054,\n",
              "  'sequence': 'covid is a disease.',\n",
              "  'token': 1288,\n",
              "  'token_str': 'd i s e a s e'},\n",
              " {'score': 0.008702176623046398,\n",
              "  'sequence': 'covid is a problem.',\n",
              "  'token': 1167,\n",
              "  'token_str': 'p r o b l e m'},\n",
              " {'score': 0.007805938366800547,\n",
              "  'sequence': 'covid is a name.',\n",
              "  'token': 5147,\n",
              "  'token_str': 'n a m e'},\n",
              " {'score': 0.007489335257560015,\n",
              "  'sequence': 'covid is a pandemic.',\n",
              "  'token': 26196,\n",
              "  'token_str': 'p a n d e m i c'}]"
            ]
          },
          "metadata": {
            "tags": []
          },
          "execution_count": 75
        }
      ]
    },
    {
      "cell_type": "markdown",
      "metadata": {
        "id": "s1uOG5dT9NsS"
      },
      "source": [
        "Even with just one epoch of training on some abstracts, **Trained SciBERT** does an even better job. Notice here that the scores values are higher than they were for our custom embedding and the predicted tokens are more accurate; the uninformative \"name\" was a top 5 candidate for our custom embedding but for our trained model this is replaced with \"pathogen.\""
      ]
    },
    {
      "cell_type": "code",
      "metadata": {
        "id": "xlBVkGEpSpwk",
        "colab": {
          "base_uri": "https://localhost:8080/"
        },
        "outputId": "b80d1aa4-ea02-43b0-e19f-24ccce288b2c"
      },
      "source": [
        "fill_mask_trained_scibert(\"covid is a [MASK].\")"
      ],
      "execution_count": null,
      "outputs": [
        {
          "output_type": "execute_result",
          "data": {
            "text/plain": [
              "[{'score': 0.8463658690452576,\n",
              "  'sequence': 'covid is a pandemic.',\n",
              "  'token': 26196,\n",
              "  'token_str': 'p a n d e m i c'},\n",
              " {'score': 0.03869101405143738,\n",
              "  'sequence': 'covid is a virus.',\n",
              "  'token': 2930,\n",
              "  'token_str': 'v i r u s'},\n",
              " {'score': 0.03685850650072098,\n",
              "  'sequence': 'covid is a disease.',\n",
              "  'token': 1288,\n",
              "  'token_str': 'd i s e a s e'},\n",
              " {'score': 0.015968281775712967,\n",
              "  'sequence': 'covid is a pathogen.',\n",
              "  'token': 9293,\n",
              "  'token_str': 'p a t h o g e n'},\n",
              " {'score': 0.004390745423734188,\n",
              "  'sequence': 'covid is a covid.',\n",
              "  'token': 31090,\n",
              "  'token_str': 'c o v i d'}]"
            ]
          },
          "metadata": {
            "tags": []
          },
          "execution_count": 76
        }
      ]
    },
    {
      "cell_type": "markdown",
      "metadata": {
        "id": "6ccmUqAY_U6B"
      },
      "source": [
        "This indicates that the model we have trained is better suited as a COVID-19 language model or as the basis for fine-tuning.\n",
        "\n",
        "Similarly, we hope this tutorial will help you in customizing and improving a BERT-like language model for your specific downstream application. "
      ]
    },
    {
      "cell_type": "markdown",
      "metadata": {
        "id": "wGkVv2pduLv4"
      },
      "source": [
        "# Appendix - Additional Resources"
      ]
    },
    {
      "cell_type": "markdown",
      "metadata": {
        "id": "yT22fREDYHfS"
      },
      "source": [
        "\n",
        "While most of the literature is focused on fine-tuning against benchmarks, there isn't a great deal of research we've come across about continued pretraining or domain-specific fine-tuning despite its utility to industry-specific applications.\n",
        "\n",
        "One paper which does address this topic is \"[BERT on Stilts](https://arxiv.org/pdf/1811.01088.pdf)\" from a team at NYU--they measure the positive impact of an intermediate fine-tuning phase prior to the final benchmarked fine-tuning task.\n",
        "\n",
        "We'll continue to add more resources here as we come across them!\n",
        "\n",
        "\n",
        "\n"
      ]
    }
  ]
}