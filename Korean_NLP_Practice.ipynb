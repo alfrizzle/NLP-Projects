{
  "nbformat": 4,
  "nbformat_minor": 0,
  "metadata": {
    "colab": {
      "name": "Korean_NLP_Practice.ipynb",
      "provenance": [],
      "collapsed_sections": [],
      "toc_visible": true,
      "authorship_tag": "ABX9TyP8u2SZ9Ya24jU/BqPpGLs2",
      "include_colab_link": true
    },
    "kernelspec": {
      "name": "python3",
      "display_name": "Python 3"
    }
  },
  "cells": [
    {
      "cell_type": "markdown",
      "metadata": {
        "id": "view-in-github",
        "colab_type": "text"
      },
      "source": [
        "<a href=\"https://colab.research.google.com/github/alfrizzle/NLP-Projects/blob/master/Korean_NLP_Practice.ipynb\" target=\"_parent\"><img src=\"https://colab.research.google.com/assets/colab-badge.svg\" alt=\"Open In Colab\"/></a>"
      ]
    },
    {
      "cell_type": "markdown",
      "metadata": {
        "id": "GCjjbMYum4Ii",
        "colab_type": "text"
      },
      "source": [
        "# KoNLPy Practice\n",
        "\n",
        "**[KoNLPy](https://konlpy.org/en/latest/#): Korean NLP in Python**\n",
        "\n",
        "KoNLPy (pronounced “ko en el PIE”) is a Python package for natural language processing (NLP) of the Korean language. For installation directions, see [here](https://konlpy.org/en/latest/install/).\n",
        "\n",
        "For users new to NLP, go to [Getting started](https://konlpy.org/en/latest/#start). For step-by-step instructions, follow the [User guide](https://konlpy.org/en/latest/#guide). For specific descriptions of each module, go see the [API](https://konlpy.org/en/latest/#api) documents."
      ]
    },
    {
      "cell_type": "markdown",
      "metadata": {
        "id": "POH5142Hsdl4",
        "colab_type": "text"
      },
      "source": [
        "References:\n",
        "\n",
        "* https://www.youtube.com/watch?v=yUImPXmYO7M\n",
        "* https://github.com/entelecheia/eKoNLPy\n",
        "* https://pythonhosted.org/korean/ko/"
      ]
    },
    {
      "cell_type": "markdown",
      "metadata": {
        "id": "hfscIxh1nAOa",
        "colab_type": "text"
      },
      "source": [
        "Install konlpy library"
      ]
    },
    {
      "cell_type": "code",
      "metadata": {
        "id": "wfYkJ6zPcPQv",
        "colab_type": "code",
        "colab": {
          "base_uri": "https://localhost:8080/",
          "height": 326
        },
        "outputId": "bd1fed29-c548-458e-d9dd-6fa7247cbb44"
      },
      "source": [
        "pip install konlpy"
      ],
      "execution_count": null,
      "outputs": [
        {
          "output_type": "stream",
          "text": [
            "Requirement already satisfied: konlpy in /usr/local/lib/python3.6/dist-packages (0.5.2)\n",
            "Requirement already satisfied: JPype1>=0.7.0 in /usr/local/lib/python3.6/dist-packages (from konlpy) (1.0.2)\n",
            "Requirement already satisfied: lxml>=4.1.0 in /usr/local/lib/python3.6/dist-packages (from konlpy) (4.2.6)\n",
            "Requirement already satisfied: numpy>=1.6 in /usr/local/lib/python3.6/dist-packages (from konlpy) (1.18.5)\n",
            "Requirement already satisfied: tweepy>=3.7.0 in /usr/local/lib/python3.6/dist-packages (from konlpy) (3.9.0)\n",
            "Requirement already satisfied: beautifulsoup4==4.6.0 in /usr/local/lib/python3.6/dist-packages (from konlpy) (4.6.0)\n",
            "Requirement already satisfied: colorama in /usr/local/lib/python3.6/dist-packages (from konlpy) (0.4.3)\n",
            "Requirement already satisfied: typing-extensions; python_version < \"3.8\" in /usr/local/lib/python3.6/dist-packages (from JPype1>=0.7.0->konlpy) (3.7.4.3)\n",
            "Requirement already satisfied: requests[socks]>=2.11.1 in /usr/local/lib/python3.6/dist-packages (from tweepy>=3.7.0->konlpy) (2.23.0)\n",
            "Requirement already satisfied: requests-oauthlib>=0.7.0 in /usr/local/lib/python3.6/dist-packages (from tweepy>=3.7.0->konlpy) (1.3.0)\n",
            "Requirement already satisfied: six>=1.10.0 in /usr/local/lib/python3.6/dist-packages (from tweepy>=3.7.0->konlpy) (1.15.0)\n",
            "Requirement already satisfied: chardet<4,>=3.0.2 in /usr/local/lib/python3.6/dist-packages (from requests[socks]>=2.11.1->tweepy>=3.7.0->konlpy) (3.0.4)\n",
            "Requirement already satisfied: idna<3,>=2.5 in /usr/local/lib/python3.6/dist-packages (from requests[socks]>=2.11.1->tweepy>=3.7.0->konlpy) (2.10)\n",
            "Requirement already satisfied: urllib3!=1.25.0,!=1.25.1,<1.26,>=1.21.1 in /usr/local/lib/python3.6/dist-packages (from requests[socks]>=2.11.1->tweepy>=3.7.0->konlpy) (1.24.3)\n",
            "Requirement already satisfied: certifi>=2017.4.17 in /usr/local/lib/python3.6/dist-packages (from requests[socks]>=2.11.1->tweepy>=3.7.0->konlpy) (2020.6.20)\n",
            "Requirement already satisfied: PySocks!=1.5.7,>=1.5.6; extra == \"socks\" in /usr/local/lib/python3.6/dist-packages (from requests[socks]>=2.11.1->tweepy>=3.7.0->konlpy) (1.7.1)\n",
            "Requirement already satisfied: oauthlib>=3.0.0 in /usr/local/lib/python3.6/dist-packages (from requests-oauthlib>=0.7.0->tweepy>=3.7.0->konlpy) (3.1.0)\n"
          ],
          "name": "stdout"
        }
      ]
    },
    {
      "cell_type": "markdown",
      "metadata": {
        "id": "f-UNA7EGfHYW",
        "colab_type": "text"
      },
      "source": [
        "## Okt Class"
      ]
    },
    {
      "cell_type": "code",
      "metadata": {
        "id": "stS2zmHvcbry",
        "colab_type": "code",
        "colab": {}
      },
      "source": [
        "from konlpy.tag import Okt\n",
        "from konlpy.utils import pprint\n",
        "import pandas as pd \n",
        "\n",
        "from google.colab import files"
      ],
      "execution_count": null,
      "outputs": []
    },
    {
      "cell_type": "code",
      "metadata": {
        "id": "Cl83RsJLeNbV",
        "colab_type": "code",
        "colab": {
          "base_uri": "https://localhost:8080/",
          "height": 122
        },
        "outputId": "833e0992-afef-4e88-bb2b-46b89a81289e"
      },
      "source": [
        "from google.colab import drive\n",
        "drive.mount('/content/drive')"
      ],
      "execution_count": null,
      "outputs": [
        {
          "output_type": "stream",
          "text": [
            "Go to this URL in a browser: https://accounts.google.com/o/oauth2/auth?client_id=947318989803-6bn6qk8qdgf4n4g3pfee6491hc0brc4i.apps.googleusercontent.com&redirect_uri=urn%3aietf%3awg%3aoauth%3a2.0%3aoob&scope=email%20https%3a%2f%2fwww.googleapis.com%2fauth%2fdocs.test%20https%3a%2f%2fwww.googleapis.com%2fauth%2fdrive%20https%3a%2f%2fwww.googleapis.com%2fauth%2fdrive.photos.readonly%20https%3a%2f%2fwww.googleapis.com%2fauth%2fpeopleapi.readonly&response_type=code\n",
            "\n",
            "Enter your authorization code:\n",
            "··········\n",
            "Mounted at /content/drive\n"
          ],
          "name": "stdout"
        }
      ]
    },
    {
      "cell_type": "code",
      "metadata": {
        "id": "qprCITmBevTT",
        "colab_type": "code",
        "colab": {
          "base_uri": "https://localhost:8080/",
          "height": 51
        },
        "outputId": "7a26187f-ac2e-4438-94c2-94fe1c668312"
      },
      "source": [
        "import os\n",
        "os.chdir('/content/drive/My Drive/Data Science/Datasets')\n",
        "\n",
        "# Check working directory\n",
        "!pwd\n",
        "\n",
        "# Check files in directory\n",
        "!ls"
      ],
      "execution_count": null,
      "outputs": [
        {
          "output_type": "stream",
          "text": [
            "/content/drive/My Drive/Data Science/Datasets\n",
            "gtd0718dist.csv  mspa-survey-data.csv  TestArticles.csv\n"
          ],
          "name": "stdout"
        }
      ]
    },
    {
      "cell_type": "markdown",
      "metadata": {
        "id": "V9PSg0-PoixE",
        "colab_type": "text"
      },
      "source": [
        "## EDA"
      ]
    },
    {
      "cell_type": "code",
      "metadata": {
        "id": "K4qxK4IieZrW",
        "colab_type": "code",
        "colab": {
          "base_uri": "https://localhost:8080/",
          "height": 204
        },
        "outputId": "d0a3c1d0-b0c4-48c1-a74d-dfbe52783529"
      },
      "source": [
        "df = pd.read_csv('TestArticles.csv', encoding='utf8')\n",
        "df.head()"
      ],
      "execution_count": null,
      "outputs": [
        {
          "output_type": "execute_result",
          "data": {
            "text/html": [
              "<div>\n",
              "<style scoped>\n",
              "    .dataframe tbody tr th:only-of-type {\n",
              "        vertical-align: middle;\n",
              "    }\n",
              "\n",
              "    .dataframe tbody tr th {\n",
              "        vertical-align: top;\n",
              "    }\n",
              "\n",
              "    .dataframe thead th {\n",
              "        text-align: right;\n",
              "    }\n",
              "</style>\n",
              "<table border=\"1\" class=\"dataframe\">\n",
              "  <thead>\n",
              "    <tr style=\"text-align: right;\">\n",
              "      <th></th>\n",
              "      <th>Title</th>\n",
              "      <th>Text</th>\n",
              "    </tr>\n",
              "  </thead>\n",
              "  <tbody>\n",
              "    <tr>\n",
              "      <th>0</th>\n",
              "      <td>정부 “국가채무비율 2045년 꺾인다”…전문가 “비현실적”</td>\n",
              "      <td>2045년 국내총생산(GDP) 대비 국가채무비율이 최고 99%로 치솟을 수 있다는 ...</td>\n",
              "    </tr>\n",
              "    <tr>\n",
              "      <th>1</th>\n",
              "      <td>‘부동산 감독기구’ 결국 강행</td>\n",
              "      <td>지나친 시장 통제·감시와 개인정보·재산권 침해 위험이 있다는 비판에도 정부가 부동산...</td>\n",
              "    </tr>\n",
              "    <tr>\n",
              "      <th>2</th>\n",
              "      <td>美 \"中 핵탄두 200여 기 보유...10년 후 최소 2배\"</td>\n",
              "      <td>미국이 처음으로 중국의 핵탄두 보유 규모를 공개하며 중국을 압박했습니다.\\n\\n미 ...</td>\n",
              "    </tr>\n",
              "    <tr>\n",
              "      <th>3</th>\n",
              "      <td>檢, '수뇌부 직무유기 의혹' 사건 무혐의 처분…\"제 편 감싸기\" 비판</td>\n",
              "      <td>후배 검사의 '고소장 위조' 비위 사실을 알고도 적절한 징계를 하지 않은 혐의로 고...</td>\n",
              "    </tr>\n",
              "    <tr>\n",
              "      <th>4</th>\n",
              "      <td>카카오게임즈 청약 광풍…'사상 최대' 58조원 몰렸다</td>\n",
              "      <td>계속해서 주식 얘기 좀 해보겠습니다. 얼마전 일반 투자자에 공모주 청약을 받아 증거...</td>\n",
              "    </tr>\n",
              "  </tbody>\n",
              "</table>\n",
              "</div>"
            ],
            "text/plain": [
              "                                     Title                                               Text\n",
              "0         정부 “국가채무비율 2045년 꺾인다”…전문가 “비현실적”  2045년 국내총생산(GDP) 대비 국가채무비율이 최고 99%로 치솟을 수 있다는 ...\n",
              "1                         ‘부동산 감독기구’ 결국 강행  지나친 시장 통제·감시와 개인정보·재산권 침해 위험이 있다는 비판에도 정부가 부동산...\n",
              "2        美 \"中 핵탄두 200여 기 보유...10년 후 최소 2배\"  미국이 처음으로 중국의 핵탄두 보유 규모를 공개하며 중국을 압박했습니다.\\n\\n미 ...\n",
              "3  檢, '수뇌부 직무유기 의혹' 사건 무혐의 처분…\"제 편 감싸기\" 비판  후배 검사의 '고소장 위조' 비위 사실을 알고도 적절한 징계를 하지 않은 혐의로 고...\n",
              "4            카카오게임즈 청약 광풍…'사상 최대' 58조원 몰렸다  계속해서 주식 얘기 좀 해보겠습니다. 얼마전 일반 투자자에 공모주 청약을 받아 증거..."
            ]
          },
          "metadata": {
            "tags": []
          },
          "execution_count": 39
        }
      ]
    },
    {
      "cell_type": "code",
      "metadata": {
        "id": "hhOJb2YBoiHV",
        "colab_type": "code",
        "colab": {
          "base_uri": "https://localhost:8080/",
          "height": 68
        },
        "outputId": "2c62059a-9307-4389-9a1c-b29100cf61ce"
      },
      "source": [
        "df.iloc[1]"
      ],
      "execution_count": null,
      "outputs": [
        {
          "output_type": "execute_result",
          "data": {
            "text/plain": [
              "Title                                     ‘부동산 감독기구’ 결국 강행\n",
              "Text     지나친 시장 통제·감시와 개인정보·재산권 침해 위험이 있다는 비판에도 정부가 부동산...\n",
              "Name: 1, dtype: object"
            ]
          },
          "metadata": {
            "tags": []
          },
          "execution_count": 89
        }
      ]
    },
    {
      "cell_type": "markdown",
      "metadata": {
        "id": "lKhkGpbPfBkU",
        "colab_type": "text"
      },
      "source": [
        "Create sample text variable"
      ]
    },
    {
      "cell_type": "code",
      "metadata": {
        "id": "iCmoCKske03R",
        "colab_type": "code",
        "colab": {}
      },
      "source": [
        "text = '나는 사과를 먹고있다'"
      ],
      "execution_count": null,
      "outputs": []
    },
    {
      "cell_type": "markdown",
      "metadata": {
        "id": "oSCjjsOzfAcs",
        "colab_type": "text"
      },
      "source": [
        "Initialize the class as an object"
      ]
    },
    {
      "cell_type": "code",
      "metadata": {
        "id": "m6ojVlHDe3OR",
        "colab_type": "code",
        "colab": {}
      },
      "source": [
        "okt = Okt()"
      ],
      "execution_count": null,
      "outputs": []
    },
    {
      "cell_type": "code",
      "metadata": {
        "id": "CrKoxr-mfbAM",
        "colab_type": "code",
        "colab": {
          "base_uri": "https://localhost:8080/",
          "height": 34
        },
        "outputId": "845d31df-5bb2-4501-9190-b1ccba6a870d"
      },
      "source": [
        "pprint(okt.nouns(text))"
      ],
      "execution_count": null,
      "outputs": [
        {
          "output_type": "stream",
          "text": [
            "['나', '사과']\n"
          ],
          "name": "stdout"
        }
      ]
    },
    {
      "cell_type": "code",
      "metadata": {
        "id": "qHdyiecrfiqR",
        "colab_type": "code",
        "colab": {
          "base_uri": "https://localhost:8080/",
          "height": 34
        },
        "outputId": "c3c7710b-8a87-44fa-a12b-992c16c3e9b8"
      },
      "source": [
        "pprint(okt.morphs(text, norm=True, stem=True))"
      ],
      "execution_count": null,
      "outputs": [
        {
          "output_type": "stream",
          "text": [
            "['나', '는', '사과', '를', '먹다']\n"
          ],
          "name": "stdout"
        }
      ]
    },
    {
      "cell_type": "code",
      "metadata": {
        "id": "bb5xUAUbfvqr",
        "colab_type": "code",
        "colab": {
          "base_uri": "https://localhost:8080/",
          "height": 34
        },
        "outputId": "86c11e31-3e15-4482-c744-8c4ac153911c"
      },
      "source": [
        "pprint(okt.pos(text, norm=True, stem=True))"
      ],
      "execution_count": null,
      "outputs": [
        {
          "output_type": "stream",
          "text": [
            "[('나', 'Noun'), ('는', 'Josa'), ('사과', 'Noun'), ('를', 'Josa'), ('먹다', 'Verb')]\n"
          ],
          "name": "stdout"
        }
      ]
    },
    {
      "cell_type": "code",
      "metadata": {
        "id": "r6xe_ae9f34-",
        "colab_type": "code",
        "colab": {
          "base_uri": "https://localhost:8080/",
          "height": 34
        },
        "outputId": "c9712dc6-325b-4e8d-8faf-f76dc580d226"
      },
      "source": [
        "pprint(okt.pos(text,norm=True, stem=True, join=True))"
      ],
      "execution_count": null,
      "outputs": [
        {
          "output_type": "stream",
          "text": [
            "['나/Noun', '는/Josa', '사과/Noun', '를/Josa', '먹다/Verb']\n"
          ],
          "name": "stdout"
        }
      ]
    },
    {
      "cell_type": "markdown",
      "metadata": {
        "id": "EjOsUWUXgQKr",
        "colab_type": "text"
      },
      "source": [
        "## Hannanum Class"
      ]
    },
    {
      "cell_type": "code",
      "metadata": {
        "id": "ngpqYhKKf6b2",
        "colab_type": "code",
        "colab": {}
      },
      "source": [
        "from konlpy.tag import Hannanum"
      ],
      "execution_count": null,
      "outputs": []
    },
    {
      "cell_type": "code",
      "metadata": {
        "id": "2r6CZkWkgTiH",
        "colab_type": "code",
        "colab": {}
      },
      "source": [
        "hannanum = Hannanum()"
      ],
      "execution_count": null,
      "outputs": []
    },
    {
      "cell_type": "code",
      "metadata": {
        "id": "RBl1NjpWgVTf",
        "colab_type": "code",
        "colab": {
          "base_uri": "https://localhost:8080/",
          "height": 476
        },
        "outputId": "a25a0d49-b1b1-40a7-b70e-1e626ddb6bab"
      },
      "source": [
        "pprint(hannanum.analyze('롯데마트의 흑마늘 양념 치킨이 논란이 되고 있다.'))"
      ],
      "execution_count": null,
      "outputs": [
        {
          "output_type": "stream",
          "text": [
            "[[[('롯데마트', 'ncn'), ('의', 'jcm')],\n",
            "  [('롯데마트의', 'ncn')],\n",
            "  [('롯데마트', 'nqq'), ('의', 'jcm')],\n",
            "  [('롯데마트의', 'nqq')]],\n",
            " [[('흑마늘', 'ncn')], [('흑마늘', 'nqq')]],\n",
            " [[('양념', 'ncn')]],\n",
            " [[('치킨', 'ncn'), ('이', 'jcc')],\n",
            "  [('치킨', 'ncn'), ('이', 'jcs')],\n",
            "  [('치킨', 'ncn'), ('이', 'ncn')]],\n",
            " [[('논란', 'ncpa'), ('이', 'jcc')],\n",
            "  [('논란', 'ncpa'), ('이', 'jcs')],\n",
            "  [('논란', 'ncpa'), ('이', 'ncn')]],\n",
            " [[('되', 'nbu'), ('고', 'jcj')],\n",
            "  [('되', 'nbu'), ('이', 'jp'), ('고', 'ecc')],\n",
            "  [('되', 'nbu'), ('이', 'jp'), ('고', 'ecs')],\n",
            "  [('되', 'nbu'), ('이', 'jp'), ('고', 'ecx')],\n",
            "  [('되', 'paa'), ('고', 'ecc')],\n",
            "  [('되', 'paa'), ('고', 'ecs')],\n",
            "  [('되', 'paa'), ('고', 'ecx')],\n",
            "  [('되', 'pvg'), ('고', 'ecc')],\n",
            "  [('되', 'pvg'), ('고', 'ecs')],\n",
            "  [('되', 'pvg'), ('고', 'ecx')],\n",
            "  [('되', 'px'), ('고', 'ecc')],\n",
            "  [('되', 'px'), ('고', 'ecs')],\n",
            "  [('되', 'px'), ('고', 'ecx')]],\n",
            " [[('있', 'paa'), ('다', 'ef')], [('있', 'px'), ('다', 'ef')]],\n",
            " [[('.', 'sf')], [('.', 'sy')]]]\n"
          ],
          "name": "stdout"
        }
      ]
    },
    {
      "cell_type": "code",
      "metadata": {
        "id": "lA6zlcfOgdAk",
        "colab_type": "code",
        "colab": {
          "base_uri": "https://localhost:8080/",
          "height": 238
        },
        "outputId": "768061dd-b054-4747-b1ea-c62913a37143"
      },
      "source": [
        "pprint(hannanum.pos('롯데마트의 흑마늘 양념 치킨이 논란이 되고 있다.'))"
      ],
      "execution_count": null,
      "outputs": [
        {
          "output_type": "stream",
          "text": [
            "[('롯데마트', 'N'),\n",
            " ('의', 'J'),\n",
            " ('흑마늘', 'N'),\n",
            " ('양념', 'N'),\n",
            " ('치킨', 'N'),\n",
            " ('이', 'J'),\n",
            " ('논란', 'N'),\n",
            " ('이', 'J'),\n",
            " ('되', 'P'),\n",
            " ('고', 'E'),\n",
            " ('있', 'P'),\n",
            " ('다', 'E'),\n",
            " ('.', 'S')]\n"
          ],
          "name": "stdout"
        }
      ]
    },
    {
      "cell_type": "code",
      "metadata": {
        "id": "eE0ftmGDgvm-",
        "colab_type": "code",
        "colab": {
          "base_uri": "https://localhost:8080/",
          "height": 34
        },
        "outputId": "23b50eea-3940-4560-cc06-91321096957c"
      },
      "source": [
        "pprint(hannanum.morphs(u'롯데마트의 흑마늘 양념 치킨이 논란이 되고 있다.'))"
      ],
      "execution_count": null,
      "outputs": [
        {
          "output_type": "stream",
          "text": [
            "['롯데마트', '의', '흑마늘', '양념', '치킨', '이', '논란', '이', '되', '고', '있', '다', '.']\n"
          ],
          "name": "stdout"
        }
      ]
    },
    {
      "cell_type": "code",
      "metadata": {
        "id": "gyNuKfRAmBO0",
        "colab_type": "code",
        "colab": {
          "base_uri": "https://localhost:8080/",
          "height": 34
        },
        "outputId": "1d63b6bb-235c-4c56-c365-133b85b963b6"
      },
      "source": [
        "pprint(hannanum.morphs('롯데마트의 흑마늘 양념 치킨이 논란이 되고 있다.'))"
      ],
      "execution_count": null,
      "outputs": [
        {
          "output_type": "stream",
          "text": [
            "['롯데마트', '의', '흑마늘', '양념', '치킨', '이', '논란', '이', '되', '고', '있', '다', '.']\n"
          ],
          "name": "stdout"
        }
      ]
    },
    {
      "cell_type": "code",
      "metadata": {
        "id": "GcnR4IFYmD8Q",
        "colab_type": "code",
        "colab": {}
      },
      "source": [
        "text_02 = '美, \"北 탄도미사일 개발 지원 말라\" 전 세계에 주의보...남북경협 부담커진 韓'"
      ],
      "execution_count": null,
      "outputs": []
    },
    {
      "cell_type": "code",
      "metadata": {
        "id": "oHRKMhJ1mekB",
        "colab_type": "code",
        "colab": {
          "base_uri": "https://localhost:8080/",
          "height": 323
        },
        "outputId": "1aba6b53-f21f-40d8-e47f-60a49e5844bc"
      },
      "source": [
        "pprint(hannanum.pos(text_02))"
      ],
      "execution_count": null,
      "outputs": [
        {
          "output_type": "stream",
          "text": [
            "[('美', 'N'),\n",
            " (',', 'S'),\n",
            " ('\"', 'S'),\n",
            " ('北', 'N'),\n",
            " ('탄도미사일', 'N'),\n",
            " ('개발', 'N'),\n",
            " ('지원', 'N'),\n",
            " ('말', 'P'),\n",
            " ('라', 'E'),\n",
            " ('\"', 'S'),\n",
            " ('전', 'N'),\n",
            " ('세계', 'N'),\n",
            " ('에', 'J'),\n",
            " ('주의보', 'N'),\n",
            " ('...', 'S'),\n",
            " ('남북경협', 'N'),\n",
            " ('부담커진', 'N'),\n",
            " ('韓', 'N')]\n"
          ],
          "name": "stdout"
        }
      ]
    },
    {
      "cell_type": "markdown",
      "metadata": {
        "id": "nXQU87L8mv5W",
        "colab_type": "text"
      },
      "source": [
        "## Kkma Class"
      ]
    },
    {
      "cell_type": "code",
      "metadata": {
        "id": "5InkPt3lmira",
        "colab_type": "code",
        "colab": {}
      },
      "source": [
        "from konlpy.tag import Kkma"
      ],
      "execution_count": null,
      "outputs": []
    },
    {
      "cell_type": "markdown",
      "metadata": {
        "id": "q4BM9YsBm0ro",
        "colab_type": "text"
      },
      "source": [
        "Initiate Class"
      ]
    },
    {
      "cell_type": "code",
      "metadata": {
        "id": "zFVn0gLImx3O",
        "colab_type": "code",
        "colab": {}
      },
      "source": [
        "kkma = Kkma()"
      ],
      "execution_count": null,
      "outputs": []
    },
    {
      "cell_type": "code",
      "metadata": {
        "id": "BLY80RIsm1nw",
        "colab_type": "code",
        "colab": {
          "base_uri": "https://localhost:8080/",
          "height": 238
        },
        "outputId": "22291c29-8898-48a8-c35a-f4e96465c3cd"
      },
      "source": [
        "pprint(kkma.nouns(text_02))"
      ],
      "execution_count": null,
      "outputs": [
        {
          "output_type": "stream",
          "text": [
            "['탄도',\n",
            " '탄도미사일',\n",
            " '미사일',\n",
            " '개발',\n",
            " '지원',\n",
            " '세계',\n",
            " '주의',\n",
            " '주의보',\n",
            " '보',\n",
            " '남북',\n",
            " '남북경협',\n",
            " '경협',\n",
            " '부담']\n"
          ],
          "name": "stdout"
        }
      ]
    },
    {
      "cell_type": "code",
      "metadata": {
        "id": "P6fMFbNdnNEK",
        "colab_type": "code",
        "colab": {
          "base_uri": "https://localhost:8080/",
          "height": 408
        },
        "outputId": "3b09fcf1-d5b5-495c-a12c-67f1f91b6abd"
      },
      "source": [
        "pprint(kkma.pos(text_02))"
      ],
      "execution_count": null,
      "outputs": [
        {
          "output_type": "stream",
          "text": [
            "[('美', 'OH'),\n",
            " (',', 'SP'),\n",
            " ('\"', 'SS'),\n",
            " ('北', 'OH'),\n",
            " ('탄도', 'NNG'),\n",
            " ('미사일', 'NNG'),\n",
            " ('개발', 'NNG'),\n",
            " ('지원', 'NNG'),\n",
            " ('말르', 'VV'),\n",
            " ('아', 'ECS'),\n",
            " ('\"', 'SS'),\n",
            " ('전', 'MDT'),\n",
            " ('세계', 'NNG'),\n",
            " ('에', 'JKM'),\n",
            " ('주의', 'NNG'),\n",
            " ('보', 'NNG'),\n",
            " ('...', 'SE'),\n",
            " ('남북', 'NNG'),\n",
            " ('경협', 'NNG'),\n",
            " ('부담', 'NNG'),\n",
            " ('커지', 'VV'),\n",
            " ('ㄴ', 'ETD'),\n",
            " ('韓', 'OH')]\n"
          ],
          "name": "stdout"
        }
      ]
    },
    {
      "cell_type": "markdown",
      "metadata": {
        "id": "cMDWfCNMo670",
        "colab_type": "text"
      },
      "source": [
        "## Komoran Class"
      ]
    },
    {
      "cell_type": "code",
      "metadata": {
        "id": "IhIrfAxgo89K",
        "colab_type": "code",
        "colab": {}
      },
      "source": [
        "from konlpy.tag import Komoran"
      ],
      "execution_count": null,
      "outputs": []
    },
    {
      "cell_type": "markdown",
      "metadata": {
        "id": "pr-ETpn0ngwd",
        "colab_type": "text"
      },
      "source": [
        "# Practice"
      ]
    },
    {
      "cell_type": "markdown",
      "metadata": {
        "id": "DkBtaGGKrYKF",
        "colab_type": "text"
      },
      "source": [
        "Article link: https://news.naver.com/main/read.nhn?mode=LSD&mid=shm&sid1=100&oid=011&aid=0003791668"
      ]
    },
    {
      "cell_type": "code",
      "metadata": {
        "id": "Cyh4YCBFnXis",
        "colab_type": "code",
        "colab": {}
      },
      "source": [
        "graf_01 = u'이는 미 대선을 두 달 앞두고 대북 리스크 관리를 외교적 성과로 내세운 도널드 트럼프 대통령이 북한에 단거리 탄도미사일 도발을 하지 말 것을 압박한 것으로 조심스럽게 관측된다. 특히 그간 트럼프 대통령이 북한의 단거리 탄도미사일 도발에 대해 대수롭지 않은 반응을 보여온 만큼 이번 조치는 11월 3일 미 대선을 염두에 뒀다는 해석이 나온다.'\n",
        "graf_02 = u'미 국무부 국제안보비확산국(ISN)과 재무부 해외자산통제국(OFAC), 상무부 산업안보국은 이날 공동으로 북한의 탄도미사일 관련 조달활동에 대한 19장짜리 문건을 공개하며 전 세계 기업에 주의보를 발령했다. 해당 주의보는 탄도미사일 개발과 부품·기술 조달에 관여하는 북한의 기관들과 국제사회의 대북 제재 회피 수법을 전하면서, 기업이 고의든 실수든 이 제재를 어길 경우 처할 벌칙과 거래 금지 품목 등을 소개하는 내용을 담고 있다. 이 주의보는 기존에 이미 알려진 내용이지만 미 관계부처가 문건 형태로 만들어 북한과 거래하는 기업이 주의해야 할 사항을 일목요연하게 정리한 것은 이례적이라는 평가다.'"
      ],
      "execution_count": null,
      "outputs": []
    },
    {
      "cell_type": "code",
      "metadata": {
        "id": "-IlQ4A_RnviQ",
        "colab_type": "code",
        "colab": {
          "base_uri": "https://localhost:8080/",
          "height": 85
        },
        "outputId": "b56351b8-a98b-4392-a411-6f65b71938c1"
      },
      "source": [
        "pprint(kkma.sentences(graf_01))"
      ],
      "execution_count": null,
      "outputs": [
        {
          "output_type": "stream",
          "text": [
            "['이는 미 대선을 두 달 앞두고 대북 리스크 관리를 외교적 성과로 내세운 도 널드 트럼프 대통령이 북한에 단 거리 탄도 미사일 도발을 하지 '\n",
            " '말 것을 압박한 것으로 조심스럽게 관측된다.',\n",
            " '특히 그간 트럼프 대통령이 북한의 단거리 탄도 미사일 도발에 대해 대수롭지 않은 반응을 보여 온 만큼 이번 조치는 11월 3일 미 대선을 '\n",
            " '염두에 뒀다는 해석이 나온다.']\n"
          ],
          "name": "stdout"
        }
      ]
    },
    {
      "cell_type": "code",
      "metadata": {
        "id": "ygq-3qQdoKJ_",
        "colab_type": "code",
        "colab": {
          "base_uri": "https://localhost:8080/",
          "height": 119
        },
        "outputId": "4f75f105-034e-4591-96ca-aecd8f8c7871"
      },
      "source": [
        "pprint(kkma.sentences(graf_02))"
      ],
      "execution_count": null,
      "outputs": [
        {
          "output_type": "stream",
          "text": [
            "['미 국무부 국제안보 비 확산 국 (ISN) 과 재무부 해외자산 통제국 (OFAC), 상무부 산업 안 보국은 이날 공동으로 북한의 탄도 '\n",
            " '미사일 관련 조달활동에 대한 19 장짜리 문건을 공개하며 전 세계 기업에 주의보를 발령했다.',\n",
            " '해 당 주의보는 탄도 미사일 개발과 부품· 기술 조달에 관여하는 북한의 기관들과 국제사회의 대북 제재 회피 수법을 전하면서, 기업이 '\n",
            " '고의든 실수든 이 제재를 어길 경우 처할 벌칙과 거래 금지 품목 등을 소개하는 내용을 담고 있다.',\n",
            " '이 주의 보는 기존에 이미 알려 진 내용이지만 미 관계부처가 문건 형태로 만들어 북한과 거래하는 기업이 주의해야 할 사항을 일목요연하게 '\n",
            " '정리한 것은 이례적이라는 평가다.']\n"
          ],
          "name": "stdout"
        }
      ]
    },
    {
      "cell_type": "code",
      "metadata": {
        "id": "lFiMCrFKoRqW",
        "colab_type": "code",
        "colab": {
          "base_uri": "https://localhost:8080/",
          "height": 1000
        },
        "outputId": "9e2a915b-cac2-4d78-a25e-d5b86d04daa3"
      },
      "source": [
        "pprint(hannanum.pos(graf_01))"
      ],
      "execution_count": null,
      "outputs": [
        {
          "output_type": "stream",
          "text": [
            "[('이', 'N'),\n",
            " ('는', 'J'),\n",
            " ('미', 'N'),\n",
            " ('대선', 'N'),\n",
            " ('을', 'J'),\n",
            " ('두', 'N'),\n",
            " ('달', 'N'),\n",
            " ('앞두', 'P'),\n",
            " ('고', 'E'),\n",
            " ('대북', 'N'),\n",
            " ('리스크', 'N'),\n",
            " ('관리', 'N'),\n",
            " ('를', 'J'),\n",
            " ('외교적', 'N'),\n",
            " ('성과', 'N'),\n",
            " ('로', 'J'),\n",
            " ('내세우', 'P'),\n",
            " ('ㄴ', 'E'),\n",
            " ('도널드', 'N'),\n",
            " ('트럼프', 'N'),\n",
            " ('대통령', 'N'),\n",
            " ('이', 'J'),\n",
            " ('북한', 'N'),\n",
            " ('에', 'J'),\n",
            " ('달', 'P'),\n",
            " ('ㄴ', 'E'),\n",
            " ('것', 'N'),\n",
            " ('이', 'J'),\n",
            " ('리', 'E'),\n",
            " ('탄도미사일', 'N'),\n",
            " ('도발', 'N'),\n",
            " ('을', 'J'),\n",
            " ('하', 'P'),\n",
            " ('지', 'E'),\n",
            " ('말', 'P'),\n",
            " ('ㄹ', 'E'),\n",
            " ('것', 'N'),\n",
            " ('을', 'J'),\n",
            " ('압박', 'N'),\n",
            " ('하', 'X'),\n",
            " ('ㄴ', 'E'),\n",
            " ('것', 'N'),\n",
            " ('으로', 'J'),\n",
            " ('조심', 'N'),\n",
            " ('스럽', 'X'),\n",
            " ('게', 'E'),\n",
            " ('관측', 'N'),\n",
            " ('되', 'X'),\n",
            " ('ㄴ다', 'E'),\n",
            " ('.', 'S'),\n",
            " ('특히', 'M'),\n",
            " ('그간', 'N'),\n",
            " ('트럼프', 'N'),\n",
            " ('대통령', 'N'),\n",
            " ('이', 'J'),\n",
            " ('북한', 'N'),\n",
            " ('의', 'J'),\n",
            " ('달', 'P'),\n",
            " ('ㄴ', 'E'),\n",
            " ('것', 'N'),\n",
            " ('이', 'J'),\n",
            " ('리', 'E'),\n",
            " ('탄도미사일', 'N'),\n",
            " ('도발', 'N'),\n",
            " ('에', 'J'),\n",
            " ('대', 'P'),\n",
            " ('어', 'E'),\n",
            " ('하', 'P'),\n",
            " ('어', 'E'),\n",
            " ('대수', 'N'),\n",
            " ('롭', 'X'),\n",
            " ('지', 'E'),\n",
            " ('않', 'P'),\n",
            " ('은', 'E'),\n",
            " ('반응', 'N'),\n",
            " ('을', 'J'),\n",
            " ('보이', 'P'),\n",
            " ('어', 'E'),\n",
            " ('오', 'P'),\n",
            " ('ㄴ', 'E'),\n",
            " ('만큼', 'N'),\n",
            " ('이번', 'N'),\n",
            " ('조치', 'N'),\n",
            " ('는', 'J'),\n",
            " ('11월', 'N'),\n",
            " ('3일', 'N'),\n",
            " ('미', 'N'),\n",
            " ('대선', 'N'),\n",
            " ('을', 'J'),\n",
            " ('염두', 'N'),\n",
            " ('에', 'J'),\n",
            " ('두', 'P'),\n",
            " ('었다는', 'E'),\n",
            " ('해석', 'N'),\n",
            " ('이', 'J'),\n",
            " ('나', 'P'),\n",
            " ('아', 'E'),\n",
            " ('오', 'P'),\n",
            " ('ㄴ다', 'E'),\n",
            " ('.', 'S')]\n"
          ],
          "name": "stdout"
        }
      ]
    },
    {
      "cell_type": "code",
      "metadata": {
        "id": "YVBDe9_1pZko",
        "colab_type": "code",
        "colab": {
          "base_uri": "https://localhost:8080/",
          "height": 1000
        },
        "outputId": "5425e6f6-fde3-4fc1-bca8-0ad99b7d179b"
      },
      "source": [
        "pprint(kkma.pos(graf_01))"
      ],
      "execution_count": null,
      "outputs": [
        {
          "output_type": "stream",
          "text": [
            "[('일', 'VV'),\n",
            " ('는', 'ETD'),\n",
            " ('미', 'NNG'),\n",
            " ('대선', 'NNG'),\n",
            " ('을', 'JKO'),\n",
            " ('두', 'MDN'),\n",
            " ('달', 'NNG'),\n",
            " ('앞두', 'VV'),\n",
            " ('고', 'ECE'),\n",
            " ('대북', 'NNG'),\n",
            " ('리스크', 'NNG'),\n",
            " ('관리', 'NNG'),\n",
            " ('를', 'JKO'),\n",
            " ('외교적', 'NNG'),\n",
            " ('성과', 'NNG'),\n",
            " ('로', 'JKM'),\n",
            " ('내세우', 'VV'),\n",
            " ('ㄴ', 'ETD'),\n",
            " ('도', 'NNG'),\n",
            " ('널드', 'UN'),\n",
            " ('트럼프', 'NNG'),\n",
            " ('대통령', 'NNG'),\n",
            " ('이', 'JKS'),\n",
            " ('북한', 'NNG'),\n",
            " ('에', 'JKM'),\n",
            " ('닿', 'VV'),\n",
            " ('ㄴ', 'ETD'),\n",
            " ('거리', 'NNG'),\n",
            " ('탄도', 'NNG'),\n",
            " ('미사일', 'NNG'),\n",
            " ('도발', 'NNG'),\n",
            " ('을', 'JKO'),\n",
            " ('하', 'VV'),\n",
            " ('지', 'ECD'),\n",
            " ('말', 'VXV'),\n",
            " ('ㄹ', 'ETD'),\n",
            " ('것', 'NNB'),\n",
            " ('을', 'JKO'),\n",
            " ('압박', 'NNG'),\n",
            " ('하', 'XSV'),\n",
            " ('ㄴ', 'ETD'),\n",
            " ('것', 'NNB'),\n",
            " ('으로', 'JKM'),\n",
            " ('조심', 'NNG'),\n",
            " ('스럽', 'XSA'),\n",
            " ('게', 'ECD'),\n",
            " ('관측', 'NNG'),\n",
            " ('되', 'XSV'),\n",
            " ('ㄴ다', 'EFN'),\n",
            " ('.', 'SF'),\n",
            " ('특히', 'MAG'),\n",
            " ('그간', 'NNG'),\n",
            " ('트럼프', 'NNG'),\n",
            " ('대통령', 'NNG'),\n",
            " ('이', 'JKS'),\n",
            " ('북한', 'NNG'),\n",
            " ('의', 'JKG'),\n",
            " ('단', 'NNG'),\n",
            " ('거리', 'NNG'),\n",
            " ('탄도', 'NNG'),\n",
            " ('미사일', 'NNG'),\n",
            " ('도발', 'NNG'),\n",
            " ('에', 'JKM'),\n",
            " ('대하', 'VV'),\n",
            " ('어', 'ECS'),\n",
            " ('대수롭', 'VA'),\n",
            " ('지', 'ECD'),\n",
            " ('않', 'VXV'),\n",
            " ('은', 'ETD'),\n",
            " ('반응', 'NNG'),\n",
            " ('을', 'JKO'),\n",
            " ('보이', 'VV'),\n",
            " ('어', 'ECS'),\n",
            " ('오', 'VV'),\n",
            " ('ㄴ', 'ETD'),\n",
            " ('만큼', 'NNB'),\n",
            " ('이번', 'NNG'),\n",
            " ('조치', 'NNG'),\n",
            " ('는', 'JX'),\n",
            " ('11', 'NR'),\n",
            " ('월', 'NNM'),\n",
            " ('3', 'NR'),\n",
            " ('일', 'NNM'),\n",
            " ('미', 'NNG'),\n",
            " ('대선', 'NNG'),\n",
            " ('을', 'JKO'),\n",
            " ('염두', 'NNG'),\n",
            " ('에', 'JKM'),\n",
            " ('두', 'VV'),\n",
            " ('었', 'EPT'),\n",
            " ('다는', 'ETD'),\n",
            " ('해석', 'NNG'),\n",
            " ('이', 'JKS'),\n",
            " ('나오', 'VV'),\n",
            " ('ㄴ다', 'EFN'),\n",
            " ('.', 'SF')]\n"
          ],
          "name": "stdout"
        }
      ]
    },
    {
      "cell_type": "code",
      "metadata": {
        "id": "i9CKkAUNpcyD",
        "colab_type": "code",
        "colab": {
          "base_uri": "https://localhost:8080/",
          "height": 1000
        },
        "outputId": "c18fa3ce-aa86-4f2c-95b6-1d92d1e70c51"
      },
      "source": [
        "# pprint(okt.pos(graf_01))\n",
        "\n",
        "pprint(okt.pos(graf_01,norm=True, stem=True, join=True))"
      ],
      "execution_count": null,
      "outputs": [
        {
          "output_type": "stream",
          "text": [
            "['이다/Verb',\n",
            " '밉다/Adjective',\n",
            " '대선/Noun',\n",
            " '을/Josa',\n",
            " '두/Noun',\n",
            " '달/Noun',\n",
            " '앞두다/Verb',\n",
            " '대북/Noun',\n",
            " '리스크/Noun',\n",
            " '관리/Noun',\n",
            " '를/Josa',\n",
            " '외교/Noun',\n",
            " '적/Suffix',\n",
            " '성과/Noun',\n",
            " '로/Josa',\n",
            " '내/Determiner',\n",
            " '세운/Noun',\n",
            " '도널드/Noun',\n",
            " '트럼프/Noun',\n",
            " '대통령/Noun',\n",
            " '이/Josa',\n",
            " '북한/Noun',\n",
            " '에/Josa',\n",
            " '단거리/Noun',\n",
            " '탄도미사일/Noun',\n",
            " '도발/Noun',\n",
            " '을/Josa',\n",
            " '하다/Verb',\n",
            " '말/Noun',\n",
            " '것/Noun',\n",
            " '을/Josa',\n",
            " '압박/Noun',\n",
            " '한/Josa',\n",
            " '것/Noun',\n",
            " '으로/Josa',\n",
            " '조심/Noun',\n",
            " '스럽게/Josa',\n",
            " '관측/Noun',\n",
            " '되다/Verb',\n",
            " './Punctuation',\n",
            " '특히/Adverb',\n",
            " '그간/Noun',\n",
            " '트럼프/Noun',\n",
            " '대통령/Noun',\n",
            " '이/Josa',\n",
            " '북한/Noun',\n",
            " '의/Josa',\n",
            " '단거리/Noun',\n",
            " '탄도미사일/Noun',\n",
            " '도발/Noun',\n",
            " '에/Josa',\n",
            " '대해/Noun',\n",
            " '대수롭다/Adjective',\n",
            " '않다/Verb',\n",
            " '반응/Noun',\n",
            " '을/Josa',\n",
            " '보이다/Verb',\n",
            " '온/Noun',\n",
            " '만큼/Noun',\n",
            " '이번/Noun',\n",
            " '조치/Noun',\n",
            " '는/Josa',\n",
            " '11월/Number',\n",
            " '3일/Number',\n",
            " '밉다/Adjective',\n",
            " '대선/Noun',\n",
            " '을/Josa',\n",
            " '염두/Noun',\n",
            " '에/Josa',\n",
            " '두다/Verb',\n",
            " '해석/Noun',\n",
            " '이/Josa',\n",
            " '나오다/Verb',\n",
            " './Punctuation']\n"
          ],
          "name": "stdout"
        }
      ]
    },
    {
      "cell_type": "markdown",
      "metadata": {
        "id": "UrR3onLFp8Iv",
        "colab_type": "text"
      },
      "source": [
        "# Google Translate"
      ]
    },
    {
      "cell_type": "markdown",
      "metadata": {
        "id": "W0UE5_CcsOc1",
        "colab_type": "text"
      },
      "source": [
        "References:\n",
        "\n",
        "* https://pypi.org/project/googletrans/\n",
        "* https://towardsdatascience.com/translate-a-pandas-data-frame-using-googletrans-library-fb0aa7fca592"
      ]
    },
    {
      "cell_type": "code",
      "metadata": {
        "id": "v8xLhHC4qABZ",
        "colab_type": "code",
        "colab": {
          "base_uri": "https://localhost:8080/",
          "height": 768
        },
        "outputId": "69c06d6d-9dfe-44e2-9fdd-0aa27c38549f"
      },
      "source": [
        "pip install googletrans"
      ],
      "execution_count": null,
      "outputs": [
        {
          "output_type": "stream",
          "text": [
            "Collecting googletrans\n",
            "  Downloading https://files.pythonhosted.org/packages/71/3a/3b19effdd4c03958b90f40fe01c93de6d5280e03843cc5adf6956bfc9512/googletrans-3.0.0.tar.gz\n",
            "Collecting httpx==0.13.3\n",
            "\u001b[?25l  Downloading https://files.pythonhosted.org/packages/54/b4/698b284c6aed4d7c2b4fe3ba5df1fcf6093612423797e76fbb24890dd22f/httpx-0.13.3-py3-none-any.whl (55kB)\n",
            "\u001b[K     |████████████████████████████████| 61kB 3.3MB/s \n",
            "\u001b[?25hCollecting hstspreload\n",
            "\u001b[?25l  Downloading https://files.pythonhosted.org/packages/cc/6e/a09233eb83cebe00543c94ac921af936937cf448ccdd46aaf6f432d4f2dd/hstspreload-2020.9.2-py3-none-any.whl (950kB)\n",
            "\u001b[K     |████████████████████████████████| 952kB 9.6MB/s \n",
            "\u001b[?25hCollecting sniffio\n",
            "  Downloading https://files.pythonhosted.org/packages/b3/82/4bd4b7d9c0d1dc0fbfbc2a1e00138e7f3ab85bc239358fe9b78aa2ab586d/sniffio-1.1.0-py3-none-any.whl\n",
            "Collecting rfc3986<2,>=1.3\n",
            "  Downloading https://files.pythonhosted.org/packages/78/be/7b8b99fd74ff5684225f50dd0e865393d2265656ef3b4ba9eaaaffe622b8/rfc3986-1.4.0-py2.py3-none-any.whl\n",
            "Collecting httpcore==0.9.*\n",
            "\u001b[?25l  Downloading https://files.pythonhosted.org/packages/dd/d5/e4ff9318693ac6101a2095e580908b591838c6f33df8d3ee8dd953ba96a8/httpcore-0.9.1-py3-none-any.whl (42kB)\n",
            "\u001b[K     |████████████████████████████████| 51kB 7.7MB/s \n",
            "\u001b[?25hRequirement already satisfied: certifi in /usr/local/lib/python3.6/dist-packages (from httpx==0.13.3->googletrans) (2020.6.20)\n",
            "Requirement already satisfied: idna==2.* in /usr/local/lib/python3.6/dist-packages (from httpx==0.13.3->googletrans) (2.10)\n",
            "Requirement already satisfied: chardet==3.* in /usr/local/lib/python3.6/dist-packages (from httpx==0.13.3->googletrans) (3.0.4)\n",
            "Collecting contextvars>=2.1; python_version < \"3.7\"\n",
            "  Downloading https://files.pythonhosted.org/packages/83/96/55b82d9f13763be9d672622e1b8106c85acb83edd7cc2fa5bc67cd9877e9/contextvars-2.4.tar.gz\n",
            "Collecting h2==3.*\n",
            "\u001b[?25l  Downloading https://files.pythonhosted.org/packages/25/de/da019bcc539eeab02f6d45836f23858ac467f584bfec7a526ef200242afe/h2-3.2.0-py2.py3-none-any.whl (65kB)\n",
            "\u001b[K     |████████████████████████████████| 71kB 8.7MB/s \n",
            "\u001b[?25hCollecting h11<0.10,>=0.8\n",
            "\u001b[?25l  Downloading https://files.pythonhosted.org/packages/5a/fd/3dad730b0f95e78aeeb742f96fa7bbecbdd56a58e405d3da440d5bfb90c6/h11-0.9.0-py2.py3-none-any.whl (53kB)\n",
            "\u001b[K     |████████████████████████████████| 61kB 8.6MB/s \n",
            "\u001b[?25hCollecting immutables>=0.9\n",
            "\u001b[?25l  Downloading https://files.pythonhosted.org/packages/99/e0/ea6fd4697120327d26773b5a84853f897a68e33d3f9376b00a8ff96e4f63/immutables-0.14-cp36-cp36m-manylinux1_x86_64.whl (98kB)\n",
            "\u001b[K     |████████████████████████████████| 102kB 11.9MB/s \n",
            "\u001b[?25hCollecting hyperframe<6,>=5.2.0\n",
            "  Downloading https://files.pythonhosted.org/packages/19/0c/bf88182bcb5dce3094e2f3e4fe20db28a9928cb7bd5b08024030e4b140db/hyperframe-5.2.0-py2.py3-none-any.whl\n",
            "Collecting hpack<4,>=3.0\n",
            "  Downloading https://files.pythonhosted.org/packages/8a/cc/e53517f4a1e13f74776ca93271caef378dadec14d71c61c949d759d3db69/hpack-3.0.0-py2.py3-none-any.whl\n",
            "Building wheels for collected packages: googletrans, contextvars\n",
            "  Building wheel for googletrans (setup.py) ... \u001b[?25l\u001b[?25hdone\n",
            "  Created wheel for googletrans: filename=googletrans-3.0.0-cp36-none-any.whl size=15736 sha256=567c0b530a1b5969001adb4cd57cb3b0a787962bf4e081652f2cfa84ab4bfcf5\n",
            "  Stored in directory: /root/.cache/pip/wheels/28/1a/a7/eaf4d7a3417a0c65796c547cff4deb6d79c7d14c2abd29273e\n",
            "  Building wheel for contextvars (setup.py) ... \u001b[?25l\u001b[?25hdone\n",
            "  Created wheel for contextvars: filename=contextvars-2.4-cp36-none-any.whl size=7666 sha256=053574b4e32e440da90201e318affcba1095333c32680aa0b3245daf11d94be0\n",
            "  Stored in directory: /root/.cache/pip/wheels/a5/7d/68/1ebae2668bda2228686e3c1cf16f2c2384cea6e9334ad5f6de\n",
            "Successfully built googletrans contextvars\n",
            "Installing collected packages: hstspreload, immutables, contextvars, sniffio, rfc3986, hyperframe, hpack, h2, h11, httpcore, httpx, googletrans\n",
            "Successfully installed contextvars-2.4 googletrans-3.0.0 h11-0.9.0 h2-3.2.0 hpack-3.0.0 hstspreload-2020.9.2 httpcore-0.9.1 httpx-0.13.3 hyperframe-5.2.0 immutables-0.14 rfc3986-1.4.0 sniffio-1.1.0\n"
          ],
          "name": "stdout"
        }
      ]
    },
    {
      "cell_type": "code",
      "metadata": {
        "id": "z6RlmS22pfvj",
        "colab_type": "code",
        "colab": {}
      },
      "source": [
        "from googletrans import Translator"
      ],
      "execution_count": null,
      "outputs": []
    },
    {
      "cell_type": "code",
      "metadata": {
        "id": "qqPiiDK3p-Ln",
        "colab_type": "code",
        "colab": {}
      },
      "source": [
        "translator = Translator()"
      ],
      "execution_count": null,
      "outputs": []
    },
    {
      "cell_type": "code",
      "metadata": {
        "id": "zeZBbtpPqKWT",
        "colab_type": "code",
        "colab": {
          "base_uri": "https://localhost:8080/",
          "height": 86
        },
        "outputId": "acc81019-9ac7-47b5-f7b2-88d0803a8d0c"
      },
      "source": [
        "translated = translator.translate(graf_01)\n",
        "translated.text"
      ],
      "execution_count": null,
      "outputs": [
        {
          "output_type": "execute_result",
          "data": {
            "application/vnd.google.colaboratory.intrinsic+json": {
              "type": "string"
            },
            "text/plain": [
              "\"It is carefully observed that President Donald Trump, who put up a diplomatic achievement in managing risks to North Korea, two months before the US presidential election, pressed North Korea against provoking short-range ballistic missiles. In particular, as President Trump has shown a modest response to North Korea's provocation of short-range ballistic missiles, it is interpreted that this action was made with the US presidential election in mind on November 3.\""
            ]
          },
          "metadata": {
            "tags": []
          },
          "execution_count": 31
        }
      ]
    },
    {
      "cell_type": "code",
      "metadata": {
        "id": "RpP-oUlsqs65",
        "colab_type": "code",
        "colab": {
          "base_uri": "https://localhost:8080/",
          "height": 52
        },
        "outputId": "64c82942-d80c-4b8b-bf5f-0c4138a0a847"
      },
      "source": [
        "graf_01"
      ],
      "execution_count": null,
      "outputs": [
        {
          "output_type": "execute_result",
          "data": {
            "application/vnd.google.colaboratory.intrinsic+json": {
              "type": "string"
            },
            "text/plain": [
              "'이는 미 대선을 두 달 앞두고 대북 리스크 관리를 외교적 성과로 내세운 도널드 트럼프 대통령이 북한에 단거리 탄도미사일 도발을 하지 말 것을 압박한 것으로 조심스럽게 관측된다. 특히 그간 트럼프 대통령이 북한의 단거리 탄도미사일 도발에 대해 대수롭지 않은 반응을 보여온 만큼 이번 조치는 11월 3일 미 대선을 염두에 뒀다는 해석이 나온다.'"
            ]
          },
          "metadata": {
            "tags": []
          },
          "execution_count": 32
        }
      ]
    },
    {
      "cell_type": "markdown",
      "metadata": {
        "id": "Y6zKaGWcg5qe",
        "colab_type": "text"
      },
      "source": [
        "# Read CSV"
      ]
    },
    {
      "cell_type": "code",
      "metadata": {
        "id": "gvmNcIlhiCLP",
        "colab_type": "code",
        "colab": {}
      },
      "source": [
        "from csv import reader"
      ],
      "execution_count": null,
      "outputs": []
    },
    {
      "cell_type": "markdown",
      "metadata": {
        "id": "vDvQpmD6iXYi",
        "colab_type": "text"
      },
      "source": [
        "Read and print csv row by row"
      ]
    },
    {
      "cell_type": "code",
      "metadata": {
        "id": "V1Rc1zH5iDJU",
        "colab_type": "code",
        "colab": {
          "base_uri": "https://localhost:8080/",
          "height": 139
        },
        "outputId": "a3cb5f49-06d1-4db0-f81c-3cf527653d91"
      },
      "source": [
        "# open file in read mode\n",
        "with open('TestArticles.csv', 'r') as read_obj:\n",
        "    # pass the file object to reader() to get the reader object\n",
        "    csv_reader = reader(read_obj)\n",
        "    # Iterate over each row in the csv using reader object\n",
        "    for row in csv_reader:\n",
        "        # row variable is a list that represents a row in csv\n",
        "        print(row)"
      ],
      "execution_count": null,
      "outputs": [
        {
          "output_type": "stream",
          "text": [
            "['\\ufeffTitle', 'Text']\n",
            "['정부 “국가채무비율 2045년 꺾인다”…전문가 “비현실적”', '2045년 국내총생산(GDP) 대비 국가채무비율이 최고 99%로 치솟을 수 있다는 정부 공식 전망이 나왔다. 기획재정부는 이런 내용의 ‘2020~2060년 장기재정전망’을 2일 내놨다. 기재부는 현상 유지, 성장률 하락세 완화, 인구 감소 폭 둔화 등 세 가지 시나리오를 가정했다.\\n\\n현상 유지 시나리오에 따르면 국가채무비율은 계속 상승해 97(2042년)~99%(2045년)에서 정점을 찍는다. 재정위기를 우려해야 할 수준이다. 이는 실질성장률이 2020년대 평균 2.3%에서 2050년대 0.5%로 떨어지고 인구는 2060년까지 올해 대비 894만 명, 생산가능인구(15~64세)는 1678만 명 줄어든 걸 상정했다.']\n",
            "['‘부동산 감독기구’ 결국 강행', '지나친 시장 통제·감시와 개인정보·재산권 침해 위험이 있다는 비판에도 정부가 부동산 시장 감독기구 설립을 강행한다.\\n\\n홍남기 부총리 겸 기획재정부 장관은 2일 부동산 시장 점검 관계장관회의에서 “(부동산 시장을) 상시 모니터링하고, 불법행위 등을 포착·적발해 신속히 단속·처벌하는 상시 정부 조직을 만든다”고 밝혔다. 가칭 ‘부동산거래분석원’이다. 현재 국토교통부와 금융감독원, 국세청, 검찰, 경찰 등의 7개 기관, 13명의 인력으로 구성돼 운영 중인 임시 조직(태스크포스)인 ‘불법행위 대응반’을 상당 규모로 확대하는 방향이다.\\n\\n문재인 정부 들어 23번에 걸친 부동산 대책에도 시장 과열이 잡히지 않자 정부는 관리·감독기구 신설을 결정했다.']\n",
            "['美 \"中 핵탄두 200여 기 보유...10년 후 최소 2배\"', '미국이 처음으로 중국의 핵탄두 보유 규모를 공개하며 중국을 압박했습니다.\\n\\n미 국방부는 중국이 보유한 핵탄두는 200여 기이며, 10년 뒤에는 최소 2배로 증가할 것이라고 전망했습니다.\\n\\n김태현 기자의 보도입니다.']\n",
            "['檢, \\'수뇌부 직무유기 의혹\\' 사건 무혐의 처분…\"제 편 감싸기\" 비판', \"후배 검사의 '고소장 위조' 비위 사실을 알고도 적절한 징계를 하지 않은 혐의로 고발된 전·현직 검찰 수뇌부 인사들에 대해 검찰이 일괄 무혐의 처분을 내렸다. 검찰은 이 사건을 맡았던 경찰의 자료요구에도 미온적으로 대응해왔다. 검찰이 '제 식구 감싸기 의혹 사건'을 제 식구 감싸기 식으로 처리했다는 비판도 일각에서 제기된다. 고발인인 임은정 울산지검 부장검사는 검찰 처분에 대한 불복 절차를 밟겠다는 뜻을 밝혔다.\\n\\n2일 법조계에 따르면 서울중앙지검 형사3부(윤진용 부장검사)는 임 부장검사가 직무유기 혐의로 고발한 김수남 전 검찰총장을 '혐의없음'으로 불기소 처분했다. 김 전 총장과 같은 혐의로 함께 고발된 김주현 전 대검찰청 차장검사, 황철규 전 부산고검장(현 법무연수원 국제형사센터 소장), 조기룡 전 청주지검 차장검사(현 대구고검 검사)에 대해서도 같은 처분을 내렸다.\"]\n",
            "[\"카카오게임즈 청약 광풍…'사상 최대' 58조원 몰렸다\", '계속해서 주식 얘기 좀 해보겠습니다. 얼마전 일반 투자자에 공모주 청약을 받아 증거금만 31조원을 끌어모았던 SK바이오팜 기억하실 겁니다. 신기록이었는데요, 이를 훌쩍 뛰어넘는 기록이 카카오게임즈 공모주 청약에서 벌어졌습니다. 1억 내면 5주 주는데 58조 원 이상이 몰렸습니다.\\n\\n먼저 임유진 기자가 전하겠습니다.\\n\\n경쟁률은 1524.85대 1을 기록했습니다. SK바이오팜의 청약 경쟁률, 323대 1은 크게 넘어섰지만, 최근 공모를 실시한 코스닥 상장기업 이루다의 경쟁률 3039.56대 1에는 못 미쳤습니다.']\n"
          ],
          "name": "stdout"
        }
      ]
    },
    {
      "cell_type": "markdown",
      "metadata": {
        "id": "YGZTde6Vi1Ld",
        "colab_type": "text"
      },
      "source": [
        "Read specific columns from a csv file while iterating line by line"
      ]
    },
    {
      "cell_type": "code",
      "metadata": {
        "id": "MeVd2XBHinrU",
        "colab_type": "code",
        "colab": {}
      },
      "source": [
        "from csv import DictReader"
      ],
      "execution_count": null,
      "outputs": []
    },
    {
      "cell_type": "code",
      "metadata": {
        "id": "gIb3j17Qi4ZO",
        "colab_type": "code",
        "colab": {
          "base_uri": "https://localhost:8080/",
          "height": 394
        },
        "outputId": "318a129b-03bb-4ae2-bba9-66395e4d0480"
      },
      "source": [
        "# iterate over each line as a ordered dictionary and print only few column by column name\n",
        "with open('TestArticles.csv', 'r') as read_obj:\n",
        "    csv_dict_reader = DictReader(read_obj)\n",
        "    for row in csv_dict_reader:\n",
        "        print(row['Text'])"
      ],
      "execution_count": null,
      "outputs": [
        {
          "output_type": "stream",
          "text": [
            "2045년 국내총생산(GDP) 대비 국가채무비율이 최고 99%로 치솟을 수 있다는 정부 공식 전망이 나왔다. 기획재정부는 이런 내용의 ‘2020~2060년 장기재정전망’을 2일 내놨다. 기재부는 현상 유지, 성장률 하락세 완화, 인구 감소 폭 둔화 등 세 가지 시나리오를 가정했다.\n",
            "\n",
            "현상 유지 시나리오에 따르면 국가채무비율은 계속 상승해 97(2042년)~99%(2045년)에서 정점을 찍는다. 재정위기를 우려해야 할 수준이다. 이는 실질성장률이 2020년대 평균 2.3%에서 2050년대 0.5%로 떨어지고 인구는 2060년까지 올해 대비 894만 명, 생산가능인구(15~64세)는 1678만 명 줄어든 걸 상정했다.\n",
            "지나친 시장 통제·감시와 개인정보·재산권 침해 위험이 있다는 비판에도 정부가 부동산 시장 감독기구 설립을 강행한다.\n",
            "\n",
            "홍남기 부총리 겸 기획재정부 장관은 2일 부동산 시장 점검 관계장관회의에서 “(부동산 시장을) 상시 모니터링하고, 불법행위 등을 포착·적발해 신속히 단속·처벌하는 상시 정부 조직을 만든다”고 밝혔다. 가칭 ‘부동산거래분석원’이다. 현재 국토교통부와 금융감독원, 국세청, 검찰, 경찰 등의 7개 기관, 13명의 인력으로 구성돼 운영 중인 임시 조직(태스크포스)인 ‘불법행위 대응반’을 상당 규모로 확대하는 방향이다.\n",
            "\n",
            "문재인 정부 들어 23번에 걸친 부동산 대책에도 시장 과열이 잡히지 않자 정부는 관리·감독기구 신설을 결정했다.\n",
            "미국이 처음으로 중국의 핵탄두 보유 규모를 공개하며 중국을 압박했습니다.\n",
            "\n",
            "미 국방부는 중국이 보유한 핵탄두는 200여 기이며, 10년 뒤에는 최소 2배로 증가할 것이라고 전망했습니다.\n",
            "\n",
            "김태현 기자의 보도입니다.\n",
            "후배 검사의 '고소장 위조' 비위 사실을 알고도 적절한 징계를 하지 않은 혐의로 고발된 전·현직 검찰 수뇌부 인사들에 대해 검찰이 일괄 무혐의 처분을 내렸다. 검찰은 이 사건을 맡았던 경찰의 자료요구에도 미온적으로 대응해왔다. 검찰이 '제 식구 감싸기 의혹 사건'을 제 식구 감싸기 식으로 처리했다는 비판도 일각에서 제기된다. 고발인인 임은정 울산지검 부장검사는 검찰 처분에 대한 불복 절차를 밟겠다는 뜻을 밝혔다.\n",
            "\n",
            "2일 법조계에 따르면 서울중앙지검 형사3부(윤진용 부장검사)는 임 부장검사가 직무유기 혐의로 고발한 김수남 전 검찰총장을 '혐의없음'으로 불기소 처분했다. 김 전 총장과 같은 혐의로 함께 고발된 김주현 전 대검찰청 차장검사, 황철규 전 부산고검장(현 법무연수원 국제형사센터 소장), 조기룡 전 청주지검 차장검사(현 대구고검 검사)에 대해서도 같은 처분을 내렸다.\n",
            "계속해서 주식 얘기 좀 해보겠습니다. 얼마전 일반 투자자에 공모주 청약을 받아 증거금만 31조원을 끌어모았던 SK바이오팜 기억하실 겁니다. 신기록이었는데요, 이를 훌쩍 뛰어넘는 기록이 카카오게임즈 공모주 청약에서 벌어졌습니다. 1억 내면 5주 주는데 58조 원 이상이 몰렸습니다.\n",
            "\n",
            "먼저 임유진 기자가 전하겠습니다.\n",
            "\n",
            "경쟁률은 1524.85대 1을 기록했습니다. SK바이오팜의 청약 경쟁률, 323대 1은 크게 넘어섰지만, 최근 공모를 실시한 코스닥 상장기업 이루다의 경쟁률 3039.56대 1에는 못 미쳤습니다.\n"
          ],
          "name": "stdout"
        }
      ]
    },
    {
      "cell_type": "markdown",
      "metadata": {
        "id": "uxhkGTO2js3c",
        "colab_type": "text"
      },
      "source": [
        "Read csv file without header"
      ]
    },
    {
      "cell_type": "code",
      "metadata": {
        "id": "IR7kruNjjt8I",
        "colab_type": "code",
        "colab": {}
      },
      "source": [
        "from csv import reader"
      ],
      "execution_count": null,
      "outputs": []
    },
    {
      "cell_type": "code",
      "metadata": {
        "id": "Gtvrdhb9jw6G",
        "colab_type": "code",
        "colab": {
          "base_uri": "https://localhost:8080/",
          "height": 122
        },
        "outputId": "c769cbf8-27c2-4ca1-8709-e5a954b66e54"
      },
      "source": [
        "# skip first line i.e. read header first and then iterate over each row od csv as a list\n",
        "with open('TestArticles.csv', 'r') as read_obj:\n",
        "    csv_reader = reader(read_obj)\n",
        "    header = next(csv_reader)\n",
        "    # Check file as empty\n",
        "    if header != None:\n",
        "        # Iterate over each row after the header in the csv\n",
        "        for row in csv_reader:\n",
        "            # row variable is a list that represents a row in csv\n",
        "            print(row)"
      ],
      "execution_count": null,
      "outputs": [
        {
          "output_type": "stream",
          "text": [
            "['정부 “국가채무비율 2045년 꺾인다”…전문가 “비현실적”', '2045년 국내총생산(GDP) 대비 국가채무비율이 최고 99%로 치솟을 수 있다는 정부 공식 전망이 나왔다. 기획재정부는 이런 내용의 ‘2020~2060년 장기재정전망’을 2일 내놨다. 기재부는 현상 유지, 성장률 하락세 완화, 인구 감소 폭 둔화 등 세 가지 시나리오를 가정했다.\\n\\n현상 유지 시나리오에 따르면 국가채무비율은 계속 상승해 97(2042년)~99%(2045년)에서 정점을 찍는다. 재정위기를 우려해야 할 수준이다. 이는 실질성장률이 2020년대 평균 2.3%에서 2050년대 0.5%로 떨어지고 인구는 2060년까지 올해 대비 894만 명, 생산가능인구(15~64세)는 1678만 명 줄어든 걸 상정했다.']\n",
            "['‘부동산 감독기구’ 결국 강행', '지나친 시장 통제·감시와 개인정보·재산권 침해 위험이 있다는 비판에도 정부가 부동산 시장 감독기구 설립을 강행한다.\\n\\n홍남기 부총리 겸 기획재정부 장관은 2일 부동산 시장 점검 관계장관회의에서 “(부동산 시장을) 상시 모니터링하고, 불법행위 등을 포착·적발해 신속히 단속·처벌하는 상시 정부 조직을 만든다”고 밝혔다. 가칭 ‘부동산거래분석원’이다. 현재 국토교통부와 금융감독원, 국세청, 검찰, 경찰 등의 7개 기관, 13명의 인력으로 구성돼 운영 중인 임시 조직(태스크포스)인 ‘불법행위 대응반’을 상당 규모로 확대하는 방향이다.\\n\\n문재인 정부 들어 23번에 걸친 부동산 대책에도 시장 과열이 잡히지 않자 정부는 관리·감독기구 신설을 결정했다.']\n",
            "['美 \"中 핵탄두 200여 기 보유...10년 후 최소 2배\"', '미국이 처음으로 중국의 핵탄두 보유 규모를 공개하며 중국을 압박했습니다.\\n\\n미 국방부는 중국이 보유한 핵탄두는 200여 기이며, 10년 뒤에는 최소 2배로 증가할 것이라고 전망했습니다.\\n\\n김태현 기자의 보도입니다.']\n",
            "['檢, \\'수뇌부 직무유기 의혹\\' 사건 무혐의 처분…\"제 편 감싸기\" 비판', \"후배 검사의 '고소장 위조' 비위 사실을 알고도 적절한 징계를 하지 않은 혐의로 고발된 전·현직 검찰 수뇌부 인사들에 대해 검찰이 일괄 무혐의 처분을 내렸다. 검찰은 이 사건을 맡았던 경찰의 자료요구에도 미온적으로 대응해왔다. 검찰이 '제 식구 감싸기 의혹 사건'을 제 식구 감싸기 식으로 처리했다는 비판도 일각에서 제기된다. 고발인인 임은정 울산지검 부장검사는 검찰 처분에 대한 불복 절차를 밟겠다는 뜻을 밝혔다.\\n\\n2일 법조계에 따르면 서울중앙지검 형사3부(윤진용 부장검사)는 임 부장검사가 직무유기 혐의로 고발한 김수남 전 검찰총장을 '혐의없음'으로 불기소 처분했다. 김 전 총장과 같은 혐의로 함께 고발된 김주현 전 대검찰청 차장검사, 황철규 전 부산고검장(현 법무연수원 국제형사센터 소장), 조기룡 전 청주지검 차장검사(현 대구고검 검사)에 대해서도 같은 처분을 내렸다.\"]\n",
            "[\"카카오게임즈 청약 광풍…'사상 최대' 58조원 몰렸다\", '계속해서 주식 얘기 좀 해보겠습니다. 얼마전 일반 투자자에 공모주 청약을 받아 증거금만 31조원을 끌어모았던 SK바이오팜 기억하실 겁니다. 신기록이었는데요, 이를 훌쩍 뛰어넘는 기록이 카카오게임즈 공모주 청약에서 벌어졌습니다. 1억 내면 5주 주는데 58조 원 이상이 몰렸습니다.\\n\\n먼저 임유진 기자가 전하겠습니다.\\n\\n경쟁률은 1524.85대 1을 기록했습니다. SK바이오팜의 청약 경쟁률, 323대 1은 크게 넘어섰지만, 최근 공모를 실시한 코스닥 상장기업 이루다의 경쟁률 3039.56대 1에는 못 미쳤습니다.']\n"
          ],
          "name": "stdout"
        }
      ]
    },
    {
      "cell_type": "code",
      "metadata": {
        "id": "hTIeBYS3q35r",
        "colab_type": "code",
        "colab": {
          "base_uri": "https://localhost:8080/",
          "height": 411
        },
        "outputId": "e1b289cd-78f7-48ac-b05e-2700c9654368"
      },
      "source": [
        "import csv\n",
        "\n",
        "file_csv = open('TestArticles.csv')\n",
        "data_csv = csv.reader(file_csv)\n",
        "list_csv = list(data_csv)\n",
        "\n",
        "list_csv[1:6]\n",
        " \n",
        "for column in list_csv:\n",
        "  print(column[0], '//', column[1])"
      ],
      "execution_count": null,
      "outputs": [
        {
          "output_type": "stream",
          "text": [
            "﻿Title // Text\n",
            "정부 “국가채무비율 2045년 꺾인다”…전문가 “비현실적” // 2045년 국내총생산(GDP) 대비 국가채무비율이 최고 99%로 치솟을 수 있다는 정부 공식 전망이 나왔다. 기획재정부는 이런 내용의 ‘2020~2060년 장기재정전망’을 2일 내놨다. 기재부는 현상 유지, 성장률 하락세 완화, 인구 감소 폭 둔화 등 세 가지 시나리오를 가정했다.\n",
            "\n",
            "현상 유지 시나리오에 따르면 국가채무비율은 계속 상승해 97(2042년)~99%(2045년)에서 정점을 찍는다. 재정위기를 우려해야 할 수준이다. 이는 실질성장률이 2020년대 평균 2.3%에서 2050년대 0.5%로 떨어지고 인구는 2060년까지 올해 대비 894만 명, 생산가능인구(15~64세)는 1678만 명 줄어든 걸 상정했다.\n",
            "‘부동산 감독기구’ 결국 강행 // 지나친 시장 통제·감시와 개인정보·재산권 침해 위험이 있다는 비판에도 정부가 부동산 시장 감독기구 설립을 강행한다.\n",
            "\n",
            "홍남기 부총리 겸 기획재정부 장관은 2일 부동산 시장 점검 관계장관회의에서 “(부동산 시장을) 상시 모니터링하고, 불법행위 등을 포착·적발해 신속히 단속·처벌하는 상시 정부 조직을 만든다”고 밝혔다. 가칭 ‘부동산거래분석원’이다. 현재 국토교통부와 금융감독원, 국세청, 검찰, 경찰 등의 7개 기관, 13명의 인력으로 구성돼 운영 중인 임시 조직(태스크포스)인 ‘불법행위 대응반’을 상당 규모로 확대하는 방향이다.\n",
            "\n",
            "문재인 정부 들어 23번에 걸친 부동산 대책에도 시장 과열이 잡히지 않자 정부는 관리·감독기구 신설을 결정했다.\n",
            "美 \"中 핵탄두 200여 기 보유...10년 후 최소 2배\" // 미국이 처음으로 중국의 핵탄두 보유 규모를 공개하며 중국을 압박했습니다.\n",
            "\n",
            "미 국방부는 중국이 보유한 핵탄두는 200여 기이며, 10년 뒤에는 최소 2배로 증가할 것이라고 전망했습니다.\n",
            "\n",
            "김태현 기자의 보도입니다.\n",
            "檢, '수뇌부 직무유기 의혹' 사건 무혐의 처분…\"제 편 감싸기\" 비판 // 후배 검사의 '고소장 위조' 비위 사실을 알고도 적절한 징계를 하지 않은 혐의로 고발된 전·현직 검찰 수뇌부 인사들에 대해 검찰이 일괄 무혐의 처분을 내렸다. 검찰은 이 사건을 맡았던 경찰의 자료요구에도 미온적으로 대응해왔다. 검찰이 '제 식구 감싸기 의혹 사건'을 제 식구 감싸기 식으로 처리했다는 비판도 일각에서 제기된다. 고발인인 임은정 울산지검 부장검사는 검찰 처분에 대한 불복 절차를 밟겠다는 뜻을 밝혔다.\n",
            "\n",
            "2일 법조계에 따르면 서울중앙지검 형사3부(윤진용 부장검사)는 임 부장검사가 직무유기 혐의로 고발한 김수남 전 검찰총장을 '혐의없음'으로 불기소 처분했다. 김 전 총장과 같은 혐의로 함께 고발된 김주현 전 대검찰청 차장검사, 황철규 전 부산고검장(현 법무연수원 국제형사센터 소장), 조기룡 전 청주지검 차장검사(현 대구고검 검사)에 대해서도 같은 처분을 내렸다.\n",
            "카카오게임즈 청약 광풍…'사상 최대' 58조원 몰렸다 // 계속해서 주식 얘기 좀 해보겠습니다. 얼마전 일반 투자자에 공모주 청약을 받아 증거금만 31조원을 끌어모았던 SK바이오팜 기억하실 겁니다. 신기록이었는데요, 이를 훌쩍 뛰어넘는 기록이 카카오게임즈 공모주 청약에서 벌어졌습니다. 1억 내면 5주 주는데 58조 원 이상이 몰렸습니다.\n",
            "\n",
            "먼저 임유진 기자가 전하겠습니다.\n",
            "\n",
            "경쟁률은 1524.85대 1을 기록했습니다. SK바이오팜의 청약 경쟁률, 323대 1은 크게 넘어섰지만, 최근 공모를 실시한 코스닥 상장기업 이루다의 경쟁률 3039.56대 1에는 못 미쳤습니다.\n"
          ],
          "name": "stdout"
        }
      ]
    },
    {
      "cell_type": "code",
      "metadata": {
        "id": "sou4XG0Dl_r9",
        "colab_type": "code",
        "colab": {}
      },
      "source": [
        ""
      ],
      "execution_count": null,
      "outputs": []
    }
  ]
}