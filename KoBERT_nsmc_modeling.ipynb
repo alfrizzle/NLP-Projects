{
  "nbformat": 4,
  "nbformat_minor": 0,
  "metadata": {
    "colab": {
      "name": "KoBERT-nsmc-modeling.ipynb",
      "provenance": [],
      "collapsed_sections": [],
      "authorship_tag": "ABX9TyPRbihO6Xzk87rnBFMyDYMU",
      "include_colab_link": true
    },
    "kernelspec": {
      "name": "python3",
      "display_name": "Python 3"
    },
    "language_info": {
      "name": "python"
    },
    "accelerator": "GPU"
  },
  "cells": [
    {
      "cell_type": "markdown",
      "metadata": {
        "id": "view-in-github",
        "colab_type": "text"
      },
      "source": [
        "<a href=\"https://colab.research.google.com/github/alfrizzle/NLP-Projects/blob/master/KoBERT_nsmc_modeling.ipynb\" target=\"_parent\"><img src=\"https://colab.research.google.com/assets/colab-badge.svg\" alt=\"Open In Colab\"/></a>"
      ]
    },
    {
      "cell_type": "markdown",
      "source": [
        "# Setup Environment"
      ],
      "metadata": {
        "id": "tGHgPP9VcTHQ"
      }
    },
    {
      "cell_type": "code",
      "execution_count": 1,
      "metadata": {
        "colab": {
          "base_uri": "https://localhost:8080/"
        },
        "id": "LUxkwB0TaKLZ",
        "outputId": "998ca3bd-d403-4d43-ad51-e050ca1c94a6"
      },
      "outputs": [
        {
          "output_type": "stream",
          "name": "stdout",
          "text": [
            "Drive already mounted at /content/drive; to attempt to forcibly remount, call drive.mount(\"/content/drive\", force_remount=True).\n"
          ]
        }
      ],
      "source": [
        "from google.colab import drive\n",
        "drive.mount('/content/drive')"
      ]
    },
    {
      "cell_type": "code",
      "source": [
        "!pwd"
      ],
      "metadata": {
        "colab": {
          "base_uri": "https://localhost:8080/"
        },
        "id": "2oE2NmaYaqgC",
        "outputId": "05d07665-087b-4c71-9fc3-e309e2683914"
      },
      "execution_count": 2,
      "outputs": [
        {
          "output_type": "stream",
          "name": "stdout",
          "text": [
            "/content\n"
          ]
        }
      ]
    },
    {
      "cell_type": "code",
      "source": [
        "import os\n",
        "\n",
        "os.chdir('/content/drive/MyDrive/KoBERT-nsmc')"
      ],
      "metadata": {
        "id": "fXHnyQ18ah-s"
      },
      "execution_count": 3,
      "outputs": []
    },
    {
      "cell_type": "code",
      "source": [
        "# !git clone https://github.com/monologg/KoBERT-nsmc.git"
      ],
      "metadata": {
        "id": "B6ot9AAzaYHp"
      },
      "execution_count": 4,
      "outputs": []
    },
    {
      "cell_type": "code",
      "source": [
        "!ls"
      ],
      "metadata": {
        "colab": {
          "base_uri": "https://localhost:8080/"
        },
        "id": "4rLqVbZla7d6",
        "outputId": "53abedb4-72af-4adf-851a-a1445b45310f"
      },
      "execution_count": 5,
      "outputs": [
        {
          "output_type": "stream",
          "name": "stdout",
          "text": [
            "data\t\t   main.py\trequirements.txt\tutils.py\n",
            "data_loader.py\t   predict.py\tsample_pred_in.txt\n",
            "data_loader_v2.py  __pycache__\ttokenization_kobert.py\n",
            "LICENSE\t\t   README.md\ttrainer.py\n"
          ]
        }
      ]
    },
    {
      "cell_type": "code",
      "source": [
        "!pip install torch==1.4.0\n",
        "!pip install transformers==2.10.0"
      ],
      "metadata": {
        "colab": {
          "base_uri": "https://localhost:8080/"
        },
        "id": "iG9624raa774",
        "outputId": "171751a8-0d5d-4cc2-f679-48cd30f70c0b"
      },
      "execution_count": 6,
      "outputs": [
        {
          "output_type": "stream",
          "name": "stdout",
          "text": [
            "Requirement already satisfied: torch==1.4.0 in /usr/local/lib/python3.7/dist-packages (1.4.0)\n",
            "Requirement already satisfied: transformers==2.10.0 in /usr/local/lib/python3.7/dist-packages (2.10.0)\n",
            "Requirement already satisfied: tqdm>=4.27 in /usr/local/lib/python3.7/dist-packages (from transformers==2.10.0) (4.62.3)\n",
            "Requirement already satisfied: filelock in /usr/local/lib/python3.7/dist-packages (from transformers==2.10.0) (3.4.0)\n",
            "Requirement already satisfied: regex!=2019.12.17 in /usr/local/lib/python3.7/dist-packages (from transformers==2.10.0) (2019.12.20)\n",
            "Requirement already satisfied: sentencepiece in /usr/local/lib/python3.7/dist-packages (from transformers==2.10.0) (0.1.96)\n",
            "Requirement already satisfied: numpy in /usr/local/lib/python3.7/dist-packages (from transformers==2.10.0) (1.19.5)\n",
            "Requirement already satisfied: sacremoses in /usr/local/lib/python3.7/dist-packages (from transformers==2.10.0) (0.0.46)\n",
            "Requirement already satisfied: requests in /usr/local/lib/python3.7/dist-packages (from transformers==2.10.0) (2.23.0)\n",
            "Requirement already satisfied: tokenizers==0.7.0 in /usr/local/lib/python3.7/dist-packages (from transformers==2.10.0) (0.7.0)\n",
            "Requirement already satisfied: chardet<4,>=3.0.2 in /usr/local/lib/python3.7/dist-packages (from requests->transformers==2.10.0) (3.0.4)\n",
            "Requirement already satisfied: certifi>=2017.4.17 in /usr/local/lib/python3.7/dist-packages (from requests->transformers==2.10.0) (2021.10.8)\n",
            "Requirement already satisfied: idna<3,>=2.5 in /usr/local/lib/python3.7/dist-packages (from requests->transformers==2.10.0) (2.10)\n",
            "Requirement already satisfied: urllib3!=1.25.0,!=1.25.1,<1.26,>=1.21.1 in /usr/local/lib/python3.7/dist-packages (from requests->transformers==2.10.0) (1.24.3)\n",
            "Requirement already satisfied: joblib in /usr/local/lib/python3.7/dist-packages (from sacremoses->transformers==2.10.0) (1.1.0)\n",
            "Requirement already satisfied: click in /usr/local/lib/python3.7/dist-packages (from sacremoses->transformers==2.10.0) (7.1.2)\n",
            "Requirement already satisfied: six in /usr/local/lib/python3.7/dist-packages (from sacremoses->transformers==2.10.0) (1.15.0)\n"
          ]
        }
      ]
    },
    {
      "cell_type": "code",
      "source": [
        "import pandas as pd\n",
        "import numpy as np"
      ],
      "metadata": {
        "id": "tee8hwDLcy3_"
      },
      "execution_count": 7,
      "outputs": []
    },
    {
      "cell_type": "markdown",
      "source": [
        "# Data Prep"
      ],
      "metadata": {
        "id": "64QAOF64cPu4"
      }
    },
    {
      "cell_type": "code",
      "source": [
        "# os.chdir('/content/drive/MyDrive/KoBERT-nsmc/data/')"
      ],
      "metadata": {
        "id": "H0H_YK7qcWTF"
      },
      "execution_count": null,
      "outputs": []
    },
    {
      "cell_type": "code",
      "source": [
        "fake_df = pd.read_csv('./data/misc/Fake.csv')\n",
        "true_df = pd.read_csv('./data/misc/True.csv')\n",
        "\n",
        "fake_df.head()"
      ],
      "metadata": {
        "colab": {
          "base_uri": "https://localhost:8080/",
          "height": 206
        },
        "id": "foUw7f-rho5B",
        "outputId": "62e3e644-3a15-402f-d5dd-607418ef9546"
      },
      "execution_count": 11,
      "outputs": [
        {
          "output_type": "execute_result",
          "data": {
            "text/html": [
              "\n",
              "  <div id=\"df-bab59db6-3939-4742-902d-43b2682d19fa\">\n",
              "    <div class=\"colab-df-container\">\n",
              "      <div>\n",
              "<style scoped>\n",
              "    .dataframe tbody tr th:only-of-type {\n",
              "        vertical-align: middle;\n",
              "    }\n",
              "\n",
              "    .dataframe tbody tr th {\n",
              "        vertical-align: top;\n",
              "    }\n",
              "\n",
              "    .dataframe thead th {\n",
              "        text-align: right;\n",
              "    }\n",
              "</style>\n",
              "<table border=\"1\" class=\"dataframe\">\n",
              "  <thead>\n",
              "    <tr style=\"text-align: right;\">\n",
              "      <th></th>\n",
              "      <th>title</th>\n",
              "      <th>text</th>\n",
              "      <th>subject</th>\n",
              "      <th>date</th>\n",
              "    </tr>\n",
              "  </thead>\n",
              "  <tbody>\n",
              "    <tr>\n",
              "      <th>0</th>\n",
              "      <td>Donald Trump Sends Out Embarrassing New Year’...</td>\n",
              "      <td>Donald Trump just couldn t wish all Americans ...</td>\n",
              "      <td>News</td>\n",
              "      <td>December 31, 2017</td>\n",
              "    </tr>\n",
              "    <tr>\n",
              "      <th>1</th>\n",
              "      <td>Drunk Bragging Trump Staffer Started Russian ...</td>\n",
              "      <td>House Intelligence Committee Chairman Devin Nu...</td>\n",
              "      <td>News</td>\n",
              "      <td>December 31, 2017</td>\n",
              "    </tr>\n",
              "    <tr>\n",
              "      <th>2</th>\n",
              "      <td>Sheriff David Clarke Becomes An Internet Joke...</td>\n",
              "      <td>On Friday, it was revealed that former Milwauk...</td>\n",
              "      <td>News</td>\n",
              "      <td>December 30, 2017</td>\n",
              "    </tr>\n",
              "    <tr>\n",
              "      <th>3</th>\n",
              "      <td>Trump Is So Obsessed He Even Has Obama’s Name...</td>\n",
              "      <td>On Christmas day, Donald Trump announced that ...</td>\n",
              "      <td>News</td>\n",
              "      <td>December 29, 2017</td>\n",
              "    </tr>\n",
              "    <tr>\n",
              "      <th>4</th>\n",
              "      <td>Pope Francis Just Called Out Donald Trump Dur...</td>\n",
              "      <td>Pope Francis used his annual Christmas Day mes...</td>\n",
              "      <td>News</td>\n",
              "      <td>December 25, 2017</td>\n",
              "    </tr>\n",
              "  </tbody>\n",
              "</table>\n",
              "</div>\n",
              "      <button class=\"colab-df-convert\" onclick=\"convertToInteractive('df-bab59db6-3939-4742-902d-43b2682d19fa')\"\n",
              "              title=\"Convert this dataframe to an interactive table.\"\n",
              "              style=\"display:none;\">\n",
              "        \n",
              "  <svg xmlns=\"http://www.w3.org/2000/svg\" height=\"24px\"viewBox=\"0 0 24 24\"\n",
              "       width=\"24px\">\n",
              "    <path d=\"M0 0h24v24H0V0z\" fill=\"none\"/>\n",
              "    <path d=\"M18.56 5.44l.94 2.06.94-2.06 2.06-.94-2.06-.94-.94-2.06-.94 2.06-2.06.94zm-11 1L8.5 8.5l.94-2.06 2.06-.94-2.06-.94L8.5 2.5l-.94 2.06-2.06.94zm10 10l.94 2.06.94-2.06 2.06-.94-2.06-.94-.94-2.06-.94 2.06-2.06.94z\"/><path d=\"M17.41 7.96l-1.37-1.37c-.4-.4-.92-.59-1.43-.59-.52 0-1.04.2-1.43.59L10.3 9.45l-7.72 7.72c-.78.78-.78 2.05 0 2.83L4 21.41c.39.39.9.59 1.41.59.51 0 1.02-.2 1.41-.59l7.78-7.78 2.81-2.81c.8-.78.8-2.07 0-2.86zM5.41 20L4 18.59l7.72-7.72 1.47 1.35L5.41 20z\"/>\n",
              "  </svg>\n",
              "      </button>\n",
              "      \n",
              "  <style>\n",
              "    .colab-df-container {\n",
              "      display:flex;\n",
              "      flex-wrap:wrap;\n",
              "      gap: 12px;\n",
              "    }\n",
              "\n",
              "    .colab-df-convert {\n",
              "      background-color: #E8F0FE;\n",
              "      border: none;\n",
              "      border-radius: 50%;\n",
              "      cursor: pointer;\n",
              "      display: none;\n",
              "      fill: #1967D2;\n",
              "      height: 32px;\n",
              "      padding: 0 0 0 0;\n",
              "      width: 32px;\n",
              "    }\n",
              "\n",
              "    .colab-df-convert:hover {\n",
              "      background-color: #E2EBFA;\n",
              "      box-shadow: 0px 1px 2px rgba(60, 64, 67, 0.3), 0px 1px 3px 1px rgba(60, 64, 67, 0.15);\n",
              "      fill: #174EA6;\n",
              "    }\n",
              "\n",
              "    [theme=dark] .colab-df-convert {\n",
              "      background-color: #3B4455;\n",
              "      fill: #D2E3FC;\n",
              "    }\n",
              "\n",
              "    [theme=dark] .colab-df-convert:hover {\n",
              "      background-color: #434B5C;\n",
              "      box-shadow: 0px 1px 3px 1px rgba(0, 0, 0, 0.15);\n",
              "      filter: drop-shadow(0px 1px 2px rgba(0, 0, 0, 0.3));\n",
              "      fill: #FFFFFF;\n",
              "    }\n",
              "  </style>\n",
              "\n",
              "      <script>\n",
              "        const buttonEl =\n",
              "          document.querySelector('#df-bab59db6-3939-4742-902d-43b2682d19fa button.colab-df-convert');\n",
              "        buttonEl.style.display =\n",
              "          google.colab.kernel.accessAllowed ? 'block' : 'none';\n",
              "\n",
              "        async function convertToInteractive(key) {\n",
              "          const element = document.querySelector('#df-bab59db6-3939-4742-902d-43b2682d19fa');\n",
              "          const dataTable =\n",
              "            await google.colab.kernel.invokeFunction('convertToInteractive',\n",
              "                                                     [key], {});\n",
              "          if (!dataTable) return;\n",
              "\n",
              "          const docLinkHtml = 'Like what you see? Visit the ' +\n",
              "            '<a target=\"_blank\" href=https://colab.research.google.com/notebooks/data_table.ipynb>data table notebook</a>'\n",
              "            + ' to learn more about interactive tables.';\n",
              "          element.innerHTML = '';\n",
              "          dataTable['output_type'] = 'display_data';\n",
              "          await google.colab.output.renderOutput(dataTable, element);\n",
              "          const docLink = document.createElement('div');\n",
              "          docLink.innerHTML = docLinkHtml;\n",
              "          element.appendChild(docLink);\n",
              "        }\n",
              "      </script>\n",
              "    </div>\n",
              "  </div>\n",
              "  "
            ],
            "text/plain": [
              "                                               title  ...               date\n",
              "0   Donald Trump Sends Out Embarrassing New Year’...  ...  December 31, 2017\n",
              "1   Drunk Bragging Trump Staffer Started Russian ...  ...  December 31, 2017\n",
              "2   Sheriff David Clarke Becomes An Internet Joke...  ...  December 30, 2017\n",
              "3   Trump Is So Obsessed He Even Has Obama’s Name...  ...  December 29, 2017\n",
              "4   Pope Francis Just Called Out Donald Trump Dur...  ...  December 25, 2017\n",
              "\n",
              "[5 rows x 4 columns]"
            ]
          },
          "metadata": {},
          "execution_count": 11
        }
      ]
    },
    {
      "cell_type": "code",
      "source": [
        "fake_list = fake_df['text']\n",
        "true_list = true_df['text']\n",
        "\n",
        "fake_ds = pd.DataFrame({'text': fake_list, 'fake': np.zeros(len(fake_list), dtype='int64')}) # 0 == fake news \n",
        "true_ds = pd.DataFrame({'text': true_list, 'fake': np.ones(len(true_list), dtype='int64')}) # 1 == true news\n",
        "\n",
        "raw_ds = fake_ds.append(true_ds, ignore_index=True)\n",
        "# raw_ds = raw_ds.sample(frac=1).reset_index(drop=True)\n",
        "raw_ds"
      ],
      "metadata": {
        "colab": {
          "base_uri": "https://localhost:8080/",
          "height": 424
        },
        "id": "3yUK2bHbcgEr",
        "outputId": "d05085c7-b397-4a5f-87a3-058bd486e6b5"
      },
      "execution_count": 12,
      "outputs": [
        {
          "output_type": "execute_result",
          "data": {
            "text/html": [
              "\n",
              "  <div id=\"df-02d38d4b-0716-474b-9fc1-959dd23c834f\">\n",
              "    <div class=\"colab-df-container\">\n",
              "      <div>\n",
              "<style scoped>\n",
              "    .dataframe tbody tr th:only-of-type {\n",
              "        vertical-align: middle;\n",
              "    }\n",
              "\n",
              "    .dataframe tbody tr th {\n",
              "        vertical-align: top;\n",
              "    }\n",
              "\n",
              "    .dataframe thead th {\n",
              "        text-align: right;\n",
              "    }\n",
              "</style>\n",
              "<table border=\"1\" class=\"dataframe\">\n",
              "  <thead>\n",
              "    <tr style=\"text-align: right;\">\n",
              "      <th></th>\n",
              "      <th>text</th>\n",
              "      <th>fake</th>\n",
              "    </tr>\n",
              "  </thead>\n",
              "  <tbody>\n",
              "    <tr>\n",
              "      <th>0</th>\n",
              "      <td>Donald Trump just couldn t wish all Americans ...</td>\n",
              "      <td>0</td>\n",
              "    </tr>\n",
              "    <tr>\n",
              "      <th>1</th>\n",
              "      <td>House Intelligence Committee Chairman Devin Nu...</td>\n",
              "      <td>0</td>\n",
              "    </tr>\n",
              "    <tr>\n",
              "      <th>2</th>\n",
              "      <td>On Friday, it was revealed that former Milwauk...</td>\n",
              "      <td>0</td>\n",
              "    </tr>\n",
              "    <tr>\n",
              "      <th>3</th>\n",
              "      <td>On Christmas day, Donald Trump announced that ...</td>\n",
              "      <td>0</td>\n",
              "    </tr>\n",
              "    <tr>\n",
              "      <th>4</th>\n",
              "      <td>Pope Francis used his annual Christmas Day mes...</td>\n",
              "      <td>0</td>\n",
              "    </tr>\n",
              "    <tr>\n",
              "      <th>...</th>\n",
              "      <td>...</td>\n",
              "      <td>...</td>\n",
              "    </tr>\n",
              "    <tr>\n",
              "      <th>44893</th>\n",
              "      <td>BRUSSELS (Reuters) - NATO allies on Tuesday we...</td>\n",
              "      <td>1</td>\n",
              "    </tr>\n",
              "    <tr>\n",
              "      <th>44894</th>\n",
              "      <td>LONDON (Reuters) - LexisNexis, a provider of l...</td>\n",
              "      <td>1</td>\n",
              "    </tr>\n",
              "    <tr>\n",
              "      <th>44895</th>\n",
              "      <td>MINSK (Reuters) - In the shadow of disused Sov...</td>\n",
              "      <td>1</td>\n",
              "    </tr>\n",
              "    <tr>\n",
              "      <th>44896</th>\n",
              "      <td>MOSCOW (Reuters) - Vatican Secretary of State ...</td>\n",
              "      <td>1</td>\n",
              "    </tr>\n",
              "    <tr>\n",
              "      <th>44897</th>\n",
              "      <td>JAKARTA (Reuters) - Indonesia will buy 11 Sukh...</td>\n",
              "      <td>1</td>\n",
              "    </tr>\n",
              "  </tbody>\n",
              "</table>\n",
              "<p>44898 rows × 2 columns</p>\n",
              "</div>\n",
              "      <button class=\"colab-df-convert\" onclick=\"convertToInteractive('df-02d38d4b-0716-474b-9fc1-959dd23c834f')\"\n",
              "              title=\"Convert this dataframe to an interactive table.\"\n",
              "              style=\"display:none;\">\n",
              "        \n",
              "  <svg xmlns=\"http://www.w3.org/2000/svg\" height=\"24px\"viewBox=\"0 0 24 24\"\n",
              "       width=\"24px\">\n",
              "    <path d=\"M0 0h24v24H0V0z\" fill=\"none\"/>\n",
              "    <path d=\"M18.56 5.44l.94 2.06.94-2.06 2.06-.94-2.06-.94-.94-2.06-.94 2.06-2.06.94zm-11 1L8.5 8.5l.94-2.06 2.06-.94-2.06-.94L8.5 2.5l-.94 2.06-2.06.94zm10 10l.94 2.06.94-2.06 2.06-.94-2.06-.94-.94-2.06-.94 2.06-2.06.94z\"/><path d=\"M17.41 7.96l-1.37-1.37c-.4-.4-.92-.59-1.43-.59-.52 0-1.04.2-1.43.59L10.3 9.45l-7.72 7.72c-.78.78-.78 2.05 0 2.83L4 21.41c.39.39.9.59 1.41.59.51 0 1.02-.2 1.41-.59l7.78-7.78 2.81-2.81c.8-.78.8-2.07 0-2.86zM5.41 20L4 18.59l7.72-7.72 1.47 1.35L5.41 20z\"/>\n",
              "  </svg>\n",
              "      </button>\n",
              "      \n",
              "  <style>\n",
              "    .colab-df-container {\n",
              "      display:flex;\n",
              "      flex-wrap:wrap;\n",
              "      gap: 12px;\n",
              "    }\n",
              "\n",
              "    .colab-df-convert {\n",
              "      background-color: #E8F0FE;\n",
              "      border: none;\n",
              "      border-radius: 50%;\n",
              "      cursor: pointer;\n",
              "      display: none;\n",
              "      fill: #1967D2;\n",
              "      height: 32px;\n",
              "      padding: 0 0 0 0;\n",
              "      width: 32px;\n",
              "    }\n",
              "\n",
              "    .colab-df-convert:hover {\n",
              "      background-color: #E2EBFA;\n",
              "      box-shadow: 0px 1px 2px rgba(60, 64, 67, 0.3), 0px 1px 3px 1px rgba(60, 64, 67, 0.15);\n",
              "      fill: #174EA6;\n",
              "    }\n",
              "\n",
              "    [theme=dark] .colab-df-convert {\n",
              "      background-color: #3B4455;\n",
              "      fill: #D2E3FC;\n",
              "    }\n",
              "\n",
              "    [theme=dark] .colab-df-convert:hover {\n",
              "      background-color: #434B5C;\n",
              "      box-shadow: 0px 1px 3px 1px rgba(0, 0, 0, 0.15);\n",
              "      filter: drop-shadow(0px 1px 2px rgba(0, 0, 0, 0.3));\n",
              "      fill: #FFFFFF;\n",
              "    }\n",
              "  </style>\n",
              "\n",
              "      <script>\n",
              "        const buttonEl =\n",
              "          document.querySelector('#df-02d38d4b-0716-474b-9fc1-959dd23c834f button.colab-df-convert');\n",
              "        buttonEl.style.display =\n",
              "          google.colab.kernel.accessAllowed ? 'block' : 'none';\n",
              "\n",
              "        async function convertToInteractive(key) {\n",
              "          const element = document.querySelector('#df-02d38d4b-0716-474b-9fc1-959dd23c834f');\n",
              "          const dataTable =\n",
              "            await google.colab.kernel.invokeFunction('convertToInteractive',\n",
              "                                                     [key], {});\n",
              "          if (!dataTable) return;\n",
              "\n",
              "          const docLinkHtml = 'Like what you see? Visit the ' +\n",
              "            '<a target=\"_blank\" href=https://colab.research.google.com/notebooks/data_table.ipynb>data table notebook</a>'\n",
              "            + ' to learn more about interactive tables.';\n",
              "          element.innerHTML = '';\n",
              "          dataTable['output_type'] = 'display_data';\n",
              "          await google.colab.output.renderOutput(dataTable, element);\n",
              "          const docLink = document.createElement('div');\n",
              "          docLink.innerHTML = docLinkHtml;\n",
              "          element.appendChild(docLink);\n",
              "        }\n",
              "      </script>\n",
              "    </div>\n",
              "  </div>\n",
              "  "
            ],
            "text/plain": [
              "                                                    text  fake\n",
              "0      Donald Trump just couldn t wish all Americans ...     0\n",
              "1      House Intelligence Committee Chairman Devin Nu...     0\n",
              "2      On Friday, it was revealed that former Milwauk...     0\n",
              "3      On Christmas day, Donald Trump announced that ...     0\n",
              "4      Pope Francis used his annual Christmas Day mes...     0\n",
              "...                                                  ...   ...\n",
              "44893  BRUSSELS (Reuters) - NATO allies on Tuesday we...     1\n",
              "44894  LONDON (Reuters) - LexisNexis, a provider of l...     1\n",
              "44895  MINSK (Reuters) - In the shadow of disused Sov...     1\n",
              "44896  MOSCOW (Reuters) - Vatican Secretary of State ...     1\n",
              "44897  JAKARTA (Reuters) - Indonesia will buy 11 Sukh...     1\n",
              "\n",
              "[44898 rows x 2 columns]"
            ]
          },
          "metadata": {},
          "execution_count": 12
        }
      ]
    },
    {
      "cell_type": "code",
      "source": [
        "df = raw_ds.rename(columns={'text': 'text', 'fake': 'label'})\n",
        "df.head()"
      ],
      "metadata": {
        "colab": {
          "base_uri": "https://localhost:8080/",
          "height": 206
        },
        "id": "e7zxeAb1iiZe",
        "outputId": "b0f9f182-3658-48c6-f8e8-bee418f73381"
      },
      "execution_count": 13,
      "outputs": [
        {
          "output_type": "execute_result",
          "data": {
            "text/html": [
              "\n",
              "  <div id=\"df-dd5fe48f-2e2e-4033-96b9-85adb0d6645a\">\n",
              "    <div class=\"colab-df-container\">\n",
              "      <div>\n",
              "<style scoped>\n",
              "    .dataframe tbody tr th:only-of-type {\n",
              "        vertical-align: middle;\n",
              "    }\n",
              "\n",
              "    .dataframe tbody tr th {\n",
              "        vertical-align: top;\n",
              "    }\n",
              "\n",
              "    .dataframe thead th {\n",
              "        text-align: right;\n",
              "    }\n",
              "</style>\n",
              "<table border=\"1\" class=\"dataframe\">\n",
              "  <thead>\n",
              "    <tr style=\"text-align: right;\">\n",
              "      <th></th>\n",
              "      <th>text</th>\n",
              "      <th>label</th>\n",
              "    </tr>\n",
              "  </thead>\n",
              "  <tbody>\n",
              "    <tr>\n",
              "      <th>0</th>\n",
              "      <td>Donald Trump just couldn t wish all Americans ...</td>\n",
              "      <td>0</td>\n",
              "    </tr>\n",
              "    <tr>\n",
              "      <th>1</th>\n",
              "      <td>House Intelligence Committee Chairman Devin Nu...</td>\n",
              "      <td>0</td>\n",
              "    </tr>\n",
              "    <tr>\n",
              "      <th>2</th>\n",
              "      <td>On Friday, it was revealed that former Milwauk...</td>\n",
              "      <td>0</td>\n",
              "    </tr>\n",
              "    <tr>\n",
              "      <th>3</th>\n",
              "      <td>On Christmas day, Donald Trump announced that ...</td>\n",
              "      <td>0</td>\n",
              "    </tr>\n",
              "    <tr>\n",
              "      <th>4</th>\n",
              "      <td>Pope Francis used his annual Christmas Day mes...</td>\n",
              "      <td>0</td>\n",
              "    </tr>\n",
              "  </tbody>\n",
              "</table>\n",
              "</div>\n",
              "      <button class=\"colab-df-convert\" onclick=\"convertToInteractive('df-dd5fe48f-2e2e-4033-96b9-85adb0d6645a')\"\n",
              "              title=\"Convert this dataframe to an interactive table.\"\n",
              "              style=\"display:none;\">\n",
              "        \n",
              "  <svg xmlns=\"http://www.w3.org/2000/svg\" height=\"24px\"viewBox=\"0 0 24 24\"\n",
              "       width=\"24px\">\n",
              "    <path d=\"M0 0h24v24H0V0z\" fill=\"none\"/>\n",
              "    <path d=\"M18.56 5.44l.94 2.06.94-2.06 2.06-.94-2.06-.94-.94-2.06-.94 2.06-2.06.94zm-11 1L8.5 8.5l.94-2.06 2.06-.94-2.06-.94L8.5 2.5l-.94 2.06-2.06.94zm10 10l.94 2.06.94-2.06 2.06-.94-2.06-.94-.94-2.06-.94 2.06-2.06.94z\"/><path d=\"M17.41 7.96l-1.37-1.37c-.4-.4-.92-.59-1.43-.59-.52 0-1.04.2-1.43.59L10.3 9.45l-7.72 7.72c-.78.78-.78 2.05 0 2.83L4 21.41c.39.39.9.59 1.41.59.51 0 1.02-.2 1.41-.59l7.78-7.78 2.81-2.81c.8-.78.8-2.07 0-2.86zM5.41 20L4 18.59l7.72-7.72 1.47 1.35L5.41 20z\"/>\n",
              "  </svg>\n",
              "      </button>\n",
              "      \n",
              "  <style>\n",
              "    .colab-df-container {\n",
              "      display:flex;\n",
              "      flex-wrap:wrap;\n",
              "      gap: 12px;\n",
              "    }\n",
              "\n",
              "    .colab-df-convert {\n",
              "      background-color: #E8F0FE;\n",
              "      border: none;\n",
              "      border-radius: 50%;\n",
              "      cursor: pointer;\n",
              "      display: none;\n",
              "      fill: #1967D2;\n",
              "      height: 32px;\n",
              "      padding: 0 0 0 0;\n",
              "      width: 32px;\n",
              "    }\n",
              "\n",
              "    .colab-df-convert:hover {\n",
              "      background-color: #E2EBFA;\n",
              "      box-shadow: 0px 1px 2px rgba(60, 64, 67, 0.3), 0px 1px 3px 1px rgba(60, 64, 67, 0.15);\n",
              "      fill: #174EA6;\n",
              "    }\n",
              "\n",
              "    [theme=dark] .colab-df-convert {\n",
              "      background-color: #3B4455;\n",
              "      fill: #D2E3FC;\n",
              "    }\n",
              "\n",
              "    [theme=dark] .colab-df-convert:hover {\n",
              "      background-color: #434B5C;\n",
              "      box-shadow: 0px 1px 3px 1px rgba(0, 0, 0, 0.15);\n",
              "      filter: drop-shadow(0px 1px 2px rgba(0, 0, 0, 0.3));\n",
              "      fill: #FFFFFF;\n",
              "    }\n",
              "  </style>\n",
              "\n",
              "      <script>\n",
              "        const buttonEl =\n",
              "          document.querySelector('#df-dd5fe48f-2e2e-4033-96b9-85adb0d6645a button.colab-df-convert');\n",
              "        buttonEl.style.display =\n",
              "          google.colab.kernel.accessAllowed ? 'block' : 'none';\n",
              "\n",
              "        async function convertToInteractive(key) {\n",
              "          const element = document.querySelector('#df-dd5fe48f-2e2e-4033-96b9-85adb0d6645a');\n",
              "          const dataTable =\n",
              "            await google.colab.kernel.invokeFunction('convertToInteractive',\n",
              "                                                     [key], {});\n",
              "          if (!dataTable) return;\n",
              "\n",
              "          const docLinkHtml = 'Like what you see? Visit the ' +\n",
              "            '<a target=\"_blank\" href=https://colab.research.google.com/notebooks/data_table.ipynb>data table notebook</a>'\n",
              "            + ' to learn more about interactive tables.';\n",
              "          element.innerHTML = '';\n",
              "          dataTable['output_type'] = 'display_data';\n",
              "          await google.colab.output.renderOutput(dataTable, element);\n",
              "          const docLink = document.createElement('div');\n",
              "          docLink.innerHTML = docLinkHtml;\n",
              "          element.appendChild(docLink);\n",
              "        }\n",
              "      </script>\n",
              "    </div>\n",
              "  </div>\n",
              "  "
            ],
            "text/plain": [
              "                                                text  label\n",
              "0  Donald Trump just couldn t wish all Americans ...      0\n",
              "1  House Intelligence Committee Chairman Devin Nu...      0\n",
              "2  On Friday, it was revealed that former Milwauk...      0\n",
              "3  On Christmas day, Donald Trump announced that ...      0\n",
              "4  Pope Francis used his annual Christmas Day mes...      0"
            ]
          },
          "metadata": {},
          "execution_count": 13
        }
      ]
    },
    {
      "cell_type": "code",
      "source": [
        "df.tail()"
      ],
      "metadata": {
        "colab": {
          "base_uri": "https://localhost:8080/",
          "height": 206
        },
        "id": "FE6Ma5-FUsvR",
        "outputId": "e46b790e-044c-4376-be6a-99e35dada66d"
      },
      "execution_count": 14,
      "outputs": [
        {
          "output_type": "execute_result",
          "data": {
            "text/html": [
              "\n",
              "  <div id=\"df-512a9d63-9c64-4386-bf98-54875fdd493a\">\n",
              "    <div class=\"colab-df-container\">\n",
              "      <div>\n",
              "<style scoped>\n",
              "    .dataframe tbody tr th:only-of-type {\n",
              "        vertical-align: middle;\n",
              "    }\n",
              "\n",
              "    .dataframe tbody tr th {\n",
              "        vertical-align: top;\n",
              "    }\n",
              "\n",
              "    .dataframe thead th {\n",
              "        text-align: right;\n",
              "    }\n",
              "</style>\n",
              "<table border=\"1\" class=\"dataframe\">\n",
              "  <thead>\n",
              "    <tr style=\"text-align: right;\">\n",
              "      <th></th>\n",
              "      <th>text</th>\n",
              "      <th>label</th>\n",
              "    </tr>\n",
              "  </thead>\n",
              "  <tbody>\n",
              "    <tr>\n",
              "      <th>44893</th>\n",
              "      <td>BRUSSELS (Reuters) - NATO allies on Tuesday we...</td>\n",
              "      <td>1</td>\n",
              "    </tr>\n",
              "    <tr>\n",
              "      <th>44894</th>\n",
              "      <td>LONDON (Reuters) - LexisNexis, a provider of l...</td>\n",
              "      <td>1</td>\n",
              "    </tr>\n",
              "    <tr>\n",
              "      <th>44895</th>\n",
              "      <td>MINSK (Reuters) - In the shadow of disused Sov...</td>\n",
              "      <td>1</td>\n",
              "    </tr>\n",
              "    <tr>\n",
              "      <th>44896</th>\n",
              "      <td>MOSCOW (Reuters) - Vatican Secretary of State ...</td>\n",
              "      <td>1</td>\n",
              "    </tr>\n",
              "    <tr>\n",
              "      <th>44897</th>\n",
              "      <td>JAKARTA (Reuters) - Indonesia will buy 11 Sukh...</td>\n",
              "      <td>1</td>\n",
              "    </tr>\n",
              "  </tbody>\n",
              "</table>\n",
              "</div>\n",
              "      <button class=\"colab-df-convert\" onclick=\"convertToInteractive('df-512a9d63-9c64-4386-bf98-54875fdd493a')\"\n",
              "              title=\"Convert this dataframe to an interactive table.\"\n",
              "              style=\"display:none;\">\n",
              "        \n",
              "  <svg xmlns=\"http://www.w3.org/2000/svg\" height=\"24px\"viewBox=\"0 0 24 24\"\n",
              "       width=\"24px\">\n",
              "    <path d=\"M0 0h24v24H0V0z\" fill=\"none\"/>\n",
              "    <path d=\"M18.56 5.44l.94 2.06.94-2.06 2.06-.94-2.06-.94-.94-2.06-.94 2.06-2.06.94zm-11 1L8.5 8.5l.94-2.06 2.06-.94-2.06-.94L8.5 2.5l-.94 2.06-2.06.94zm10 10l.94 2.06.94-2.06 2.06-.94-2.06-.94-.94-2.06-.94 2.06-2.06.94z\"/><path d=\"M17.41 7.96l-1.37-1.37c-.4-.4-.92-.59-1.43-.59-.52 0-1.04.2-1.43.59L10.3 9.45l-7.72 7.72c-.78.78-.78 2.05 0 2.83L4 21.41c.39.39.9.59 1.41.59.51 0 1.02-.2 1.41-.59l7.78-7.78 2.81-2.81c.8-.78.8-2.07 0-2.86zM5.41 20L4 18.59l7.72-7.72 1.47 1.35L5.41 20z\"/>\n",
              "  </svg>\n",
              "      </button>\n",
              "      \n",
              "  <style>\n",
              "    .colab-df-container {\n",
              "      display:flex;\n",
              "      flex-wrap:wrap;\n",
              "      gap: 12px;\n",
              "    }\n",
              "\n",
              "    .colab-df-convert {\n",
              "      background-color: #E8F0FE;\n",
              "      border: none;\n",
              "      border-radius: 50%;\n",
              "      cursor: pointer;\n",
              "      display: none;\n",
              "      fill: #1967D2;\n",
              "      height: 32px;\n",
              "      padding: 0 0 0 0;\n",
              "      width: 32px;\n",
              "    }\n",
              "\n",
              "    .colab-df-convert:hover {\n",
              "      background-color: #E2EBFA;\n",
              "      box-shadow: 0px 1px 2px rgba(60, 64, 67, 0.3), 0px 1px 3px 1px rgba(60, 64, 67, 0.15);\n",
              "      fill: #174EA6;\n",
              "    }\n",
              "\n",
              "    [theme=dark] .colab-df-convert {\n",
              "      background-color: #3B4455;\n",
              "      fill: #D2E3FC;\n",
              "    }\n",
              "\n",
              "    [theme=dark] .colab-df-convert:hover {\n",
              "      background-color: #434B5C;\n",
              "      box-shadow: 0px 1px 3px 1px rgba(0, 0, 0, 0.15);\n",
              "      filter: drop-shadow(0px 1px 2px rgba(0, 0, 0, 0.3));\n",
              "      fill: #FFFFFF;\n",
              "    }\n",
              "  </style>\n",
              "\n",
              "      <script>\n",
              "        const buttonEl =\n",
              "          document.querySelector('#df-512a9d63-9c64-4386-bf98-54875fdd493a button.colab-df-convert');\n",
              "        buttonEl.style.display =\n",
              "          google.colab.kernel.accessAllowed ? 'block' : 'none';\n",
              "\n",
              "        async function convertToInteractive(key) {\n",
              "          const element = document.querySelector('#df-512a9d63-9c64-4386-bf98-54875fdd493a');\n",
              "          const dataTable =\n",
              "            await google.colab.kernel.invokeFunction('convertToInteractive',\n",
              "                                                     [key], {});\n",
              "          if (!dataTable) return;\n",
              "\n",
              "          const docLinkHtml = 'Like what you see? Visit the ' +\n",
              "            '<a target=\"_blank\" href=https://colab.research.google.com/notebooks/data_table.ipynb>data table notebook</a>'\n",
              "            + ' to learn more about interactive tables.';\n",
              "          element.innerHTML = '';\n",
              "          dataTable['output_type'] = 'display_data';\n",
              "          await google.colab.output.renderOutput(dataTable, element);\n",
              "          const docLink = document.createElement('div');\n",
              "          docLink.innerHTML = docLinkHtml;\n",
              "          element.appendChild(docLink);\n",
              "        }\n",
              "      </script>\n",
              "    </div>\n",
              "  </div>\n",
              "  "
            ],
            "text/plain": [
              "                                                    text  label\n",
              "44893  BRUSSELS (Reuters) - NATO allies on Tuesday we...      1\n",
              "44894  LONDON (Reuters) - LexisNexis, a provider of l...      1\n",
              "44895  MINSK (Reuters) - In the shadow of disused Sov...      1\n",
              "44896  MOSCOW (Reuters) - Vatican Secretary of State ...      1\n",
              "44897  JAKARTA (Reuters) - Indonesia will buy 11 Sukh...      1"
            ]
          },
          "metadata": {},
          "execution_count": 14
        }
      ]
    },
    {
      "cell_type": "code",
      "source": [
        "df['docid'] = range(1, len(df) + 1)\n",
        "df.head()"
      ],
      "metadata": {
        "colab": {
          "base_uri": "https://localhost:8080/",
          "height": 206
        },
        "id": "4lzIpIiYdDxq",
        "outputId": "63bdacf8-6a89-4f12-8b8f-acab9aa5639a"
      },
      "execution_count": 22,
      "outputs": [
        {
          "output_type": "execute_result",
          "data": {
            "text/html": [
              "\n",
              "  <div id=\"df-aaa0274f-4edb-4db8-934b-43a31d66016f\">\n",
              "    <div class=\"colab-df-container\">\n",
              "      <div>\n",
              "<style scoped>\n",
              "    .dataframe tbody tr th:only-of-type {\n",
              "        vertical-align: middle;\n",
              "    }\n",
              "\n",
              "    .dataframe tbody tr th {\n",
              "        vertical-align: top;\n",
              "    }\n",
              "\n",
              "    .dataframe thead th {\n",
              "        text-align: right;\n",
              "    }\n",
              "</style>\n",
              "<table border=\"1\" class=\"dataframe\">\n",
              "  <thead>\n",
              "    <tr style=\"text-align: right;\">\n",
              "      <th></th>\n",
              "      <th>docid</th>\n",
              "      <th>text</th>\n",
              "      <th>label</th>\n",
              "    </tr>\n",
              "  </thead>\n",
              "  <tbody>\n",
              "    <tr>\n",
              "      <th>0</th>\n",
              "      <td>1</td>\n",
              "      <td>Donald Trump just couldn t wish all Americans ...</td>\n",
              "      <td>0</td>\n",
              "    </tr>\n",
              "    <tr>\n",
              "      <th>1</th>\n",
              "      <td>2</td>\n",
              "      <td>House Intelligence Committee Chairman Devin Nu...</td>\n",
              "      <td>0</td>\n",
              "    </tr>\n",
              "    <tr>\n",
              "      <th>2</th>\n",
              "      <td>3</td>\n",
              "      <td>On Friday, it was revealed that former Milwauk...</td>\n",
              "      <td>0</td>\n",
              "    </tr>\n",
              "    <tr>\n",
              "      <th>3</th>\n",
              "      <td>4</td>\n",
              "      <td>On Christmas day, Donald Trump announced that ...</td>\n",
              "      <td>0</td>\n",
              "    </tr>\n",
              "    <tr>\n",
              "      <th>4</th>\n",
              "      <td>5</td>\n",
              "      <td>Pope Francis used his annual Christmas Day mes...</td>\n",
              "      <td>0</td>\n",
              "    </tr>\n",
              "  </tbody>\n",
              "</table>\n",
              "</div>\n",
              "      <button class=\"colab-df-convert\" onclick=\"convertToInteractive('df-aaa0274f-4edb-4db8-934b-43a31d66016f')\"\n",
              "              title=\"Convert this dataframe to an interactive table.\"\n",
              "              style=\"display:none;\">\n",
              "        \n",
              "  <svg xmlns=\"http://www.w3.org/2000/svg\" height=\"24px\"viewBox=\"0 0 24 24\"\n",
              "       width=\"24px\">\n",
              "    <path d=\"M0 0h24v24H0V0z\" fill=\"none\"/>\n",
              "    <path d=\"M18.56 5.44l.94 2.06.94-2.06 2.06-.94-2.06-.94-.94-2.06-.94 2.06-2.06.94zm-11 1L8.5 8.5l.94-2.06 2.06-.94-2.06-.94L8.5 2.5l-.94 2.06-2.06.94zm10 10l.94 2.06.94-2.06 2.06-.94-2.06-.94-.94-2.06-.94 2.06-2.06.94z\"/><path d=\"M17.41 7.96l-1.37-1.37c-.4-.4-.92-.59-1.43-.59-.52 0-1.04.2-1.43.59L10.3 9.45l-7.72 7.72c-.78.78-.78 2.05 0 2.83L4 21.41c.39.39.9.59 1.41.59.51 0 1.02-.2 1.41-.59l7.78-7.78 2.81-2.81c.8-.78.8-2.07 0-2.86zM5.41 20L4 18.59l7.72-7.72 1.47 1.35L5.41 20z\"/>\n",
              "  </svg>\n",
              "      </button>\n",
              "      \n",
              "  <style>\n",
              "    .colab-df-container {\n",
              "      display:flex;\n",
              "      flex-wrap:wrap;\n",
              "      gap: 12px;\n",
              "    }\n",
              "\n",
              "    .colab-df-convert {\n",
              "      background-color: #E8F0FE;\n",
              "      border: none;\n",
              "      border-radius: 50%;\n",
              "      cursor: pointer;\n",
              "      display: none;\n",
              "      fill: #1967D2;\n",
              "      height: 32px;\n",
              "      padding: 0 0 0 0;\n",
              "      width: 32px;\n",
              "    }\n",
              "\n",
              "    .colab-df-convert:hover {\n",
              "      background-color: #E2EBFA;\n",
              "      box-shadow: 0px 1px 2px rgba(60, 64, 67, 0.3), 0px 1px 3px 1px rgba(60, 64, 67, 0.15);\n",
              "      fill: #174EA6;\n",
              "    }\n",
              "\n",
              "    [theme=dark] .colab-df-convert {\n",
              "      background-color: #3B4455;\n",
              "      fill: #D2E3FC;\n",
              "    }\n",
              "\n",
              "    [theme=dark] .colab-df-convert:hover {\n",
              "      background-color: #434B5C;\n",
              "      box-shadow: 0px 1px 3px 1px rgba(0, 0, 0, 0.15);\n",
              "      filter: drop-shadow(0px 1px 2px rgba(0, 0, 0, 0.3));\n",
              "      fill: #FFFFFF;\n",
              "    }\n",
              "  </style>\n",
              "\n",
              "      <script>\n",
              "        const buttonEl =\n",
              "          document.querySelector('#df-aaa0274f-4edb-4db8-934b-43a31d66016f button.colab-df-convert');\n",
              "        buttonEl.style.display =\n",
              "          google.colab.kernel.accessAllowed ? 'block' : 'none';\n",
              "\n",
              "        async function convertToInteractive(key) {\n",
              "          const element = document.querySelector('#df-aaa0274f-4edb-4db8-934b-43a31d66016f');\n",
              "          const dataTable =\n",
              "            await google.colab.kernel.invokeFunction('convertToInteractive',\n",
              "                                                     [key], {});\n",
              "          if (!dataTable) return;\n",
              "\n",
              "          const docLinkHtml = 'Like what you see? Visit the ' +\n",
              "            '<a target=\"_blank\" href=https://colab.research.google.com/notebooks/data_table.ipynb>data table notebook</a>'\n",
              "            + ' to learn more about interactive tables.';\n",
              "          element.innerHTML = '';\n",
              "          dataTable['output_type'] = 'display_data';\n",
              "          await google.colab.output.renderOutput(dataTable, element);\n",
              "          const docLink = document.createElement('div');\n",
              "          docLink.innerHTML = docLinkHtml;\n",
              "          element.appendChild(docLink);\n",
              "        }\n",
              "      </script>\n",
              "    </div>\n",
              "  </div>\n",
              "  "
            ],
            "text/plain": [
              "   docid                                               text  label\n",
              "0      1  Donald Trump just couldn t wish all Americans ...      0\n",
              "1      2  House Intelligence Committee Chairman Devin Nu...      0\n",
              "2      3  On Friday, it was revealed that former Milwauk...      0\n",
              "3      4  On Christmas day, Donald Trump announced that ...      0\n",
              "4      5  Pope Francis used his annual Christmas Day mes...      0"
            ]
          },
          "metadata": {},
          "execution_count": 22
        }
      ]
    },
    {
      "cell_type": "code",
      "source": [
        "cols = ['docid', 'text', 'label']"
      ],
      "metadata": {
        "id": "4PdChoY5U9yz"
      },
      "execution_count": 23,
      "outputs": []
    },
    {
      "cell_type": "code",
      "source": [
        "df = df[cols]\n",
        "df.head()"
      ],
      "metadata": {
        "colab": {
          "base_uri": "https://localhost:8080/",
          "height": 206
        },
        "id": "1R7jqKwIlXeJ",
        "outputId": "66da4cff-bdd6-4827-d589-6374484e0d49"
      },
      "execution_count": 24,
      "outputs": [
        {
          "output_type": "execute_result",
          "data": {
            "text/html": [
              "\n",
              "  <div id=\"df-88249985-9fc3-4c66-82ce-686ff17988ce\">\n",
              "    <div class=\"colab-df-container\">\n",
              "      <div>\n",
              "<style scoped>\n",
              "    .dataframe tbody tr th:only-of-type {\n",
              "        vertical-align: middle;\n",
              "    }\n",
              "\n",
              "    .dataframe tbody tr th {\n",
              "        vertical-align: top;\n",
              "    }\n",
              "\n",
              "    .dataframe thead th {\n",
              "        text-align: right;\n",
              "    }\n",
              "</style>\n",
              "<table border=\"1\" class=\"dataframe\">\n",
              "  <thead>\n",
              "    <tr style=\"text-align: right;\">\n",
              "      <th></th>\n",
              "      <th>docid</th>\n",
              "      <th>text</th>\n",
              "      <th>label</th>\n",
              "    </tr>\n",
              "  </thead>\n",
              "  <tbody>\n",
              "    <tr>\n",
              "      <th>0</th>\n",
              "      <td>1</td>\n",
              "      <td>Donald Trump just couldn t wish all Americans ...</td>\n",
              "      <td>0</td>\n",
              "    </tr>\n",
              "    <tr>\n",
              "      <th>1</th>\n",
              "      <td>2</td>\n",
              "      <td>House Intelligence Committee Chairman Devin Nu...</td>\n",
              "      <td>0</td>\n",
              "    </tr>\n",
              "    <tr>\n",
              "      <th>2</th>\n",
              "      <td>3</td>\n",
              "      <td>On Friday, it was revealed that former Milwauk...</td>\n",
              "      <td>0</td>\n",
              "    </tr>\n",
              "    <tr>\n",
              "      <th>3</th>\n",
              "      <td>4</td>\n",
              "      <td>On Christmas day, Donald Trump announced that ...</td>\n",
              "      <td>0</td>\n",
              "    </tr>\n",
              "    <tr>\n",
              "      <th>4</th>\n",
              "      <td>5</td>\n",
              "      <td>Pope Francis used his annual Christmas Day mes...</td>\n",
              "      <td>0</td>\n",
              "    </tr>\n",
              "  </tbody>\n",
              "</table>\n",
              "</div>\n",
              "      <button class=\"colab-df-convert\" onclick=\"convertToInteractive('df-88249985-9fc3-4c66-82ce-686ff17988ce')\"\n",
              "              title=\"Convert this dataframe to an interactive table.\"\n",
              "              style=\"display:none;\">\n",
              "        \n",
              "  <svg xmlns=\"http://www.w3.org/2000/svg\" height=\"24px\"viewBox=\"0 0 24 24\"\n",
              "       width=\"24px\">\n",
              "    <path d=\"M0 0h24v24H0V0z\" fill=\"none\"/>\n",
              "    <path d=\"M18.56 5.44l.94 2.06.94-2.06 2.06-.94-2.06-.94-.94-2.06-.94 2.06-2.06.94zm-11 1L8.5 8.5l.94-2.06 2.06-.94-2.06-.94L8.5 2.5l-.94 2.06-2.06.94zm10 10l.94 2.06.94-2.06 2.06-.94-2.06-.94-.94-2.06-.94 2.06-2.06.94z\"/><path d=\"M17.41 7.96l-1.37-1.37c-.4-.4-.92-.59-1.43-.59-.52 0-1.04.2-1.43.59L10.3 9.45l-7.72 7.72c-.78.78-.78 2.05 0 2.83L4 21.41c.39.39.9.59 1.41.59.51 0 1.02-.2 1.41-.59l7.78-7.78 2.81-2.81c.8-.78.8-2.07 0-2.86zM5.41 20L4 18.59l7.72-7.72 1.47 1.35L5.41 20z\"/>\n",
              "  </svg>\n",
              "      </button>\n",
              "      \n",
              "  <style>\n",
              "    .colab-df-container {\n",
              "      display:flex;\n",
              "      flex-wrap:wrap;\n",
              "      gap: 12px;\n",
              "    }\n",
              "\n",
              "    .colab-df-convert {\n",
              "      background-color: #E8F0FE;\n",
              "      border: none;\n",
              "      border-radius: 50%;\n",
              "      cursor: pointer;\n",
              "      display: none;\n",
              "      fill: #1967D2;\n",
              "      height: 32px;\n",
              "      padding: 0 0 0 0;\n",
              "      width: 32px;\n",
              "    }\n",
              "\n",
              "    .colab-df-convert:hover {\n",
              "      background-color: #E2EBFA;\n",
              "      box-shadow: 0px 1px 2px rgba(60, 64, 67, 0.3), 0px 1px 3px 1px rgba(60, 64, 67, 0.15);\n",
              "      fill: #174EA6;\n",
              "    }\n",
              "\n",
              "    [theme=dark] .colab-df-convert {\n",
              "      background-color: #3B4455;\n",
              "      fill: #D2E3FC;\n",
              "    }\n",
              "\n",
              "    [theme=dark] .colab-df-convert:hover {\n",
              "      background-color: #434B5C;\n",
              "      box-shadow: 0px 1px 3px 1px rgba(0, 0, 0, 0.15);\n",
              "      filter: drop-shadow(0px 1px 2px rgba(0, 0, 0, 0.3));\n",
              "      fill: #FFFFFF;\n",
              "    }\n",
              "  </style>\n",
              "\n",
              "      <script>\n",
              "        const buttonEl =\n",
              "          document.querySelector('#df-88249985-9fc3-4c66-82ce-686ff17988ce button.colab-df-convert');\n",
              "        buttonEl.style.display =\n",
              "          google.colab.kernel.accessAllowed ? 'block' : 'none';\n",
              "\n",
              "        async function convertToInteractive(key) {\n",
              "          const element = document.querySelector('#df-88249985-9fc3-4c66-82ce-686ff17988ce');\n",
              "          const dataTable =\n",
              "            await google.colab.kernel.invokeFunction('convertToInteractive',\n",
              "                                                     [key], {});\n",
              "          if (!dataTable) return;\n",
              "\n",
              "          const docLinkHtml = 'Like what you see? Visit the ' +\n",
              "            '<a target=\"_blank\" href=https://colab.research.google.com/notebooks/data_table.ipynb>data table notebook</a>'\n",
              "            + ' to learn more about interactive tables.';\n",
              "          element.innerHTML = '';\n",
              "          dataTable['output_type'] = 'display_data';\n",
              "          await google.colab.output.renderOutput(dataTable, element);\n",
              "          const docLink = document.createElement('div');\n",
              "          docLink.innerHTML = docLinkHtml;\n",
              "          element.appendChild(docLink);\n",
              "        }\n",
              "      </script>\n",
              "    </div>\n",
              "  </div>\n",
              "  "
            ],
            "text/plain": [
              "   docid                                               text  label\n",
              "0      1  Donald Trump just couldn t wish all Americans ...      0\n",
              "1      2  House Intelligence Committee Chairman Devin Nu...      0\n",
              "2      3  On Friday, it was revealed that former Milwauk...      0\n",
              "3      4  On Christmas day, Donald Trump announced that ...      0\n",
              "4      5  Pope Francis used his annual Christmas Day mes...      0"
            ]
          },
          "metadata": {},
          "execution_count": 24
        }
      ]
    },
    {
      "cell_type": "code",
      "source": [
        "df = pd.read_csv('/content/drive/MyDrive/KoBERT-nsmc/data/fake_news/dataset_clean.csv')"
      ],
      "metadata": {
        "id": "QbcLNADFlrub"
      },
      "execution_count": 55,
      "outputs": []
    },
    {
      "cell_type": "code",
      "source": [
        "df.info()"
      ],
      "metadata": {
        "colab": {
          "base_uri": "https://localhost:8080/"
        },
        "id": "q3-UZshsc3xF",
        "outputId": "a86a2a19-5ab4-4fd6-9f56-8c2dedd65fd0"
      },
      "execution_count": 56,
      "outputs": [
        {
          "output_type": "stream",
          "name": "stdout",
          "text": [
            "<class 'pandas.core.frame.DataFrame'>\n",
            "RangeIndex: 35430 entries, 0 to 35429\n",
            "Data columns (total 3 columns):\n",
            " #   Column  Non-Null Count  Dtype \n",
            "---  ------  --------------  ----- \n",
            " 0   docid   35430 non-null  object\n",
            " 1   text    35430 non-null  object\n",
            " 2   label   35415 non-null  object\n",
            "dtypes: object(3)\n",
            "memory usage: 830.5+ KB\n"
          ]
        }
      ]
    },
    {
      "cell_type": "code",
      "source": [
        "from sklearn.model_selection import train_test_split\n",
        "\n",
        "train, test = train_test_split(df, test_size=0.2)"
      ],
      "metadata": {
        "id": "UktkbYLRqXSc"
      },
      "execution_count": 57,
      "outputs": []
    },
    {
      "cell_type": "code",
      "source": [
        "print(train.shape)\n",
        "print(test.shape)"
      ],
      "metadata": {
        "colab": {
          "base_uri": "https://localhost:8080/"
        },
        "id": "xmdaaiu2qnZa",
        "outputId": "e0753284-df65-4d29-c4e9-7a5d64397c2f"
      },
      "execution_count": 58,
      "outputs": [
        {
          "output_type": "stream",
          "name": "stdout",
          "text": [
            "(28344, 3)\n",
            "(7086, 3)\n"
          ]
        }
      ]
    },
    {
      "cell_type": "code",
      "source": [
        "train.to_csv('./data/fake_news/fn_train.csv', index = False)\n",
        "test.to_csv('./data/fake_news/fn_test.csv', index = False)"
      ],
      "metadata": {
        "id": "ii5xzAMuVsfV"
      },
      "execution_count": 59,
      "outputs": []
    },
    {
      "cell_type": "code",
      "source": [
        "# train = pd.read_csv('./data/fake_news/train.csv')\n",
        "# test = pd.read_csv('./data/fake_news/test.csv')"
      ],
      "metadata": {
        "id": "wPQ4mWGh611h"
      },
      "execution_count": 29,
      "outputs": []
    },
    {
      "cell_type": "code",
      "source": [
        "import csv\n",
        "\n",
        "full_file = '/content/drive/MyDrive/KoBERT-nsmc/data/misc/fake_news.csv'\n",
        "train_file = './data/fake_news/fn_train.csv'\n",
        "test_file = './data/fake_news/fn_test.csv'\n",
        "\n",
        "# with open(test_file, 'r') as inp, open('./data/fake_news/fn_test.txt', 'w') as out:\n",
        "#     for line in inp:\n",
        "#         line = line.replace(',', '\\t')\n",
        "#         out.write(line)\n",
        "\n",
        "csv.writer(open('./data/fake_news/fn_train.txt', 'w+'), delimiter='\\t').writerows(csv.reader(open(train_file)))"
      ],
      "metadata": {
        "id": "YHYrdCUj_dpt"
      },
      "execution_count": 37,
      "outputs": []
    },
    {
      "cell_type": "markdown",
      "source": [
        "# Test Read Dataset Function from data_loader.py"
      ],
      "metadata": {
        "id": "ZrFQPSJU39l7"
      }
    },
    {
      "cell_type": "code",
      "source": [
        "def read_file(input_file, quotechar=None):\n",
        "    \"\"\"Reads a tab separated value file.\"\"\"\n",
        "    with open(input_file, \"r\", encoding=\"utf-8\") as f:\n",
        "        lines = []\n",
        "        for line in f:\n",
        "            lines.append(line.strip())\n",
        "        return lines"
      ],
      "metadata": {
        "id": "uYl6L6i3l1pd"
      },
      "execution_count": 38,
      "outputs": []
    },
    {
      "cell_type": "code",
      "source": [
        "read_file('/content/drive/MyDrive/KoBERT-nsmc/data/fake_news/fn_train_cut.csv')"
      ],
      "metadata": {
        "id": "A4jwIby3pnlf"
      },
      "execution_count": null,
      "outputs": []
    },
    {
      "cell_type": "code",
      "source": [
        "df_small = df_train[:30000]\n",
        "df_small.to_csv('./data/fake_news/fn_small.csv', index=False)"
      ],
      "metadata": {
        "id": "rehwzkI0OCI0"
      },
      "execution_count": 72,
      "outputs": []
    },
    {
      "cell_type": "markdown",
      "source": [
        "# Model Training"
      ],
      "metadata": {
        "id": "uS4L72mH4VMx"
      }
    },
    {
      "cell_type": "code",
      "source": [
        "!pwd"
      ],
      "metadata": {
        "colab": {
          "base_uri": "https://localhost:8080/"
        },
        "id": "uldikjBM594X",
        "outputId": "a9a09e8a-cc3e-482a-f47f-9efd4c362040"
      },
      "execution_count": 51,
      "outputs": [
        {
          "output_type": "stream",
          "name": "stdout",
          "text": [
            "/content/drive/MyDrive/KoBERT-nsmc\n"
          ]
        }
      ]
    },
    {
      "cell_type": "code",
      "source": [
        "!python main.py --data_dir ./data/ --train_file ratings_train.txt --test_file ratings_test.txt --model_type bert --max_seq_len 128 --do_train --do_eval --num_train_epochs 2"
      ],
      "metadata": {
        "colab": {
          "base_uri": "https://localhost:8080/"
        },
        "id": "cmvASZEY1Z-a",
        "outputId": "350fdecb-8863-4666-84de-19aa3e63b410"
      },
      "execution_count": 79,
      "outputs": [
        {
          "output_type": "stream",
          "name": "stdout",
          "text": [
            "12/17/2021 07:22:52 - INFO - transformers.tokenization_utils -   loading file https://s3.amazonaws.com/models.huggingface.co/bert/bert-base-multilingual-cased-vocab.txt from cache at /root/.cache/torch/transformers/96435fa287fbf7e469185f1062386e05a075cadbf6838b74da22bf64b080bc32.99bcd55fc66f4f3360bc49ba472b940b8dcf223ea6a345deb969d607ca900729\n",
            "12/17/2021 07:22:53 - INFO - data_loader -   Creating features from dataset file at ./data/\n",
            "12/17/2021 07:22:53 - INFO - data_loader -   LOOKING AT ./data/ratings_train.txt\n",
            "12/17/2021 07:22:53 - INFO - data_loader -   ['9976970', '아 더빙.. 진짜 짜증나네요 목소리', '0']\n",
            "12/17/2021 07:22:53 - INFO - data_loader -   ['9856453', '정말 최고의 명작 성인이 되고 본 이집트의 왕자는 또 다른 감동 그자체네요', '1']\n",
            "12/17/2021 07:22:53 - INFO - data_loader -   ['10252730', '최최최최악악악악 !!!!', '0']\n",
            "12/17/2021 07:22:53 - INFO - data_loader -   ['8291487', '완전 재미있음 추천 ㅠㅠ♥ 생텀 화이팅 !!!♥', '1']\n",
            "12/17/2021 07:22:53 - INFO - data_loader -   ['2303393', '정말 재밌는 영화!! ost 또한 좋다~!!', '1']\n",
            "12/17/2021 07:22:53 - INFO - data_loader -   ['9135788', '별점 매겨달라하는것도 뻔뻔하게 느껴지는 쓰레기 드라마', '0']\n",
            "12/17/2021 07:22:53 - INFO - data_loader -   ['84194', '별로던데..', '0']\n",
            "12/17/2021 07:22:53 - INFO - data_loader -   ['7268642', 'ㅋㅋㅋㅋㅋㅋ 씨네프에서 보다가 실소를 내뿜은 영홬ㅋㅋㅋㅋㅋㅋㅋㅋㅋㅋㅋ 개그물 보는줄 거기다 2008년에 개봉 했다는게 더 충격........', '0']\n",
            "12/17/2021 07:22:53 - INFO - data_loader -   ['6059337', '원작인영화 스타워즈는 정말 최고엿지만 이 애니메이션영화는 매우 실망했다', '0']\n",
            "12/17/2021 07:22:53 - INFO - data_loader -   ['9555936', '자수하면 9년 정도 살 텐데 그럼 둘의 나이는 20대 후반이겠고 새출발 하기에 충분한 나이인데...아이는 당연히 낙태시키고', '1']\n",
            "12/17/2021 07:22:53 - INFO - data_loader -   ['9246662', '최고의 2d영화가 아닌가싶으다....!', '1']\n",
            "12/17/2021 07:22:53 - INFO - data_loader -   ['7500318', '감상평쓰긴처음이다', '1']\n",
            "12/17/2021 07:22:53 - INFO - data_loader -   ['7237260', '와...진짜 너무 재미없어서 넘겨가면서봤다.. 진짜 너무 재미없음 보지마요 다들', '0']\n",
            "12/17/2021 07:22:53 - INFO - data_loader -   ['8048524', '주식공부하면서 영화 작전을 보면 누구나 다 한번쯤은 그렇게 해 보구 싶은 생각이 많이 들거당. 왜 그런 행동을 하는지 정보의 부족으로 인한 심리상태 표현 좋았다. 세상사는게 그렇지 뭐.', '1']\n",
            "12/17/2021 07:22:53 - INFO - data_loader -   ['10036236', '정말 재밌어요! 눙물 날거같애', '0']\n",
            "12/17/2021 07:22:53 - INFO - data_loader -   ['1737741', '어쨌든 비디오 대여 1순위였다..', '1']\n",
            "12/17/2021 07:22:53 - INFO - data_loader -   ['920285', '이은주... 당신을 생각하며 난 제2의 인생을 살고 있습니다', '1']\n",
            "12/17/2021 07:22:53 - INFO - data_loader -   ['10014571', '아이유에겐 최고다이순신 이후로 리즈드라마네요 정말이뻐요', '1']\n",
            "12/17/2021 07:22:53 - INFO - data_loader -   ['1507400', 'ㅋㅋ 난 진짜 웃으면서 봤는데;;', '1']\n",
            "12/17/2021 07:22:53 - INFO - data_loader -   ['9107713', '보고 또 보고 싶은 영화죠。아무래도 하지원의 여전사 이미지를 입히 전의 모습이라 더욱 그리운 영화중의 하나인지도 모르겠습니다。권상우 역시 절정을 달할 때였으니까요 허허', '1']\n",
            "12/17/2021 07:22:53 - INFO - data_loader -   ['5889538', '4', '0']\n",
            "12/17/2021 07:22:53 - INFO - data_loader -   ['7202296', '잔잔하지만 나름 재미있음', '1']\n",
            "12/17/2021 07:22:53 - INFO - data_loader -   ['6131592', '개같이 재미없는갑네 ㅎㅎㅎㅎㅎ감독 찐찌버거임??', '0']\n",
            "12/17/2021 07:22:53 - INFO - data_loader -   ['6603772', '여운이 아직도....', '1']\n",
            "12/17/2021 07:22:53 - INFO - data_loader -   ['9369899', '홍콩영화에도 이런영화도 있엇구나 ㅎㅎ 액션영화만 있을줄 알았더니 ㅎ 암튼 마지막에 좀 슬펐음..', '1']\n",
            "12/17/2021 07:22:53 - INFO - data_loader -   ['10004238', '뭔 복싱선수가 동네 양아치한테 줘 터지고, 칼침 맞고.... 말도 안되는 영화인 듯..여배우의 노출이 없는 것도 한심함...', '0']\n",
            "12/17/2021 07:22:53 - INFO - data_loader -   ['6583588', '낭만파 정통 무협사극의 부활을 알린 신호탄!! 정말 멋진 영화입니다.', '1']\n",
            "12/17/2021 07:22:53 - INFO - data_loader -   ['8014654', '임창정이 말아먹은 영화..', '0']\n",
            "12/17/2021 07:22:53 - INFO - data_loader -   ['9155953', '그 무엇보다 나는 우릴 선택하겠어.현재의 사랑, 행복이 얼마나 중요한가 떠올릴 수 있게 하는 대사..좋은 영화 잘 봤습니다.', '1']\n",
            "12/17/2021 07:22:53 - INFO - data_loader -   ['8879454', '비오는 날 밤에.어긋난 사랑과스릴과 짜릿함,미스테리 수사물이 끌린다면 추천.볼만합니다.', '1']\n",
            "12/17/2021 07:22:53 - INFO - data_loader -   ['7515277', '영원히 아름답고도, 아름다운,', '1']\n",
            "12/17/2021 07:22:53 - INFO - data_loader -   ['9882940', '최고의 가족영화..,,', '0']\n",
            "12/17/2021 07:22:53 - INFO - data_loader -   ['3460131', '장난하나?', '0']\n",
            "12/17/2021 07:22:53 - INFO - data_loader -   ['1644183', '마징가와 UFO의 결합을 그린 작품', '1']\n",
            "12/17/2021 07:22:53 - INFO - data_loader -   ['4952247', '박혁권씨 연기 잘하네요. 김예리씨 매력있어요. 정지연씨 약역.. 실감나네요 ^^', '1']\n",
            "12/17/2021 07:22:53 - INFO - data_loader -   ['2238039', '역시 개변태의 나라 일본. 자신들의 성적환상을 영상물로 만드는데 탁월한 능력.', '0']\n",
            "12/17/2021 07:22:53 - INFO - data_loader -   ['5718869', '요한슨 화보영화다 라고 보면 된다. 스토리 영화라고 생각하면 재미없다.', '1']\n",
            "12/17/2021 07:22:53 - INFO - data_loader -   ['6281512', 'too slow ...', '0']\n",
            "12/17/2021 07:22:53 - INFO - data_loader -   ['5804368', '극장가서 돈주고볼 영화는 절대아니구..용이? 앞으로 영화안만드시는게 좋을듯..', '0']\n",
            "12/17/2021 07:22:53 - INFO - data_loader -   ['4505671', '무술하는사람을 존경합시다!! ㅋㅋ', '1']\n",
            "12/17/2021 07:22:53 - INFO - data_loader -   ['10251032', '어린 아이의 마음으로 가슴뛰는 모험을 즐겨보세요!!', '1']\n",
            "12/17/2021 07:22:53 - INFO - data_loader -   ['8575179', '최근에 대상해를 너무 잼있게 봐서 다시 복귀하나 싶었더니...역시나 넌 안돼는 돼지 쉑이였어 20편찍어서 1편성공하니 그게 명감독이냐??', '0']\n",
            "12/17/2021 07:22:53 - INFO - data_loader -   ['7703632', '짱 재밋다 진심', '1']\n",
            "12/17/2021 07:22:53 - INFO - data_loader -   ['8358415', '가슴 훈훈한 영화,전쟁반대! 제국주의 전쟁에 반대한 순사쿠가 오싱에게 많은 기회를 주었습니다. 소설이지만 많은 의미가 내포', '1']\n",
            "12/17/2021 07:22:53 - INFO - data_loader -   ['9782578', '도데체 언제까지 이게 영화로 나올까 궁금하다', '0']\n",
            "12/17/2021 07:22:53 - INFO - data_loader -   ['6988139', '티비에서 하길래 봤는데 OO 재밌자나ㅠㅠㅠ 난 진짜 평점땜에 놓친 영화 개 많은듯... 평점 구려서 안 보다가 나중에 티비나 다운받아 보면 개재미', '1']\n",
            "12/17/2021 07:22:53 - INFO - data_loader -   ['3448402', '잘 만들었다. 약간의 긴장감이 떨어지긴 하지만 그래도 볼만하다.', '1']\n",
            "12/17/2021 07:22:53 - INFO - data_loader -   ['10190448', 'IMF해킹씬이랑 떼제베 헬기씬 이 두 장면으로 이미 클래식 인증!', '1']\n",
            "12/17/2021 07:22:53 - INFO - data_loader -   ['3118733', '여주인공 빼곤', '0']\n",
            "12/17/2021 07:22:53 - INFO - data_loader -   ['8669588', '영상이 정말 예쁘다유지태 짱', '1']\n",
            "12/17/2021 07:22:53 - INFO - data_loader -   ['8867980', '재미가 없으면 길게만들지도 마... 샬리즈테론 내내버럭하고 틴에이저퀸 스튜어트는 앞니만보이고 몰입감도 없고 토르는 내내 지저분해서 정도 안가는데 김보성느낌나고 애매한 캐릭터 윌리엄에 무의미한 전투씬들.. 억지로 끼워넣은 난장이들. 대체 뭘위해서?', '0']\n",
            "12/17/2021 07:22:53 - INFO - data_loader -   ['10259269', '일부러 알려주는 건가 싶을 정도로 앞의 내용이 뻔히 다 보이는 전개 내용은 식상 두 여자배우 예쁜 맛에 보는 영화인듯 남자주인공은 얼굴이 작음', '0']\n",
            "12/17/2021 07:22:53 - INFO - data_loader -   ['6608304', 'ㅋㅋㅋㅋ 진짜 재미없게 봄///', '0']\n",
            "12/17/2021 07:22:53 - INFO - data_loader -   ['8011058', '3부는 1, 2부에 비해 약간 늘어지는 느낌이 있었지만, 북부의 왕 롭 스타크와 어미의 죽음 같은 예상외 반전이 마음에 든다.', '1']\n",
            "12/17/2021 07:22:53 - INFO - data_loader -   ['10105096', '역시 진짜 재밌네 ㅋㅋㅋ', '1']\n",
            "12/17/2021 07:22:53 - INFO - data_loader -   ['8738305', '큐브 1편의 명성에 먹칠한 프리퀄', '0']\n",
            "12/17/2021 07:22:53 - INFO - data_loader -   ['9946874', '우리 어디로 가나요 .. 글쎄요 어디로 갈까요 ..다시봐도 잔잔한 영화 류승수님 출연료가 무척 궁금하다 .^^배용준 슴가가 너무 큼 예진이의 연기가 난 참 좋다 ...♡', '1']\n",
            "12/17/2021 07:22:53 - INFO - data_loader -   ['7960093', '휴식이란 정의를 알려준 영화', '1']\n",
            "12/17/2021 07:22:53 - INFO - data_loader -   ['3050158', '이 영화 정말 소재를 잘 못 살린 영화라고 생각합니다.', '0']\n",
            "12/17/2021 07:22:53 - INFO - data_loader -   ['8680919', '3화보고있는데 넘 지루 .. 나중에 재밋하는데 함 믿고봄니다', '1']\n",
            "12/17/2021 07:22:53 - INFO - data_loader -   ['8116241', '4.44 동참하겠습니다', '0']\n",
            "12/17/2021 07:22:53 - INFO - data_loader -   ['9650237', '아 반전영화라길래 뒤에 반전있나 유심히 봤는데 그냥 정신분열증이 반전이엇음? ㅡㅡ 좀 실망하고봄 내용은 좋은데', '0']\n",
            "12/17/2021 07:22:53 - INFO - data_loader -   ['4714867', '뭐이딴게,,,,', '0']\n",
            "12/17/2021 07:22:53 - INFO - data_loader -   ['2514097', 'ㅋㅋㅋ 와나 참여인원 나까지 2명 ㅋㅋㅋㅋㅋㅋㅋㅋㅋㅋㅋㅋㅋ', '1']\n",
            "12/17/2021 07:22:53 - INFO - data_loader -   ['3729710', '내용은 기억안나고 애들이 너무 시끄러워서 짜증났음', '0']\n",
            "12/17/2021 07:22:53 - INFO - data_loader -   ['8775600', '너무 행복하게 봤네용 감사드려요', '1']\n",
            "12/17/2021 07:22:53 - INFO - data_loader -   ['3768667', '성인이 봐도 좋으리라 생각했는데 완전 착각이네요', '0']\n",
            "12/17/2021 07:22:53 - INFO - data_loader -   ['1542068', '볼만. 좋은 스토리텔링. 기록영화 같아서 긴장감 부족', '0']\n",
            "12/17/2021 07:22:53 - INFO - data_loader -   ['1246263', '화려한 액션!', '1']\n",
            "12/17/2021 07:22:53 - INFO - data_loader -   ['8174206', '아주 만족스러움 ㅋㅋ,,', '1']\n",
            "12/17/2021 07:22:53 - INFO - data_loader -   ['6693256', '캐스팅만 훌륭함', '0']\n",
            "12/17/2021 07:22:53 - INFO - data_loader -   ['8421731', '우우우둬탸찰니이미기시', '0']\n",
            "12/17/2021 07:22:53 - INFO - data_loader -   ['7817160', '시간아까움킬링타임도 안 될 정도의 지루함과존재하지 않는 소름쓰레기 단편', '0']\n",
            "12/17/2021 07:22:53 - INFO - data_loader -   ['3582077', '한글 40자 / 영문 80자', '0']\n",
            "12/17/2021 07:22:53 - INFO - data_loader -   ['9111419', '자식은 내가 가장 사랑하는 사람과의 사랑의 결실이라 무엇보다 소중하다. 스토리야 보고나면 진부하지만, 연출과 연기가 좋아서 지루함은 없었다. 마지막 형사대사가 촌스럽더래도 아버지라했음 좋았을것같다.평점으론 8점 후반에서 9점초반 정도가적당하다 싶다.', '1']\n",
            "12/17/2021 07:22:53 - INFO - data_loader -   ['623571', '앤드류 로이드 웨버에게 박수!!!', '1']\n",
            "12/17/2021 07:22:53 - INFO - data_loader -   ['8921665', '학교에서 봤는데 재미있고 가벼워 보였지만 교훈과 감동이 많았다. 몇 안되는 한국 최고 힐링 영화!!!!', '1']\n",
            "12/17/2021 07:22:53 - INFO - data_loader -   ['8744686', '클린트 영화는 대부분 지루 전엔 무능하여 그런가 보다 했는데 요새 보면 그냥 스타일인 듯 지루한 스타일', '0']\n",
            "12/17/2021 07:22:53 - INFO - data_loader -   ['847742', '할 말 없게 만드네... 이건 국가적 망신이다', '0']\n",
            "12/17/2021 07:22:53 - INFO - data_loader -   ['3480971', '제법 집중해서 볼수 있는 스릴러', '1']\n",
            "12/17/2021 07:22:53 - INFO - data_loader -   ['3627172', '판도라의 상자를 열었다...........', '0']\n",
            "12/17/2021 07:22:53 - INFO - data_loader -   ['8212188', '가히 볼 만한 영화 이건.. 아만다를 좋아하기에 처음 영화를 택했다. 초반엔 에이 뭐야? 식상한 B급 영화같애.. 라는 생각을 했지만 사실 성산업 그 이후의 실제를 보여주는 우리에게 보이는 게 다가 아니라고 소리치고 있는 것 같은 영화이다.', '1']\n",
            "12/17/2021 07:22:53 - INFO - data_loader -   ['5723278', '오랜만에 건진 대어. 이런 명작을 오늘에야 보게 된 것이 부끄럽네요. 강추!', '1']\n",
            "12/17/2021 07:22:53 - INFO - data_loader -   ['10246877', '나루토나루토나수토나루도타루놑', '1']\n",
            "12/17/2021 07:22:53 - INFO - data_loader -   ['284523', '멋있음이 아니라 뻔뻔한 cool이다.', '0']\n",
            "12/17/2021 07:22:53 - INFO - data_loader -   ['6396146', '이거 보는섀끼 존나 후회함 ㅋㅋㅋㅋ', '0']\n",
            "12/17/2021 07:22:53 - INFO - data_loader -   ['9317300', '이런영화가 좋다 꾸밈없는 순수한 작품성을 갖추고있는 보는중에 영화아니라 살제 중국 시골사람들 다큐로 보일정도로 리얼하고 연기도 완벽하다. 좋은영화', '1']\n",
            "12/17/2021 07:22:53 - INFO - data_loader -   ['9722461', '공간적배경을 관속,단하나로 제약시켰음에도 충분히 영화에 몰입이된다. 구출과정에서 주인공의 답답해 속터지다못해 폭발해 버릴것같은 감정에 완전히 이입이된다.사회의 냉혹한 모습도 제대로 비꼬는 영화', '1']\n",
            "12/17/2021 07:22:53 - INFO - data_loader -   ['9595250', '내인생 최고의 영화이다 지금도 가금 본다', '1']\n",
            "12/17/2021 07:22:53 - INFO - data_loader -   ['1415844', '지잘난 맛에 심취한 감독 짱난다..', '0']\n",
            "12/17/2021 07:22:53 - INFO - data_loader -   ['7984604', '두번봐도 세번봐도 몇번을봐도 감동적이다... 내 생에 최고의영화', '1']\n",
            "12/17/2021 07:22:53 - INFO - data_loader -   ['2084278', '나름 잘 짜여진 구성. 익살스런 막가파식 뚝심전개.', '1']\n",
            "12/17/2021 07:22:53 - INFO - data_loader -   ['5718582', '인간적이면서 감동입니다!!!!~정말 재밌어요!!', '1']\n",
            "12/17/2021 07:22:53 - INFO - data_loader -   ['3998275', '처음부터 끝까지 재미없고 다시 보고 싶지 않은 영화 - 17세 한 청소년의 관점 -', '0']\n",
            "12/17/2021 07:22:53 - INFO - data_loader -   ['7980361', 'ㅋㅋ', '0']\n",
            "12/17/2021 07:22:53 - INFO - data_loader -   ['7432499', '우연히 케이블에서봤는데 마지막에 소박한반전... 가슴뭉클하다.. 밝고 씩씩한 스탠리..', '1']\n",
            "12/17/2021 07:22:53 - INFO - data_loader -   ['6085933', '역시 환상적이고 재밌다.', '1']\n",
            "12/17/2021 07:22:53 - INFO - data_loader -   ['9080486', '간만에 쓰래기영화를 봤다', '0']\n",
            "12/17/2021 07:22:53 - INFO - data_loader -   ['8826259', '보고 정말 재밌다...', '1']\n",
            "12/17/2021 07:22:53 - INFO - data_loader -   ['7907699', 'ㅇㅇ', '0']\n",
            "12/17/2021 07:22:53 - INFO - data_loader -   ['4444883', '할말이 없다.. 무엇을 말하려고 하는지 도저히 알수가 없네요', '0']\n",
            "12/17/2021 07:22:53 - INFO - data_loader -   ['4897464', '짠한감동을기대했지만,영화는 몰입할수없고 지루하다.', '0']\n",
            "12/17/2021 07:22:53 - INFO - data_loader -   ['8587247', '디테일 디테일 디테일 그리고 디테일', '1']\n",
            "12/17/2021 07:22:53 - INFO - data_loader -   ['7251738', '유치+성우개판', '0']\n",
            "12/17/2021 07:22:53 - INFO - data_loader -   ['8739864', \"사건재연프로 는'그것이 알고싶다' 하나로 족하다.\", '0']\n",
            "12/17/2021 07:22:53 - INFO - data_loader -   ['9194552', '역시 원피스는 짱이지 ㅇㅋ', '1']\n",
            "12/17/2021 07:22:53 - INFO - data_loader -   ['10135191', '주인공 아이가 겪는 고통들을 보며 너무 마음이 아팠네요..이영화를 보며 매사 감사하는 삶을 살아야겠어요', '1']\n",
            "12/17/2021 07:22:53 - INFO - data_loader -   ['8092115', '말이 필요없다...그냥 쵝오~~~', '1']\n",
            "12/17/2021 07:22:53 - INFO - data_loader -   ['7774011', '배우빨로도 안먹힌 영화', '0']\n",
            "12/17/2021 07:22:53 - INFO - data_loader -   ['10110161', '진실은 침몰하지않는다', '1']\n",
            "12/17/2021 07:22:53 - INFO - data_loader -   ['5718836', '1점은 됩니다', '0']\n",
            "12/17/2021 07:22:53 - INFO - data_loader -   ['9588241', '글쎄..? 캐스팅이 맘에 안든다. 차라리 류승범과 조진웅을 반대로 캐스팅했으면 어땠을까 하는..', '0']\n",
            "12/17/2021 07:22:53 - INFO - data_loader -   ['10237835', '한국영화계는 인정도 많아.. 임상수가 밥 먹고 산다니..', '0']\n",
            "12/17/2021 07:22:53 - INFO - data_loader -   ['62588', '동원오빠!>_신고', '1']\n",
            "12/17/2021 07:22:53 - INFO - data_loader -   ['919926', '정말 멋진 액션 영화입니다!', '1']\n",
            "12/17/2021 07:22:53 - INFO - data_loader -   ['9703323', '이거 안보면 액션을 안본거나 다름없음 탄탄하고 안정적인 전개', '1']\n",
            "12/17/2021 07:22:53 - INFO - data_loader -   ['9826814', '과대평가된 흔한 다양성 영화 중 하나.', '0']\n",
            "12/17/2021 07:22:53 - INFO - data_loader -   ['10018676', '핵노잼.지루해죽는줄', '0']\n",
            "12/17/2021 07:22:53 - INFO - data_loader -   ['1723874', '솔직히 존나 재밋엇다', '1']\n",
            "12/17/2021 07:22:53 - INFO - data_loader -   ['2966033', '불륜을 사랑이란 이름으로 그럴싸하게 포장한 내생애 최악의영화', '0']\n",
            "12/17/2021 07:22:53 - INFO - data_loader -   ['8116279', '차라리 일본영화틱 하게 가지 그랬냐.', '0']\n",
            "12/17/2021 07:22:53 - INFO - data_loader -   ['9717116', '.. 딱이 할말이 없다.', '0']\n",
            "12/17/2021 07:22:53 - INFO - data_loader -   ['9201733', \"누구나 각자의 상처가 있고, 정신병은 아무나 갖게 될 수 있다. 치유의 첫 번째 단계는, 같은 높이에서 감싸안고 공감해주는 상대의 마음이 아닐까. 하지만 아직은 이 사회에 '정신병'에 대한 거부감이 너무 짙게 스며있다.이제는 함께 성숙해질 때다.\", '1']\n",
            "12/17/2021 07:22:53 - INFO - data_loader -   ['2431707', '그나마 양동근때문에...-_- 한가인의 다소 평면적인 연기... 부실한 스토리', '0']\n",
            "12/17/2021 07:22:53 - INFO - data_loader -   ['6702145', '정말 짜증나고 돈아까운 영화. 열받는다.', '0']\n",
            "12/17/2021 07:22:53 - INFO - data_loader -   ['4621410', '파리 정말 어두침침한 도시구나 싶음', '0']\n",
            "12/17/2021 07:22:53 - INFO - data_loader -   ['9290775', '돈이 남아도나봐. . ;; 진짜이건아님', '0']\n",
            "12/17/2021 07:22:53 - INFO - data_loader -   ['7169914', '진짜 남자들 상하운동 욕구만 자극시키는 에로물', '0']\n",
            "12/17/2021 07:22:53 - INFO - data_loader -   ['6571952', '재미 더럽게없다..1점준것중에 한국영화,애니는 9~10점 주는 M창있네', '0']\n",
            "12/17/2021 07:22:53 - INFO - data_loader -   ['9650036', '실화라고 마케팅하고 구라판명 나니까 슬그머니 얼버무리고... 그냥 연출로 보면 머리 잘쓴건데 괜시리 거짓 마켓팅해서 오히려 마이너스... 카메라 워크가 불편해서 멀미난다.', '0']\n",
            "12/17/2021 07:22:53 - INFO - data_loader -   ['5537992', '영화로 봐도 될지 모르겠네요', '0']\n",
            "12/17/2021 07:22:53 - INFO - data_loader -   ['517418', '조낸 훈훈훈한 애니', '1']\n",
            "12/17/2021 07:22:53 - INFO - data_loader -   ['9430707', '구혜선이 달리보이는...', '1']\n",
            "12/17/2021 07:22:53 - INFO - data_loader -   ['9122928', '완전액션이 죽이네요 짱짱해요 런닝맨2도나왔으면좋겠어요', '1']\n",
            "12/17/2021 07:22:53 - INFO - data_loader -   ['9207052', '도대체 무슨 내용인지도 모르겠고.. 보면서 참 지루하다고느꼈습니다.. 무튼 재미없어서 별점1점 드림..', '0']\n",
            "12/17/2021 07:22:53 - INFO - data_loader -   ['9135030', 'ㅋㅋ평점보소.. 사극애로물에 항상 느끼는거지만 tv방자전좀 참고해라.. 제대로 나오는게 없네 항상..', '0']\n",
            "12/17/2021 07:22:53 - INFO - data_loader -   ['2977956', '인정하지 않을수 없는 일본 애니의 힘', '1']\n",
            "12/17/2021 07:22:53 - INFO - data_loader -   ['2443273', '아.이런영화좋다.머리맴도는마지막대화', '1']\n",
            "12/17/2021 07:22:53 - INFO - data_loader -   ['9834271', '노잼...앤헤서웨이가 정말 이쁘다는거빼곤 기억에 남지 않음', '0']\n",
            "12/17/2021 07:22:53 - INFO - data_loader -   ['6240661', '닥치고 장국영 하나로만의로도 이영화는 나에게 성공했다', '1']\n",
            "12/17/2021 07:22:53 - INFO - data_loader -   ['9664848', '진짜 꺼이꺼이 울었다 눈물이 계속 나옴', '1']\n",
            "12/17/2021 07:22:53 - INFO - data_loader -   ['4356827', '숨막히는 영화이다.', '1']\n",
            "12/17/2021 07:22:53 - INFO - data_loader -   ['9546930', '나또한 돌아가고 싶다..', '1']\n",
            "12/17/2021 07:22:53 - INFO - data_loader -   ['8216707', '1편이 젤 재밌고 강철중이 젤 멋있고 이성재가 젤 악랄하다!', '1']\n",
            "12/17/2021 07:22:53 - INFO - data_loader -   ['9216408', '상당히 재미있고 짜임새 있어욤 ㅎㅎ 명작인듯요', '1']\n",
            "12/17/2021 07:22:53 - INFO - data_loader -   ['9317341', \"정치의 현실적인 모습을 담은 영화, 열정으로 채워졌던 스티븐이 냉소적인 정치를 겪은 후 변하는 모습을 소름끼치게 담았다. '진짜' 서스펜스 스릴러이며 뛰어난 배우들의 연기를 보는 재미가 있었다. 남자는 여자 관계를 조심해야 하는 법. 정치의 이면.\", '1']\n",
            "12/17/2021 07:22:53 - INFO - data_loader -   ['10122522', '다시바도 감동감동~~~', '1']\n",
            "12/17/2021 07:22:53 - INFO - data_loader -   ['6929625', '아멘!', '1']\n",
            "12/17/2021 07:22:53 - INFO - data_loader -   ['10069564', '왜? 무료일까?? 궁금하면???', '0']\n",
            "12/17/2021 07:22:53 - INFO - data_loader -   ['5038303', '재밌었어요!', '1']\n",
            "12/17/2021 07:22:53 - INFO - data_loader -   Writing example 0 of 150000\n",
            "12/17/2021 07:22:53 - INFO - data_loader -   *** Example ***\n",
            "12/17/2021 07:22:53 - INFO - data_loader -   guid: train-0\n",
            "12/17/2021 07:22:53 - INFO - data_loader -   tokens: [CLS] 아 더 ##빙 . . 진 ##짜 짜 ##증 ##나 ##네 ##요 목 ##소 ##리 [SEP]\n",
            "12/17/2021 07:22:53 - INFO - data_loader -   input_ids: 101 9519 9074 119005 119 119 9708 119235 9715 119230 16439 77884 48549 9284 22333 12692 102 0 0 0 0 0 0 0 0 0 0 0 0 0 0 0 0 0 0 0 0 0 0 0 0 0 0 0 0 0 0 0 0 0 0 0 0 0 0 0 0 0 0 0 0 0 0 0 0 0 0 0 0 0 0 0 0 0 0 0 0 0 0 0 0 0 0 0 0 0 0 0 0 0 0 0 0 0 0 0 0 0 0 0 0 0 0 0 0 0 0 0 0 0 0 0 0 0 0 0 0 0 0 0 0 0 0 0 0 0 0 0\n",
            "12/17/2021 07:22:53 - INFO - data_loader -   attention_mask: 1 1 1 1 1 1 1 1 1 1 1 1 1 1 1 1 1 0 0 0 0 0 0 0 0 0 0 0 0 0 0 0 0 0 0 0 0 0 0 0 0 0 0 0 0 0 0 0 0 0 0 0 0 0 0 0 0 0 0 0 0 0 0 0 0 0 0 0 0 0 0 0 0 0 0 0 0 0 0 0 0 0 0 0 0 0 0 0 0 0 0 0 0 0 0 0 0 0 0 0 0 0 0 0 0 0 0 0 0 0 0 0 0 0 0 0 0 0 0 0 0 0 0 0 0 0 0 0\n",
            "12/17/2021 07:22:53 - INFO - data_loader -   token_type_ids: 0 0 0 0 0 0 0 0 0 0 0 0 0 0 0 0 0 0 0 0 0 0 0 0 0 0 0 0 0 0 0 0 0 0 0 0 0 0 0 0 0 0 0 0 0 0 0 0 0 0 0 0 0 0 0 0 0 0 0 0 0 0 0 0 0 0 0 0 0 0 0 0 0 0 0 0 0 0 0 0 0 0 0 0 0 0 0 0 0 0 0 0 0 0 0 0 0 0 0 0 0 0 0 0 0 0 0 0 0 0 0 0 0 0 0 0 0 0 0 0 0 0 0 0 0 0 0 0\n",
            "12/17/2021 07:22:53 - INFO - data_loader -   label: 0 (id = 0)\n",
            "12/17/2021 07:22:53 - INFO - data_loader -   *** Example ***\n",
            "12/17/2021 07:22:53 - INFO - data_loader -   guid: train-1\n",
            "12/17/2021 07:22:53 - INFO - data_loader -   tokens: [CLS] [UNK] . . . 포 ##스터 ##보 ##고 초 ##딩 ##영 ##화 ##줄 . . . . 오 ##버 ##연 ##기 ##조 ##차 가 ##볍 ##지 않 ##구 ##나 [SEP]\n",
            "12/17/2021 07:22:53 - INFO - data_loader -   input_ids: 101 100 119 119 119 9928 58823 30005 11664 9757 118823 30858 18227 119219 119 119 119 119 9580 41605 25486 12310 20626 23466 8843 118986 12508 9523 17196 16439 102 0 0 0 0 0 0 0 0 0 0 0 0 0 0 0 0 0 0 0 0 0 0 0 0 0 0 0 0 0 0 0 0 0 0 0 0 0 0 0 0 0 0 0 0 0 0 0 0 0 0 0 0 0 0 0 0 0 0 0 0 0 0 0 0 0 0 0 0 0 0 0 0 0 0 0 0 0 0 0 0 0 0 0 0 0 0 0 0 0 0 0 0 0 0 0 0 0\n",
            "12/17/2021 07:22:53 - INFO - data_loader -   attention_mask: 1 1 1 1 1 1 1 1 1 1 1 1 1 1 1 1 1 1 1 1 1 1 1 1 1 1 1 1 1 1 1 0 0 0 0 0 0 0 0 0 0 0 0 0 0 0 0 0 0 0 0 0 0 0 0 0 0 0 0 0 0 0 0 0 0 0 0 0 0 0 0 0 0 0 0 0 0 0 0 0 0 0 0 0 0 0 0 0 0 0 0 0 0 0 0 0 0 0 0 0 0 0 0 0 0 0 0 0 0 0 0 0 0 0 0 0 0 0 0 0 0 0 0 0 0 0 0 0\n",
            "12/17/2021 07:22:53 - INFO - data_loader -   token_type_ids: 0 0 0 0 0 0 0 0 0 0 0 0 0 0 0 0 0 0 0 0 0 0 0 0 0 0 0 0 0 0 0 0 0 0 0 0 0 0 0 0 0 0 0 0 0 0 0 0 0 0 0 0 0 0 0 0 0 0 0 0 0 0 0 0 0 0 0 0 0 0 0 0 0 0 0 0 0 0 0 0 0 0 0 0 0 0 0 0 0 0 0 0 0 0 0 0 0 0 0 0 0 0 0 0 0 0 0 0 0 0 0 0 0 0 0 0 0 0 0 0 0 0 0 0 0 0 0 0\n",
            "12/17/2021 07:22:53 - INFO - data_loader -   label: 1 (id = 1)\n",
            "12/17/2021 07:22:53 - INFO - data_loader -   *** Example ***\n",
            "12/17/2021 07:22:53 - INFO - data_loader -   guid: train-2\n",
            "12/17/2021 07:22:53 - INFO - data_loader -   tokens: [CLS] [UNK] [SEP]\n",
            "12/17/2021 07:22:53 - INFO - data_loader -   input_ids: 101 100 102 0 0 0 0 0 0 0 0 0 0 0 0 0 0 0 0 0 0 0 0 0 0 0 0 0 0 0 0 0 0 0 0 0 0 0 0 0 0 0 0 0 0 0 0 0 0 0 0 0 0 0 0 0 0 0 0 0 0 0 0 0 0 0 0 0 0 0 0 0 0 0 0 0 0 0 0 0 0 0 0 0 0 0 0 0 0 0 0 0 0 0 0 0 0 0 0 0 0 0 0 0 0 0 0 0 0 0 0 0 0 0 0 0 0 0 0 0 0 0 0 0 0 0 0 0\n",
            "12/17/2021 07:22:53 - INFO - data_loader -   attention_mask: 1 1 1 0 0 0 0 0 0 0 0 0 0 0 0 0 0 0 0 0 0 0 0 0 0 0 0 0 0 0 0 0 0 0 0 0 0 0 0 0 0 0 0 0 0 0 0 0 0 0 0 0 0 0 0 0 0 0 0 0 0 0 0 0 0 0 0 0 0 0 0 0 0 0 0 0 0 0 0 0 0 0 0 0 0 0 0 0 0 0 0 0 0 0 0 0 0 0 0 0 0 0 0 0 0 0 0 0 0 0 0 0 0 0 0 0 0 0 0 0 0 0 0 0 0 0 0 0\n",
            "12/17/2021 07:22:53 - INFO - data_loader -   token_type_ids: 0 0 0 0 0 0 0 0 0 0 0 0 0 0 0 0 0 0 0 0 0 0 0 0 0 0 0 0 0 0 0 0 0 0 0 0 0 0 0 0 0 0 0 0 0 0 0 0 0 0 0 0 0 0 0 0 0 0 0 0 0 0 0 0 0 0 0 0 0 0 0 0 0 0 0 0 0 0 0 0 0 0 0 0 0 0 0 0 0 0 0 0 0 0 0 0 0 0 0 0 0 0 0 0 0 0 0 0 0 0 0 0 0 0 0 0 0 0 0 0 0 0 0 0 0 0 0 0\n",
            "12/17/2021 07:22:53 - INFO - data_loader -   label: 0 (id = 0)\n",
            "12/17/2021 07:22:53 - INFO - data_loader -   *** Example ***\n",
            "12/17/2021 07:22:53 - INFO - data_loader -   guid: train-3\n",
            "12/17/2021 07:22:53 - INFO - data_loader -   tokens: [CLS] 교 ##도 ##소 이야기 ##구 ##먼 . . 솔 ##직 ##히 재 ##미 ##는 없다 . . 평 ##점 조 ##정 [SEP]\n",
            "12/17/2021 07:22:53 - INFO - data_loader -   input_ids: 101 8907 12092 22333 110148 17196 118922 119 119 9451 33077 18108 9659 22458 11018 39218 119 119 9926 34907 9678 16605 102 0 0 0 0 0 0 0 0 0 0 0 0 0 0 0 0 0 0 0 0 0 0 0 0 0 0 0 0 0 0 0 0 0 0 0 0 0 0 0 0 0 0 0 0 0 0 0 0 0 0 0 0 0 0 0 0 0 0 0 0 0 0 0 0 0 0 0 0 0 0 0 0 0 0 0 0 0 0 0 0 0 0 0 0 0 0 0 0 0 0 0 0 0 0 0 0 0 0 0 0 0 0 0 0 0\n",
            "12/17/2021 07:22:53 - INFO - data_loader -   attention_mask: 1 1 1 1 1 1 1 1 1 1 1 1 1 1 1 1 1 1 1 1 1 1 1 0 0 0 0 0 0 0 0 0 0 0 0 0 0 0 0 0 0 0 0 0 0 0 0 0 0 0 0 0 0 0 0 0 0 0 0 0 0 0 0 0 0 0 0 0 0 0 0 0 0 0 0 0 0 0 0 0 0 0 0 0 0 0 0 0 0 0 0 0 0 0 0 0 0 0 0 0 0 0 0 0 0 0 0 0 0 0 0 0 0 0 0 0 0 0 0 0 0 0 0 0 0 0 0 0\n",
            "12/17/2021 07:22:53 - INFO - data_loader -   token_type_ids: 0 0 0 0 0 0 0 0 0 0 0 0 0 0 0 0 0 0 0 0 0 0 0 0 0 0 0 0 0 0 0 0 0 0 0 0 0 0 0 0 0 0 0 0 0 0 0 0 0 0 0 0 0 0 0 0 0 0 0 0 0 0 0 0 0 0 0 0 0 0 0 0 0 0 0 0 0 0 0 0 0 0 0 0 0 0 0 0 0 0 0 0 0 0 0 0 0 0 0 0 0 0 0 0 0 0 0 0 0 0 0 0 0 0 0 0 0 0 0 0 0 0 0 0 0 0 0 0\n",
            "12/17/2021 07:22:53 - INFO - data_loader -   label: 0 (id = 0)\n",
            "12/17/2021 07:22:53 - INFO - data_loader -   *** Example ***\n",
            "12/17/2021 07:22:53 - INFO - data_loader -   guid: train-4\n",
            "12/17/2021 07:22:53 - INFO - data_loader -   tokens: [CLS] 사 ##이 ##몬 ##페 ##그 ##의 익 ##살 ##스 ##런 연 ##기가 돋 ##보 ##였던 영화 ! 스 ##파 ##이 ##더 ##맨 ##에서 늙 ##어 ##보 ##이 ##기 ##만 했 ##던 커 ##스 ##틴 던 ##스트 ##가 너 ##무 ##나 ##도 이 ##뻐 ##보 ##였다 [SEP]\n",
            "12/17/2021 07:22:53 - INFO - data_loader -   input_ids: 101 9405 10739 118936 119391 78136 10459 9639 106249 12605 56710 9568 47869 9090 30005 103064 42428 106 9477 46150 10739 54141 118916 11489 9045 12965 30005 10739 12310 19105 9965 23990 9798 12605 90833 9076 34994 11287 9004 32537 16439 12092 9638 119013 30005 34776 102 0 0 0 0 0 0 0 0 0 0 0 0 0 0 0 0 0 0 0 0 0 0 0 0 0 0 0 0 0 0 0 0 0 0 0 0 0 0 0 0 0 0 0 0 0 0 0 0 0 0 0 0 0 0 0 0 0 0 0 0 0 0 0 0 0 0 0 0 0 0 0 0 0 0 0 0 0 0 0 0 0\n",
            "12/17/2021 07:22:53 - INFO - data_loader -   attention_mask: 1 1 1 1 1 1 1 1 1 1 1 1 1 1 1 1 1 1 1 1 1 1 1 1 1 1 1 1 1 1 1 1 1 1 1 1 1 1 1 1 1 1 1 1 1 1 1 0 0 0 0 0 0 0 0 0 0 0 0 0 0 0 0 0 0 0 0 0 0 0 0 0 0 0 0 0 0 0 0 0 0 0 0 0 0 0 0 0 0 0 0 0 0 0 0 0 0 0 0 0 0 0 0 0 0 0 0 0 0 0 0 0 0 0 0 0 0 0 0 0 0 0 0 0 0 0 0 0\n",
            "12/17/2021 07:22:53 - INFO - data_loader -   token_type_ids: 0 0 0 0 0 0 0 0 0 0 0 0 0 0 0 0 0 0 0 0 0 0 0 0 0 0 0 0 0 0 0 0 0 0 0 0 0 0 0 0 0 0 0 0 0 0 0 0 0 0 0 0 0 0 0 0 0 0 0 0 0 0 0 0 0 0 0 0 0 0 0 0 0 0 0 0 0 0 0 0 0 0 0 0 0 0 0 0 0 0 0 0 0 0 0 0 0 0 0 0 0 0 0 0 0 0 0 0 0 0 0 0 0 0 0 0 0 0 0 0 0 0 0 0 0 0 0 0\n",
            "12/17/2021 07:22:53 - INFO - data_loader -   label: 1 (id = 1)\n",
            "12/17/2021 07:22:55 - INFO - data_loader -   Writing example 5000 of 150000\n",
            "12/17/2021 07:22:56 - INFO - data_loader -   Writing example 10000 of 150000\n",
            "12/17/2021 07:22:57 - INFO - data_loader -   Writing example 15000 of 150000\n",
            "12/17/2021 07:22:58 - INFO - data_loader -   Writing example 20000 of 150000\n",
            "12/17/2021 07:22:59 - INFO - data_loader -   Writing example 25000 of 150000\n",
            "12/17/2021 07:23:01 - INFO - data_loader -   Writing example 30000 of 150000\n",
            "12/17/2021 07:23:02 - INFO - data_loader -   Writing example 35000 of 150000\n",
            "12/17/2021 07:23:03 - INFO - data_loader -   Writing example 40000 of 150000\n",
            "12/17/2021 07:23:04 - INFO - data_loader -   Writing example 45000 of 150000\n",
            "12/17/2021 07:23:06 - INFO - data_loader -   Writing example 50000 of 150000\n",
            "12/17/2021 07:23:07 - INFO - data_loader -   Writing example 55000 of 150000\n",
            "12/17/2021 07:23:08 - INFO - data_loader -   Writing example 60000 of 150000\n",
            "12/17/2021 07:23:09 - INFO - data_loader -   Writing example 65000 of 150000\n",
            "12/17/2021 07:23:10 - INFO - data_loader -   Writing example 70000 of 150000\n",
            "12/17/2021 07:23:11 - INFO - data_loader -   Writing example 75000 of 150000\n",
            "12/17/2021 07:23:13 - INFO - data_loader -   Writing example 80000 of 150000\n",
            "12/17/2021 07:23:14 - INFO - data_loader -   Writing example 85000 of 150000\n",
            "12/17/2021 07:23:15 - INFO - data_loader -   Writing example 90000 of 150000\n",
            "12/17/2021 07:23:16 - INFO - data_loader -   Writing example 95000 of 150000\n",
            "12/17/2021 07:23:17 - INFO - data_loader -   Writing example 100000 of 150000\n",
            "12/17/2021 07:23:19 - INFO - data_loader -   Writing example 105000 of 150000\n",
            "12/17/2021 07:23:20 - INFO - data_loader -   Writing example 110000 of 150000\n",
            "12/17/2021 07:23:21 - INFO - data_loader -   Writing example 115000 of 150000\n",
            "12/17/2021 07:23:22 - INFO - data_loader -   Writing example 120000 of 150000\n",
            "12/17/2021 07:23:24 - INFO - data_loader -   Writing example 125000 of 150000\n",
            "12/17/2021 07:23:25 - INFO - data_loader -   Writing example 130000 of 150000\n",
            "12/17/2021 07:23:26 - INFO - data_loader -   Writing example 135000 of 150000\n",
            "12/17/2021 07:23:28 - INFO - data_loader -   Writing example 140000 of 150000\n",
            "12/17/2021 07:23:29 - INFO - data_loader -   Writing example 145000 of 150000\n",
            "12/17/2021 07:23:30 - INFO - data_loader -   Saving features into cached file ./data/cached_nsmc_bert-base-multilingual-cased_128_train\n",
            "Traceback (most recent call last):\n",
            "  File \"main.py\", line 61, in <module>\n",
            "    main(args)\n",
            "  File \"main.py\", line 13, in main\n",
            "    train_dataset = load_and_cache_examples(args, tokenizer, mode=\"train\")\n",
            "  File \"/content/drive/My Drive/KoBERT-nsmc/data_loader.py\", line 212, in load_and_cache_examples\n",
            "    all_label_ids = torch.tensor([f.label_id for f in features], dtype=torch.long)\n",
            "ValueError: too many dimensions 'str'\n"
          ]
        }
      ]
    },
    {
      "cell_type": "code",
      "source": [
        "!python main.py --data_dir ./data/fake_news --train_file dataset_clean.csv --test_file fn_test.csv --model_type bert --max_seq_len 128 --do_train --do_eval --num_train_epochs 2"
      ],
      "metadata": {
        "id": "bYHkfXmV4SM3"
      },
      "execution_count": null,
      "outputs": []
    },
    {
      "cell_type": "code",
      "source": [
        ""
      ],
      "metadata": {
        "id": "V1plZgrgFUak"
      },
      "execution_count": null,
      "outputs": []
    }
  ]
}