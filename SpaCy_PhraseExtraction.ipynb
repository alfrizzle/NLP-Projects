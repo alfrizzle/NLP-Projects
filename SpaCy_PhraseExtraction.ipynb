{
  "nbformat": 4,
  "nbformat_minor": 0,
  "metadata": {
    "colab": {
      "name": "SpaCy_PhraseExtraction.ipynb",
      "provenance": [],
      "collapsed_sections": [],
      "authorship_tag": "ABX9TyN30nN4ZL4BAUTSc7mkVLNR",
      "include_colab_link": true
    },
    "kernelspec": {
      "name": "python3",
      "display_name": "Python 3"
    },
    "language_info": {
      "name": "python"
    }
  },
  "cells": [
    {
      "cell_type": "markdown",
      "metadata": {
        "id": "view-in-github",
        "colab_type": "text"
      },
      "source": [
        "<a href=\"https://colab.research.google.com/github/alfrizzle/NLP-Projects/blob/master/SpaCy_PhraseExtraction.ipynb\" target=\"_parent\"><img src=\"https://colab.research.google.com/assets/colab-badge.svg\" alt=\"Open In Colab\"/></a>"
      ]
    },
    {
      "cell_type": "code",
      "metadata": {
        "colab": {
          "base_uri": "https://localhost:8080/"
        },
        "id": "_X_Kj2RB3ONr",
        "outputId": "c7e527dc-2620-447b-9050-d0bf4ca55d12"
      },
      "source": [
        "!pip install visualise-spacy-tree\n",
        "!pip install -U spacy"
      ],
      "execution_count": 1,
      "outputs": [
        {
          "output_type": "stream",
          "text": [
            "Requirement already satisfied: visualise-spacy-tree in /usr/local/lib/python3.7/dist-packages (0.0.6)\n",
            "Requirement already satisfied: pydot==1.4.1 in /usr/local/lib/python3.7/dist-packages (from visualise-spacy-tree) (1.4.1)\n",
            "Requirement already satisfied: pyparsing>=2.1.4 in /usr/local/lib/python3.7/dist-packages (from pydot==1.4.1->visualise-spacy-tree) (2.4.7)\n",
            "Requirement already satisfied: spacy in /usr/local/lib/python3.7/dist-packages (3.1.1)\n",
            "Requirement already satisfied: wasabi<1.1.0,>=0.8.1 in /usr/local/lib/python3.7/dist-packages (from spacy) (0.8.2)\n",
            "Requirement already satisfied: thinc<8.1.0,>=8.0.8 in /usr/local/lib/python3.7/dist-packages (from spacy) (8.0.8)\n",
            "Requirement already satisfied: pathy>=0.3.5 in /usr/local/lib/python3.7/dist-packages (from spacy) (0.6.0)\n",
            "Requirement already satisfied: cymem<2.1.0,>=2.0.2 in /usr/local/lib/python3.7/dist-packages (from spacy) (2.0.5)\n",
            "Requirement already satisfied: pydantic!=1.8,!=1.8.1,<1.9.0,>=1.7.4 in /usr/local/lib/python3.7/dist-packages (from spacy) (1.8.2)\n",
            "Requirement already satisfied: murmurhash<1.1.0,>=0.28.0 in /usr/local/lib/python3.7/dist-packages (from spacy) (1.0.5)\n",
            "Requirement already satisfied: srsly<3.0.0,>=2.4.1 in /usr/local/lib/python3.7/dist-packages (from spacy) (2.4.1)\n",
            "Requirement already satisfied: blis<0.8.0,>=0.4.0 in /usr/local/lib/python3.7/dist-packages (from spacy) (0.4.1)\n",
            "Requirement already satisfied: requests<3.0.0,>=2.13.0 in /usr/local/lib/python3.7/dist-packages (from spacy) (2.23.0)\n",
            "Requirement already satisfied: packaging>=20.0 in /usr/local/lib/python3.7/dist-packages (from spacy) (21.0)\n",
            "Requirement already satisfied: setuptools in /usr/local/lib/python3.7/dist-packages (from spacy) (57.2.0)\n",
            "Requirement already satisfied: typer<0.4.0,>=0.3.0 in /usr/local/lib/python3.7/dist-packages (from spacy) (0.3.2)\n",
            "Requirement already satisfied: numpy>=1.15.0 in /usr/local/lib/python3.7/dist-packages (from spacy) (1.19.5)\n",
            "Requirement already satisfied: tqdm<5.0.0,>=4.38.0 in /usr/local/lib/python3.7/dist-packages (from spacy) (4.41.1)\n",
            "Requirement already satisfied: spacy-legacy<3.1.0,>=3.0.7 in /usr/local/lib/python3.7/dist-packages (from spacy) (3.0.8)\n",
            "Requirement already satisfied: preshed<3.1.0,>=3.0.2 in /usr/local/lib/python3.7/dist-packages (from spacy) (3.0.5)\n",
            "Requirement already satisfied: catalogue<2.1.0,>=2.0.4 in /usr/local/lib/python3.7/dist-packages (from spacy) (2.0.4)\n",
            "Requirement already satisfied: typing-extensions<4.0.0.0,>=3.7.4 in /usr/local/lib/python3.7/dist-packages (from spacy) (3.7.4.3)\n",
            "Requirement already satisfied: jinja2 in /usr/local/lib/python3.7/dist-packages (from spacy) (2.11.3)\n",
            "Requirement already satisfied: zipp>=0.5 in /usr/local/lib/python3.7/dist-packages (from catalogue<2.1.0,>=2.0.4->spacy) (3.5.0)\n",
            "Requirement already satisfied: pyparsing>=2.0.2 in /usr/local/lib/python3.7/dist-packages (from packaging>=20.0->spacy) (2.4.7)\n",
            "Requirement already satisfied: smart-open<6.0.0,>=5.0.0 in /usr/local/lib/python3.7/dist-packages (from pathy>=0.3.5->spacy) (5.1.0)\n",
            "Requirement already satisfied: chardet<4,>=3.0.2 in /usr/local/lib/python3.7/dist-packages (from requests<3.0.0,>=2.13.0->spacy) (3.0.4)\n",
            "Requirement already satisfied: urllib3!=1.25.0,!=1.25.1,<1.26,>=1.21.1 in /usr/local/lib/python3.7/dist-packages (from requests<3.0.0,>=2.13.0->spacy) (1.24.3)\n",
            "Requirement already satisfied: certifi>=2017.4.17 in /usr/local/lib/python3.7/dist-packages (from requests<3.0.0,>=2.13.0->spacy) (2021.5.30)\n",
            "Requirement already satisfied: idna<3,>=2.5 in /usr/local/lib/python3.7/dist-packages (from requests<3.0.0,>=2.13.0->spacy) (2.10)\n",
            "Requirement already satisfied: click<7.2.0,>=7.1.1 in /usr/local/lib/python3.7/dist-packages (from typer<0.4.0,>=0.3.0->spacy) (7.1.2)\n",
            "Requirement already satisfied: MarkupSafe>=0.23 in /usr/local/lib/python3.7/dist-packages (from jinja2->spacy) (2.0.1)\n"
          ],
          "name": "stdout"
        }
      ]
    },
    {
      "cell_type": "code",
      "metadata": {
        "id": "x8U1jHVJybpZ",
        "colab": {
          "base_uri": "https://localhost:8080/"
        },
        "outputId": "af754917-edcf-42b4-969f-626b3bd2f78b"
      },
      "source": [
        "import spacy\n",
        "import re\n",
        "import pandas as pd\n",
        "import numpy as np\n",
        "from spacy.matcher import Matcher \n",
        "from spacy import displacy \n",
        "import visualise_spacy_tree\n",
        "from IPython.display import Image, display\n",
        "! python -m spacy download en_core_web_sm"
      ],
      "execution_count": 2,
      "outputs": [
        {
          "output_type": "stream",
          "text": [
            "2021-08-08 17:58:07.042552: I tensorflow/stream_executor/platform/default/dso_loader.cc:53] Successfully opened dynamic library libcudart.so.11.0\n",
            "Collecting en-core-web-sm==3.1.0\n",
            "  Downloading https://github.com/explosion/spacy-models/releases/download/en_core_web_sm-3.1.0/en_core_web_sm-3.1.0-py3-none-any.whl (13.6 MB)\n",
            "\u001b[K     |████████████████████████████████| 13.6 MB 34.8 MB/s \n",
            "\u001b[?25hRequirement already satisfied: spacy<3.2.0,>=3.1.0 in /usr/local/lib/python3.7/dist-packages (from en-core-web-sm==3.1.0) (3.1.1)\n",
            "Requirement already satisfied: spacy-legacy<3.1.0,>=3.0.7 in /usr/local/lib/python3.7/dist-packages (from spacy<3.2.0,>=3.1.0->en-core-web-sm==3.1.0) (3.0.8)\n",
            "Requirement already satisfied: pydantic!=1.8,!=1.8.1,<1.9.0,>=1.7.4 in /usr/local/lib/python3.7/dist-packages (from spacy<3.2.0,>=3.1.0->en-core-web-sm==3.1.0) (1.8.2)\n",
            "Requirement already satisfied: requests<3.0.0,>=2.13.0 in /usr/local/lib/python3.7/dist-packages (from spacy<3.2.0,>=3.1.0->en-core-web-sm==3.1.0) (2.23.0)\n",
            "Requirement already satisfied: typing-extensions<4.0.0.0,>=3.7.4 in /usr/local/lib/python3.7/dist-packages (from spacy<3.2.0,>=3.1.0->en-core-web-sm==3.1.0) (3.7.4.3)\n",
            "Requirement already satisfied: blis<0.8.0,>=0.4.0 in /usr/local/lib/python3.7/dist-packages (from spacy<3.2.0,>=3.1.0->en-core-web-sm==3.1.0) (0.4.1)\n",
            "Requirement already satisfied: pathy>=0.3.5 in /usr/local/lib/python3.7/dist-packages (from spacy<3.2.0,>=3.1.0->en-core-web-sm==3.1.0) (0.6.0)\n",
            "Requirement already satisfied: preshed<3.1.0,>=3.0.2 in /usr/local/lib/python3.7/dist-packages (from spacy<3.2.0,>=3.1.0->en-core-web-sm==3.1.0) (3.0.5)\n",
            "Requirement already satisfied: catalogue<2.1.0,>=2.0.4 in /usr/local/lib/python3.7/dist-packages (from spacy<3.2.0,>=3.1.0->en-core-web-sm==3.1.0) (2.0.4)\n",
            "Requirement already satisfied: packaging>=20.0 in /usr/local/lib/python3.7/dist-packages (from spacy<3.2.0,>=3.1.0->en-core-web-sm==3.1.0) (21.0)\n",
            "Requirement already satisfied: cymem<2.1.0,>=2.0.2 in /usr/local/lib/python3.7/dist-packages (from spacy<3.2.0,>=3.1.0->en-core-web-sm==3.1.0) (2.0.5)\n",
            "Requirement already satisfied: setuptools in /usr/local/lib/python3.7/dist-packages (from spacy<3.2.0,>=3.1.0->en-core-web-sm==3.1.0) (57.2.0)\n",
            "Requirement already satisfied: murmurhash<1.1.0,>=0.28.0 in /usr/local/lib/python3.7/dist-packages (from spacy<3.2.0,>=3.1.0->en-core-web-sm==3.1.0) (1.0.5)\n",
            "Requirement already satisfied: tqdm<5.0.0,>=4.38.0 in /usr/local/lib/python3.7/dist-packages (from spacy<3.2.0,>=3.1.0->en-core-web-sm==3.1.0) (4.41.1)\n",
            "Requirement already satisfied: jinja2 in /usr/local/lib/python3.7/dist-packages (from spacy<3.2.0,>=3.1.0->en-core-web-sm==3.1.0) (2.11.3)\n",
            "Requirement already satisfied: typer<0.4.0,>=0.3.0 in /usr/local/lib/python3.7/dist-packages (from spacy<3.2.0,>=3.1.0->en-core-web-sm==3.1.0) (0.3.2)\n",
            "Requirement already satisfied: numpy>=1.15.0 in /usr/local/lib/python3.7/dist-packages (from spacy<3.2.0,>=3.1.0->en-core-web-sm==3.1.0) (1.19.5)\n",
            "Requirement already satisfied: wasabi<1.1.0,>=0.8.1 in /usr/local/lib/python3.7/dist-packages (from spacy<3.2.0,>=3.1.0->en-core-web-sm==3.1.0) (0.8.2)\n",
            "Requirement already satisfied: thinc<8.1.0,>=8.0.8 in /usr/local/lib/python3.7/dist-packages (from spacy<3.2.0,>=3.1.0->en-core-web-sm==3.1.0) (8.0.8)\n",
            "Requirement already satisfied: srsly<3.0.0,>=2.4.1 in /usr/local/lib/python3.7/dist-packages (from spacy<3.2.0,>=3.1.0->en-core-web-sm==3.1.0) (2.4.1)\n",
            "Requirement already satisfied: zipp>=0.5 in /usr/local/lib/python3.7/dist-packages (from catalogue<2.1.0,>=2.0.4->spacy<3.2.0,>=3.1.0->en-core-web-sm==3.1.0) (3.5.0)\n",
            "Requirement already satisfied: pyparsing>=2.0.2 in /usr/local/lib/python3.7/dist-packages (from packaging>=20.0->spacy<3.2.0,>=3.1.0->en-core-web-sm==3.1.0) (2.4.7)\n",
            "Requirement already satisfied: smart-open<6.0.0,>=5.0.0 in /usr/local/lib/python3.7/dist-packages (from pathy>=0.3.5->spacy<3.2.0,>=3.1.0->en-core-web-sm==3.1.0) (5.1.0)\n",
            "Requirement already satisfied: certifi>=2017.4.17 in /usr/local/lib/python3.7/dist-packages (from requests<3.0.0,>=2.13.0->spacy<3.2.0,>=3.1.0->en-core-web-sm==3.1.0) (2021.5.30)\n",
            "Requirement already satisfied: chardet<4,>=3.0.2 in /usr/local/lib/python3.7/dist-packages (from requests<3.0.0,>=2.13.0->spacy<3.2.0,>=3.1.0->en-core-web-sm==3.1.0) (3.0.4)\n",
            "Requirement already satisfied: urllib3!=1.25.0,!=1.25.1,<1.26,>=1.21.1 in /usr/local/lib/python3.7/dist-packages (from requests<3.0.0,>=2.13.0->spacy<3.2.0,>=3.1.0->en-core-web-sm==3.1.0) (1.24.3)\n",
            "Requirement already satisfied: idna<3,>=2.5 in /usr/local/lib/python3.7/dist-packages (from requests<3.0.0,>=2.13.0->spacy<3.2.0,>=3.1.0->en-core-web-sm==3.1.0) (2.10)\n",
            "Requirement already satisfied: click<7.2.0,>=7.1.1 in /usr/local/lib/python3.7/dist-packages (from typer<0.4.0,>=0.3.0->spacy<3.2.0,>=3.1.0->en-core-web-sm==3.1.0) (7.1.2)\n",
            "Requirement already satisfied: MarkupSafe>=0.23 in /usr/local/lib/python3.7/dist-packages (from jinja2->spacy<3.2.0,>=3.1.0->en-core-web-sm==3.1.0) (2.0.1)\n",
            "\u001b[38;5;2m✔ Download and installation successful\u001b[0m\n",
            "You can now load the package via spacy.load('en_core_web_sm')\n"
          ],
          "name": "stdout"
        }
      ]
    },
    {
      "cell_type": "code",
      "metadata": {
        "colab": {
          "base_uri": "https://localhost:8080/"
        },
        "id": "9qJN7KPP9NIr",
        "outputId": "059b700e-34d3-44bb-e060-c69606f4aad2"
      },
      "source": [
        "! python -m spacy info"
      ],
      "execution_count": 3,
      "outputs": [
        {
          "output_type": "stream",
          "text": [
            "2021-08-08 17:58:14.694731: I tensorflow/stream_executor/platform/default/dso_loader.cc:53] Successfully opened dynamic library libcudart.so.11.0\n",
            "\u001b[1m\n",
            "============================== Info about spaCy ==============================\u001b[0m\n",
            "\n",
            "spaCy version    3.1.1                         \n",
            "Location         /usr/local/lib/python3.7/dist-packages/spacy\n",
            "Platform         Linux-5.4.104+-x86_64-with-Ubuntu-18.04-bionic\n",
            "Python version   3.7.11                        \n",
            "Pipelines        en_core_web_sm (3.1.0)        \n",
            "\n"
          ],
          "name": "stdout"
        }
      ]
    },
    {
      "cell_type": "code",
      "metadata": {
        "id": "ZWVmzl-79loE"
      },
      "source": [
        "df=pd.DataFrame([[12,\"3 army commanders were wounded and four civilians were injured by bombs. 10 gunmen carrying rifles were injured. There were a total of 20 civilian fatalities.\"],\n",
        "                 [18,\"5 army commanders were wounded and two civilians were injured by bombs. 14 gunmen carrying rifles were injured. There were a total of 30 civilian fatalities.\"],\n",
        "                 [23,\"39 army commanders were wounded and fifty civilians were injured by bombs. 58 gunmen carrying rifles were injured. There were a total of 23 civilian fatalities.\"],\n",
        "                 [24,\"20 army commanders were wounded and zero civilians were injured by bombs. 3 gunmen carrying rifles were injured. There were a total of 49 civilian fatalities.\"],\n",
        "                 ],columns=[\"id\",\"text\"])"
      ],
      "execution_count": 32,
      "outputs": []
    },
    {
      "cell_type": "code",
      "metadata": {
        "colab": {
          "base_uri": "https://localhost:8080/",
          "height": 52
        },
        "id": "x7Vat5r1-lCr",
        "outputId": "c214593c-1a6a-49db-bb45-47a7188696ff"
      },
      "source": [
        "sample_text = df['text'][0]\n",
        "sample_text"
      ],
      "execution_count": 33,
      "outputs": [
        {
          "output_type": "execute_result",
          "data": {
            "application/vnd.google.colaboratory.intrinsic+json": {
              "type": "string"
            },
            "text/plain": [
              "'3 army commanders were wounded and four civilians were injured by bombs. 10 gunmen carrying rifles were injured. There were a total of 20 civilian fatalities.'"
            ]
          },
          "metadata": {
            "tags": []
          },
          "execution_count": 33
        }
      ]
    },
    {
      "cell_type": "code",
      "metadata": {
        "id": "Bn1mcgZK1XLS"
      },
      "source": [
        "# nlp = spacy.load('en_core_web_sm')\n",
        "nlp = spacy.load('en_core_web_sm',disable=['ner','textcat'])\n",
        "doc = nlp(text)"
      ],
      "execution_count": 6,
      "outputs": []
    },
    {
      "cell_type": "code",
      "metadata": {
        "id": "16tdWNeW1ZCD"
      },
      "source": [
        "# function to preprocess speech\n",
        "def clean(text):\n",
        "    \n",
        "    # removing paragraph numbers\n",
        "    text = re.sub('[0-9]+.\\t','',str(text))\n",
        "    # removing new line characters\n",
        "    text = re.sub('\\n ','',str(text))\n",
        "    text = re.sub('\\n',' ',str(text))\n",
        "    # removing apostrophes\n",
        "    text = re.sub(\"'s\",'',str(text))\n",
        "    # removing hyphens\n",
        "    text = re.sub(\"-\",' ',str(text))\n",
        "    text = re.sub(\"— \",'',str(text))\n",
        "    # removing quotation marks\n",
        "    text = re.sub('\\\"','',str(text))\n",
        "    # removing salutations\n",
        "    text = re.sub(\"Mr\\.\",'Mr',str(text))\n",
        "    text = re.sub(\"Mrs\\.\",'Mrs',str(text))\n",
        "    # removing any reference to outside text\n",
        "    text = re.sub(\"[\\(\\[].*?[\\)\\]]\", \"\", str(text))\n",
        "    \n",
        "    return text"
      ],
      "execution_count": 7,
      "outputs": []
    },
    {
      "cell_type": "code",
      "metadata": {
        "id": "PvEy0aps2cnO"
      },
      "source": [
        "# split sentences\n",
        "def sentences(text):\n",
        "    # split sentences and questions\n",
        "    text = re.split('[.?]', text)\n",
        "    clean_sent = []\n",
        "    for sent in text:\n",
        "        clean_sent.append(sent)\n",
        "    return clean_sent"
      ],
      "execution_count": 8,
      "outputs": []
    },
    {
      "cell_type": "code",
      "metadata": {
        "colab": {
          "base_uri": "https://localhost:8080/"
        },
        "id": "6zWZB3Bm1gYX",
        "outputId": "cf7bcf4d-26d7-479a-a221-a39dec9a38cd"
      },
      "source": [
        "# preprocessing speeches\n",
        "text_cleaned = clean(doc)\n",
        "text_cleaned = sentences(text_cleaned)\n",
        "print(text_cleaned)"
      ],
      "execution_count": 9,
      "outputs": [
        {
          "output_type": "stream",
          "text": [
            "['3 army commanders were wounded and four civilians were injured by bombs', ' 10 gunmen carrying rifles were injured', ' There were a total of 20 civilian fatalities', '']\n"
          ],
          "name": "stdout"
        }
      ]
    },
    {
      "cell_type": "code",
      "metadata": {
        "colab": {
          "base_uri": "https://localhost:8080/",
          "height": 417
        },
        "id": "tekhZQdv2nBj",
        "outputId": "d6a8a4c6-bd2b-4d98-aa44-8eff243c01ff"
      },
      "source": [
        "png = visualise_spacy_tree.create_png(doc)\n",
        "display(Image(png))"
      ],
      "execution_count": 10,
      "outputs": [
        {
          "output_type": "display_data",
          "data": {
            "image/png": "[encoded data removed]",
            "text/plain": [
              "<IPython.core.display.Image object>"
            ]
          },
          "metadata": {
            "tags": []
          }
        }
      ]
    },
    {
      "cell_type": "code",
      "metadata": {
        "colab": {
          "base_uri": "https://localhost:8080/",
          "height": 553
        },
        "id": "Gg4Bxxpl3nx1",
        "outputId": "b6b354e5-68a3-4dd8-83ca-eb227813af04"
      },
      "source": [
        "from spacy import displacy\n",
        "\n",
        "# Since this is an interactive Jupyter environment, we can use displacy.render here\n",
        "displacy.render(doc, style='dep', jupyter=True, options={'distance':150})"
      ],
      "execution_count": 7,
      "outputs": [
        {
          "output_type": "display_data",
          "data": {
            "text/html": [
              "<span class=\"tex2jax_ignore\"><svg xmlns=\"http://www.w3.org/2000/svg\" xmlns:xlink=\"http://www.w3.org/1999/xlink\" xml:lang=\"en\" id=\"853838aae246446fb446345819b5b952-0\" class=\"displacy\" width=\"3950\" height=\"512.0\" direction=\"ltr\" style=\"max-width: none; height: 512.0px; color: #000000; background: #ffffff; font-family: Arial; direction: ltr\">\n",
              "<text class=\"displacy-token\" fill=\"currentColor\" text-anchor=\"middle\" y=\"422.0\">\n",
              "    <tspan class=\"displacy-word\" fill=\"currentColor\" x=\"50\">3</tspan>\n",
              "    <tspan class=\"displacy-tag\" dy=\"2em\" fill=\"currentColor\" x=\"50\">NUM</tspan>\n",
              "</text>\n",
              "\n",
              "<text class=\"displacy-token\" fill=\"currentColor\" text-anchor=\"middle\" y=\"422.0\">\n",
              "    <tspan class=\"displacy-word\" fill=\"currentColor\" x=\"200\">army</tspan>\n",
              "    <tspan class=\"displacy-tag\" dy=\"2em\" fill=\"currentColor\" x=\"200\">NOUN</tspan>\n",
              "</text>\n",
              "\n",
              "<text class=\"displacy-token\" fill=\"currentColor\" text-anchor=\"middle\" y=\"422.0\">\n",
              "    <tspan class=\"displacy-word\" fill=\"currentColor\" x=\"350\">commanders</tspan>\n",
              "    <tspan class=\"displacy-tag\" dy=\"2em\" fill=\"currentColor\" x=\"350\">NOUN</tspan>\n",
              "</text>\n",
              "\n",
              "<text class=\"displacy-token\" fill=\"currentColor\" text-anchor=\"middle\" y=\"422.0\">\n",
              "    <tspan class=\"displacy-word\" fill=\"currentColor\" x=\"500\">were</tspan>\n",
              "    <tspan class=\"displacy-tag\" dy=\"2em\" fill=\"currentColor\" x=\"500\">AUX</tspan>\n",
              "</text>\n",
              "\n",
              "<text class=\"displacy-token\" fill=\"currentColor\" text-anchor=\"middle\" y=\"422.0\">\n",
              "    <tspan class=\"displacy-word\" fill=\"currentColor\" x=\"650\">wounded</tspan>\n",
              "    <tspan class=\"displacy-tag\" dy=\"2em\" fill=\"currentColor\" x=\"650\">VERB</tspan>\n",
              "</text>\n",
              "\n",
              "<text class=\"displacy-token\" fill=\"currentColor\" text-anchor=\"middle\" y=\"422.0\">\n",
              "    <tspan class=\"displacy-word\" fill=\"currentColor\" x=\"800\">and</tspan>\n",
              "    <tspan class=\"displacy-tag\" dy=\"2em\" fill=\"currentColor\" x=\"800\">CCONJ</tspan>\n",
              "</text>\n",
              "\n",
              "<text class=\"displacy-token\" fill=\"currentColor\" text-anchor=\"middle\" y=\"422.0\">\n",
              "    <tspan class=\"displacy-word\" fill=\"currentColor\" x=\"950\">four</tspan>\n",
              "    <tspan class=\"displacy-tag\" dy=\"2em\" fill=\"currentColor\" x=\"950\">NUM</tspan>\n",
              "</text>\n",
              "\n",
              "<text class=\"displacy-token\" fill=\"currentColor\" text-anchor=\"middle\" y=\"422.0\">\n",
              "    <tspan class=\"displacy-word\" fill=\"currentColor\" x=\"1100\">civilians</tspan>\n",
              "    <tspan class=\"displacy-tag\" dy=\"2em\" fill=\"currentColor\" x=\"1100\">NOUN</tspan>\n",
              "</text>\n",
              "\n",
              "<text class=\"displacy-token\" fill=\"currentColor\" text-anchor=\"middle\" y=\"422.0\">\n",
              "    <tspan class=\"displacy-word\" fill=\"currentColor\" x=\"1250\">were</tspan>\n",
              "    <tspan class=\"displacy-tag\" dy=\"2em\" fill=\"currentColor\" x=\"1250\">AUX</tspan>\n",
              "</text>\n",
              "\n",
              "<text class=\"displacy-token\" fill=\"currentColor\" text-anchor=\"middle\" y=\"422.0\">\n",
              "    <tspan class=\"displacy-word\" fill=\"currentColor\" x=\"1400\">injured</tspan>\n",
              "    <tspan class=\"displacy-tag\" dy=\"2em\" fill=\"currentColor\" x=\"1400\">VERB</tspan>\n",
              "</text>\n",
              "\n",
              "<text class=\"displacy-token\" fill=\"currentColor\" text-anchor=\"middle\" y=\"422.0\">\n",
              "    <tspan class=\"displacy-word\" fill=\"currentColor\" x=\"1550\">by</tspan>\n",
              "    <tspan class=\"displacy-tag\" dy=\"2em\" fill=\"currentColor\" x=\"1550\">ADP</tspan>\n",
              "</text>\n",
              "\n",
              "<text class=\"displacy-token\" fill=\"currentColor\" text-anchor=\"middle\" y=\"422.0\">\n",
              "    <tspan class=\"displacy-word\" fill=\"currentColor\" x=\"1700\">bombs.</tspan>\n",
              "    <tspan class=\"displacy-tag\" dy=\"2em\" fill=\"currentColor\" x=\"1700\">NOUN</tspan>\n",
              "</text>\n",
              "\n",
              "<text class=\"displacy-token\" fill=\"currentColor\" text-anchor=\"middle\" y=\"422.0\">\n",
              "    <tspan class=\"displacy-word\" fill=\"currentColor\" x=\"1850\">10</tspan>\n",
              "    <tspan class=\"displacy-tag\" dy=\"2em\" fill=\"currentColor\" x=\"1850\">NUM</tspan>\n",
              "</text>\n",
              "\n",
              "<text class=\"displacy-token\" fill=\"currentColor\" text-anchor=\"middle\" y=\"422.0\">\n",
              "    <tspan class=\"displacy-word\" fill=\"currentColor\" x=\"2000\">gunmen</tspan>\n",
              "    <tspan class=\"displacy-tag\" dy=\"2em\" fill=\"currentColor\" x=\"2000\">NOUN</tspan>\n",
              "</text>\n",
              "\n",
              "<text class=\"displacy-token\" fill=\"currentColor\" text-anchor=\"middle\" y=\"422.0\">\n",
              "    <tspan class=\"displacy-word\" fill=\"currentColor\" x=\"2150\">carrying</tspan>\n",
              "    <tspan class=\"displacy-tag\" dy=\"2em\" fill=\"currentColor\" x=\"2150\">VERB</tspan>\n",
              "</text>\n",
              "\n",
              "<text class=\"displacy-token\" fill=\"currentColor\" text-anchor=\"middle\" y=\"422.0\">\n",
              "    <tspan class=\"displacy-word\" fill=\"currentColor\" x=\"2300\">rifles</tspan>\n",
              "    <tspan class=\"displacy-tag\" dy=\"2em\" fill=\"currentColor\" x=\"2300\">NOUN</tspan>\n",
              "</text>\n",
              "\n",
              "<text class=\"displacy-token\" fill=\"currentColor\" text-anchor=\"middle\" y=\"422.0\">\n",
              "    <tspan class=\"displacy-word\" fill=\"currentColor\" x=\"2450\">were</tspan>\n",
              "    <tspan class=\"displacy-tag\" dy=\"2em\" fill=\"currentColor\" x=\"2450\">AUX</tspan>\n",
              "</text>\n",
              "\n",
              "<text class=\"displacy-token\" fill=\"currentColor\" text-anchor=\"middle\" y=\"422.0\">\n",
              "    <tspan class=\"displacy-word\" fill=\"currentColor\" x=\"2600\">injured.</tspan>\n",
              "    <tspan class=\"displacy-tag\" dy=\"2em\" fill=\"currentColor\" x=\"2600\">VERB</tspan>\n",
              "</text>\n",
              "\n",
              "<text class=\"displacy-token\" fill=\"currentColor\" text-anchor=\"middle\" y=\"422.0\">\n",
              "    <tspan class=\"displacy-word\" fill=\"currentColor\" x=\"2750\">There</tspan>\n",
              "    <tspan class=\"displacy-tag\" dy=\"2em\" fill=\"currentColor\" x=\"2750\">PRON</tspan>\n",
              "</text>\n",
              "\n",
              "<text class=\"displacy-token\" fill=\"currentColor\" text-anchor=\"middle\" y=\"422.0\">\n",
              "    <tspan class=\"displacy-word\" fill=\"currentColor\" x=\"2900\">were</tspan>\n",
              "    <tspan class=\"displacy-tag\" dy=\"2em\" fill=\"currentColor\" x=\"2900\">AUX</tspan>\n",
              "</text>\n",
              "\n",
              "<text class=\"displacy-token\" fill=\"currentColor\" text-anchor=\"middle\" y=\"422.0\">\n",
              "    <tspan class=\"displacy-word\" fill=\"currentColor\" x=\"3050\">a</tspan>\n",
              "    <tspan class=\"displacy-tag\" dy=\"2em\" fill=\"currentColor\" x=\"3050\">DET</tspan>\n",
              "</text>\n",
              "\n",
              "<text class=\"displacy-token\" fill=\"currentColor\" text-anchor=\"middle\" y=\"422.0\">\n",
              "    <tspan class=\"displacy-word\" fill=\"currentColor\" x=\"3200\">total</tspan>\n",
              "    <tspan class=\"displacy-tag\" dy=\"2em\" fill=\"currentColor\" x=\"3200\">NOUN</tspan>\n",
              "</text>\n",
              "\n",
              "<text class=\"displacy-token\" fill=\"currentColor\" text-anchor=\"middle\" y=\"422.0\">\n",
              "    <tspan class=\"displacy-word\" fill=\"currentColor\" x=\"3350\">of</tspan>\n",
              "    <tspan class=\"displacy-tag\" dy=\"2em\" fill=\"currentColor\" x=\"3350\">ADP</tspan>\n",
              "</text>\n",
              "\n",
              "<text class=\"displacy-token\" fill=\"currentColor\" text-anchor=\"middle\" y=\"422.0\">\n",
              "    <tspan class=\"displacy-word\" fill=\"currentColor\" x=\"3500\">20</tspan>\n",
              "    <tspan class=\"displacy-tag\" dy=\"2em\" fill=\"currentColor\" x=\"3500\">NUM</tspan>\n",
              "</text>\n",
              "\n",
              "<text class=\"displacy-token\" fill=\"currentColor\" text-anchor=\"middle\" y=\"422.0\">\n",
              "    <tspan class=\"displacy-word\" fill=\"currentColor\" x=\"3650\">civilian</tspan>\n",
              "    <tspan class=\"displacy-tag\" dy=\"2em\" fill=\"currentColor\" x=\"3650\">ADJ</tspan>\n",
              "</text>\n",
              "\n",
              "<text class=\"displacy-token\" fill=\"currentColor\" text-anchor=\"middle\" y=\"422.0\">\n",
              "    <tspan class=\"displacy-word\" fill=\"currentColor\" x=\"3800\">fatalities.</tspan>\n",
              "    <tspan class=\"displacy-tag\" dy=\"2em\" fill=\"currentColor\" x=\"3800\">NOUN</tspan>\n",
              "</text>\n",
              "\n",
              "<g class=\"displacy-arrow\">\n",
              "    <path class=\"displacy-arc\" id=\"arrow-853838aae246446fb446345819b5b952-0-0\" stroke-width=\"2px\" d=\"M70,377.0 C70,227.0 335.0,227.0 335.0,377.0\" fill=\"none\" stroke=\"currentColor\"/>\n",
              "    <text dy=\"1.25em\" style=\"font-size: 0.8em; letter-spacing: 1px\">\n",
              "        <textPath xlink:href=\"#arrow-853838aae246446fb446345819b5b952-0-0\" class=\"displacy-label\" startOffset=\"50%\" side=\"left\" fill=\"currentColor\" text-anchor=\"middle\">nummod</textPath>\n",
              "    </text>\n",
              "    <path class=\"displacy-arrowhead\" d=\"M70,379.0 L62,367.0 78,367.0\" fill=\"currentColor\"/>\n",
              "</g>\n",
              "\n",
              "<g class=\"displacy-arrow\">\n",
              "    <path class=\"displacy-arc\" id=\"arrow-853838aae246446fb446345819b5b952-0-1\" stroke-width=\"2px\" d=\"M220,377.0 C220,302.0 330.0,302.0 330.0,377.0\" fill=\"none\" stroke=\"currentColor\"/>\n",
              "    <text dy=\"1.25em\" style=\"font-size: 0.8em; letter-spacing: 1px\">\n",
              "        <textPath xlink:href=\"#arrow-853838aae246446fb446345819b5b952-0-1\" class=\"displacy-label\" startOffset=\"50%\" side=\"left\" fill=\"currentColor\" text-anchor=\"middle\">compound</textPath>\n",
              "    </text>\n",
              "    <path class=\"displacy-arrowhead\" d=\"M220,379.0 L212,367.0 228,367.0\" fill=\"currentColor\"/>\n",
              "</g>\n",
              "\n",
              "<g class=\"displacy-arrow\">\n",
              "    <path class=\"displacy-arc\" id=\"arrow-853838aae246446fb446345819b5b952-0-2\" stroke-width=\"2px\" d=\"M370,377.0 C370,227.0 635.0,227.0 635.0,377.0\" fill=\"none\" stroke=\"currentColor\"/>\n",
              "    <text dy=\"1.25em\" style=\"font-size: 0.8em; letter-spacing: 1px\">\n",
              "        <textPath xlink:href=\"#arrow-853838aae246446fb446345819b5b952-0-2\" class=\"displacy-label\" startOffset=\"50%\" side=\"left\" fill=\"currentColor\" text-anchor=\"middle\">nsubjpass</textPath>\n",
              "    </text>\n",
              "    <path class=\"displacy-arrowhead\" d=\"M370,379.0 L362,367.0 378,367.0\" fill=\"currentColor\"/>\n",
              "</g>\n",
              "\n",
              "<g class=\"displacy-arrow\">\n",
              "    <path class=\"displacy-arc\" id=\"arrow-853838aae246446fb446345819b5b952-0-3\" stroke-width=\"2px\" d=\"M520,377.0 C520,302.0 630.0,302.0 630.0,377.0\" fill=\"none\" stroke=\"currentColor\"/>\n",
              "    <text dy=\"1.25em\" style=\"font-size: 0.8em; letter-spacing: 1px\">\n",
              "        <textPath xlink:href=\"#arrow-853838aae246446fb446345819b5b952-0-3\" class=\"displacy-label\" startOffset=\"50%\" side=\"left\" fill=\"currentColor\" text-anchor=\"middle\">auxpass</textPath>\n",
              "    </text>\n",
              "    <path class=\"displacy-arrowhead\" d=\"M520,379.0 L512,367.0 528,367.0\" fill=\"currentColor\"/>\n",
              "</g>\n",
              "\n",
              "<g class=\"displacy-arrow\">\n",
              "    <path class=\"displacy-arc\" id=\"arrow-853838aae246446fb446345819b5b952-0-4\" stroke-width=\"2px\" d=\"M670,377.0 C670,302.0 780.0,302.0 780.0,377.0\" fill=\"none\" stroke=\"currentColor\"/>\n",
              "    <text dy=\"1.25em\" style=\"font-size: 0.8em; letter-spacing: 1px\">\n",
              "        <textPath xlink:href=\"#arrow-853838aae246446fb446345819b5b952-0-4\" class=\"displacy-label\" startOffset=\"50%\" side=\"left\" fill=\"currentColor\" text-anchor=\"middle\">cc</textPath>\n",
              "    </text>\n",
              "    <path class=\"displacy-arrowhead\" d=\"M780.0,379.0 L788.0,367.0 772.0,367.0\" fill=\"currentColor\"/>\n",
              "</g>\n",
              "\n",
              "<g class=\"displacy-arrow\">\n",
              "    <path class=\"displacy-arc\" id=\"arrow-853838aae246446fb446345819b5b952-0-5\" stroke-width=\"2px\" d=\"M970,377.0 C970,302.0 1080.0,302.0 1080.0,377.0\" fill=\"none\" stroke=\"currentColor\"/>\n",
              "    <text dy=\"1.25em\" style=\"font-size: 0.8em; letter-spacing: 1px\">\n",
              "        <textPath xlink:href=\"#arrow-853838aae246446fb446345819b5b952-0-5\" class=\"displacy-label\" startOffset=\"50%\" side=\"left\" fill=\"currentColor\" text-anchor=\"middle\">nummod</textPath>\n",
              "    </text>\n",
              "    <path class=\"displacy-arrowhead\" d=\"M970,379.0 L962,367.0 978,367.0\" fill=\"currentColor\"/>\n",
              "</g>\n",
              "\n",
              "<g class=\"displacy-arrow\">\n",
              "    <path class=\"displacy-arc\" id=\"arrow-853838aae246446fb446345819b5b952-0-6\" stroke-width=\"2px\" d=\"M1120,377.0 C1120,227.0 1385.0,227.0 1385.0,377.0\" fill=\"none\" stroke=\"currentColor\"/>\n",
              "    <text dy=\"1.25em\" style=\"font-size: 0.8em; letter-spacing: 1px\">\n",
              "        <textPath xlink:href=\"#arrow-853838aae246446fb446345819b5b952-0-6\" class=\"displacy-label\" startOffset=\"50%\" side=\"left\" fill=\"currentColor\" text-anchor=\"middle\">nsubjpass</textPath>\n",
              "    </text>\n",
              "    <path class=\"displacy-arrowhead\" d=\"M1120,379.0 L1112,367.0 1128,367.0\" fill=\"currentColor\"/>\n",
              "</g>\n",
              "\n",
              "<g class=\"displacy-arrow\">\n",
              "    <path class=\"displacy-arc\" id=\"arrow-853838aae246446fb446345819b5b952-0-7\" stroke-width=\"2px\" d=\"M1270,377.0 C1270,302.0 1380.0,302.0 1380.0,377.0\" fill=\"none\" stroke=\"currentColor\"/>\n",
              "    <text dy=\"1.25em\" style=\"font-size: 0.8em; letter-spacing: 1px\">\n",
              "        <textPath xlink:href=\"#arrow-853838aae246446fb446345819b5b952-0-7\" class=\"displacy-label\" startOffset=\"50%\" side=\"left\" fill=\"currentColor\" text-anchor=\"middle\">auxpass</textPath>\n",
              "    </text>\n",
              "    <path class=\"displacy-arrowhead\" d=\"M1270,379.0 L1262,367.0 1278,367.0\" fill=\"currentColor\"/>\n",
              "</g>\n",
              "\n",
              "<g class=\"displacy-arrow\">\n",
              "    <path class=\"displacy-arc\" id=\"arrow-853838aae246446fb446345819b5b952-0-8\" stroke-width=\"2px\" d=\"M670,377.0 C670,2.0 1400.0,2.0 1400.0,377.0\" fill=\"none\" stroke=\"currentColor\"/>\n",
              "    <text dy=\"1.25em\" style=\"font-size: 0.8em; letter-spacing: 1px\">\n",
              "        <textPath xlink:href=\"#arrow-853838aae246446fb446345819b5b952-0-8\" class=\"displacy-label\" startOffset=\"50%\" side=\"left\" fill=\"currentColor\" text-anchor=\"middle\">conj</textPath>\n",
              "    </text>\n",
              "    <path class=\"displacy-arrowhead\" d=\"M1400.0,379.0 L1408.0,367.0 1392.0,367.0\" fill=\"currentColor\"/>\n",
              "</g>\n",
              "\n",
              "<g class=\"displacy-arrow\">\n",
              "    <path class=\"displacy-arc\" id=\"arrow-853838aae246446fb446345819b5b952-0-9\" stroke-width=\"2px\" d=\"M1420,377.0 C1420,302.0 1530.0,302.0 1530.0,377.0\" fill=\"none\" stroke=\"currentColor\"/>\n",
              "    <text dy=\"1.25em\" style=\"font-size: 0.8em; letter-spacing: 1px\">\n",
              "        <textPath xlink:href=\"#arrow-853838aae246446fb446345819b5b952-0-9\" class=\"displacy-label\" startOffset=\"50%\" side=\"left\" fill=\"currentColor\" text-anchor=\"middle\">agent</textPath>\n",
              "    </text>\n",
              "    <path class=\"displacy-arrowhead\" d=\"M1530.0,379.0 L1538.0,367.0 1522.0,367.0\" fill=\"currentColor\"/>\n",
              "</g>\n",
              "\n",
              "<g class=\"displacy-arrow\">\n",
              "    <path class=\"displacy-arc\" id=\"arrow-853838aae246446fb446345819b5b952-0-10\" stroke-width=\"2px\" d=\"M1570,377.0 C1570,302.0 1680.0,302.0 1680.0,377.0\" fill=\"none\" stroke=\"currentColor\"/>\n",
              "    <text dy=\"1.25em\" style=\"font-size: 0.8em; letter-spacing: 1px\">\n",
              "        <textPath xlink:href=\"#arrow-853838aae246446fb446345819b5b952-0-10\" class=\"displacy-label\" startOffset=\"50%\" side=\"left\" fill=\"currentColor\" text-anchor=\"middle\">pobj</textPath>\n",
              "    </text>\n",
              "    <path class=\"displacy-arrowhead\" d=\"M1680.0,379.0 L1688.0,367.0 1672.0,367.0\" fill=\"currentColor\"/>\n",
              "</g>\n",
              "\n",
              "<g class=\"displacy-arrow\">\n",
              "    <path class=\"displacy-arc\" id=\"arrow-853838aae246446fb446345819b5b952-0-11\" stroke-width=\"2px\" d=\"M1870,377.0 C1870,302.0 1980.0,302.0 1980.0,377.0\" fill=\"none\" stroke=\"currentColor\"/>\n",
              "    <text dy=\"1.25em\" style=\"font-size: 0.8em; letter-spacing: 1px\">\n",
              "        <textPath xlink:href=\"#arrow-853838aae246446fb446345819b5b952-0-11\" class=\"displacy-label\" startOffset=\"50%\" side=\"left\" fill=\"currentColor\" text-anchor=\"middle\">nummod</textPath>\n",
              "    </text>\n",
              "    <path class=\"displacy-arrowhead\" d=\"M1870,379.0 L1862,367.0 1878,367.0\" fill=\"currentColor\"/>\n",
              "</g>\n",
              "\n",
              "<g class=\"displacy-arrow\">\n",
              "    <path class=\"displacy-arc\" id=\"arrow-853838aae246446fb446345819b5b952-0-12\" stroke-width=\"2px\" d=\"M2020,377.0 C2020,77.0 2595.0,77.0 2595.0,377.0\" fill=\"none\" stroke=\"currentColor\"/>\n",
              "    <text dy=\"1.25em\" style=\"font-size: 0.8em; letter-spacing: 1px\">\n",
              "        <textPath xlink:href=\"#arrow-853838aae246446fb446345819b5b952-0-12\" class=\"displacy-label\" startOffset=\"50%\" side=\"left\" fill=\"currentColor\" text-anchor=\"middle\">nsubjpass</textPath>\n",
              "    </text>\n",
              "    <path class=\"displacy-arrowhead\" d=\"M2020,379.0 L2012,367.0 2028,367.0\" fill=\"currentColor\"/>\n",
              "</g>\n",
              "\n",
              "<g class=\"displacy-arrow\">\n",
              "    <path class=\"displacy-arc\" id=\"arrow-853838aae246446fb446345819b5b952-0-13\" stroke-width=\"2px\" d=\"M2020,377.0 C2020,302.0 2130.0,302.0 2130.0,377.0\" fill=\"none\" stroke=\"currentColor\"/>\n",
              "    <text dy=\"1.25em\" style=\"font-size: 0.8em; letter-spacing: 1px\">\n",
              "        <textPath xlink:href=\"#arrow-853838aae246446fb446345819b5b952-0-13\" class=\"displacy-label\" startOffset=\"50%\" side=\"left\" fill=\"currentColor\" text-anchor=\"middle\">acl</textPath>\n",
              "    </text>\n",
              "    <path class=\"displacy-arrowhead\" d=\"M2130.0,379.0 L2138.0,367.0 2122.0,367.0\" fill=\"currentColor\"/>\n",
              "</g>\n",
              "\n",
              "<g class=\"displacy-arrow\">\n",
              "    <path class=\"displacy-arc\" id=\"arrow-853838aae246446fb446345819b5b952-0-14\" stroke-width=\"2px\" d=\"M2170,377.0 C2170,302.0 2280.0,302.0 2280.0,377.0\" fill=\"none\" stroke=\"currentColor\"/>\n",
              "    <text dy=\"1.25em\" style=\"font-size: 0.8em; letter-spacing: 1px\">\n",
              "        <textPath xlink:href=\"#arrow-853838aae246446fb446345819b5b952-0-14\" class=\"displacy-label\" startOffset=\"50%\" side=\"left\" fill=\"currentColor\" text-anchor=\"middle\">dobj</textPath>\n",
              "    </text>\n",
              "    <path class=\"displacy-arrowhead\" d=\"M2280.0,379.0 L2288.0,367.0 2272.0,367.0\" fill=\"currentColor\"/>\n",
              "</g>\n",
              "\n",
              "<g class=\"displacy-arrow\">\n",
              "    <path class=\"displacy-arc\" id=\"arrow-853838aae246446fb446345819b5b952-0-15\" stroke-width=\"2px\" d=\"M2470,377.0 C2470,302.0 2580.0,302.0 2580.0,377.0\" fill=\"none\" stroke=\"currentColor\"/>\n",
              "    <text dy=\"1.25em\" style=\"font-size: 0.8em; letter-spacing: 1px\">\n",
              "        <textPath xlink:href=\"#arrow-853838aae246446fb446345819b5b952-0-15\" class=\"displacy-label\" startOffset=\"50%\" side=\"left\" fill=\"currentColor\" text-anchor=\"middle\">auxpass</textPath>\n",
              "    </text>\n",
              "    <path class=\"displacy-arrowhead\" d=\"M2470,379.0 L2462,367.0 2478,367.0\" fill=\"currentColor\"/>\n",
              "</g>\n",
              "\n",
              "<g class=\"displacy-arrow\">\n",
              "    <path class=\"displacy-arc\" id=\"arrow-853838aae246446fb446345819b5b952-0-16\" stroke-width=\"2px\" d=\"M2770,377.0 C2770,302.0 2880.0,302.0 2880.0,377.0\" fill=\"none\" stroke=\"currentColor\"/>\n",
              "    <text dy=\"1.25em\" style=\"font-size: 0.8em; letter-spacing: 1px\">\n",
              "        <textPath xlink:href=\"#arrow-853838aae246446fb446345819b5b952-0-16\" class=\"displacy-label\" startOffset=\"50%\" side=\"left\" fill=\"currentColor\" text-anchor=\"middle\">expl</textPath>\n",
              "    </text>\n",
              "    <path class=\"displacy-arrowhead\" d=\"M2770,379.0 L2762,367.0 2778,367.0\" fill=\"currentColor\"/>\n",
              "</g>\n",
              "\n",
              "<g class=\"displacy-arrow\">\n",
              "    <path class=\"displacy-arc\" id=\"arrow-853838aae246446fb446345819b5b952-0-17\" stroke-width=\"2px\" d=\"M3070,377.0 C3070,302.0 3180.0,302.0 3180.0,377.0\" fill=\"none\" stroke=\"currentColor\"/>\n",
              "    <text dy=\"1.25em\" style=\"font-size: 0.8em; letter-spacing: 1px\">\n",
              "        <textPath xlink:href=\"#arrow-853838aae246446fb446345819b5b952-0-17\" class=\"displacy-label\" startOffset=\"50%\" side=\"left\" fill=\"currentColor\" text-anchor=\"middle\">det</textPath>\n",
              "    </text>\n",
              "    <path class=\"displacy-arrowhead\" d=\"M3070,379.0 L3062,367.0 3078,367.0\" fill=\"currentColor\"/>\n",
              "</g>\n",
              "\n",
              "<g class=\"displacy-arrow\">\n",
              "    <path class=\"displacy-arc\" id=\"arrow-853838aae246446fb446345819b5b952-0-18\" stroke-width=\"2px\" d=\"M2920,377.0 C2920,227.0 3185.0,227.0 3185.0,377.0\" fill=\"none\" stroke=\"currentColor\"/>\n",
              "    <text dy=\"1.25em\" style=\"font-size: 0.8em; letter-spacing: 1px\">\n",
              "        <textPath xlink:href=\"#arrow-853838aae246446fb446345819b5b952-0-18\" class=\"displacy-label\" startOffset=\"50%\" side=\"left\" fill=\"currentColor\" text-anchor=\"middle\">attr</textPath>\n",
              "    </text>\n",
              "    <path class=\"displacy-arrowhead\" d=\"M3185.0,379.0 L3193.0,367.0 3177.0,367.0\" fill=\"currentColor\"/>\n",
              "</g>\n",
              "\n",
              "<g class=\"displacy-arrow\">\n",
              "    <path class=\"displacy-arc\" id=\"arrow-853838aae246446fb446345819b5b952-0-19\" stroke-width=\"2px\" d=\"M3220,377.0 C3220,302.0 3330.0,302.0 3330.0,377.0\" fill=\"none\" stroke=\"currentColor\"/>\n",
              "    <text dy=\"1.25em\" style=\"font-size: 0.8em; letter-spacing: 1px\">\n",
              "        <textPath xlink:href=\"#arrow-853838aae246446fb446345819b5b952-0-19\" class=\"displacy-label\" startOffset=\"50%\" side=\"left\" fill=\"currentColor\" text-anchor=\"middle\">prep</textPath>\n",
              "    </text>\n",
              "    <path class=\"displacy-arrowhead\" d=\"M3330.0,379.0 L3338.0,367.0 3322.0,367.0\" fill=\"currentColor\"/>\n",
              "</g>\n",
              "\n",
              "<g class=\"displacy-arrow\">\n",
              "    <path class=\"displacy-arc\" id=\"arrow-853838aae246446fb446345819b5b952-0-20\" stroke-width=\"2px\" d=\"M3520,377.0 C3520,227.0 3785.0,227.0 3785.0,377.0\" fill=\"none\" stroke=\"currentColor\"/>\n",
              "    <text dy=\"1.25em\" style=\"font-size: 0.8em; letter-spacing: 1px\">\n",
              "        <textPath xlink:href=\"#arrow-853838aae246446fb446345819b5b952-0-20\" class=\"displacy-label\" startOffset=\"50%\" side=\"left\" fill=\"currentColor\" text-anchor=\"middle\">nummod</textPath>\n",
              "    </text>\n",
              "    <path class=\"displacy-arrowhead\" d=\"M3520,379.0 L3512,367.0 3528,367.0\" fill=\"currentColor\"/>\n",
              "</g>\n",
              "\n",
              "<g class=\"displacy-arrow\">\n",
              "    <path class=\"displacy-arc\" id=\"arrow-853838aae246446fb446345819b5b952-0-21\" stroke-width=\"2px\" d=\"M3670,377.0 C3670,302.0 3780.0,302.0 3780.0,377.0\" fill=\"none\" stroke=\"currentColor\"/>\n",
              "    <text dy=\"1.25em\" style=\"font-size: 0.8em; letter-spacing: 1px\">\n",
              "        <textPath xlink:href=\"#arrow-853838aae246446fb446345819b5b952-0-21\" class=\"displacy-label\" startOffset=\"50%\" side=\"left\" fill=\"currentColor\" text-anchor=\"middle\">amod</textPath>\n",
              "    </text>\n",
              "    <path class=\"displacy-arrowhead\" d=\"M3670,379.0 L3662,367.0 3678,367.0\" fill=\"currentColor\"/>\n",
              "</g>\n",
              "\n",
              "<g class=\"displacy-arrow\">\n",
              "    <path class=\"displacy-arc\" id=\"arrow-853838aae246446fb446345819b5b952-0-22\" stroke-width=\"2px\" d=\"M3370,377.0 C3370,152.0 3790.0,152.0 3790.0,377.0\" fill=\"none\" stroke=\"currentColor\"/>\n",
              "    <text dy=\"1.25em\" style=\"font-size: 0.8em; letter-spacing: 1px\">\n",
              "        <textPath xlink:href=\"#arrow-853838aae246446fb446345819b5b952-0-22\" class=\"displacy-label\" startOffset=\"50%\" side=\"left\" fill=\"currentColor\" text-anchor=\"middle\">pobj</textPath>\n",
              "    </text>\n",
              "    <path class=\"displacy-arrowhead\" d=\"M3790.0,379.0 L3798.0,367.0 3782.0,367.0\" fill=\"currentColor\"/>\n",
              "</g>\n",
              "</svg></span>"
            ],
            "text/plain": [
              "<IPython.core.display.HTML object>"
            ]
          },
          "metadata": {
            "tags": []
          }
        }
      ]
    },
    {
      "cell_type": "code",
      "metadata": {
        "colab": {
          "base_uri": "https://localhost:8080/"
        },
        "id": "vTSW064d5Z0I",
        "outputId": "3189caa5-76cb-4e70-a38f-6b5c4908b8b1"
      },
      "source": [
        "# for token in doc:\n",
        "#     print(token.text, token.lemma_, token.pos_, token.tag_, token.dep_,\n",
        "#             token.shape_, token.is_alpha, token.is_stop)\n",
        "    \n",
        "\n",
        "for token in doc:\n",
        "    print(token.text, '=>' , token.dep_, '=>', token.pos_)"
      ],
      "execution_count": 8,
      "outputs": [
        {
          "output_type": "stream",
          "text": [
            "3 => nummod => NUM\n",
            "army => compound => NOUN\n",
            "commanders => nsubjpass => NOUN\n",
            "were => auxpass => AUX\n",
            "wounded => ROOT => VERB\n",
            "and => cc => CCONJ\n",
            "four => nummod => NUM\n",
            "civilians => nsubjpass => NOUN\n",
            "were => auxpass => AUX\n",
            "injured => conj => VERB\n",
            "by => agent => ADP\n",
            "bombs => pobj => NOUN\n",
            ". => punct => PUNCT\n",
            "10 => nummod => NUM\n",
            "gunmen => nsubjpass => NOUN\n",
            "carrying => acl => VERB\n",
            "rifles => dobj => NOUN\n",
            "were => auxpass => AUX\n",
            "injured => ROOT => VERB\n",
            ". => punct => PUNCT\n",
            "There => expl => PRON\n",
            "were => ROOT => AUX\n",
            "a => det => DET\n",
            "total => attr => NOUN\n",
            "of => prep => ADP\n",
            "20 => nummod => NUM\n",
            "civilian => amod => ADJ\n",
            "fatalities => pobj => NOUN\n",
            ". => punct => PUNCT\n"
          ],
          "name": "stdout"
        }
      ]
    },
    {
      "cell_type": "markdown",
      "metadata": {
        "id": "ujdX1dQJULY2"
      },
      "source": [
        "# Dependency Matcher\n",
        "\n",
        "**Resources:**\n",
        "* https://spacy.io/usage/rule-based-matching#dependencymatcher\n",
        "* https://applied-language-technology.readthedocs.io/en/latest/notebooks/part_iii/02_pattern_matching.html\n",
        "\n"
      ]
    },
    {
      "cell_type": "code",
      "metadata": {
        "id": "BqmYdOki7THi"
      },
      "source": [
        "from spacy.matcher import DependencyMatcher"
      ],
      "execution_count": 9,
      "outputs": []
    },
    {
      "cell_type": "code",
      "metadata": {
        "id": "deObmDkU8e5q"
      },
      "source": [
        "nlp = spacy.load(\"en_core_web_sm\")\n",
        "dep_matcher = DependencyMatcher(nlp.vocab)"
      ],
      "execution_count": 14,
      "outputs": []
    },
    {
      "cell_type": "code",
      "metadata": {
        "id": "r_fomXiT6Fci"
      },
      "source": [
        "# # Define a list with nested dictionaries that contains the pattern to be matched\n",
        "# dep_pattern = [{'RIGHT_ID': 'verb', 'RIGHT_ATTRS': {'POS': 'VERB'}},\n",
        "#                {'LEFT_ID': 'verb', 'REL_OP': '>', 'RIGHT_ID': 'subject', 'RIGHT_ATTRS': {'DEP': 'nsubj'}}\n",
        "#               ]"
      ],
      "execution_count": 15,
      "outputs": []
    },
    {
      "cell_type": "code",
      "metadata": {
        "id": "J-I6UzGs8iii"
      },
      "source": [
        "dep_pattern = [\n",
        "    {\n",
        "        \"RIGHT_ID\": \"anchor_number\",\n",
        "        \"RIGHT_ATTRS\": {\"DEP\": \"nummod\"}\n",
        "    },\n",
        "    {\n",
        "        \"LEFT_ID\": \"anchor_number\",\n",
        "        \"REL_OP\": \"<\",\n",
        "        \"RIGHT_ID\": \"number_noun\",\n",
        "        \"RIGHT_ATTRS\": {\"POS\": \"NOUN\"},\n",
        "    },\n",
        "    # {\n",
        "    #     \"LEFT_ID\": \"number_noun\",\n",
        "    #     \"REL_OP\": \".*\",\n",
        "    #     \"RIGHT_ID\": \"noun_compound\",\n",
        "    #     \"RIGHT_ATTRS\": {\"DEP\": \"compound\"},\n",
        "    # },\n",
        "    {\n",
        "        \"LEFT_ID\": \"number_noun\",\n",
        "        \"REL_OP\": \"<\",\n",
        "        \"RIGHT_ID\": \"noun_verb\",\n",
        "        \"RIGHT_ATTRS\": {\"POS\": \"VERB\"},\n",
        "    }\n",
        "]"
      ],
      "execution_count": 16,
      "outputs": []
    },
    {
      "cell_type": "code",
      "metadata": {
        "id": "fb5nW8rAVPt5",
        "colab": {
          "base_uri": "https://localhost:8080/"
        },
        "outputId": "88a08699-3940-44e2-e6d9-78561bc101a3"
      },
      "source": [
        "# Add the pattern to the matcher under the name 'num_noun_verb'\n",
        "dep_matcher.add('num_noun_verb', patterns=[dep_pattern])\n",
        "\n",
        "# Apply the DependencyMatcher to the Doc object under 'doc'; Store the result \n",
        "# under the variable 'dep_matches'.\n",
        "dep_matches = dep_matcher(doc)\n",
        "\n",
        "# Call the variable to examine the output\n",
        "dep_matches"
      ],
      "execution_count": 17,
      "outputs": [
        {
          "output_type": "execute_result",
          "data": {
            "text/plain": [
              "[(13502375259481113420, [0, 2, 4]),\n",
              " (13502375259481113420, [6, 7, 9]),\n",
              " (13502375259481113420, [13, 14, 18])]"
            ]
          },
          "metadata": {
            "tags": []
          },
          "execution_count": 17
        }
      ]
    },
    {
      "cell_type": "code",
      "metadata": {
        "colab": {
          "base_uri": "https://localhost:8080/"
        },
        "id": "NifRDXKF_vAl",
        "outputId": "ac214c28-baf7-4ce0-faec-1655bd089316"
      },
      "source": [
        "print(len(dep_matches))\n",
        "dep_matches[0]"
      ],
      "execution_count": 18,
      "outputs": [
        {
          "output_type": "stream",
          "text": [
            "3\n"
          ],
          "name": "stdout"
        },
        {
          "output_type": "execute_result",
          "data": {
            "text/plain": [
              "(13502375259481113420, [0, 2, 4])"
            ]
          },
          "metadata": {
            "tags": []
          },
          "execution_count": 18
        }
      ]
    },
    {
      "cell_type": "code",
      "metadata": {
        "colab": {
          "base_uri": "https://localhost:8080/"
        },
        "id": "fgYR24vpxI51",
        "outputId": "40c53239-0279-4598-840d-c921da5a2151"
      },
      "source": [
        "dep_matches[0]"
      ],
      "execution_count": 19,
      "outputs": [
        {
          "output_type": "execute_result",
          "data": {
            "text/plain": [
              "(13502375259481113420, [0, 2, 4])"
            ]
          },
          "metadata": {
            "tags": []
          },
          "execution_count": 19
        }
      ]
    },
    {
      "cell_type": "code",
      "metadata": {
        "colab": {
          "base_uri": "https://localhost:8080/"
        },
        "id": "RULVmdFyB736",
        "outputId": "1854b61d-e9e7-404a-eabb-50c5cf5a79f1"
      },
      "source": [
        "dep_matches_v2 = dep_matches[4:]\n",
        "dep_matches_v2"
      ],
      "execution_count": 20,
      "outputs": [
        {
          "output_type": "execute_result",
          "data": {
            "text/plain": [
              "[]"
            ]
          },
          "metadata": {
            "tags": []
          },
          "execution_count": 20
        }
      ]
    },
    {
      "cell_type": "code",
      "metadata": {
        "colab": {
          "base_uri": "https://localhost:8080/"
        },
        "id": "RyEYPjAt_P19",
        "outputId": "a00513e2-3e0e-43af-ea98-6c76f3850499"
      },
      "source": [
        "# Loop over each tuple in the list 'dep_matches'\n",
        "for match in dep_matches:\n",
        "    \n",
        "    # Take the first item in the tuple at [0] and assign it under\n",
        "    # the variable 'pattern_name'. This item is a spaCy Lexeme object.\n",
        "    pattern_name = match[0]\n",
        "    \n",
        "    # Take the second item in the tuple at [1] and assign it under\n",
        "    # the variable 'matches'. This is a list of indices referring to the\n",
        "    # Doc object under 'doc' that we just matched.\n",
        "    matches = match[1]\n",
        "    \n",
        "    # Let's unpack the matches list into variables for clarity\n",
        "    # num, noun = matches[0], matches[1]\n",
        "    num, noun, verb = matches[0], matches[1], matches[2]\n",
        "    # num = matches[0]\n",
        "    \n",
        "    # Print the matches by first fetching the name of the pattern from the \n",
        "    # Vocabulary object. Next, use the 'subject' and 'verb' variables to \n",
        "    # index the Doc object. This gives us the actual Tokens matched. Use a\n",
        "    # tabulator ('\\t') and some stops ('...') to separate the output.\n",
        "    # print(nlp.vocab[pattern_name].text, '\\t', doc[num], doc[noun])\n",
        "    print(nlp.vocab[pattern_name].text, ':\\t', doc[num], doc[noun], doc[verb])\n",
        "    # print(nlp.vocab[pattern_name].text, '\\t', doc[num])"
      ],
      "execution_count": 21,
      "outputs": [
        {
          "output_type": "stream",
          "text": [
            "num_noun_verb :\t 3 commanders wounded\n",
            "num_noun_verb :\t four civilians injured\n",
            "num_noun_verb :\t 10 gunmen injured\n"
          ],
          "name": "stdout"
        }
      ]
    },
    {
      "cell_type": "markdown",
      "metadata": {
        "id": "zIHEACq9Iq55"
      },
      "source": [
        "## Pattern 1: NUM-NOUN-VERB"
      ]
    },
    {
      "cell_type": "code",
      "metadata": {
        "colab": {
          "base_uri": "https://localhost:8080/",
          "height": 86
        },
        "id": "c65T932OEQEK",
        "outputId": "49b87f7d-1b8c-403b-c0b1-03c3adc864af"
      },
      "source": [
        "nlp = spacy.load(\"en_core_web_sm\")\n",
        "dep_matcher = DependencyMatcher(nlp.vocab)\n",
        "\n",
        "# define dependency parsing pattern\n",
        "dep_pattern = [\n",
        "    {\n",
        "        \"RIGHT_ID\": \"anchor_number\",\n",
        "        \"RIGHT_ATTRS\": {\"DEP\": \"nummod\"}\n",
        "    },\n",
        "    {\n",
        "        \"LEFT_ID\": \"anchor_number\",\n",
        "        \"REL_OP\": \"<\",\n",
        "        \"RIGHT_ID\": \"number_noun\",\n",
        "        \"RIGHT_ATTRS\": {\"POS\": \"NOUN\"},\n",
        "    },\n",
        "    {\n",
        "        \"LEFT_ID\": \"number_noun\",\n",
        "        \"REL_OP\": \"<\",\n",
        "        \"RIGHT_ID\": \"noun_verb\",\n",
        "        \"RIGHT_ATTRS\": {\"POS\": \"VERB\"},\n",
        "    }\n",
        "]\n",
        "\n",
        "# Add the pattern to the matcher under the name 'num_noun_verb'\n",
        "dep_matcher.add('num_noun_verb', patterns=[dep_pattern])\n",
        "# Apply the DependencyMatcher to the Doc object under 'doc'; Store the result \n",
        "# under the variable 'dep_matches'.\n",
        "dep_matches = dep_matcher(doc)\n",
        "print('pattern matches output:', dep_matches,'\\n')\n",
        "\n",
        "\n",
        "# match_id, token_ids = dep_matches[0]\n",
        "# for i in range(len(token_ids)):\n",
        "#     print(dep_pattern[i][\"RIGHT_ID\"] + \":\", doc[token_ids[i]].text)\n",
        "\n",
        "output = []\n",
        "# Loop over each tuple in the list 'dep_matches'\n",
        "for match in dep_matches:\n",
        "    pattern_name = match[0]\n",
        "    matches = match[1]\n",
        "    num, noun, verb = matches[0], matches[1], matches[2]\n",
        "    # print(nlp.vocab[pattern_name].text, ':\\t', doc[num], doc[noun], doc[verb])\n",
        "    text = doc[num], doc[noun], doc[verb]\n",
        "    # print(text)\n",
        "    output.append(text)\n",
        "\n",
        "print(output)\n",
        "\n",
        "# new_output = str('\\n'.join(map(lambda x: str(x[0]) + ' ' + str(x[1]) + ' ' + str(x[2]), output)))\n",
        "new_output = ('\\n'.join(map(lambda x: str(x[0]) + ' ' + str(x[1]) + ' ' + str(x[2]), output))).split('\\n')\n",
        "# '\\n'.join(str(x) for x in output)\n",
        "# ' '.join(map(lambda x: str(x), output))\n",
        "# ' '.join(str(i) for i in output)\n",
        "final_output = ', '.join(new_output)\n",
        "\n",
        "# \"\\n\".join(str(el) for el in mytuple)\n",
        "# final_output = new_output.splitlines()\n",
        "# final_output = new_output.split('\\n')\n",
        "\n",
        "# tuple_strings = ['(%s, %s, %s)' % tuple for tuple in output]\n",
        "\n",
        "# result = ', '.join(tuple_strings)\n",
        "# print(result)\n",
        "\n",
        "# sub_text = ''    \n",
        "# if(len(dep_matches) > 0):\n",
        "#   # span = doc[dep_matches[0][1]:dep_matches[0][3]]\n",
        "#   span = doc[dep_matches[0][1]]\n",
        "#   sub_text = span.text\n",
        "#   # remove punct\n",
        "#   sub_text = sub_text[:-1]\n",
        "#   tokens = sub_text.split(' ')\n",
        "\n",
        "#   print(' '.join(tokens[1:]))"
      ],
      "execution_count": 67,
      "outputs": [
        {
          "output_type": "stream",
          "text": [
            "pattern matches output: [(13502375259481113420, [0, 2, 4]), (13502375259481113420, [6, 7, 9]), (13502375259481113420, [13, 14, 18])] \n",
            "\n",
            "[(3, commanders, wounded), (four, civilians, injured), (10, gunmen, injured)]\n"
          ],
          "name": "stdout"
        },
        {
          "output_type": "execute_result",
          "data": {
            "application/vnd.google.colaboratory.intrinsic+json": {
              "type": "string"
            },
            "text/plain": [
              "'3 commanders wounded, four civilians injured, 10 gunmen injured'"
            ]
          },
          "metadata": {
            "tags": []
          },
          "execution_count": 67
        }
      ]
    },
    {
      "cell_type": "markdown",
      "metadata": {
        "id": "hYN8yw-4-6P6"
      },
      "source": [
        "## Pattern 1 Function"
      ]
    },
    {
      "cell_type": "code",
      "metadata": {
        "id": "QZDPMMVr-5jt"
      },
      "source": [
        "def extract(text):\n",
        "  nlp = spacy.load(\"en_core_web_sm\")\n",
        "  doc = nlp(text)\n",
        "  dep_matcher = DependencyMatcher(nlp.vocab)\n",
        "\n",
        "  # define dependency parsing pattern\n",
        "  dep_pattern = [\n",
        "      {\n",
        "          \"RIGHT_ID\": \"anchor_number\",\n",
        "          \"RIGHT_ATTRS\": {\"DEP\": \"nummod\"}\n",
        "      },\n",
        "      {\n",
        "          \"LEFT_ID\": \"anchor_number\",\n",
        "          \"REL_OP\": \"<\",\n",
        "          \"RIGHT_ID\": \"number_noun\",\n",
        "          \"RIGHT_ATTRS\": {\"POS\": \"NOUN\"},\n",
        "      },\n",
        "      {\n",
        "          \"LEFT_ID\": \"number_noun\",\n",
        "          \"REL_OP\": \"<\",\n",
        "          \"RIGHT_ID\": \"noun_verb\",\n",
        "          \"RIGHT_ATTRS\": {\"POS\": \"VERB\"},\n",
        "      }\n",
        "  ]\n",
        "\n",
        "  # Add the pattern to the matcher under the name 'num_noun_verb'\n",
        "  dep_matcher.add('num_noun_verb', patterns=[dep_pattern])\n",
        "  # Apply the DependencyMatcher to the Doc object under 'doc'; Store the result \n",
        "  # under the variable 'dep_matches'.\n",
        "  dep_matches = dep_matcher(doc)\n",
        "\n",
        "  # initiate list to store matches\n",
        "  output = []\n",
        "\n",
        "  # Loop over each tuple in the list 'dep_matches'\n",
        "  for match in dep_matches:\n",
        "      pattern_name = match[0]\n",
        "      matches = match[1]\n",
        "      num, noun, verb = matches[0], matches[1], matches[2]\n",
        "      # print(nlp.vocab[pattern_name].text, ':\\t', doc[num], doc[noun], doc[verb])\n",
        "      text = doc[num], doc[noun], doc[verb]\n",
        "      # print(text)\n",
        "      output.append(text)\n",
        "\n",
        "  # convert tuples to string separated by comma\n",
        "  new_output = (', '.join(map(lambda x: str(x[0]) + ' ' + str(x[1]) + ' ' + str(x[2]), output)))\n",
        "  \n",
        "  return new_output"
      ],
      "execution_count": 89,
      "outputs": []
    },
    {
      "cell_type": "code",
      "metadata": {
        "colab": {
          "base_uri": "https://localhost:8080/",
          "height": 35
        },
        "id": "TbsZmkKJI2aI",
        "outputId": "b80b5b59-ea77-4196-899f-fbd6ac3e96cf"
      },
      "source": [
        "# test function on single sentence\n",
        "extract(sample_text)"
      ],
      "execution_count": 92,
      "outputs": [
        {
          "output_type": "execute_result",
          "data": {
            "application/vnd.google.colaboratory.intrinsic+json": {
              "type": "string"
            },
            "text/plain": [
              "'3 commanders wounded, four civilians injured, 10 gunmen injured'"
            ]
          },
          "metadata": {
            "tags": []
          },
          "execution_count": 92
        }
      ]
    },
    {
      "cell_type": "code",
      "metadata": {
        "colab": {
          "base_uri": "https://localhost:8080/",
          "height": 173
        },
        "id": "-MDd7292I4zN",
        "outputId": "b9e6d5fe-4020-4308-e43b-7c5541f3d1e4"
      },
      "source": [
        "# test function on dataframe\n",
        "df['matches'] = df['text'].apply(lambda x: extract(x))\n",
        "df"
      ],
      "execution_count": 91,
      "outputs": [
        {
          "output_type": "execute_result",
          "data": {
            "text/html": [
              "<div>\n",
              "<style scoped>\n",
              "    .dataframe tbody tr th:only-of-type {\n",
              "        vertical-align: middle;\n",
              "    }\n",
              "\n",
              "    .dataframe tbody tr th {\n",
              "        vertical-align: top;\n",
              "    }\n",
              "\n",
              "    .dataframe thead th {\n",
              "        text-align: right;\n",
              "    }\n",
              "</style>\n",
              "<table border=\"1\" class=\"dataframe\">\n",
              "  <thead>\n",
              "    <tr style=\"text-align: right;\">\n",
              "      <th></th>\n",
              "      <th>id</th>\n",
              "      <th>text</th>\n",
              "      <th>matches</th>\n",
              "    </tr>\n",
              "  </thead>\n",
              "  <tbody>\n",
              "    <tr>\n",
              "      <th>0</th>\n",
              "      <td>12</td>\n",
              "      <td>3 army commanders were wounded and four civili...</td>\n",
              "      <td>3 commanders wounded, four civilians injured, ...</td>\n",
              "    </tr>\n",
              "    <tr>\n",
              "      <th>1</th>\n",
              "      <td>18</td>\n",
              "      <td>5 army commanders were wounded and two civilia...</td>\n",
              "      <td>5 commanders wounded, two civilians injured, 1...</td>\n",
              "    </tr>\n",
              "    <tr>\n",
              "      <th>2</th>\n",
              "      <td>23</td>\n",
              "      <td>39 army commanders were wounded and fifty civi...</td>\n",
              "      <td>39 commanders wounded, fifty civilians injured...</td>\n",
              "    </tr>\n",
              "    <tr>\n",
              "      <th>3</th>\n",
              "      <td>24</td>\n",
              "      <td>20 army commanders were wounded and zero civil...</td>\n",
              "      <td>20 commanders wounded, zero civilians injured,...</td>\n",
              "    </tr>\n",
              "  </tbody>\n",
              "</table>\n",
              "</div>"
            ],
            "text/plain": [
              "   id  ...                                            matches\n",
              "0  12  ...  3 commanders wounded, four civilians injured, ...\n",
              "1  18  ...  5 commanders wounded, two civilians injured, 1...\n",
              "2  23  ...  39 commanders wounded, fifty civilians injured...\n",
              "3  24  ...  20 commanders wounded, zero civilians injured,...\n",
              "\n",
              "[4 rows x 3 columns]"
            ]
          },
          "metadata": {
            "tags": []
          },
          "execution_count": 91
        }
      ]
    },
    {
      "cell_type": "code",
      "metadata": {
        "id": "sNhhgRNZJEhb"
      },
      "source": [
        ""
      ],
      "execution_count": null,
      "outputs": []
    }
  ]
}