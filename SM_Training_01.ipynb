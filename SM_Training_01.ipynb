{
  "nbformat": 4,
  "nbformat_minor": 0,
  "metadata": {
    "colab": {
      "name": "SM_Training_01.ipynb",
      "provenance": [],
      "collapsed_sections": [],
      "mount_file_id": "1DwKXM9Hk9ZzYFuOu6aKp-_cO63jzTpIA",
      "authorship_tag": "ABX9TyPXrrp7ZTh7EOHYTMF+4N43",
      "include_colab_link": true
    },
    "kernelspec": {
      "name": "python3",
      "display_name": "Python 3"
    },
    "language_info": {
      "name": "python"
    },
    "accelerator": "GPU",
    "widgets": {
      "application/vnd.jupyter.widget-state+json": {
        "998e8e29bdfd42ab92dde186c40d74f1": {
          "model_module": "@jupyter-widgets/controls",
          "model_name": "HBoxModel",
          "model_module_version": "1.5.0",
          "state": {
            "_view_name": "HBoxView",
            "_dom_classes": [],
            "_model_name": "HBoxModel",
            "_view_module": "@jupyter-widgets/controls",
            "_model_module_version": "1.5.0",
            "_view_count": null,
            "_view_module_version": "1.5.0",
            "box_style": "",
            "layout": "IPY_MODEL_ef9abeae768549c7a51b25ba5d60057f",
            "_model_module": "@jupyter-widgets/controls",
            "children": [
              "IPY_MODEL_f368f41e3bda47409ed81002bc368946",
              "IPY_MODEL_8298e9a6855240e0a69d26b280ec0f68",
              "IPY_MODEL_9329d02eb2434ca1a0c50891bbf99ebd"
            ]
          }
        },
        "ef9abeae768549c7a51b25ba5d60057f": {
          "model_module": "@jupyter-widgets/base",
          "model_name": "LayoutModel",
          "model_module_version": "1.2.0",
          "state": {
            "_view_name": "LayoutView",
            "grid_template_rows": null,
            "right": null,
            "justify_content": null,
            "_view_module": "@jupyter-widgets/base",
            "overflow": null,
            "_model_module_version": "1.2.0",
            "_view_count": null,
            "flex_flow": null,
            "width": null,
            "min_width": null,
            "border": null,
            "align_items": null,
            "bottom": null,
            "_model_module": "@jupyter-widgets/base",
            "top": null,
            "grid_column": null,
            "overflow_y": null,
            "overflow_x": null,
            "grid_auto_flow": null,
            "grid_area": null,
            "grid_template_columns": null,
            "flex": null,
            "_model_name": "LayoutModel",
            "justify_items": null,
            "grid_row": null,
            "max_height": null,
            "align_content": null,
            "visibility": null,
            "align_self": null,
            "height": null,
            "min_height": null,
            "padding": null,
            "grid_auto_rows": null,
            "grid_gap": null,
            "max_width": null,
            "order": null,
            "_view_module_version": "1.2.0",
            "grid_template_areas": null,
            "object_position": null,
            "object_fit": null,
            "grid_auto_columns": null,
            "margin": null,
            "display": null,
            "left": null
          }
        },
        "f368f41e3bda47409ed81002bc368946": {
          "model_module": "@jupyter-widgets/controls",
          "model_name": "HTMLModel",
          "model_module_version": "1.5.0",
          "state": {
            "_view_name": "HTMLView",
            "style": "IPY_MODEL_c88ae35fa0424bc49adbc0a55a166e41",
            "_dom_classes": [],
            "description": "",
            "_model_name": "HTMLModel",
            "placeholder": "​",
            "_view_module": "@jupyter-widgets/controls",
            "_model_module_version": "1.5.0",
            "value": "Downloading: 100%",
            "_view_count": null,
            "_view_module_version": "1.5.0",
            "description_tooltip": null,
            "_model_module": "@jupyter-widgets/controls",
            "layout": "IPY_MODEL_bb31c2c097884d7c9a7cb81c226d9a8b"
          }
        },
        "8298e9a6855240e0a69d26b280ec0f68": {
          "model_module": "@jupyter-widgets/controls",
          "model_name": "FloatProgressModel",
          "model_module_version": "1.5.0",
          "state": {
            "_view_name": "ProgressView",
            "style": "IPY_MODEL_29254743e27540c595b6ce67a2e4b651",
            "_dom_classes": [],
            "description": "",
            "_model_name": "FloatProgressModel",
            "bar_style": "success",
            "max": 480,
            "_view_module": "@jupyter-widgets/controls",
            "_model_module_version": "1.5.0",
            "value": 480,
            "_view_count": null,
            "_view_module_version": "1.5.0",
            "orientation": "horizontal",
            "min": 0,
            "description_tooltip": null,
            "_model_module": "@jupyter-widgets/controls",
            "layout": "IPY_MODEL_50462af3d3e24d468bbac62d4e6053ff"
          }
        },
        "9329d02eb2434ca1a0c50891bbf99ebd": {
          "model_module": "@jupyter-widgets/controls",
          "model_name": "HTMLModel",
          "model_module_version": "1.5.0",
          "state": {
            "_view_name": "HTMLView",
            "style": "IPY_MODEL_732cd9ecdf02483ba0810e510ec75f08",
            "_dom_classes": [],
            "description": "",
            "_model_name": "HTMLModel",
            "placeholder": "​",
            "_view_module": "@jupyter-widgets/controls",
            "_model_module_version": "1.5.0",
            "value": " 480/480 [00:00&lt;00:00, 9.59kB/s]",
            "_view_count": null,
            "_view_module_version": "1.5.0",
            "description_tooltip": null,
            "_model_module": "@jupyter-widgets/controls",
            "layout": "IPY_MODEL_b722d08970874d38a8052e2320f319fd"
          }
        },
        "c88ae35fa0424bc49adbc0a55a166e41": {
          "model_module": "@jupyter-widgets/controls",
          "model_name": "DescriptionStyleModel",
          "model_module_version": "1.5.0",
          "state": {
            "_view_name": "StyleView",
            "_model_name": "DescriptionStyleModel",
            "description_width": "",
            "_view_module": "@jupyter-widgets/base",
            "_model_module_version": "1.5.0",
            "_view_count": null,
            "_view_module_version": "1.2.0",
            "_model_module": "@jupyter-widgets/controls"
          }
        },
        "bb31c2c097884d7c9a7cb81c226d9a8b": {
          "model_module": "@jupyter-widgets/base",
          "model_name": "LayoutModel",
          "model_module_version": "1.2.0",
          "state": {
            "_view_name": "LayoutView",
            "grid_template_rows": null,
            "right": null,
            "justify_content": null,
            "_view_module": "@jupyter-widgets/base",
            "overflow": null,
            "_model_module_version": "1.2.0",
            "_view_count": null,
            "flex_flow": null,
            "width": null,
            "min_width": null,
            "border": null,
            "align_items": null,
            "bottom": null,
            "_model_module": "@jupyter-widgets/base",
            "top": null,
            "grid_column": null,
            "overflow_y": null,
            "overflow_x": null,
            "grid_auto_flow": null,
            "grid_area": null,
            "grid_template_columns": null,
            "flex": null,
            "_model_name": "LayoutModel",
            "justify_items": null,
            "grid_row": null,
            "max_height": null,
            "align_content": null,
            "visibility": null,
            "align_self": null,
            "height": null,
            "min_height": null,
            "padding": null,
            "grid_auto_rows": null,
            "grid_gap": null,
            "max_width": null,
            "order": null,
            "_view_module_version": "1.2.0",
            "grid_template_areas": null,
            "object_position": null,
            "object_fit": null,
            "grid_auto_columns": null,
            "margin": null,
            "display": null,
            "left": null
          }
        },
        "29254743e27540c595b6ce67a2e4b651": {
          "model_module": "@jupyter-widgets/controls",
          "model_name": "ProgressStyleModel",
          "model_module_version": "1.5.0",
          "state": {
            "_view_name": "StyleView",
            "_model_name": "ProgressStyleModel",
            "description_width": "",
            "_view_module": "@jupyter-widgets/base",
            "_model_module_version": "1.5.0",
            "_view_count": null,
            "_view_module_version": "1.2.0",
            "bar_color": null,
            "_model_module": "@jupyter-widgets/controls"
          }
        },
        "50462af3d3e24d468bbac62d4e6053ff": {
          "model_module": "@jupyter-widgets/base",
          "model_name": "LayoutModel",
          "model_module_version": "1.2.0",
          "state": {
            "_view_name": "LayoutView",
            "grid_template_rows": null,
            "right": null,
            "justify_content": null,
            "_view_module": "@jupyter-widgets/base",
            "overflow": null,
            "_model_module_version": "1.2.0",
            "_view_count": null,
            "flex_flow": null,
            "width": null,
            "min_width": null,
            "border": null,
            "align_items": null,
            "bottom": null,
            "_model_module": "@jupyter-widgets/base",
            "top": null,
            "grid_column": null,
            "overflow_y": null,
            "overflow_x": null,
            "grid_auto_flow": null,
            "grid_area": null,
            "grid_template_columns": null,
            "flex": null,
            "_model_name": "LayoutModel",
            "justify_items": null,
            "grid_row": null,
            "max_height": null,
            "align_content": null,
            "visibility": null,
            "align_self": null,
            "height": null,
            "min_height": null,
            "padding": null,
            "grid_auto_rows": null,
            "grid_gap": null,
            "max_width": null,
            "order": null,
            "_view_module_version": "1.2.0",
            "grid_template_areas": null,
            "object_position": null,
            "object_fit": null,
            "grid_auto_columns": null,
            "margin": null,
            "display": null,
            "left": null
          }
        },
        "732cd9ecdf02483ba0810e510ec75f08": {
          "model_module": "@jupyter-widgets/controls",
          "model_name": "DescriptionStyleModel",
          "model_module_version": "1.5.0",
          "state": {
            "_view_name": "StyleView",
            "_model_name": "DescriptionStyleModel",
            "description_width": "",
            "_view_module": "@jupyter-widgets/base",
            "_model_module_version": "1.5.0",
            "_view_count": null,
            "_view_module_version": "1.2.0",
            "_model_module": "@jupyter-widgets/controls"
          }
        },
        "b722d08970874d38a8052e2320f319fd": {
          "model_module": "@jupyter-widgets/base",
          "model_name": "LayoutModel",
          "model_module_version": "1.2.0",
          "state": {
            "_view_name": "LayoutView",
            "grid_template_rows": null,
            "right": null,
            "justify_content": null,
            "_view_module": "@jupyter-widgets/base",
            "overflow": null,
            "_model_module_version": "1.2.0",
            "_view_count": null,
            "flex_flow": null,
            "width": null,
            "min_width": null,
            "border": null,
            "align_items": null,
            "bottom": null,
            "_model_module": "@jupyter-widgets/base",
            "top": null,
            "grid_column": null,
            "overflow_y": null,
            "overflow_x": null,
            "grid_auto_flow": null,
            "grid_area": null,
            "grid_template_columns": null,
            "flex": null,
            "_model_name": "LayoutModel",
            "justify_items": null,
            "grid_row": null,
            "max_height": null,
            "align_content": null,
            "visibility": null,
            "align_self": null,
            "height": null,
            "min_height": null,
            "padding": null,
            "grid_auto_rows": null,
            "grid_gap": null,
            "max_width": null,
            "order": null,
            "_view_module_version": "1.2.0",
            "grid_template_areas": null,
            "object_position": null,
            "object_fit": null,
            "grid_auto_columns": null,
            "margin": null,
            "display": null,
            "left": null
          }
        },
        "7942baad2089429993d19b18c5df2c98": {
          "model_module": "@jupyter-widgets/controls",
          "model_name": "HBoxModel",
          "model_module_version": "1.5.0",
          "state": {
            "_view_name": "HBoxView",
            "_dom_classes": [],
            "_model_name": "HBoxModel",
            "_view_module": "@jupyter-widgets/controls",
            "_model_module_version": "1.5.0",
            "_view_count": null,
            "_view_module_version": "1.5.0",
            "box_style": "",
            "layout": "IPY_MODEL_389bbf5f96fb48dd851b8990965e2f63",
            "_model_module": "@jupyter-widgets/controls",
            "children": [
              "IPY_MODEL_2dbf94564c10463ba7ce9e836e47883a",
              "IPY_MODEL_671424d08f7b4c8c8982570358c90be6",
              "IPY_MODEL_9090544862444fd48a34606fc29f6cd3"
            ]
          }
        },
        "389bbf5f96fb48dd851b8990965e2f63": {
          "model_module": "@jupyter-widgets/base",
          "model_name": "LayoutModel",
          "model_module_version": "1.2.0",
          "state": {
            "_view_name": "LayoutView",
            "grid_template_rows": null,
            "right": null,
            "justify_content": null,
            "_view_module": "@jupyter-widgets/base",
            "overflow": null,
            "_model_module_version": "1.2.0",
            "_view_count": null,
            "flex_flow": null,
            "width": null,
            "min_width": null,
            "border": null,
            "align_items": null,
            "bottom": null,
            "_model_module": "@jupyter-widgets/base",
            "top": null,
            "grid_column": null,
            "overflow_y": null,
            "overflow_x": null,
            "grid_auto_flow": null,
            "grid_area": null,
            "grid_template_columns": null,
            "flex": null,
            "_model_name": "LayoutModel",
            "justify_items": null,
            "grid_row": null,
            "max_height": null,
            "align_content": null,
            "visibility": null,
            "align_self": null,
            "height": null,
            "min_height": null,
            "padding": null,
            "grid_auto_rows": null,
            "grid_gap": null,
            "max_width": null,
            "order": null,
            "_view_module_version": "1.2.0",
            "grid_template_areas": null,
            "object_position": null,
            "object_fit": null,
            "grid_auto_columns": null,
            "margin": null,
            "display": null,
            "left": null
          }
        },
        "2dbf94564c10463ba7ce9e836e47883a": {
          "model_module": "@jupyter-widgets/controls",
          "model_name": "HTMLModel",
          "model_module_version": "1.5.0",
          "state": {
            "_view_name": "HTMLView",
            "style": "IPY_MODEL_6cd384f646a7486aa8c55ff8c7d35688",
            "_dom_classes": [],
            "description": "",
            "_model_name": "HTMLModel",
            "placeholder": "​",
            "_view_module": "@jupyter-widgets/controls",
            "_model_module_version": "1.5.0",
            "value": "Downloading: 100%",
            "_view_count": null,
            "_view_module_version": "1.5.0",
            "description_tooltip": null,
            "_model_module": "@jupyter-widgets/controls",
            "layout": "IPY_MODEL_0c2cd5a4db794620b666ec2cfad67a1b"
          }
        },
        "671424d08f7b4c8c8982570358c90be6": {
          "model_module": "@jupyter-widgets/controls",
          "model_name": "FloatProgressModel",
          "model_module_version": "1.5.0",
          "state": {
            "_view_name": "ProgressView",
            "style": "IPY_MODEL_404d0d05427c46798799d11247d2e01e",
            "_dom_classes": [],
            "description": "",
            "_model_name": "FloatProgressModel",
            "bar_style": "success",
            "max": 898823,
            "_view_module": "@jupyter-widgets/controls",
            "_model_module_version": "1.5.0",
            "value": 898823,
            "_view_count": null,
            "_view_module_version": "1.5.0",
            "orientation": "horizontal",
            "min": 0,
            "description_tooltip": null,
            "_model_module": "@jupyter-widgets/controls",
            "layout": "IPY_MODEL_529749a3a0e04a30b498fe63d4373475"
          }
        },
        "9090544862444fd48a34606fc29f6cd3": {
          "model_module": "@jupyter-widgets/controls",
          "model_name": "HTMLModel",
          "model_module_version": "1.5.0",
          "state": {
            "_view_name": "HTMLView",
            "style": "IPY_MODEL_883780f7b0fc44079086b6fe6d5b4ce6",
            "_dom_classes": [],
            "description": "",
            "_model_name": "HTMLModel",
            "placeholder": "​",
            "_view_module": "@jupyter-widgets/controls",
            "_model_module_version": "1.5.0",
            "value": " 878k/878k [00:00&lt;00:00, 1.14MB/s]",
            "_view_count": null,
            "_view_module_version": "1.5.0",
            "description_tooltip": null,
            "_model_module": "@jupyter-widgets/controls",
            "layout": "IPY_MODEL_56a173851d014e29b0731f48c2cc0921"
          }
        },
        "6cd384f646a7486aa8c55ff8c7d35688": {
          "model_module": "@jupyter-widgets/controls",
          "model_name": "DescriptionStyleModel",
          "model_module_version": "1.5.0",
          "state": {
            "_view_name": "StyleView",
            "_model_name": "DescriptionStyleModel",
            "description_width": "",
            "_view_module": "@jupyter-widgets/base",
            "_model_module_version": "1.5.0",
            "_view_count": null,
            "_view_module_version": "1.2.0",
            "_model_module": "@jupyter-widgets/controls"
          }
        },
        "0c2cd5a4db794620b666ec2cfad67a1b": {
          "model_module": "@jupyter-widgets/base",
          "model_name": "LayoutModel",
          "model_module_version": "1.2.0",
          "state": {
            "_view_name": "LayoutView",
            "grid_template_rows": null,
            "right": null,
            "justify_content": null,
            "_view_module": "@jupyter-widgets/base",
            "overflow": null,
            "_model_module_version": "1.2.0",
            "_view_count": null,
            "flex_flow": null,
            "width": null,
            "min_width": null,
            "border": null,
            "align_items": null,
            "bottom": null,
            "_model_module": "@jupyter-widgets/base",
            "top": null,
            "grid_column": null,
            "overflow_y": null,
            "overflow_x": null,
            "grid_auto_flow": null,
            "grid_area": null,
            "grid_template_columns": null,
            "flex": null,
            "_model_name": "LayoutModel",
            "justify_items": null,
            "grid_row": null,
            "max_height": null,
            "align_content": null,
            "visibility": null,
            "align_self": null,
            "height": null,
            "min_height": null,
            "padding": null,
            "grid_auto_rows": null,
            "grid_gap": null,
            "max_width": null,
            "order": null,
            "_view_module_version": "1.2.0",
            "grid_template_areas": null,
            "object_position": null,
            "object_fit": null,
            "grid_auto_columns": null,
            "margin": null,
            "display": null,
            "left": null
          }
        },
        "404d0d05427c46798799d11247d2e01e": {
          "model_module": "@jupyter-widgets/controls",
          "model_name": "ProgressStyleModel",
          "model_module_version": "1.5.0",
          "state": {
            "_view_name": "StyleView",
            "_model_name": "ProgressStyleModel",
            "description_width": "",
            "_view_module": "@jupyter-widgets/base",
            "_model_module_version": "1.5.0",
            "_view_count": null,
            "_view_module_version": "1.2.0",
            "bar_color": null,
            "_model_module": "@jupyter-widgets/controls"
          }
        },
        "529749a3a0e04a30b498fe63d4373475": {
          "model_module": "@jupyter-widgets/base",
          "model_name": "LayoutModel",
          "model_module_version": "1.2.0",
          "state": {
            "_view_name": "LayoutView",
            "grid_template_rows": null,
            "right": null,
            "justify_content": null,
            "_view_module": "@jupyter-widgets/base",
            "overflow": null,
            "_model_module_version": "1.2.0",
            "_view_count": null,
            "flex_flow": null,
            "width": null,
            "min_width": null,
            "border": null,
            "align_items": null,
            "bottom": null,
            "_model_module": "@jupyter-widgets/base",
            "top": null,
            "grid_column": null,
            "overflow_y": null,
            "overflow_x": null,
            "grid_auto_flow": null,
            "grid_area": null,
            "grid_template_columns": null,
            "flex": null,
            "_model_name": "LayoutModel",
            "justify_items": null,
            "grid_row": null,
            "max_height": null,
            "align_content": null,
            "visibility": null,
            "align_self": null,
            "height": null,
            "min_height": null,
            "padding": null,
            "grid_auto_rows": null,
            "grid_gap": null,
            "max_width": null,
            "order": null,
            "_view_module_version": "1.2.0",
            "grid_template_areas": null,
            "object_position": null,
            "object_fit": null,
            "grid_auto_columns": null,
            "margin": null,
            "display": null,
            "left": null
          }
        },
        "883780f7b0fc44079086b6fe6d5b4ce6": {
          "model_module": "@jupyter-widgets/controls",
          "model_name": "DescriptionStyleModel",
          "model_module_version": "1.5.0",
          "state": {
            "_view_name": "StyleView",
            "_model_name": "DescriptionStyleModel",
            "description_width": "",
            "_view_module": "@jupyter-widgets/base",
            "_model_module_version": "1.5.0",
            "_view_count": null,
            "_view_module_version": "1.2.0",
            "_model_module": "@jupyter-widgets/controls"
          }
        },
        "56a173851d014e29b0731f48c2cc0921": {
          "model_module": "@jupyter-widgets/base",
          "model_name": "LayoutModel",
          "model_module_version": "1.2.0",
          "state": {
            "_view_name": "LayoutView",
            "grid_template_rows": null,
            "right": null,
            "justify_content": null,
            "_view_module": "@jupyter-widgets/base",
            "overflow": null,
            "_model_module_version": "1.2.0",
            "_view_count": null,
            "flex_flow": null,
            "width": null,
            "min_width": null,
            "border": null,
            "align_items": null,
            "bottom": null,
            "_model_module": "@jupyter-widgets/base",
            "top": null,
            "grid_column": null,
            "overflow_y": null,
            "overflow_x": null,
            "grid_auto_flow": null,
            "grid_area": null,
            "grid_template_columns": null,
            "flex": null,
            "_model_name": "LayoutModel",
            "justify_items": null,
            "grid_row": null,
            "max_height": null,
            "align_content": null,
            "visibility": null,
            "align_self": null,
            "height": null,
            "min_height": null,
            "padding": null,
            "grid_auto_rows": null,
            "grid_gap": null,
            "max_width": null,
            "order": null,
            "_view_module_version": "1.2.0",
            "grid_template_areas": null,
            "object_position": null,
            "object_fit": null,
            "grid_auto_columns": null,
            "margin": null,
            "display": null,
            "left": null
          }
        },
        "836a6e3a6ab74e7ead151f2b8606b684": {
          "model_module": "@jupyter-widgets/controls",
          "model_name": "HBoxModel",
          "model_module_version": "1.5.0",
          "state": {
            "_view_name": "HBoxView",
            "_dom_classes": [],
            "_model_name": "HBoxModel",
            "_view_module": "@jupyter-widgets/controls",
            "_model_module_version": "1.5.0",
            "_view_count": null,
            "_view_module_version": "1.5.0",
            "box_style": "",
            "layout": "IPY_MODEL_92784b9f416c409bb0d2d2d697d29d3b",
            "_model_module": "@jupyter-widgets/controls",
            "children": [
              "IPY_MODEL_b15d48d2b40543c4ae1cd520958e36f0",
              "IPY_MODEL_bff2b3cc8cad4eb699b6027d8488a47e",
              "IPY_MODEL_9fad0d0af567458b9802010bac3aaf74"
            ]
          }
        },
        "92784b9f416c409bb0d2d2d697d29d3b": {
          "model_module": "@jupyter-widgets/base",
          "model_name": "LayoutModel",
          "model_module_version": "1.2.0",
          "state": {
            "_view_name": "LayoutView",
            "grid_template_rows": null,
            "right": null,
            "justify_content": null,
            "_view_module": "@jupyter-widgets/base",
            "overflow": null,
            "_model_module_version": "1.2.0",
            "_view_count": null,
            "flex_flow": null,
            "width": null,
            "min_width": null,
            "border": null,
            "align_items": null,
            "bottom": null,
            "_model_module": "@jupyter-widgets/base",
            "top": null,
            "grid_column": null,
            "overflow_y": null,
            "overflow_x": null,
            "grid_auto_flow": null,
            "grid_area": null,
            "grid_template_columns": null,
            "flex": null,
            "_model_name": "LayoutModel",
            "justify_items": null,
            "grid_row": null,
            "max_height": null,
            "align_content": null,
            "visibility": null,
            "align_self": null,
            "height": null,
            "min_height": null,
            "padding": null,
            "grid_auto_rows": null,
            "grid_gap": null,
            "max_width": null,
            "order": null,
            "_view_module_version": "1.2.0",
            "grid_template_areas": null,
            "object_position": null,
            "object_fit": null,
            "grid_auto_columns": null,
            "margin": null,
            "display": null,
            "left": null
          }
        },
        "b15d48d2b40543c4ae1cd520958e36f0": {
          "model_module": "@jupyter-widgets/controls",
          "model_name": "HTMLModel",
          "model_module_version": "1.5.0",
          "state": {
            "_view_name": "HTMLView",
            "style": "IPY_MODEL_fc83dccd50234a6884b2064a95d3e8c4",
            "_dom_classes": [],
            "description": "",
            "_model_name": "HTMLModel",
            "placeholder": "​",
            "_view_module": "@jupyter-widgets/controls",
            "_model_module_version": "1.5.0",
            "value": "Downloading: 100%",
            "_view_count": null,
            "_view_module_version": "1.5.0",
            "description_tooltip": null,
            "_model_module": "@jupyter-widgets/controls",
            "layout": "IPY_MODEL_168dfe8e7a364be9a82bb307dc619a11"
          }
        },
        "bff2b3cc8cad4eb699b6027d8488a47e": {
          "model_module": "@jupyter-widgets/controls",
          "model_name": "FloatProgressModel",
          "model_module_version": "1.5.0",
          "state": {
            "_view_name": "ProgressView",
            "style": "IPY_MODEL_dca138df823448fabe00548a639f1cd4",
            "_dom_classes": [],
            "description": "",
            "_model_name": "FloatProgressModel",
            "bar_style": "success",
            "max": 456318,
            "_view_module": "@jupyter-widgets/controls",
            "_model_module_version": "1.5.0",
            "value": 456318,
            "_view_count": null,
            "_view_module_version": "1.5.0",
            "orientation": "horizontal",
            "min": 0,
            "description_tooltip": null,
            "_model_module": "@jupyter-widgets/controls",
            "layout": "IPY_MODEL_5f8aea5b715c40cc85faa15748c07521"
          }
        },
        "9fad0d0af567458b9802010bac3aaf74": {
          "model_module": "@jupyter-widgets/controls",
          "model_name": "HTMLModel",
          "model_module_version": "1.5.0",
          "state": {
            "_view_name": "HTMLView",
            "style": "IPY_MODEL_aadff789471f4944a4e156aaee414f3b",
            "_dom_classes": [],
            "description": "",
            "_model_name": "HTMLModel",
            "placeholder": "​",
            "_view_module": "@jupyter-widgets/controls",
            "_model_module_version": "1.5.0",
            "value": " 446k/446k [00:00&lt;00:00, 1.21MB/s]",
            "_view_count": null,
            "_view_module_version": "1.5.0",
            "description_tooltip": null,
            "_model_module": "@jupyter-widgets/controls",
            "layout": "IPY_MODEL_8371ae0bdd8348bca1784c9f0a3c4e09"
          }
        },
        "fc83dccd50234a6884b2064a95d3e8c4": {
          "model_module": "@jupyter-widgets/controls",
          "model_name": "DescriptionStyleModel",
          "model_module_version": "1.5.0",
          "state": {
            "_view_name": "StyleView",
            "_model_name": "DescriptionStyleModel",
            "description_width": "",
            "_view_module": "@jupyter-widgets/base",
            "_model_module_version": "1.5.0",
            "_view_count": null,
            "_view_module_version": "1.2.0",
            "_model_module": "@jupyter-widgets/controls"
          }
        },
        "168dfe8e7a364be9a82bb307dc619a11": {
          "model_module": "@jupyter-widgets/base",
          "model_name": "LayoutModel",
          "model_module_version": "1.2.0",
          "state": {
            "_view_name": "LayoutView",
            "grid_template_rows": null,
            "right": null,
            "justify_content": null,
            "_view_module": "@jupyter-widgets/base",
            "overflow": null,
            "_model_module_version": "1.2.0",
            "_view_count": null,
            "flex_flow": null,
            "width": null,
            "min_width": null,
            "border": null,
            "align_items": null,
            "bottom": null,
            "_model_module": "@jupyter-widgets/base",
            "top": null,
            "grid_column": null,
            "overflow_y": null,
            "overflow_x": null,
            "grid_auto_flow": null,
            "grid_area": null,
            "grid_template_columns": null,
            "flex": null,
            "_model_name": "LayoutModel",
            "justify_items": null,
            "grid_row": null,
            "max_height": null,
            "align_content": null,
            "visibility": null,
            "align_self": null,
            "height": null,
            "min_height": null,
            "padding": null,
            "grid_auto_rows": null,
            "grid_gap": null,
            "max_width": null,
            "order": null,
            "_view_module_version": "1.2.0",
            "grid_template_areas": null,
            "object_position": null,
            "object_fit": null,
            "grid_auto_columns": null,
            "margin": null,
            "display": null,
            "left": null
          }
        },
        "dca138df823448fabe00548a639f1cd4": {
          "model_module": "@jupyter-widgets/controls",
          "model_name": "ProgressStyleModel",
          "model_module_version": "1.5.0",
          "state": {
            "_view_name": "StyleView",
            "_model_name": "ProgressStyleModel",
            "description_width": "",
            "_view_module": "@jupyter-widgets/base",
            "_model_module_version": "1.5.0",
            "_view_count": null,
            "_view_module_version": "1.2.0",
            "bar_color": null,
            "_model_module": "@jupyter-widgets/controls"
          }
        },
        "5f8aea5b715c40cc85faa15748c07521": {
          "model_module": "@jupyter-widgets/base",
          "model_name": "LayoutModel",
          "model_module_version": "1.2.0",
          "state": {
            "_view_name": "LayoutView",
            "grid_template_rows": null,
            "right": null,
            "justify_content": null,
            "_view_module": "@jupyter-widgets/base",
            "overflow": null,
            "_model_module_version": "1.2.0",
            "_view_count": null,
            "flex_flow": null,
            "width": null,
            "min_width": null,
            "border": null,
            "align_items": null,
            "bottom": null,
            "_model_module": "@jupyter-widgets/base",
            "top": null,
            "grid_column": null,
            "overflow_y": null,
            "overflow_x": null,
            "grid_auto_flow": null,
            "grid_area": null,
            "grid_template_columns": null,
            "flex": null,
            "_model_name": "LayoutModel",
            "justify_items": null,
            "grid_row": null,
            "max_height": null,
            "align_content": null,
            "visibility": null,
            "align_self": null,
            "height": null,
            "min_height": null,
            "padding": null,
            "grid_auto_rows": null,
            "grid_gap": null,
            "max_width": null,
            "order": null,
            "_view_module_version": "1.2.0",
            "grid_template_areas": null,
            "object_position": null,
            "object_fit": null,
            "grid_auto_columns": null,
            "margin": null,
            "display": null,
            "left": null
          }
        },
        "aadff789471f4944a4e156aaee414f3b": {
          "model_module": "@jupyter-widgets/controls",
          "model_name": "DescriptionStyleModel",
          "model_module_version": "1.5.0",
          "state": {
            "_view_name": "StyleView",
            "_model_name": "DescriptionStyleModel",
            "description_width": "",
            "_view_module": "@jupyter-widgets/base",
            "_model_module_version": "1.5.0",
            "_view_count": null,
            "_view_module_version": "1.2.0",
            "_model_module": "@jupyter-widgets/controls"
          }
        },
        "8371ae0bdd8348bca1784c9f0a3c4e09": {
          "model_module": "@jupyter-widgets/base",
          "model_name": "LayoutModel",
          "model_module_version": "1.2.0",
          "state": {
            "_view_name": "LayoutView",
            "grid_template_rows": null,
            "right": null,
            "justify_content": null,
            "_view_module": "@jupyter-widgets/base",
            "overflow": null,
            "_model_module_version": "1.2.0",
            "_view_count": null,
            "flex_flow": null,
            "width": null,
            "min_width": null,
            "border": null,
            "align_items": null,
            "bottom": null,
            "_model_module": "@jupyter-widgets/base",
            "top": null,
            "grid_column": null,
            "overflow_y": null,
            "overflow_x": null,
            "grid_auto_flow": null,
            "grid_area": null,
            "grid_template_columns": null,
            "flex": null,
            "_model_name": "LayoutModel",
            "justify_items": null,
            "grid_row": null,
            "max_height": null,
            "align_content": null,
            "visibility": null,
            "align_self": null,
            "height": null,
            "min_height": null,
            "padding": null,
            "grid_auto_rows": null,
            "grid_gap": null,
            "max_width": null,
            "order": null,
            "_view_module_version": "1.2.0",
            "grid_template_areas": null,
            "object_position": null,
            "object_fit": null,
            "grid_auto_columns": null,
            "margin": null,
            "display": null,
            "left": null
          }
        },
        "3dadb592699049758728444a1a182945": {
          "model_module": "@jupyter-widgets/controls",
          "model_name": "HBoxModel",
          "model_module_version": "1.5.0",
          "state": {
            "_view_name": "HBoxView",
            "_dom_classes": [],
            "_model_name": "HBoxModel",
            "_view_module": "@jupyter-widgets/controls",
            "_model_module_version": "1.5.0",
            "_view_count": null,
            "_view_module_version": "1.5.0",
            "box_style": "",
            "layout": "IPY_MODEL_a549fed1dea1473eb15bb2e6d1c59006",
            "_model_module": "@jupyter-widgets/controls",
            "children": [
              "IPY_MODEL_5d0c4a908c39432db6ef8560aa19b282",
              "IPY_MODEL_6d12271c04384945a5bd7aa4262813cd",
              "IPY_MODEL_e3b1e868df5a43679dcba690b2692fa4"
            ]
          }
        },
        "a549fed1dea1473eb15bb2e6d1c59006": {
          "model_module": "@jupyter-widgets/base",
          "model_name": "LayoutModel",
          "model_module_version": "1.2.0",
          "state": {
            "_view_name": "LayoutView",
            "grid_template_rows": null,
            "right": null,
            "justify_content": null,
            "_view_module": "@jupyter-widgets/base",
            "overflow": null,
            "_model_module_version": "1.2.0",
            "_view_count": null,
            "flex_flow": null,
            "width": null,
            "min_width": null,
            "border": null,
            "align_items": null,
            "bottom": null,
            "_model_module": "@jupyter-widgets/base",
            "top": null,
            "grid_column": null,
            "overflow_y": null,
            "overflow_x": null,
            "grid_auto_flow": null,
            "grid_area": null,
            "grid_template_columns": null,
            "flex": null,
            "_model_name": "LayoutModel",
            "justify_items": null,
            "grid_row": null,
            "max_height": null,
            "align_content": null,
            "visibility": null,
            "align_self": null,
            "height": null,
            "min_height": null,
            "padding": null,
            "grid_auto_rows": null,
            "grid_gap": null,
            "max_width": null,
            "order": null,
            "_view_module_version": "1.2.0",
            "grid_template_areas": null,
            "object_position": null,
            "object_fit": null,
            "grid_auto_columns": null,
            "margin": null,
            "display": null,
            "left": null
          }
        },
        "5d0c4a908c39432db6ef8560aa19b282": {
          "model_module": "@jupyter-widgets/controls",
          "model_name": "HTMLModel",
          "model_module_version": "1.5.0",
          "state": {
            "_view_name": "HTMLView",
            "style": "IPY_MODEL_5619c107b31b4cd1a6005b2587083d1f",
            "_dom_classes": [],
            "description": "",
            "_model_name": "HTMLModel",
            "placeholder": "​",
            "_view_module": "@jupyter-widgets/controls",
            "_model_module_version": "1.5.0",
            "value": "Downloading: 100%",
            "_view_count": null,
            "_view_module_version": "1.5.0",
            "description_tooltip": null,
            "_model_module": "@jupyter-widgets/controls",
            "layout": "IPY_MODEL_6a7dffb87a0b4ec2870b0387a76c0344"
          }
        },
        "6d12271c04384945a5bd7aa4262813cd": {
          "model_module": "@jupyter-widgets/controls",
          "model_name": "FloatProgressModel",
          "model_module_version": "1.5.0",
          "state": {
            "_view_name": "ProgressView",
            "style": "IPY_MODEL_907440d4b3574a849ba70729cacc68bd",
            "_dom_classes": [],
            "description": "",
            "_model_name": "FloatProgressModel",
            "bar_style": "success",
            "max": 1355863,
            "_view_module": "@jupyter-widgets/controls",
            "_model_module_version": "1.5.0",
            "value": 1355863,
            "_view_count": null,
            "_view_module_version": "1.5.0",
            "orientation": "horizontal",
            "min": 0,
            "description_tooltip": null,
            "_model_module": "@jupyter-widgets/controls",
            "layout": "IPY_MODEL_35c7ed496bbf47d9afa5c3e3468de74c"
          }
        },
        "e3b1e868df5a43679dcba690b2692fa4": {
          "model_module": "@jupyter-widgets/controls",
          "model_name": "HTMLModel",
          "model_module_version": "1.5.0",
          "state": {
            "_view_name": "HTMLView",
            "style": "IPY_MODEL_58b998786d1f41e2a94fde6d1d5589ce",
            "_dom_classes": [],
            "description": "",
            "_model_name": "HTMLModel",
            "placeholder": "​",
            "_view_module": "@jupyter-widgets/controls",
            "_model_module_version": "1.5.0",
            "value": " 1.29M/1.29M [00:00&lt;00:00, 1.10MB/s]",
            "_view_count": null,
            "_view_module_version": "1.5.0",
            "description_tooltip": null,
            "_model_module": "@jupyter-widgets/controls",
            "layout": "IPY_MODEL_9cd31a44654f418abaf6d4804bfa7ba0"
          }
        },
        "5619c107b31b4cd1a6005b2587083d1f": {
          "model_module": "@jupyter-widgets/controls",
          "model_name": "DescriptionStyleModel",
          "model_module_version": "1.5.0",
          "state": {
            "_view_name": "StyleView",
            "_model_name": "DescriptionStyleModel",
            "description_width": "",
            "_view_module": "@jupyter-widgets/base",
            "_model_module_version": "1.5.0",
            "_view_count": null,
            "_view_module_version": "1.2.0",
            "_model_module": "@jupyter-widgets/controls"
          }
        },
        "6a7dffb87a0b4ec2870b0387a76c0344": {
          "model_module": "@jupyter-widgets/base",
          "model_name": "LayoutModel",
          "model_module_version": "1.2.0",
          "state": {
            "_view_name": "LayoutView",
            "grid_template_rows": null,
            "right": null,
            "justify_content": null,
            "_view_module": "@jupyter-widgets/base",
            "overflow": null,
            "_model_module_version": "1.2.0",
            "_view_count": null,
            "flex_flow": null,
            "width": null,
            "min_width": null,
            "border": null,
            "align_items": null,
            "bottom": null,
            "_model_module": "@jupyter-widgets/base",
            "top": null,
            "grid_column": null,
            "overflow_y": null,
            "overflow_x": null,
            "grid_auto_flow": null,
            "grid_area": null,
            "grid_template_columns": null,
            "flex": null,
            "_model_name": "LayoutModel",
            "justify_items": null,
            "grid_row": null,
            "max_height": null,
            "align_content": null,
            "visibility": null,
            "align_self": null,
            "height": null,
            "min_height": null,
            "padding": null,
            "grid_auto_rows": null,
            "grid_gap": null,
            "max_width": null,
            "order": null,
            "_view_module_version": "1.2.0",
            "grid_template_areas": null,
            "object_position": null,
            "object_fit": null,
            "grid_auto_columns": null,
            "margin": null,
            "display": null,
            "left": null
          }
        },
        "907440d4b3574a849ba70729cacc68bd": {
          "model_module": "@jupyter-widgets/controls",
          "model_name": "ProgressStyleModel",
          "model_module_version": "1.5.0",
          "state": {
            "_view_name": "StyleView",
            "_model_name": "ProgressStyleModel",
            "description_width": "",
            "_view_module": "@jupyter-widgets/base",
            "_model_module_version": "1.5.0",
            "_view_count": null,
            "_view_module_version": "1.2.0",
            "bar_color": null,
            "_model_module": "@jupyter-widgets/controls"
          }
        },
        "35c7ed496bbf47d9afa5c3e3468de74c": {
          "model_module": "@jupyter-widgets/base",
          "model_name": "LayoutModel",
          "model_module_version": "1.2.0",
          "state": {
            "_view_name": "LayoutView",
            "grid_template_rows": null,
            "right": null,
            "justify_content": null,
            "_view_module": "@jupyter-widgets/base",
            "overflow": null,
            "_model_module_version": "1.2.0",
            "_view_count": null,
            "flex_flow": null,
            "width": null,
            "min_width": null,
            "border": null,
            "align_items": null,
            "bottom": null,
            "_model_module": "@jupyter-widgets/base",
            "top": null,
            "grid_column": null,
            "overflow_y": null,
            "overflow_x": null,
            "grid_auto_flow": null,
            "grid_area": null,
            "grid_template_columns": null,
            "flex": null,
            "_model_name": "LayoutModel",
            "justify_items": null,
            "grid_row": null,
            "max_height": null,
            "align_content": null,
            "visibility": null,
            "align_self": null,
            "height": null,
            "min_height": null,
            "padding": null,
            "grid_auto_rows": null,
            "grid_gap": null,
            "max_width": null,
            "order": null,
            "_view_module_version": "1.2.0",
            "grid_template_areas": null,
            "object_position": null,
            "object_fit": null,
            "grid_auto_columns": null,
            "margin": null,
            "display": null,
            "left": null
          }
        },
        "58b998786d1f41e2a94fde6d1d5589ce": {
          "model_module": "@jupyter-widgets/controls",
          "model_name": "DescriptionStyleModel",
          "model_module_version": "1.5.0",
          "state": {
            "_view_name": "StyleView",
            "_model_name": "DescriptionStyleModel",
            "description_width": "",
            "_view_module": "@jupyter-widgets/base",
            "_model_module_version": "1.5.0",
            "_view_count": null,
            "_view_module_version": "1.2.0",
            "_model_module": "@jupyter-widgets/controls"
          }
        },
        "9cd31a44654f418abaf6d4804bfa7ba0": {
          "model_module": "@jupyter-widgets/base",
          "model_name": "LayoutModel",
          "model_module_version": "1.2.0",
          "state": {
            "_view_name": "LayoutView",
            "grid_template_rows": null,
            "right": null,
            "justify_content": null,
            "_view_module": "@jupyter-widgets/base",
            "overflow": null,
            "_model_module_version": "1.2.0",
            "_view_count": null,
            "flex_flow": null,
            "width": null,
            "min_width": null,
            "border": null,
            "align_items": null,
            "bottom": null,
            "_model_module": "@jupyter-widgets/base",
            "top": null,
            "grid_column": null,
            "overflow_y": null,
            "overflow_x": null,
            "grid_auto_flow": null,
            "grid_area": null,
            "grid_template_columns": null,
            "flex": null,
            "_model_name": "LayoutModel",
            "justify_items": null,
            "grid_row": null,
            "max_height": null,
            "align_content": null,
            "visibility": null,
            "align_self": null,
            "height": null,
            "min_height": null,
            "padding": null,
            "grid_auto_rows": null,
            "grid_gap": null,
            "max_width": null,
            "order": null,
            "_view_module_version": "1.2.0",
            "grid_template_areas": null,
            "object_position": null,
            "object_fit": null,
            "grid_auto_columns": null,
            "margin": null,
            "display": null,
            "left": null
          }
        }
      }
    }
  },
  "cells": [
    {
      "cell_type": "markdown",
      "metadata": {
        "id": "view-in-github",
        "colab_type": "text"
      },
      "source": [
        "<a href=\"https://colab.research.google.com/github/alfrizzle/NLP-Projects/blob/master/SM_Training_01.ipynb\" target=\"_parent\"><img src=\"https://colab.research.google.com/assets/colab-badge.svg\" alt=\"Open In Colab\"/></a>"
      ]
    },
    {
      "cell_type": "code",
      "execution_count": 1,
      "metadata": {
        "id": "8qER5TAuV97E"
      },
      "outputs": [],
      "source": [
        "import pandas as pd\n",
        "import os"
      ]
    },
    {
      "cell_type": "code",
      "source": [
        "os.chdir('/content/drive/MyDrive/datasets')"
      ],
      "metadata": {
        "id": "laZlo5OVV_AJ"
      },
      "execution_count": 28,
      "outputs": []
    },
    {
      "cell_type": "code",
      "source": [
        "df = pd.read_csv('wiki_attacks_sample.csv')"
      ],
      "metadata": {
        "id": "y9ej6uBtWH-H"
      },
      "execution_count": 29,
      "outputs": []
    },
    {
      "cell_type": "code",
      "source": [
        "df.shape"
      ],
      "metadata": {
        "colab": {
          "base_uri": "https://localhost:8080/"
        },
        "id": "VaSUqdzpWJJu",
        "outputId": "3790d113-f9a5-437b-beaa-614e4870c49b"
      },
      "execution_count": 30,
      "outputs": [
        {
          "output_type": "execute_result",
          "data": {
            "text/plain": [
              "(1000, 2)"
            ]
          },
          "metadata": {},
          "execution_count": 30
        }
      ]
    },
    {
      "cell_type": "code",
      "source": [
        "df.to_json('wiki_attacks_sample.json')"
      ],
      "metadata": {
        "id": "MgxjvNzqqJjQ"
      },
      "execution_count": 34,
      "outputs": []
    },
    {
      "cell_type": "code",
      "source": [
        "# df_sample = df[:1000]"
      ],
      "metadata": {
        "id": "572nmxAiWzr0"
      },
      "execution_count": 7,
      "outputs": []
    },
    {
      "cell_type": "code",
      "source": [
        "from sklearn.model_selection import train_test_split"
      ],
      "metadata": {
        "id": "BIihL2I2nzyJ"
      },
      "execution_count": 31,
      "outputs": []
    },
    {
      "cell_type": "code",
      "source": [
        "train_df, test_df = train_test_split(df, test_size = .2, stratify=df['label'])"
      ],
      "metadata": {
        "id": "PMGbA4RKoFyI"
      },
      "execution_count": 32,
      "outputs": []
    },
    {
      "cell_type": "code",
      "source": [
        "print(train_df.shape)\n",
        "print(test_df.shape)"
      ],
      "metadata": {
        "colab": {
          "base_uri": "https://localhost:8080/"
        },
        "id": "-g0ID8iaofTH",
        "outputId": "1db964ed-ef55-4d83-b659-ab109b4fa3d1"
      },
      "execution_count": 33,
      "outputs": [
        {
          "output_type": "stream",
          "name": "stdout",
          "text": [
            "(800, 2)\n",
            "(200, 2)\n"
          ]
        }
      ]
    },
    {
      "cell_type": "code",
      "source": [
        "test_df.label.value_counts()"
      ],
      "metadata": {
        "colab": {
          "base_uri": "https://localhost:8080/"
        },
        "id": "Rxkfl4o8pIeS",
        "outputId": "71bcd204-7e1a-43e2-deac-97faf2d4aa5d"
      },
      "execution_count": 39,
      "outputs": [
        {
          "output_type": "execute_result",
          "data": {
            "text/plain": [
              "0    188\n",
              "1     12\n",
              "Name: label, dtype: int64"
            ]
          },
          "metadata": {},
          "execution_count": 39
        }
      ]
    },
    {
      "cell_type": "code",
      "source": [
        "train_df.to_json('wiki_attacks_train.json')"
      ],
      "metadata": {
        "id": "LPi4QbNfoxYn"
      },
      "execution_count": 30,
      "outputs": []
    },
    {
      "cell_type": "code",
      "source": [
        "test_df.to_json('wiki_attacks_test.json')"
      ],
      "metadata": {
        "id": "zSOz5kYpo2n8"
      },
      "execution_count": 31,
      "outputs": []
    },
    {
      "cell_type": "code",
      "source": [
        "json_df = pd.read_json('wiki_attacks_sample_train.json')"
      ],
      "metadata": {
        "id": "e2mF3RvppnpR"
      },
      "execution_count": 20,
      "outputs": []
    },
    {
      "cell_type": "code",
      "source": [
        "json_df.head()"
      ],
      "metadata": {
        "colab": {
          "base_uri": "https://localhost:8080/",
          "height": 206
        },
        "id": "3rwT9WNYpt6F",
        "outputId": "a69e4f6f-be79-464e-b18e-ef88f15f7487"
      },
      "execution_count": 22,
      "outputs": [
        {
          "output_type": "execute_result",
          "data": {
            "text/html": [
              "\n",
              "  <div id=\"df-6ac3f43e-52c1-4eec-ac22-f2eb269524d6\">\n",
              "    <div class=\"colab-df-container\">\n",
              "      <div>\n",
              "<style scoped>\n",
              "    .dataframe tbody tr th:only-of-type {\n",
              "        vertical-align: middle;\n",
              "    }\n",
              "\n",
              "    .dataframe tbody tr th {\n",
              "        vertical-align: top;\n",
              "    }\n",
              "\n",
              "    .dataframe thead th {\n",
              "        text-align: right;\n",
              "    }\n",
              "</style>\n",
              "<table border=\"1\" class=\"dataframe\">\n",
              "  <thead>\n",
              "    <tr style=\"text-align: right;\">\n",
              "      <th></th>\n",
              "      <th>input</th>\n",
              "      <th>label</th>\n",
              "    </tr>\n",
              "  </thead>\n",
              "  <tbody>\n",
              "    <tr>\n",
              "      <th>261</th>\n",
              "      <td>== VfD ==  No, I voted just after seeing you...</td>\n",
              "      <td>0</td>\n",
              "    </tr>\n",
              "    <tr>\n",
              "      <th>113</th>\n",
              "      <td>==To the person who will rewrite the essay...</td>\n",
              "      <td>0</td>\n",
              "    </tr>\n",
              "    <tr>\n",
              "      <th>102</th>\n",
              "      <td>Wow!  That was fast.  I'm impressed.</td>\n",
              "      <td>0</td>\n",
              "    </tr>\n",
              "    <tr>\n",
              "      <th>959</th>\n",
              "      <td>putting an accuracy warning on it</td>\n",
              "      <td>0</td>\n",
              "    </tr>\n",
              "    <tr>\n",
              "      <th>874</th>\n",
              "      <td>I think that is actually useful information th...</td>\n",
              "      <td>0</td>\n",
              "    </tr>\n",
              "  </tbody>\n",
              "</table>\n",
              "</div>\n",
              "      <button class=\"colab-df-convert\" onclick=\"convertToInteractive('df-6ac3f43e-52c1-4eec-ac22-f2eb269524d6')\"\n",
              "              title=\"Convert this dataframe to an interactive table.\"\n",
              "              style=\"display:none;\">\n",
              "        \n",
              "  <svg xmlns=\"http://www.w3.org/2000/svg\" height=\"24px\"viewBox=\"0 0 24 24\"\n",
              "       width=\"24px\">\n",
              "    <path d=\"M0 0h24v24H0V0z\" fill=\"none\"/>\n",
              "    <path d=\"M18.56 5.44l.94 2.06.94-2.06 2.06-.94-2.06-.94-.94-2.06-.94 2.06-2.06.94zm-11 1L8.5 8.5l.94-2.06 2.06-.94-2.06-.94L8.5 2.5l-.94 2.06-2.06.94zm10 10l.94 2.06.94-2.06 2.06-.94-2.06-.94-.94-2.06-.94 2.06-2.06.94z\"/><path d=\"M17.41 7.96l-1.37-1.37c-.4-.4-.92-.59-1.43-.59-.52 0-1.04.2-1.43.59L10.3 9.45l-7.72 7.72c-.78.78-.78 2.05 0 2.83L4 21.41c.39.39.9.59 1.41.59.51 0 1.02-.2 1.41-.59l7.78-7.78 2.81-2.81c.8-.78.8-2.07 0-2.86zM5.41 20L4 18.59l7.72-7.72 1.47 1.35L5.41 20z\"/>\n",
              "  </svg>\n",
              "      </button>\n",
              "      \n",
              "  <style>\n",
              "    .colab-df-container {\n",
              "      display:flex;\n",
              "      flex-wrap:wrap;\n",
              "      gap: 12px;\n",
              "    }\n",
              "\n",
              "    .colab-df-convert {\n",
              "      background-color: #E8F0FE;\n",
              "      border: none;\n",
              "      border-radius: 50%;\n",
              "      cursor: pointer;\n",
              "      display: none;\n",
              "      fill: #1967D2;\n",
              "      height: 32px;\n",
              "      padding: 0 0 0 0;\n",
              "      width: 32px;\n",
              "    }\n",
              "\n",
              "    .colab-df-convert:hover {\n",
              "      background-color: #E2EBFA;\n",
              "      box-shadow: 0px 1px 2px rgba(60, 64, 67, 0.3), 0px 1px 3px 1px rgba(60, 64, 67, 0.15);\n",
              "      fill: #174EA6;\n",
              "    }\n",
              "\n",
              "    [theme=dark] .colab-df-convert {\n",
              "      background-color: #3B4455;\n",
              "      fill: #D2E3FC;\n",
              "    }\n",
              "\n",
              "    [theme=dark] .colab-df-convert:hover {\n",
              "      background-color: #434B5C;\n",
              "      box-shadow: 0px 1px 3px 1px rgba(0, 0, 0, 0.15);\n",
              "      filter: drop-shadow(0px 1px 2px rgba(0, 0, 0, 0.3));\n",
              "      fill: #FFFFFF;\n",
              "    }\n",
              "  </style>\n",
              "\n",
              "      <script>\n",
              "        const buttonEl =\n",
              "          document.querySelector('#df-6ac3f43e-52c1-4eec-ac22-f2eb269524d6 button.colab-df-convert');\n",
              "        buttonEl.style.display =\n",
              "          google.colab.kernel.accessAllowed ? 'block' : 'none';\n",
              "\n",
              "        async function convertToInteractive(key) {\n",
              "          const element = document.querySelector('#df-6ac3f43e-52c1-4eec-ac22-f2eb269524d6');\n",
              "          const dataTable =\n",
              "            await google.colab.kernel.invokeFunction('convertToInteractive',\n",
              "                                                     [key], {});\n",
              "          if (!dataTable) return;\n",
              "\n",
              "          const docLinkHtml = 'Like what you see? Visit the ' +\n",
              "            '<a target=\"_blank\" href=https://colab.research.google.com/notebooks/data_table.ipynb>data table notebook</a>'\n",
              "            + ' to learn more about interactive tables.';\n",
              "          element.innerHTML = '';\n",
              "          dataTable['output_type'] = 'display_data';\n",
              "          await google.colab.output.renderOutput(dataTable, element);\n",
              "          const docLink = document.createElement('div');\n",
              "          docLink.innerHTML = docLinkHtml;\n",
              "          element.appendChild(docLink);\n",
              "        }\n",
              "      </script>\n",
              "    </div>\n",
              "  </div>\n",
              "  "
            ],
            "text/plain": [
              "                                                 input  label\n",
              "261    == VfD ==  No, I voted just after seeing you...      0\n",
              "113      ==To the person who will rewrite the essay...      0\n",
              "102               Wow!  That was fast.  I'm impressed.      0\n",
              "959                  putting an accuracy warning on it      0\n",
              "874  I think that is actually useful information th...      0"
            ]
          },
          "metadata": {},
          "execution_count": 22
        }
      ]
    },
    {
      "cell_type": "code",
      "source": [
        "df_sample.to_csv('wiki_attacks_sample.csv', index=False)"
      ],
      "metadata": {
        "id": "xWJo9ZSyWr-U"
      },
      "execution_count": null,
      "outputs": []
    },
    {
      "cell_type": "markdown",
      "source": [
        "## Functions"
      ],
      "metadata": {
        "id": "aY-dyeztq7PO"
      }
    },
    {
      "cell_type": "code",
      "source": [
        "file = 'wiki_attacks_sample.csv'"
      ],
      "metadata": {
        "id": "IuKJJsvMrusd"
      },
      "execution_count": 36,
      "outputs": []
    },
    {
      "cell_type": "code",
      "source": [
        "df = read_object(file, 'csv')"
      ],
      "metadata": {
        "id": "0mvOoipnrtJ0"
      },
      "execution_count": 39,
      "outputs": []
    },
    {
      "cell_type": "code",
      "source": [
        "df.shape"
      ],
      "metadata": {
        "colab": {
          "base_uri": "https://localhost:8080/"
        },
        "id": "iRs1_nw1r1Z1",
        "outputId": "78dc99ba-1ef3-4dcd-ab82-207eb512e5ff"
      },
      "execution_count": 40,
      "outputs": [
        {
          "output_type": "execute_result",
          "data": {
            "text/plain": [
              "(1000, 2)"
            ]
          },
          "metadata": {},
          "execution_count": 40
        }
      ]
    },
    {
      "cell_type": "markdown",
      "source": [
        "# Start Here"
      ],
      "metadata": {
        "id": "qQbVltWsh5Yz"
      }
    },
    {
      "cell_type": "code",
      "source": [
        "!pip install torch\n",
        "!pip install transformers"
      ],
      "metadata": {
        "colab": {
          "base_uri": "https://localhost:8080/"
        },
        "id": "Q7c0GmEcQsHx",
        "outputId": "b1c393ff-4cd0-4be1-ce77-942e5ee10484"
      },
      "execution_count": 1,
      "outputs": [
        {
          "output_type": "stream",
          "name": "stdout",
          "text": [
            "Requirement already satisfied: torch in /usr/local/lib/python3.7/dist-packages (1.10.0+cu111)\n",
            "Requirement already satisfied: typing-extensions in /usr/local/lib/python3.7/dist-packages (from torch) (3.10.0.2)\n",
            "Collecting transformers\n",
            "  Downloading transformers-4.15.0-py3-none-any.whl (3.4 MB)\n",
            "\u001b[K     |████████████████████████████████| 3.4 MB 5.5 MB/s \n",
            "\u001b[?25hRequirement already satisfied: regex!=2019.12.17 in /usr/local/lib/python3.7/dist-packages (from transformers) (2019.12.20)\n",
            "Collecting sacremoses\n",
            "  Downloading sacremoses-0.0.46-py3-none-any.whl (895 kB)\n",
            "\u001b[K     |████████████████████████████████| 895 kB 44.0 MB/s \n",
            "\u001b[?25hRequirement already satisfied: numpy>=1.17 in /usr/local/lib/python3.7/dist-packages (from transformers) (1.19.5)\n",
            "Requirement already satisfied: filelock in /usr/local/lib/python3.7/dist-packages (from transformers) (3.4.0)\n",
            "Requirement already satisfied: tqdm>=4.27 in /usr/local/lib/python3.7/dist-packages (from transformers) (4.62.3)\n",
            "Collecting tokenizers<0.11,>=0.10.1\n",
            "  Downloading tokenizers-0.10.3-cp37-cp37m-manylinux_2_5_x86_64.manylinux1_x86_64.manylinux_2_12_x86_64.manylinux2010_x86_64.whl (3.3 MB)\n",
            "\u001b[K     |████████████████████████████████| 3.3 MB 37.7 MB/s \n",
            "\u001b[?25hRequirement already satisfied: requests in /usr/local/lib/python3.7/dist-packages (from transformers) (2.23.0)\n",
            "Collecting huggingface-hub<1.0,>=0.1.0\n",
            "  Downloading huggingface_hub-0.2.1-py3-none-any.whl (61 kB)\n",
            "\u001b[K     |████████████████████████████████| 61 kB 287 kB/s \n",
            "\u001b[?25hCollecting pyyaml>=5.1\n",
            "  Downloading PyYAML-6.0-cp37-cp37m-manylinux_2_5_x86_64.manylinux1_x86_64.manylinux_2_12_x86_64.manylinux2010_x86_64.whl (596 kB)\n",
            "\u001b[K     |████████████████████████████████| 596 kB 41.5 MB/s \n",
            "\u001b[?25hRequirement already satisfied: packaging>=20.0 in /usr/local/lib/python3.7/dist-packages (from transformers) (21.3)\n",
            "Requirement already satisfied: importlib-metadata in /usr/local/lib/python3.7/dist-packages (from transformers) (4.8.2)\n",
            "Requirement already satisfied: typing-extensions>=3.7.4.3 in /usr/local/lib/python3.7/dist-packages (from huggingface-hub<1.0,>=0.1.0->transformers) (3.10.0.2)\n",
            "Requirement already satisfied: pyparsing!=3.0.5,>=2.0.2 in /usr/local/lib/python3.7/dist-packages (from packaging>=20.0->transformers) (3.0.6)\n",
            "Requirement already satisfied: zipp>=0.5 in /usr/local/lib/python3.7/dist-packages (from importlib-metadata->transformers) (3.6.0)\n",
            "Requirement already satisfied: certifi>=2017.4.17 in /usr/local/lib/python3.7/dist-packages (from requests->transformers) (2021.10.8)\n",
            "Requirement already satisfied: idna<3,>=2.5 in /usr/local/lib/python3.7/dist-packages (from requests->transformers) (2.10)\n",
            "Requirement already satisfied: urllib3!=1.25.0,!=1.25.1,<1.26,>=1.21.1 in /usr/local/lib/python3.7/dist-packages (from requests->transformers) (1.24.3)\n",
            "Requirement already satisfied: chardet<4,>=3.0.2 in /usr/local/lib/python3.7/dist-packages (from requests->transformers) (3.0.4)\n",
            "Requirement already satisfied: click in /usr/local/lib/python3.7/dist-packages (from sacremoses->transformers) (7.1.2)\n",
            "Requirement already satisfied: joblib in /usr/local/lib/python3.7/dist-packages (from sacremoses->transformers) (1.1.0)\n",
            "Requirement already satisfied: six in /usr/local/lib/python3.7/dist-packages (from sacremoses->transformers) (1.15.0)\n",
            "Installing collected packages: pyyaml, tokenizers, sacremoses, huggingface-hub, transformers\n",
            "  Attempting uninstall: pyyaml\n",
            "    Found existing installation: PyYAML 3.13\n",
            "    Uninstalling PyYAML-3.13:\n",
            "      Successfully uninstalled PyYAML-3.13\n",
            "Successfully installed huggingface-hub-0.2.1 pyyaml-6.0 sacremoses-0.0.46 tokenizers-0.10.3 transformers-4.15.0\n"
          ]
        }
      ]
    },
    {
      "cell_type": "code",
      "source": [
        "import argparse\n",
        "import os\n",
        "\n",
        "# import boto3\n",
        "import numpy as np\n",
        "import pandas as pd\n",
        "from sklearn.metrics import precision_score, recall_score, average_precision_score, roc_auc_score, f1_score\n",
        "from sklearn.model_selection import train_test_split, StratifiedKFold\n",
        "import torch\n",
        "from torch.utils.data import Dataset, DataLoader, RandomSampler\n",
        "from transformers import AdamW, AutoModelForSequenceClassification, AutoTokenizer, Trainer, TrainingArguments"
      ],
      "metadata": {
        "id": "VSi8QJBir3l0"
      },
      "execution_count": 2,
      "outputs": []
    },
    {
      "cell_type": "code",
      "source": [
        "def read_object(file_path, file_type):\n",
        "    \"\"\"Read a file from indicated file path into a pandas.DataFrame.\n",
        "    Arguments:\n",
        "        file_path (str)\n",
        "    Returns:\n",
        "        df (pd.DataFrame)\n",
        "    \"\"\"\n",
        "    # Get S3 client.\n",
        "    # s3 = boto3.client('s3')\n",
        "    # Get object.\n",
        "    # bucket, key = s3_path.split('/')[2], '/'.join(s3_path.split('/')[3:])\n",
        "    # object = s3.get_object(Bucket=bucket, Key=key)\n",
        "    # Read object into pandas.DataFrame.\n",
        "    if file_type == \"csv\":\n",
        "        df = pd.read_csv(file_path)\n",
        "    elif file_type == \"json\":\n",
        "        df = pd.read_json(file_path, lines=True)\n",
        "    else:\n",
        "        raise Exception(\"Only file_type csv and json currently supported.\")\n",
        "    return df"
      ],
      "metadata": {
        "id": "yRSs7n2ViaAF"
      },
      "execution_count": 3,
      "outputs": []
    },
    {
      "cell_type": "code",
      "source": [
        "class ClassifierDataset(Dataset):\n",
        "    \"\"\"Inherits from torch.utils.data.Dataset.\n",
        "    Arguments:\n",
        "        data (pd.DataFrame): Contains columns 'input' and 'label'.\n",
        "        model_name (str): Name of the transformers model to load the tokenizer.\n",
        "        max_sequence_length (int): Maximum length of the sequence.\n",
        "    \"\"\"\n",
        "    def __init__(self, data, model_name, max_sequence_length):\n",
        "        self.data = data\n",
        "        self.tokenizer = AutoTokenizer.from_pretrained(model_name)\n",
        "        self.max_sequence_length = max_sequence_length\n",
        "\n",
        "    def __getitem__(self, index):\n",
        "        \"\"\"Returns the model inputs at the specified index.\"\"\"\n",
        "        text_input = self.data[\"input\"].iloc[index]\n",
        "        input_dict = self.tokenizer.encode_plus(\n",
        "            text_input,\n",
        "            max_length=max_sequence_length,\n",
        "            padding=\"max_length\",\n",
        "            truncation=True,\n",
        "            return_tensors=\"pt\"\n",
        "        )\n",
        "        inputs = {\n",
        "            \"input_ids\": input_dict[\"input_ids\"][0],\n",
        "            \"attention_mask\": input_dict[\"attention_mask\"][0],\n",
        "            \"labels\": torch.tensor(self.data[\"label\"].iloc[index], dtype=torch.long)\n",
        "        }\n",
        "        return inputs\n",
        "\n",
        "    def __len__(self):\n",
        "        \"\"\"Returns the length of the dataset.\"\"\"\n",
        "        return len(self.data)"
      ],
      "metadata": {
        "id": "kyfGsXj7R1JD"
      },
      "execution_count": 4,
      "outputs": []
    },
    {
      "cell_type": "code",
      "source": [
        "# class ClassifierDataset(Dataset):\n",
        "#     \"\"\"Inherits from torch.utils.data.Dataset.\n",
        "#     Arguments:\n",
        "#         data (pd.DataFrame): Contains columns 'input' and 'label'.\n",
        "#         model_name (str): Name of the transformers model to load the tokenizer.\n",
        "#         max_sequence_length (int): Maximum length of the sequence.\n",
        "#     \"\"\"\n",
        "#     def __init__(self, data, model_name, max_sequence_length):\n",
        "#         self.data = data\n",
        "#         self.tokenizer = AutoTokenizer.from_pretrained(model_name)\n",
        "#         self.max_sequence_length = max_sequence_length\n",
        "\n",
        "#     def __getitem__(self, index):\n",
        "#         \"\"\"Returns the model inputs at the specified index.\"\"\"\n",
        "#         text_input = self.data[\"input\"].iloc[index]\n",
        "#         input_dict = self.tokenizer.encode_plus(\n",
        "#             text_input,\n",
        "#             max_length=args.max_sequence_length,\n",
        "#             padding=\"max_length\",\n",
        "#             truncation=True,\n",
        "#             return_tensors=\"pt\"\n",
        "#         )\n",
        "#         inputs = {\n",
        "#             \"input_ids\": input_dict[\"input_ids\"][0],\n",
        "#             \"attention_mask\": input_dict[\"attention_mask\"][0],\n",
        "#             \"labels\": torch.tensor(self.data[\"label\"].iloc[index], dtype=torch.long)\n",
        "#         }\n",
        "#         return inputs\n",
        "\n",
        "#     def __len__(self):\n",
        "#         \"\"\"Returns the length of the dataset.\"\"\"\n",
        "#         return len(self.data)\n",
        "\n",
        "\n",
        "# def preprocess_data(df):\n",
        "#     \"\"\"Pre-process data for training.\"\"\"\n",
        "#     # Convert 5 star scale to binary -- positive (1) or negative (0).\n",
        "#     star_map = {1: 0, 2: 0, 3: 0, 4: 1, 5: 1}\n",
        "#     df[\"label\"] = df[\"star_rating\"].map(star_map)\n",
        "#     # Concatenate the review headline with the body for model input.\n",
        "#     df[\"input\"] = df[\"review_headline\"] + \" \" + df[\"review_body\"]\n",
        "#     # Drop nans.\n",
        "#     df = df.loc[df[\"input\"].notnull()].copy()\n",
        "#     # Split data into train and valid.\n",
        "#     traindf, validdf = train_test_split(df[[\"input\", \"label\"]])\n",
        "#     return traindf, validdf\n",
        "\n",
        "\n",
        "# def compute_metrics(output):\n",
        "#     \"\"\"Compute custom metrics to track in logging.\"\"\"\n",
        "#     y_true = output.label_ids\n",
        "#     y_pred = output.predictions.argmax(-1)\n",
        "#     precision = precision_score(y_true, y_pred)\n",
        "#     recall = recall_score(y_true, y_pred)\n",
        "#     auprc = average_precision_score(y_true, y_pred)\n",
        "#     return {\n",
        "#         \"precision\": precision,\n",
        "#         \"recall\": recall,\n",
        "#         \"auprc\": auprc\n",
        "#     }\n",
        "\n",
        "\n",
        "# def main(args):\n",
        "#     \"\"\"Executes training job.\"\"\"\n",
        "#     # Load data into a pandas DataFrame.\n",
        "#     df = read_object(args.input_path, file_type=\"json\").sample(frac=1.)\n",
        "#     if args.max_data_rows:\n",
        "#         df = df.iloc[:args.max_data_rows].copy()\n",
        "#     print(f\"Data contains {len(df)} rows\")\n",
        "#     # Preprocess and featurize data.\n",
        "#     traindf, validdf = preprocess_data(df)\n",
        "#     # Create data set for model input.\n",
        "#     train_dataset = ClassifierDataset(traindf, args.model_name, args.max_sequence_length)\n",
        "#     valid_dataset = ClassifierDataset(validdf, args.model_name, args.max_sequence_length)\n",
        "#     print(train_dataset[0])\n",
        "#     # Define model and trainer.\n",
        "#     model = AutoModelForSequenceClassification.from_pretrained(\n",
        "#         args.model_name,\n",
        "#         num_labels=2,\n",
        "#         torchscript=True\n",
        "#     )\n",
        "#     training_args = TrainingArguments(\n",
        "#         output_dir=os.path.join(args.model_dir, \"results\"),\n",
        "#         num_train_epochs=args.epochs,\n",
        "#         per_device_train_batch_size=args.train_batch_size,\n",
        "#         per_device_eval_batch_size=args.valid_batch_size,\n",
        "#         learning_rate=args.learning_rate,\n",
        "#         adam_epsilon=args.adam_epsilon,\n",
        "#         warmup_steps=500,\n",
        "#         weight_decay=args.weight_decay,\n",
        "#         logging_dir=os.path.join(args.model_dir, \"logs\"),\n",
        "#         logging_steps=10,\n",
        "#         evaluation_strategy=\"steps\",\n",
        "#         load_best_model_at_end=True\n",
        "#     )\n",
        "#     trainer = Trainer(\n",
        "#         model=model,\n",
        "#         args=training_args,\n",
        "#         train_dataset=train_dataset,\n",
        "#         eval_dataset=valid_dataset,\n",
        "#         compute_metrics=compute_metrics\n",
        "#     )\n",
        "#     # Train the model.\n",
        "#     trainer.train()\n",
        "#     trainer.evaluate()\n",
        "#     # Save the model to the output_path defined in train_model.py.\n",
        "#     device = torch.device(\"cuda\")\n",
        "#     dummy_row = train_dataset[0]\n",
        "#     dummy_input = (\n",
        "#         dummy_row[\"input_ids\"].unsqueeze(0).to(device),\n",
        "#         dummy_row[\"attention_mask\"].unsqueeze(0).to(device)\n",
        "#     )\n",
        "#     traced_model = torch.jit.trace(model, dummy_input)\n",
        "#     torch.jit.save(traced_model, os.path.join(args.model_dir, \"model.pth\"))\n",
        "\n",
        "\n",
        "# if __name__ =='__main__':\n",
        "#     parser = argparse.ArgumentParser()\n",
        "#     # Hyperparameters from launch_training_job.py get passed in as command line args.\n",
        "#     parser.add_argument('--input_path', type=str)\n",
        "#     parser.add_argument('--train_size', type=float, default=.85)\n",
        "#     parser.add_argument('--adam_epsilon', type=float, default=1e-8)\n",
        "#     parser.add_argument('--epochs', type=int, default=2)\n",
        "#     parser.add_argument('--learning_rate', type=float, default=5e-5)\n",
        "#     parser.add_argument('--weight_decay', type=float, default=0.0)\n",
        "#     parser.add_argument('--max_data_rows', type=int, default=None)\n",
        "#     parser.add_argument('--max_sequence_length', type=int, default=128)\n",
        "#     parser.add_argument('--model_name', type=str, default='distilbert-base-uncased')\n",
        "#     parser.add_argument('--train_batch_size', type=int, default=16)\n",
        "#     parser.add_argument('--valid_batch_size', type=int, default=128)\n",
        "#     # SageMaker environment variables.\n",
        "#     parser.add_argument('--hosts', type=list, default=os.environ['SM_HOSTS'])\n",
        "#     parser.add_argument('--current_host', type=str, default=os.environ['SM_CURRENT_HOST'])\n",
        "#     parser.add_argument('--model_dir', type=str, default=os.environ['SM_MODEL_DIR']) # output_path arg from train_model.py.\n",
        "#     parser.add_argument('--num_cpus', type=int, default=os.environ['SM_NUM_CPUS'])\n",
        "#     parser.add_argument('--num_gpus', type=int, default=os.environ['SM_NUM_GPUS'])\n",
        "#     # Parse command-line args and run main.\n",
        "#     args = parser.parse_args()\n",
        "#     main(args)"
      ],
      "metadata": {
        "id": "G4R_maijQjz9"
      },
      "execution_count": 4,
      "outputs": []
    },
    {
      "cell_type": "code",
      "source": [
        "os.chdir('/content/drive/MyDrive/sm_training/models/distilroberta-base')\n",
        "!pwd"
      ],
      "metadata": {
        "colab": {
          "base_uri": "https://localhost:8080/"
        },
        "id": "Y8PVSEpYhuLL",
        "outputId": "2174c52b-a4f1-4a2f-b2f2-fbe6c6ad590a"
      },
      "execution_count": 5,
      "outputs": [
        {
          "output_type": "stream",
          "name": "stdout",
          "text": [
            "/content/drive/MyDrive/sm_training/models/distilroberta-base\n"
          ]
        }
      ]
    },
    {
      "cell_type": "code",
      "source": [
        "# Set args\n",
        "# first change working directory to '/content/drive/MyDrive/sm_training'\n",
        "\n",
        "# model_name = 'distilbert-base-uncased'\n",
        "model_name = 'distilroberta-base'\n",
        "max_sequence_length = 128\n",
        "train_df = '/content/drive/MyDrive/datasets/wiki_attacks.csv'\n",
        "test_df = '/content/drive/MyDrive/datasets/wiki_attacks.csv'\n",
        "train_file = '/content/drive/MyDrive/datasets/wiki_attacks.csv'\n",
        "output_dir = 'results'\n",
        "epochs = 2\n",
        "train_batch_size = 32\n",
        "valid_batch_size = 128\n",
        "learning_rate = 5e-5\n",
        "adam_epsilon = 1e-8\n",
        "weight_decay = 0.0\n",
        "logging_dir = 'logs'\n"
      ],
      "metadata": {
        "id": "dnEAOANkSGvO"
      },
      "execution_count": 6,
      "outputs": []
    },
    {
      "cell_type": "code",
      "source": [
        "def preprocess_data(df, file_type):\n",
        "    \"\"\"Pre-process data for training.\"\"\"\n",
        "    # # Convert 5 star scale to binary -- positive (1) or negative (0).\n",
        "    # star_map = {1: 0, 2: 0, 3: 0, 4: 1, 5: 1}\n",
        "    # df[\"label\"] = df[\"star_rating\"].map(star_map)\n",
        "    # # Concatenate the review headline with the body for model input.\n",
        "    # df[\"input\"] = df[\"review_headline\"] + \" \" + df[\"review_body\"]\n",
        "    # # Drop nans.\n",
        "    # df = df.loc[df[\"input\"].notnull()].copy()\n",
        "    # # Split data into train and valid.\n",
        "    # traindf, validdf = train_test_split(df[[\"input\", \"label\"]])\n",
        "    df = read_object(df, file_type)\n",
        "    traindf, testdf = train_test_split(df, test_size=0.2, stratify=df['label'])\n",
        "    return traindf, testdf"
      ],
      "metadata": {
        "id": "CwyyAsOfW7UY"
      },
      "execution_count": 7,
      "outputs": []
    },
    {
      "cell_type": "code",
      "source": [
        "traindf, testdf = preprocess_data(train_file, 'csv')"
      ],
      "metadata": {
        "id": "wy2Gl5IGYgAS"
      },
      "execution_count": 8,
      "outputs": []
    },
    {
      "cell_type": "code",
      "source": [
        "traindf.head()"
      ],
      "metadata": {
        "colab": {
          "base_uri": "https://localhost:8080/",
          "height": 206
        },
        "id": "9EFbxl7Md-CB",
        "outputId": "e47d03c3-2a0e-491e-bc7e-e2d1c9938b94"
      },
      "execution_count": 9,
      "outputs": [
        {
          "output_type": "execute_result",
          "data": {
            "text/html": [
              "\n",
              "  <div id=\"df-11f4703c-a07a-4a8e-b51c-8e09870c38ab\">\n",
              "    <div class=\"colab-df-container\">\n",
              "      <div>\n",
              "<style scoped>\n",
              "    .dataframe tbody tr th:only-of-type {\n",
              "        vertical-align: middle;\n",
              "    }\n",
              "\n",
              "    .dataframe tbody tr th {\n",
              "        vertical-align: top;\n",
              "    }\n",
              "\n",
              "    .dataframe thead th {\n",
              "        text-align: right;\n",
              "    }\n",
              "</style>\n",
              "<table border=\"1\" class=\"dataframe\">\n",
              "  <thead>\n",
              "    <tr style=\"text-align: right;\">\n",
              "      <th></th>\n",
              "      <th>input</th>\n",
              "      <th>label</th>\n",
              "    </tr>\n",
              "  </thead>\n",
              "  <tbody>\n",
              "    <tr>\n",
              "      <th>10268</th>\n",
              "      <td>== Deletion review sockpuppet question ==  A...</td>\n",
              "      <td>0</td>\n",
              "    </tr>\n",
              "    <tr>\n",
              "      <th>6126</th>\n",
              "      <td>`:Thank you for your interest in my opinion. I...</td>\n",
              "      <td>0</td>\n",
              "    </tr>\n",
              "    <tr>\n",
              "      <th>4551</th>\n",
              "      <td>:I collect old Pears Cyclopaedias. I'm just ...</td>\n",
              "      <td>0</td>\n",
              "    </tr>\n",
              "    <tr>\n",
              "      <th>18071</th>\n",
              "      <td>`  == Warnings ==  Don't you think a uw-create...</td>\n",
              "      <td>0</td>\n",
              "    </tr>\n",
              "    <tr>\n",
              "      <th>3652</th>\n",
              "      <td>When someone points out a link, you could try ...</td>\n",
              "      <td>0</td>\n",
              "    </tr>\n",
              "  </tbody>\n",
              "</table>\n",
              "</div>\n",
              "      <button class=\"colab-df-convert\" onclick=\"convertToInteractive('df-11f4703c-a07a-4a8e-b51c-8e09870c38ab')\"\n",
              "              title=\"Convert this dataframe to an interactive table.\"\n",
              "              style=\"display:none;\">\n",
              "        \n",
              "  <svg xmlns=\"http://www.w3.org/2000/svg\" height=\"24px\"viewBox=\"0 0 24 24\"\n",
              "       width=\"24px\">\n",
              "    <path d=\"M0 0h24v24H0V0z\" fill=\"none\"/>\n",
              "    <path d=\"M18.56 5.44l.94 2.06.94-2.06 2.06-.94-2.06-.94-.94-2.06-.94 2.06-2.06.94zm-11 1L8.5 8.5l.94-2.06 2.06-.94-2.06-.94L8.5 2.5l-.94 2.06-2.06.94zm10 10l.94 2.06.94-2.06 2.06-.94-2.06-.94-.94-2.06-.94 2.06-2.06.94z\"/><path d=\"M17.41 7.96l-1.37-1.37c-.4-.4-.92-.59-1.43-.59-.52 0-1.04.2-1.43.59L10.3 9.45l-7.72 7.72c-.78.78-.78 2.05 0 2.83L4 21.41c.39.39.9.59 1.41.59.51 0 1.02-.2 1.41-.59l7.78-7.78 2.81-2.81c.8-.78.8-2.07 0-2.86zM5.41 20L4 18.59l7.72-7.72 1.47 1.35L5.41 20z\"/>\n",
              "  </svg>\n",
              "      </button>\n",
              "      \n",
              "  <style>\n",
              "    .colab-df-container {\n",
              "      display:flex;\n",
              "      flex-wrap:wrap;\n",
              "      gap: 12px;\n",
              "    }\n",
              "\n",
              "    .colab-df-convert {\n",
              "      background-color: #E8F0FE;\n",
              "      border: none;\n",
              "      border-radius: 50%;\n",
              "      cursor: pointer;\n",
              "      display: none;\n",
              "      fill: #1967D2;\n",
              "      height: 32px;\n",
              "      padding: 0 0 0 0;\n",
              "      width: 32px;\n",
              "    }\n",
              "\n",
              "    .colab-df-convert:hover {\n",
              "      background-color: #E2EBFA;\n",
              "      box-shadow: 0px 1px 2px rgba(60, 64, 67, 0.3), 0px 1px 3px 1px rgba(60, 64, 67, 0.15);\n",
              "      fill: #174EA6;\n",
              "    }\n",
              "\n",
              "    [theme=dark] .colab-df-convert {\n",
              "      background-color: #3B4455;\n",
              "      fill: #D2E3FC;\n",
              "    }\n",
              "\n",
              "    [theme=dark] .colab-df-convert:hover {\n",
              "      background-color: #434B5C;\n",
              "      box-shadow: 0px 1px 3px 1px rgba(0, 0, 0, 0.15);\n",
              "      filter: drop-shadow(0px 1px 2px rgba(0, 0, 0, 0.3));\n",
              "      fill: #FFFFFF;\n",
              "    }\n",
              "  </style>\n",
              "\n",
              "      <script>\n",
              "        const buttonEl =\n",
              "          document.querySelector('#df-11f4703c-a07a-4a8e-b51c-8e09870c38ab button.colab-df-convert');\n",
              "        buttonEl.style.display =\n",
              "          google.colab.kernel.accessAllowed ? 'block' : 'none';\n",
              "\n",
              "        async function convertToInteractive(key) {\n",
              "          const element = document.querySelector('#df-11f4703c-a07a-4a8e-b51c-8e09870c38ab');\n",
              "          const dataTable =\n",
              "            await google.colab.kernel.invokeFunction('convertToInteractive',\n",
              "                                                     [key], {});\n",
              "          if (!dataTable) return;\n",
              "\n",
              "          const docLinkHtml = 'Like what you see? Visit the ' +\n",
              "            '<a target=\"_blank\" href=https://colab.research.google.com/notebooks/data_table.ipynb>data table notebook</a>'\n",
              "            + ' to learn more about interactive tables.';\n",
              "          element.innerHTML = '';\n",
              "          dataTable['output_type'] = 'display_data';\n",
              "          await google.colab.output.renderOutput(dataTable, element);\n",
              "          const docLink = document.createElement('div');\n",
              "          docLink.innerHTML = docLinkHtml;\n",
              "          element.appendChild(docLink);\n",
              "        }\n",
              "      </script>\n",
              "    </div>\n",
              "  </div>\n",
              "  "
            ],
            "text/plain": [
              "                                                   input  label\n",
              "10268    == Deletion review sockpuppet question ==  A...      0\n",
              "6126   `:Thank you for your interest in my opinion. I...      0\n",
              "4551     :I collect old Pears Cyclopaedias. I'm just ...      0\n",
              "18071  `  == Warnings ==  Don't you think a uw-create...      0\n",
              "3652   When someone points out a link, you could try ...      0"
            ]
          },
          "metadata": {},
          "execution_count": 9
        }
      ]
    },
    {
      "cell_type": "code",
      "source": [
        "traindf.label.value_counts()"
      ],
      "metadata": {
        "colab": {
          "base_uri": "https://localhost:8080/"
        },
        "id": "5zoxwpkfjkjA",
        "outputId": "90d8e11c-2a8d-4a88-b021-ac2983255c1b"
      },
      "execution_count": 10,
      "outputs": [
        {
          "output_type": "execute_result",
          "data": {
            "text/plain": [
              "0    14251\n",
              "1     1749\n",
              "Name: label, dtype: int64"
            ]
          },
          "metadata": {},
          "execution_count": 10
        }
      ]
    },
    {
      "cell_type": "code",
      "source": [
        "train_dataset = ClassifierDataset(traindf, model_name, max_sequence_length)\n",
        "test_dataset = ClassifierDataset(testdf, model_name, max_sequence_length)"
      ],
      "metadata": {
        "colab": {
          "base_uri": "https://localhost:8080/",
          "height": 145,
          "referenced_widgets": [
            "998e8e29bdfd42ab92dde186c40d74f1",
            "ef9abeae768549c7a51b25ba5d60057f",
            "f368f41e3bda47409ed81002bc368946",
            "8298e9a6855240e0a69d26b280ec0f68",
            "9329d02eb2434ca1a0c50891bbf99ebd",
            "c88ae35fa0424bc49adbc0a55a166e41",
            "bb31c2c097884d7c9a7cb81c226d9a8b",
            "29254743e27540c595b6ce67a2e4b651",
            "50462af3d3e24d468bbac62d4e6053ff",
            "732cd9ecdf02483ba0810e510ec75f08",
            "b722d08970874d38a8052e2320f319fd",
            "7942baad2089429993d19b18c5df2c98",
            "389bbf5f96fb48dd851b8990965e2f63",
            "2dbf94564c10463ba7ce9e836e47883a",
            "671424d08f7b4c8c8982570358c90be6",
            "9090544862444fd48a34606fc29f6cd3",
            "6cd384f646a7486aa8c55ff8c7d35688",
            "0c2cd5a4db794620b666ec2cfad67a1b",
            "404d0d05427c46798799d11247d2e01e",
            "529749a3a0e04a30b498fe63d4373475",
            "883780f7b0fc44079086b6fe6d5b4ce6",
            "56a173851d014e29b0731f48c2cc0921",
            "836a6e3a6ab74e7ead151f2b8606b684",
            "92784b9f416c409bb0d2d2d697d29d3b",
            "b15d48d2b40543c4ae1cd520958e36f0",
            "bff2b3cc8cad4eb699b6027d8488a47e",
            "9fad0d0af567458b9802010bac3aaf74",
            "fc83dccd50234a6884b2064a95d3e8c4",
            "168dfe8e7a364be9a82bb307dc619a11",
            "dca138df823448fabe00548a639f1cd4",
            "5f8aea5b715c40cc85faa15748c07521",
            "aadff789471f4944a4e156aaee414f3b",
            "8371ae0bdd8348bca1784c9f0a3c4e09",
            "3dadb592699049758728444a1a182945",
            "a549fed1dea1473eb15bb2e6d1c59006",
            "5d0c4a908c39432db6ef8560aa19b282",
            "6d12271c04384945a5bd7aa4262813cd",
            "e3b1e868df5a43679dcba690b2692fa4",
            "5619c107b31b4cd1a6005b2587083d1f",
            "6a7dffb87a0b4ec2870b0387a76c0344",
            "907440d4b3574a849ba70729cacc68bd",
            "35c7ed496bbf47d9afa5c3e3468de74c",
            "58b998786d1f41e2a94fde6d1d5589ce",
            "9cd31a44654f418abaf6d4804bfa7ba0"
          ]
        },
        "id": "WsdHRqUPRpiR",
        "outputId": "e9c306bd-77dd-4788-9250-670d866c7cb1"
      },
      "execution_count": 11,
      "outputs": [
        {
          "output_type": "display_data",
          "data": {
            "application/vnd.jupyter.widget-view+json": {
              "model_id": "998e8e29bdfd42ab92dde186c40d74f1",
              "version_minor": 0,
              "version_major": 2
            },
            "text/plain": [
              "Downloading:   0%|          | 0.00/480 [00:00<?, ?B/s]"
            ]
          },
          "metadata": {}
        },
        {
          "output_type": "display_data",
          "data": {
            "application/vnd.jupyter.widget-view+json": {
              "model_id": "7942baad2089429993d19b18c5df2c98",
              "version_minor": 0,
              "version_major": 2
            },
            "text/plain": [
              "Downloading:   0%|          | 0.00/878k [00:00<?, ?B/s]"
            ]
          },
          "metadata": {}
        },
        {
          "output_type": "display_data",
          "data": {
            "application/vnd.jupyter.widget-view+json": {
              "model_id": "836a6e3a6ab74e7ead151f2b8606b684",
              "version_minor": 0,
              "version_major": 2
            },
            "text/plain": [
              "Downloading:   0%|          | 0.00/446k [00:00<?, ?B/s]"
            ]
          },
          "metadata": {}
        },
        {
          "output_type": "display_data",
          "data": {
            "application/vnd.jupyter.widget-view+json": {
              "model_id": "3dadb592699049758728444a1a182945",
              "version_minor": 0,
              "version_major": 2
            },
            "text/plain": [
              "Downloading:   0%|          | 0.00/1.29M [00:00<?, ?B/s]"
            ]
          },
          "metadata": {}
        }
      ]
    },
    {
      "cell_type": "code",
      "source": [
        "train_dataset[0]"
      ],
      "metadata": {
        "colab": {
          "base_uri": "https://localhost:8080/"
        },
        "id": "XiGTWOr3fEuP",
        "outputId": "39d01dd0-a5d2-46ba-a40b-77f01a587be8"
      },
      "execution_count": 12,
      "outputs": [
        {
          "output_type": "execute_result",
          "data": {
            "text/plain": [
              "{'attention_mask': tensor([1, 1, 1, 1, 1, 1, 1, 1, 1, 1, 1, 1, 1, 1, 1, 1, 1, 1, 1, 1, 1, 1, 1, 1,\n",
              "         1, 1, 1, 1, 1, 1, 1, 1, 1, 1, 1, 1, 1, 1, 1, 1, 1, 1, 1, 1, 1, 1, 1, 1,\n",
              "         1, 1, 1, 1, 1, 1, 1, 1, 1, 1, 1, 1, 1, 1, 1, 1, 1, 1, 1, 1, 1, 1, 1, 1,\n",
              "         1, 1, 1, 1, 1, 1, 1, 0, 0, 0, 0, 0, 0, 0, 0, 0, 0, 0, 0, 0, 0, 0, 0, 0,\n",
              "         0, 0, 0, 0, 0, 0, 0, 0, 0, 0, 0, 0, 0, 0, 0, 0, 0, 0, 0, 0, 0, 0, 0, 0,\n",
              "         0, 0, 0, 0, 0, 0, 0, 0]),\n",
              " 'input_ids': tensor([    0,  1437, 45994,   926,  2716,  1499,  1551, 37390,   642, 43317,\n",
              "           864, 45994,  1437,    83, 43762,  1551,   630,    75,  1341,  2045,\n",
              "           101,     5,   317,     7,  2268,   549,    50,    45,    38,   348,\n",
              "            56,   277,  2349,    53,     6, 11380,     6,    38,   348,    56,\n",
              "            55,    87,    65,  1316,     6,   600,    38,   348,   393,   341,\n",
              "           106,     7,   323,    50,   190, 10754,    19,   349,    97,     8,\n",
              "            98,    38,   218,    75,   679,    38, 14180,     5, 37390,   642,\n",
              "         43317,   714,     4,  3437,     6,  1437,  1437,  1437,     2,     1,\n",
              "             1,     1,     1,     1,     1,     1,     1,     1,     1,     1,\n",
              "             1,     1,     1,     1,     1,     1,     1,     1,     1,     1,\n",
              "             1,     1,     1,     1,     1,     1,     1,     1,     1,     1,\n",
              "             1,     1,     1,     1,     1,     1,     1,     1,     1,     1,\n",
              "             1,     1,     1,     1,     1,     1,     1,     1]),\n",
              " 'labels': tensor(0)}"
            ]
          },
          "metadata": {},
          "execution_count": 12
        }
      ]
    },
    {
      "cell_type": "code",
      "source": [
        "# Define model and trainer.\n",
        "model = AutoModelForSequenceClassification.from_pretrained(\n",
        "    model_name,\n",
        "    num_labels=2,\n",
        "    torchscript=True\n",
        "    )"
      ],
      "metadata": {
        "colab": {
          "base_uri": "https://localhost:8080/"
        },
        "id": "X2sNNFB-SqrY",
        "outputId": "48a93f9a-173b-486a-9572-8d853416cdb3"
      },
      "execution_count": 44,
      "outputs": [
        {
          "output_type": "stream",
          "name": "stderr",
          "text": [
            "loading configuration file https://huggingface.co/distilroberta-base/resolve/main/config.json from cache at /root/.cache/huggingface/transformers/42d6b7c87cbac84fcdf35aa69504a5ccfca878fcee2a1a9b9ff7a3d1297f9094.aa95727ac70adfa1aaf5c88bea30a4f5e50869c68e68bce96ef1ec41b5facf46\n",
            "Model config RobertaConfig {\n",
            "  \"_name_or_path\": \"distilroberta-base\",\n",
            "  \"architectures\": [\n",
            "    \"RobertaForMaskedLM\"\n",
            "  ],\n",
            "  \"attention_probs_dropout_prob\": 0.1,\n",
            "  \"bos_token_id\": 0,\n",
            "  \"classifier_dropout\": null,\n",
            "  \"eos_token_id\": 2,\n",
            "  \"hidden_act\": \"gelu\",\n",
            "  \"hidden_dropout_prob\": 0.1,\n",
            "  \"hidden_size\": 768,\n",
            "  \"initializer_range\": 0.02,\n",
            "  \"intermediate_size\": 3072,\n",
            "  \"layer_norm_eps\": 1e-05,\n",
            "  \"max_position_embeddings\": 514,\n",
            "  \"model_type\": \"roberta\",\n",
            "  \"num_attention_heads\": 12,\n",
            "  \"num_hidden_layers\": 6,\n",
            "  \"pad_token_id\": 1,\n",
            "  \"position_embedding_type\": \"absolute\",\n",
            "  \"torchscript\": true,\n",
            "  \"transformers_version\": \"4.15.0\",\n",
            "  \"type_vocab_size\": 1,\n",
            "  \"use_cache\": true,\n",
            "  \"vocab_size\": 50265\n",
            "}\n",
            "\n",
            "loading weights file https://huggingface.co/distilroberta-base/resolve/main/pytorch_model.bin from cache at /root/.cache/huggingface/transformers/7a0115a4c463f49bc7ab011872fc4a4b81be681a0434075955d29ac3388e225b.a6127d76576e81475313180aceb31a8688f7a649b80e380d26b5d30302dc83c1\n",
            "Some weights of the model checkpoint at distilroberta-base were not used when initializing RobertaForSequenceClassification: ['roberta.pooler.dense.bias', 'lm_head.layer_norm.bias', 'lm_head.bias', 'lm_head.dense.weight', 'lm_head.layer_norm.weight', 'roberta.pooler.dense.weight', 'lm_head.decoder.weight', 'lm_head.dense.bias']\n",
            "- This IS expected if you are initializing RobertaForSequenceClassification from the checkpoint of a model trained on another task or with another architecture (e.g. initializing a BertForSequenceClassification model from a BertForPreTraining model).\n",
            "- This IS NOT expected if you are initializing RobertaForSequenceClassification from the checkpoint of a model that you expect to be exactly identical (initializing a BertForSequenceClassification model from a BertForSequenceClassification model).\n",
            "Some weights of RobertaForSequenceClassification were not initialized from the model checkpoint at distilroberta-base and are newly initialized: ['classifier.dense.bias', 'classifier.out_proj.weight', 'classifier.dense.weight', 'classifier.out_proj.bias']\n",
            "You should probably TRAIN this model on a down-stream task to be able to use it for predictions and inference.\n"
          ]
        }
      ]
    },
    {
      "cell_type": "code",
      "source": [
        "training_args = TrainingArguments(\n",
        "        output_dir=output_dir,\n",
        "        num_train_epochs=epochs,\n",
        "        per_device_train_batch_size=train_batch_size,\n",
        "        per_device_eval_batch_size=valid_batch_size,\n",
        "        learning_rate=learning_rate,\n",
        "        adam_epsilon=adam_epsilon,\n",
        "        warmup_steps=500,\n",
        "        weight_decay=weight_decay,\n",
        "        logging_dir=logging_dir,\n",
        "        logging_steps=250,\n",
        "        evaluation_strategy=\"steps\",\n",
        "        load_best_model_at_end=True\n",
        "    )"
      ],
      "metadata": {
        "colab": {
          "base_uri": "https://localhost:8080/"
        },
        "id": "iBvc_TIYS5HL",
        "outputId": "533c656a-8f6e-49ab-f6d8-3cf087fd840a"
      },
      "execution_count": 48,
      "outputs": [
        {
          "output_type": "stream",
          "name": "stderr",
          "text": [
            "using `logging_steps` to initialize `eval_steps` to 250\n",
            "PyTorch: setting up devices\n",
            "The default value for the training argument `--report_to` will change in v5 (from all installed integrations to none). In v5, you will need to use `--report_to all` to get the same behavior as now. You should start updating your code and make this info disappear :-).\n"
          ]
        }
      ]
    },
    {
      "cell_type": "code",
      "source": [
        "def compute_metrics(output):\n",
        "    \"\"\"Compute custom metrics to track in logging.\"\"\"\n",
        "    y_true = output.label_ids\n",
        "    y_pred = output.predictions.argmax(-1)\n",
        "    precision = precision_score(y_true, y_pred)\n",
        "    recall = recall_score(y_true, y_pred)\n",
        "    # auprc = average_precision_score(y_true, y_pred)\n",
        "    f1 = f1_score(y_true, y_pred)\n",
        "    roc_auc = roc_auc_score(y_true, y_pred, average=None)\n",
        "    return {\n",
        "        \"precision\": precision,\n",
        "        \"recall\": recall,\n",
        "        \"f1_score\": f1,\n",
        "        \"roc_auc\": roc_auc\n",
        "    }"
      ],
      "metadata": {
        "id": "eJ5tg2F0UXLY"
      },
      "execution_count": 49,
      "outputs": []
    },
    {
      "cell_type": "code",
      "source": [
        "trainer = Trainer(\n",
        "        model=model,\n",
        "        args=training_args,\n",
        "        train_dataset=train_dataset,\n",
        "        eval_dataset=test_dataset,\n",
        "        compute_metrics=compute_metrics\n",
        "    )"
      ],
      "metadata": {
        "id": "h63648raUPFa"
      },
      "execution_count": 50,
      "outputs": []
    },
    {
      "cell_type": "code",
      "source": [
        "# # Train the model.\n",
        "# trainer.train()\n",
        "# trainer.evaluate()\n",
        "\n",
        "# # Save the model to the output_path defined in train_model.py.\n",
        "# device = torch.device(\"cuda\")\n",
        "# dummy_row = train_dataset[0]\n",
        "# dummy_input = (\n",
        "#     dummy_row[\"input_ids\"].unsqueeze(0).to(device),\n",
        "#     dummy_row[\"attention_mask\"].unsqueeze(0).to(device)\n",
        "#     )\n",
        "# traced_model = torch.jit.trace(model, dummy_input)\n",
        "# torch.jit.save(traced_model, os.path.join(args.model_dir, \"model.pth\"))"
      ],
      "metadata": {
        "id": "R8OQ9n46USsR"
      },
      "execution_count": 51,
      "outputs": []
    },
    {
      "cell_type": "markdown",
      "source": [
        "## Start Training"
      ],
      "metadata": {
        "id": "78ZD6JXFkZSk"
      }
    },
    {
      "cell_type": "code",
      "source": [
        "trainer.train()"
      ],
      "metadata": {
        "colab": {
          "base_uri": "https://localhost:8080/",
          "height": 776
        },
        "id": "6QAd5dZCVD9d",
        "outputId": "e48b172d-2bd6-4e98-d687-63c3a0eee130"
      },
      "execution_count": 52,
      "outputs": [
        {
          "output_type": "stream",
          "name": "stderr",
          "text": [
            "***** Running training *****\n",
            "  Num examples = 16000\n",
            "  Num Epochs = 2\n",
            "  Instantaneous batch size per device = 32\n",
            "  Total train batch size (w. parallel, distributed & accumulation) = 32\n",
            "  Gradient Accumulation steps = 1\n",
            "  Total optimization steps = 1000\n"
          ]
        },
        {
          "output_type": "display_data",
          "data": {
            "text/html": [
              "\n",
              "    <div>\n",
              "      \n",
              "      <progress value='1000' max='1000' style='width:300px; height:20px; vertical-align: middle;'></progress>\n",
              "      [1000/1000 13:29, Epoch 2/2]\n",
              "    </div>\n",
              "    <table border=\"1\" class=\"dataframe\">\n",
              "  <thead>\n",
              "    <tr style=\"text-align: left;\">\n",
              "      <th>Step</th>\n",
              "      <th>Training Loss</th>\n",
              "      <th>Validation Loss</th>\n",
              "      <th>Precision</th>\n",
              "      <th>Recall</th>\n",
              "      <th>F1 Score</th>\n",
              "      <th>Roc Auc</th>\n",
              "    </tr>\n",
              "  </thead>\n",
              "  <tbody>\n",
              "    <tr>\n",
              "      <td>250</td>\n",
              "      <td>0.287500</td>\n",
              "      <td>0.154683</td>\n",
              "      <td>0.835484</td>\n",
              "      <td>0.592677</td>\n",
              "      <td>0.693440</td>\n",
              "      <td>0.789182</td>\n",
              "    </tr>\n",
              "    <tr>\n",
              "      <td>500</td>\n",
              "      <td>0.159500</td>\n",
              "      <td>0.184604</td>\n",
              "      <td>0.668529</td>\n",
              "      <td>0.821510</td>\n",
              "      <td>0.737166</td>\n",
              "      <td>0.885776</td>\n",
              "    </tr>\n",
              "    <tr>\n",
              "      <td>750</td>\n",
              "      <td>0.138500</td>\n",
              "      <td>0.154733</td>\n",
              "      <td>0.701581</td>\n",
              "      <td>0.812357</td>\n",
              "      <td>0.752916</td>\n",
              "      <td>0.884988</td>\n",
              "    </tr>\n",
              "    <tr>\n",
              "      <td>1000</td>\n",
              "      <td>0.116300</td>\n",
              "      <td>0.141084</td>\n",
              "      <td>0.791667</td>\n",
              "      <td>0.739130</td>\n",
              "      <td>0.764497</td>\n",
              "      <td>0.857637</td>\n",
              "    </tr>\n",
              "  </tbody>\n",
              "</table><p>"
            ],
            "text/plain": [
              "<IPython.core.display.HTML object>"
            ]
          },
          "metadata": {}
        },
        {
          "output_type": "stream",
          "name": "stderr",
          "text": [
            "***** Running Evaluation *****\n",
            "  Num examples = 4000\n",
            "  Batch size = 128\n",
            "***** Running Evaluation *****\n",
            "  Num examples = 4000\n",
            "  Batch size = 128\n",
            "Saving model checkpoint to results/checkpoint-500\n",
            "Configuration saved in results/checkpoint-500/config.json\n",
            "Model weights saved in results/checkpoint-500/pytorch_model.bin\n",
            "***** Running Evaluation *****\n",
            "  Num examples = 4000\n",
            "  Batch size = 128\n",
            "***** Running Evaluation *****\n",
            "  Num examples = 4000\n",
            "  Batch size = 128\n",
            "Saving model checkpoint to results/checkpoint-1000\n",
            "Configuration saved in results/checkpoint-1000/config.json\n",
            "Model weights saved in results/checkpoint-1000/pytorch_model.bin\n",
            "\n",
            "\n",
            "Training completed. Do not forget to share your model on huggingface.co/models =)\n",
            "\n",
            "\n",
            "Loading best model from results/checkpoint-1000 (score: 0.14108391106128693).\n"
          ]
        },
        {
          "output_type": "execute_result",
          "data": {
            "text/plain": [
              "TrainOutput(global_step=1000, training_loss=0.17546056747436523, metrics={'train_runtime': 810.1418, 'train_samples_per_second': 39.499, 'train_steps_per_second': 1.234, 'total_flos': 1059739189248000.0, 'train_loss': 0.17546056747436523, 'epoch': 2.0})"
            ]
          },
          "metadata": {},
          "execution_count": 52
        }
      ]
    },
    {
      "cell_type": "code",
      "source": [
        "# trainer.evaluate()\n",
        "eval_result = trainer.evaluate(eval_dataset=test_dataset)"
      ],
      "metadata": {
        "colab": {
          "base_uri": "https://localhost:8080/",
          "height": 89
        },
        "id": "DvGey-NWXgpa",
        "outputId": "4ee4c2e9-15b8-4f50-a2c7-dec259f71215"
      },
      "execution_count": 53,
      "outputs": [
        {
          "output_type": "stream",
          "name": "stderr",
          "text": [
            "***** Running Evaluation *****\n",
            "  Num examples = 4000\n",
            "  Batch size = 128\n"
          ]
        },
        {
          "output_type": "display_data",
          "data": {
            "text/html": [
              "\n",
              "    <div>\n",
              "      \n",
              "      <progress value='32' max='32' style='width:300px; height:20px; vertical-align: middle;'></progress>\n",
              "      [32/32 00:42]\n",
              "    </div>\n",
              "    "
            ],
            "text/plain": [
              "<IPython.core.display.HTML object>"
            ]
          },
          "metadata": {}
        }
      ]
    },
    {
      "cell_type": "code",
      "source": [
        "eval_result"
      ],
      "metadata": {
        "colab": {
          "base_uri": "https://localhost:8080/"
        },
        "id": "hZCNecnBwK8O",
        "outputId": "6ccbfd6d-5395-4365-a689-4895e5a5f938"
      },
      "execution_count": 54,
      "outputs": [
        {
          "output_type": "execute_result",
          "data": {
            "text/plain": [
              "{'epoch': 2.0,\n",
              " 'eval_f1_score': 0.7644970414201182,\n",
              " 'eval_loss': 0.14108391106128693,\n",
              " 'eval_precision': 0.7916666666666666,\n",
              " 'eval_recall': 0.7391304347826086,\n",
              " 'eval_roc_auc': 0.8576370669562777,\n",
              " 'eval_runtime': 43.9869,\n",
              " 'eval_samples_per_second': 90.936,\n",
              " 'eval_steps_per_second': 0.727}"
            ]
          },
          "metadata": {},
          "execution_count": 54
        }
      ]
    },
    {
      "cell_type": "markdown",
      "source": [
        "### Eval Test Results Testing"
      ],
      "metadata": {
        "id": "u6URys9d-jJN"
      }
    },
    {
      "cell_type": "code",
      "source": [
        "for key, value in eval_result.items():\n",
        "    print(key, ' : ', value)"
      ],
      "metadata": {
        "colab": {
          "base_uri": "https://localhost:8080/"
        },
        "id": "YgpwfYrx5Bkt",
        "outputId": "54609d3d-7a26-4b63-be72-bb2d29ebc24a"
      },
      "execution_count": 102,
      "outputs": [
        {
          "output_type": "stream",
          "name": "stdout",
          "text": [
            "eval_loss  :  0.10770474374294281\n",
            "eval_precision  :  0.6153846153846154\n",
            "eval_recall  :  0.6666666666666666\n",
            "eval_f1_score  :  0.64\n",
            "eval_roc_auc  :  0.8200354609929078\n",
            "eval_runtime  :  1.778\n",
            "eval_samples_per_second  :  112.486\n",
            "eval_steps_per_second  :  1.125\n",
            "epoch  :  4.0\n"
          ]
        }
      ]
    },
    {
      "cell_type": "code",
      "source": [
        "dict1 = eval_result\n",
        "dict2 = dict()\n",
        "\n",
        "for key in dict1:\n",
        "    if key == 'eval_precision':\n",
        "        dict2[key] = 'Precision'\n",
        "    else:\n",
        "        dict2[key] = dict1[key]\n",
        "\n",
        "print(dict1)\n",
        "\n",
        "# dict1 = dict2 #if you want to have it in original dict"
      ],
      "metadata": {
        "colab": {
          "base_uri": "https://localhost:8080/"
        },
        "id": "utYLUtnM-BjC",
        "outputId": "9f7504b8-5fa8-40cb-d653-6299e6d1d444"
      },
      "execution_count": 115,
      "outputs": [
        {
          "output_type": "stream",
          "name": "stdout",
          "text": [
            "{'eval_loss': 0.10770474374294281, 'eval_precision': 0.6153846153846154, 'eval_recall': 0.6666666666666666, 'eval_f1_score': 0.64, 'eval_roc_auc': 0.8200354609929078, 'eval_runtime': 1.778, 'eval_samples_per_second': 112.486, 'eval_steps_per_second': 1.125, 'epoch': 4.0}\n"
          ]
        }
      ]
    },
    {
      "cell_type": "code",
      "source": [
        "def rename(old_dict,old_name,new_name):\n",
        "    new_dict = {}\n",
        "    for key,value in zip(old_dict.keys(),old_dict.values()):\n",
        "        new_key = key if key != old_name else new_name\n",
        "        new_dict[new_key] = old_dict[key]\n",
        "    return new_dict"
      ],
      "metadata": {
        "id": "mk_o7-Rd9Ca8"
      },
      "execution_count": 110,
      "outputs": []
    },
    {
      "cell_type": "code",
      "source": [
        "rename(partial_dict, 'eval_recall', 'Recall')"
      ],
      "metadata": {
        "colab": {
          "base_uri": "https://localhost:8080/"
        },
        "id": "kZ6U8kEQ9LCh",
        "outputId": "813c6c8b-fb41-498d-90ef-656c2ddf4196"
      },
      "execution_count": 112,
      "outputs": [
        {
          "output_type": "execute_result",
          "data": {
            "text/plain": [
              "{'Recall': 0.6666666666666666,\n",
              " 'eval_f1_score': 0.64,\n",
              " 'eval_precision': 0.6153846153846154,\n",
              " 'eval_roc_auc': 0.8200354609929078}"
            ]
          },
          "metadata": {},
          "execution_count": 112
        }
      ]
    },
    {
      "cell_type": "code",
      "source": [
        "names_key = { 'eval_loss'           : 'Loss' ,\n",
        "              'eval_precision'      : 'Precision' ,\n",
        "              'eval_recall'         : 'Recall', \n",
        "              'eval_f1_score'       : 'f1 score',\n",
        "              'eval_roc_auc'        : 'ROC_AUC',\n",
        "              'eval_runtime'            : 'Runtime',\n",
        "              'eval_roc_auc'            : 'ROC_AUC',\n",
        "              'eval_samples_per_second' : 'samples_per_second',\n",
        "              'eval_steps_per_second' : 'steps_per_second',\n",
        "              'epochs'                : 'EPOCHS'\n",
        "              }\n",
        "\n",
        "for row in eval_result:\n",
        "  for k, v in names_key.items():\n",
        "    for old_name in row:\n",
        "      if k == old_name:\n",
        "        row[v] = row.pop(old_name)\n",
        "\n",
        "print(eval_result)"
      ],
      "metadata": {
        "colab": {
          "base_uri": "https://localhost:8080/"
        },
        "id": "0BeNR0iT6-hN",
        "outputId": "cfd4b58e-f8fa-4100-b0e1-bb55f3028da1"
      },
      "execution_count": 109,
      "outputs": [
        {
          "output_type": "stream",
          "name": "stdout",
          "text": [
            "{'eval_loss': 0.10770474374294281, 'eval_precision': 0.6153846153846154, 'eval_recall': 0.6666666666666666, 'eval_f1_score': 0.64, 'eval_roc_auc': 0.8200354609929078, 'eval_runtime': 1.778, 'eval_samples_per_second': 112.486, 'eval_steps_per_second': 1.125, 'epoch': 4.0}\n"
          ]
        }
      ]
    },
    {
      "cell_type": "code",
      "source": [
        "keep = ['eval_precision', 'eval_recall', 'eval_f1_score', 'eval_roc_auc']\n",
        "\n",
        "partial_dict = {k: v for k, v in eval_result.items() if k in keep}\n",
        "\n",
        "new_keys = ['Precision','Recall','f1', 'ROC_AUC']\n",
        "old_keys = ['eval_precision', 'eval_recall', 'eval_f1_score', 'eval_roc_auc']\n",
        "\n",
        "partial_dict[new_keys] = partial_dict.pop(old_keys)\n",
        "\n",
        "# for key, value in partial_dict.items():\n",
        "#     print(key, ' : ', value)\n",
        "\n",
        "# partial_dict = {\"Precision\" if k == 'eval_precision' else \n",
        "#                 k: v for k, v in eval_result.items() if k in keep}\n",
        "\n",
        "# partial_dict = {\"Recall\" if k == 'eval_recall' else \n",
        "#                 k: v for k, v in eval_result.items() if k in keep}\n",
        "\n",
        "# partial_dict = {\"f1\" if k == 'eval_f1_score' else \n",
        "#                 k: v for k, v in partial_dict.items() if k in keep}\n",
        "\n",
        "# partial_dict = {\"ROC_AUC\" if k == 'eval_roc_auc' else \n",
        "#                 k: v for k, v in partial_dict.items() if k in keep}\n",
        "# {\"Precision\" if k == 'eval_precision' else k:v for k,v in d.items()}\n",
        "\n",
        "print(partial_dict)"
      ],
      "metadata": {
        "colab": {
          "base_uri": "https://localhost:8080/",
          "height": 236
        },
        "id": "omRuwlZr1Y0f",
        "outputId": "55b4d805-135d-4370-c16a-0bf29335f3e9"
      },
      "execution_count": 106,
      "outputs": [
        {
          "output_type": "error",
          "ename": "TypeError",
          "evalue": "ignored",
          "traceback": [
            "\u001b[0;31m---------------------------------------------------------------------------\u001b[0m",
            "\u001b[0;31mTypeError\u001b[0m                                 Traceback (most recent call last)",
            "\u001b[0;32m<ipython-input-106-c5691932a791>\u001b[0m in \u001b[0;36m<module>\u001b[0;34m()\u001b[0m\n\u001b[1;32m      6\u001b[0m \u001b[0mold_keys\u001b[0m \u001b[0;34m=\u001b[0m \u001b[0;34m[\u001b[0m\u001b[0;34m'eval_precision'\u001b[0m\u001b[0;34m,\u001b[0m \u001b[0;34m'eval_recall'\u001b[0m\u001b[0;34m,\u001b[0m \u001b[0;34m'eval_f1_score'\u001b[0m\u001b[0;34m,\u001b[0m \u001b[0;34m'eval_roc_auc'\u001b[0m\u001b[0;34m]\u001b[0m\u001b[0;34m\u001b[0m\u001b[0;34m\u001b[0m\u001b[0m\n\u001b[1;32m      7\u001b[0m \u001b[0;34m\u001b[0m\u001b[0m\n\u001b[0;32m----> 8\u001b[0;31m \u001b[0mpartial_dict\u001b[0m\u001b[0;34m[\u001b[0m\u001b[0mnew_keys\u001b[0m\u001b[0;34m]\u001b[0m \u001b[0;34m=\u001b[0m \u001b[0mpartial_dict\u001b[0m\u001b[0;34m.\u001b[0m\u001b[0mpop\u001b[0m\u001b[0;34m(\u001b[0m\u001b[0mold_keys\u001b[0m\u001b[0;34m)\u001b[0m\u001b[0;34m\u001b[0m\u001b[0;34m\u001b[0m\u001b[0m\n\u001b[0m\u001b[1;32m      9\u001b[0m \u001b[0;34m\u001b[0m\u001b[0m\n\u001b[1;32m     10\u001b[0m \u001b[0;31m# for key, value in partial_dict.items():\u001b[0m\u001b[0;34m\u001b[0m\u001b[0;34m\u001b[0m\u001b[0;34m\u001b[0m\u001b[0m\n",
            "\u001b[0;31mTypeError\u001b[0m: unhashable type: 'list'"
          ]
        }
      ]
    },
    {
      "cell_type": "code",
      "source": [
        "import json\n",
        "\n",
        "# # Serializing json  \n",
        "# json_object = json.dumps(eval_result) \n",
        "# print(json_object)\n",
        "\n",
        "keep = ['eval_loss', 'eval_precision', 'eval_recall', 'eval_f1_score', 'eval_roc_auc']\n",
        "partial_dict = {k: v for k, v in eval_result.items() if k in keep}\n",
        "\n",
        "with open(os.path.join(output_data_dir, 'eval_results.json'), 'w') as fp:\n",
        "          print('****** Eval Results ******')\n",
        "          # for key, value in sorted(eval_result.items()):\n",
        "          #   json.dump(eval_result, fp)\n",
        "          json.dump(partial_dict, fp)\n",
        "\n",
        "# keep = ['eval_precision', 'eval_recall', 'eval_f1_score', 'eval_roc_auc']\n",
        "\n",
        "# partial_dict = {k: v for k, v in eval_result.items() if k in keep}\n",
        "# print(partial_dict)"
      ],
      "metadata": {
        "colab": {
          "base_uri": "https://localhost:8080/"
        },
        "id": "YZ-B_h0Own4i",
        "outputId": "1d1a6fa1-6cc5-46c8-efc7-5d11fd21d4eb"
      },
      "execution_count": 56,
      "outputs": [
        {
          "output_type": "stream",
          "name": "stdout",
          "text": [
            "****** Eval Results ******\n"
          ]
        }
      ]
    },
    {
      "cell_type": "code",
      "source": [
        "!pwd"
      ],
      "metadata": {
        "colab": {
          "base_uri": "https://localhost:8080/"
        },
        "id": "deNJGBM8tej3",
        "outputId": "6e94cb01-653f-41f9-ca06-a50858603e25"
      },
      "execution_count": 73,
      "outputs": [
        {
          "output_type": "stream",
          "name": "stdout",
          "text": [
            "/content/drive/My Drive/sm_training\n"
          ]
        }
      ]
    },
    {
      "cell_type": "code",
      "source": [
        "output_data_dir = 'output_data'"
      ],
      "metadata": {
        "id": "cn7gwAU1tT-T"
      },
      "execution_count": 55,
      "outputs": []
    },
    {
      "cell_type": "code",
      "source": [
        "# writes eval result to file which can be accessed later in s3 ouput\n",
        "with open(os.path.join(output_data_dir, \"eval_results.txt\"), \"w\") as writer:\n",
        "  print(\"***** Eval results *****\")\n",
        "  for key, value in sorted(eval_result.items()):\n",
        "    writer.write(f\"{key} = {value}\\n\")"
      ],
      "metadata": {
        "colab": {
          "base_uri": "https://localhost:8080/"
        },
        "id": "SOUnHr18s6z8",
        "outputId": "3b03ff31-681b-4f38-d59b-1fc350c67c23"
      },
      "execution_count": 75,
      "outputs": [
        {
          "output_type": "stream",
          "name": "stdout",
          "text": [
            "***** Eval results *****\n"
          ]
        }
      ]
    },
    {
      "cell_type": "code",
      "source": [
        "# Saves the model to s3\n",
        "trainer.save_model(output_dir)"
      ],
      "metadata": {
        "colab": {
          "base_uri": "https://localhost:8080/"
        },
        "id": "IfBuZi7qvAiA",
        "outputId": "69325b91-c34d-4dc4-90ac-a920cfc766c3"
      },
      "execution_count": 57,
      "outputs": [
        {
          "output_type": "stream",
          "name": "stderr",
          "text": [
            "Saving model checkpoint to results\n",
            "Configuration saved in results/config.json\n",
            "Model weights saved in results/pytorch_model.bin\n"
          ]
        }
      ]
    },
    {
      "cell_type": "code",
      "source": [
        "# Save the model to the output_path defined in train_model.py.\n",
        "device = torch.device(\"cuda\")\n",
        "dummy_row = train_dataset[0]\n",
        "dummy_input = (\n",
        "    dummy_row[\"input_ids\"].unsqueeze(0).to(device),\n",
        "    dummy_row[\"attention_mask\"].unsqueeze(0).to(device)\n",
        "    )\n",
        "traced_model = torch.jit.trace(model, dummy_input)\n",
        "torch.jit.save(traced_model, os.path.join(output_dir, \"model.pth\"))"
      ],
      "metadata": {
        "id": "54aGQizxf_J-"
      },
      "execution_count": 67,
      "outputs": []
    },
    {
      "cell_type": "code",
      "source": [
        ""
      ],
      "metadata": {
        "id": "tWMSdXZArRsy"
      },
      "execution_count": null,
      "outputs": []
    }
  ]
}